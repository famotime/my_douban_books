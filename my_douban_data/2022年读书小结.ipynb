{
 "cells": [
  {
   "cell_type": "code",
   "execution_count": 1,
   "metadata": {},
   "outputs": [],
   "source": [
    "import pathlib\n",
    "import re\n",
    "\n",
    "import matplotlib.pyplot as plt\n",
    "import numpy as np\n",
    "import pandas as pd\n",
    "import seaborn as sns\n",
    "from plotnine import *\n",
    "\n",
    "plt.style.use('seaborn-whitegrid')    # 使用样式\n",
    "plt.rcParams['font.sans-serif'] = ['SimHei']     # 显示中文\n",
    "plt.rcParams['axes.unicode_minus'] = False     # 显示负号\n",
    "\n",
    "\n",
    "path_record = pathlib.Path('./2022年读书记录.md')"
   ]
  },
  {
   "cell_type": "markdown",
   "metadata": {},
   "source": [
    "## 数据准备"
   ]
  },
  {
   "cell_type": "code",
   "execution_count": 2,
   "metadata": {},
   "outputs": [],
   "source": [
    "with open(path_record, encoding='utf-8') as f:\n",
    "    content = f.read()\n"
   ]
  },
  {
   "cell_type": "code",
   "execution_count": 3,
   "metadata": {},
   "outputs": [],
   "source": [
    "names = re.findall(r'### \\[(.*?)\\]\\(', content)\n",
    "links = re.findall(r'### .*?\\((.*?)\\)', content)\n",
    "stars = [len(i) for i in re.findall(r'<font color.*?>(.*?)</font>', content)]"
   ]
  },
  {
   "cell_type": "code",
   "execution_count": 4,
   "metadata": {},
   "outputs": [],
   "source": [
    "line1 = re.findall(r'\\n> (.*?)\\n>', content)\n",
    "line2 = re.findall(r'\\n> .*?\\n> (.*?)\\n', content)\n",
    "\n",
    "# writers = [i.split(' / ')[0] for i in line1]\n",
    "# publishers = [i.split(' / ')[1] for i in line1]\n",
    "# publish_times = [i.split(' / ')[2] for i in line1]\n",
    "# prices = [i.split(' / ')[3].replace('元', '') for i in line1]\n",
    "\n",
    "read_dates = [i.split(' ')[0] for i in line2]\n",
    "# labels = [re.search(r'标签: (.*)', i).group(1).split() for i in line2]\n",
    "labels = ['' for i in line2]"
   ]
  },
  {
   "cell_type": "code",
   "execution_count": 5,
   "metadata": {},
   "outputs": [
    {
     "data": {
      "text/html": [
       "<div>\n",
       "<style scoped>\n",
       "    .dataframe tbody tr th:only-of-type {\n",
       "        vertical-align: middle;\n",
       "    }\n",
       "\n",
       "    .dataframe tbody tr th {\n",
       "        vertical-align: top;\n",
       "    }\n",
       "\n",
       "    .dataframe thead th {\n",
       "        text-align: right;\n",
       "    }\n",
       "</style>\n",
       "<table border=\"1\" class=\"dataframe\">\n",
       "  <thead>\n",
       "    <tr style=\"text-align: right;\">\n",
       "      <th></th>\n",
       "      <th>书名</th>\n",
       "      <th>评分</th>\n",
       "      <th>读完时间</th>\n",
       "      <th>标签</th>\n",
       "      <th>备注</th>\n",
       "      <th>豆瓣链接</th>\n",
       "      <th>月份</th>\n",
       "      <th>累计数量</th>\n",
       "    </tr>\n",
       "  </thead>\n",
       "  <tbody>\n",
       "    <tr>\n",
       "      <th>57</th>\n",
       "      <td>禅与摩托车维修艺术</td>\n",
       "      <td>3</td>\n",
       "      <td>2022-01-16</td>\n",
       "      <td></td>\n",
       "      <td>罗伯特•M.波西格 (Robert M.Pirsig) / 张国辰 / 重庆出版社 / 20...</td>\n",
       "      <td>https://book.douban.com/subject/6811366/</td>\n",
       "      <td>1月</td>\n",
       "      <td>1</td>\n",
       "    </tr>\n",
       "    <tr>\n",
       "      <th>56</th>\n",
       "      <td>文章自在</td>\n",
       "      <td>4</td>\n",
       "      <td>2022-01-26</td>\n",
       "      <td></td>\n",
       "      <td>张大春 / 广西师范大学出版社 / 2017-1 / 36.00元</td>\n",
       "      <td>https://book.douban.com/subject/26940987/</td>\n",
       "      <td>1月</td>\n",
       "      <td>2</td>\n",
       "    </tr>\n",
       "    <tr>\n",
       "      <th>55</th>\n",
       "      <td>晨间日记的奇迹</td>\n",
       "      <td>3</td>\n",
       "      <td>2022-01-29</td>\n",
       "      <td></td>\n",
       "      <td>[日] 佐藤傳 / 赵明敏 / 南海出版公司 / 2009-5 / 25.00元</td>\n",
       "      <td>https://book.douban.com/subject/3744041/</td>\n",
       "      <td>1月</td>\n",
       "      <td>3</td>\n",
       "    </tr>\n",
       "    <tr>\n",
       "      <th>54</th>\n",
       "      <td>星之继承者 2 温柔的伽星巨人</td>\n",
       "      <td>4</td>\n",
       "      <td>2022-01-30</td>\n",
       "      <td></td>\n",
       "      <td>[英] 詹姆斯·P.霍根 / [加] 仇春卉 / 新星出版社 / 2021-4 / 59.00 元</td>\n",
       "      <td>https://book.douban.com/subject/35314089/</td>\n",
       "      <td>1月</td>\n",
       "      <td>4</td>\n",
       "    </tr>\n",
       "    <tr>\n",
       "      <th>53</th>\n",
       "      <td>亂馬1/2（卷十五）</td>\n",
       "      <td>4</td>\n",
       "      <td>2022-02-01</td>\n",
       "      <td></td>\n",
       "      <td>高橋留美子 / 玉郎图书文化传信有限公司 / HK$25</td>\n",
       "      <td>https://book.douban.com/subject/3894723/</td>\n",
       "      <td>2月</td>\n",
       "      <td>5</td>\n",
       "    </tr>\n",
       "    <tr>\n",
       "      <th>52</th>\n",
       "      <td>塞尔达传说 旷野之息 中文版完全攻略本</td>\n",
       "      <td>4</td>\n",
       "      <td>2022-02-02</td>\n",
       "      <td></td>\n",
       "      <td>UCG / 2018-5 / 136元</td>\n",
       "      <td>https://book.douban.com/subject/35269682/</td>\n",
       "      <td>2月</td>\n",
       "      <td>6</td>\n",
       "    </tr>\n",
       "    <tr>\n",
       "      <th>51</th>\n",
       "      <td>七夜雪</td>\n",
       "      <td>3</td>\n",
       "      <td>2022-02-10</td>\n",
       "      <td></td>\n",
       "      <td>沧月 / 北京十月文艺出版社 / 2006-10 / 25.00元</td>\n",
       "      <td>https://book.douban.com/subject/1919201/</td>\n",
       "      <td>2月</td>\n",
       "      <td>7</td>\n",
       "    </tr>\n",
       "    <tr>\n",
       "      <th>50</th>\n",
       "      <td>亂馬1/2（卷十六）</td>\n",
       "      <td>4</td>\n",
       "      <td>2022-02-20</td>\n",
       "      <td></td>\n",
       "      <td>高橋留美子 / 玉郎图书文化传信有限公司 / HK$25</td>\n",
       "      <td>https://book.douban.com/subject/3911696/</td>\n",
       "      <td>2月</td>\n",
       "      <td>8</td>\n",
       "    </tr>\n",
       "    <tr>\n",
       "      <th>49</th>\n",
       "      <td>亂馬1/2（卷十七）</td>\n",
       "      <td>3</td>\n",
       "      <td>2022-02-20</td>\n",
       "      <td></td>\n",
       "      <td>高橋留美子 / 玉郎图书文化传信有限公司 / HK$25</td>\n",
       "      <td>https://book.douban.com/subject/3911711/</td>\n",
       "      <td>2月</td>\n",
       "      <td>9</td>\n",
       "    </tr>\n",
       "    <tr>\n",
       "      <th>48</th>\n",
       "      <td>镜厅: 大萧条、大衰退，我们做对了什么，又做错了什么</td>\n",
       "      <td>3</td>\n",
       "      <td>2022-02-23</td>\n",
       "      <td></td>\n",
       "      <td>[美] 巴里·埃森格林、Barry Eichengreen / 何帆 / 中信出版社 / 2...</td>\n",
       "      <td>https://book.douban.com/subject/26851886/</td>\n",
       "      <td>2月</td>\n",
       "      <td>10</td>\n",
       "    </tr>\n",
       "    <tr>\n",
       "      <th>47</th>\n",
       "      <td>亂馬1/2（卷十八）</td>\n",
       "      <td>2</td>\n",
       "      <td>2022-03-04</td>\n",
       "      <td></td>\n",
       "      <td>高橋留美子 / 文化传信有限公司 / HK$25</td>\n",
       "      <td>https://book.douban.com/subject/3911733/</td>\n",
       "      <td>3月</td>\n",
       "      <td>11</td>\n",
       "    </tr>\n",
       "    <tr>\n",
       "      <th>46</th>\n",
       "      <td>助推: 如何做出有关健康、财富与幸福的最佳决策</td>\n",
       "      <td>3</td>\n",
       "      <td>2022-03-20</td>\n",
       "      <td></td>\n",
       "      <td>理查德•泰勒、卡斯·桑斯坦 / 刘宁 / 中信出版社 / 2015-4-1 / CNY 45.00</td>\n",
       "      <td>https://book.douban.com/subject/26357680/</td>\n",
       "      <td>3月</td>\n",
       "      <td>12</td>\n",
       "    </tr>\n",
       "    <tr>\n",
       "      <th>45</th>\n",
       "      <td>单向街 001: 最愚蠢的一代？</td>\n",
       "      <td>3</td>\n",
       "      <td>2022-03-25</td>\n",
       "      <td></td>\n",
       "      <td>梁文道 张大春 许知远等 / 凤凰出版社 / 2009-8 / 25.00元</td>\n",
       "      <td>https://book.douban.com/subject/3908625/</td>\n",
       "      <td>3月</td>\n",
       "      <td>13</td>\n",
       "    </tr>\n",
       "    <tr>\n",
       "      <th>44</th>\n",
       "      <td>亂馬1/2（卷十九）</td>\n",
       "      <td>3</td>\n",
       "      <td>2022-03-29</td>\n",
       "      <td></td>\n",
       "      <td>高橋留美子 / 文化传信有限公司 / HK$25</td>\n",
       "      <td>https://book.douban.com/subject/3911766/</td>\n",
       "      <td>3月</td>\n",
       "      <td>14</td>\n",
       "    </tr>\n",
       "    <tr>\n",
       "      <th>43</th>\n",
       "      <td>这就是搜索引擎: 核心技术详解</td>\n",
       "      <td>4</td>\n",
       "      <td>2022-04-10</td>\n",
       "      <td></td>\n",
       "      <td>张俊林 / 电子工业出版社 / 2012-1-1 / 45.00元</td>\n",
       "      <td>https://book.douban.com/subject/7006719/</td>\n",
       "      <td>4月</td>\n",
       "      <td>15</td>\n",
       "    </tr>\n",
       "    <tr>\n",
       "      <th>42</th>\n",
       "      <td>以鸟兽之名</td>\n",
       "      <td>3</td>\n",
       "      <td>2022-04-14</td>\n",
       "      <td></td>\n",
       "      <td>孙频 / 人民文学出版社 / 2021-4 / 49</td>\n",
       "      <td>https://book.douban.com/subject/35456856/</td>\n",
       "      <td>4月</td>\n",
       "      <td>16</td>\n",
       "    </tr>\n",
       "    <tr>\n",
       "      <th>41</th>\n",
       "      <td>元宇宙的虚拟现实</td>\n",
       "      <td>1</td>\n",
       "      <td>2022-04-23</td>\n",
       "      <td></td>\n",
       "      <td></td>\n",
       "      <td>https://book.douban.com/subject/35789851/</td>\n",
       "      <td>4月</td>\n",
       "      <td>17</td>\n",
       "    </tr>\n",
       "    <tr>\n",
       "      <th>40</th>\n",
       "      <td>亂馬1/2（卷二十）</td>\n",
       "      <td>3</td>\n",
       "      <td>2022-04-26</td>\n",
       "      <td></td>\n",
       "      <td>高橋留美子 / 文化传信有限公司 / HK$25</td>\n",
       "      <td>https://book.douban.com/subject/3911789/</td>\n",
       "      <td>4月</td>\n",
       "      <td>18</td>\n",
       "    </tr>\n",
       "    <tr>\n",
       "      <th>39</th>\n",
       "      <td>思想本质: 语言是洞察人类天性之窗</td>\n",
       "      <td>4</td>\n",
       "      <td>2022-05-02</td>\n",
       "      <td></td>\n",
       "      <td>史蒂芬·平克 (Steven Pinker) / 张旭红、梅德明 / 浙江人民出版社 / 2...</td>\n",
       "      <td>https://book.douban.com/subject/26593192/</td>\n",
       "      <td>5月</td>\n",
       "      <td>19</td>\n",
       "    </tr>\n",
       "    <tr>\n",
       "      <th>38</th>\n",
       "      <td>秋园</td>\n",
       "      <td>4</td>\n",
       "      <td>2022-05-06</td>\n",
       "      <td></td>\n",
       "      <td>杨本芬 / 北京联合出版公司 / 2020-6 / 38.00元</td>\n",
       "      <td>https://book.douban.com/subject/34998019/</td>\n",
       "      <td>5月</td>\n",
       "      <td>20</td>\n",
       "    </tr>\n",
       "    <tr>\n",
       "      <th>37</th>\n",
       "      <td>Python数据分析：活用Pandas库</td>\n",
       "      <td>3</td>\n",
       "      <td>2022-05-14</td>\n",
       "      <td></td>\n",
       "      <td>[美] 丹尼尔·陈 / 武传海 / 人民邮电出版社 / 2020-2 / 89.00元</td>\n",
       "      <td>https://book.douban.com/subject/34973484/</td>\n",
       "      <td>5月</td>\n",
       "      <td>21</td>\n",
       "    </tr>\n",
       "    <tr>\n",
       "      <th>36</th>\n",
       "      <td>夜晚的潜水艇</td>\n",
       "      <td>5</td>\n",
       "      <td>2022-05-22</td>\n",
       "      <td></td>\n",
       "      <td>陈春成 / 上海三联书店 / 2020-9 / 52.00元</td>\n",
       "      <td>https://book.douban.com/subject/35005045/</td>\n",
       "      <td>5月</td>\n",
       "      <td>22</td>\n",
       "    </tr>\n",
       "    <tr>\n",
       "      <th>35</th>\n",
       "      <td>亂馬1/2（卷廿一）</td>\n",
       "      <td>3</td>\n",
       "      <td>2022-05-29</td>\n",
       "      <td></td>\n",
       "      <td>高橋留美子 / 文化传信有限公司 / HK$25</td>\n",
       "      <td>https://book.douban.com/subject/3911943/</td>\n",
       "      <td>5月</td>\n",
       "      <td>23</td>\n",
       "    </tr>\n",
       "    <tr>\n",
       "      <th>34</th>\n",
       "      <td>梦游者: 1914年，欧洲如何走向“一战”</td>\n",
       "      <td>3</td>\n",
       "      <td>2022-06-01</td>\n",
       "      <td></td>\n",
       "      <td>[英]克里斯托弗·克拉克 / 董莹、肖潇 / 中信出版社 / 2014-9 / 69.00</td>\n",
       "      <td>https://book.douban.com/subject/25943355/</td>\n",
       "      <td>6月</td>\n",
       "      <td>24</td>\n",
       "    </tr>\n",
       "    <tr>\n",
       "      <th>33</th>\n",
       "      <td>SQL基础教程（第2版）: 第2版</td>\n",
       "      <td>4</td>\n",
       "      <td>2022-06-11</td>\n",
       "      <td></td>\n",
       "      <td>[日] MICK / 孙　淼、罗　勇 / 人民邮电出版社 / 2017-6 / 79.00元</td>\n",
       "      <td>https://book.douban.com/subject/27055712/</td>\n",
       "      <td>6月</td>\n",
       "      <td>25</td>\n",
       "    </tr>\n",
       "    <tr>\n",
       "      <th>32</th>\n",
       "      <td>师从天才: 一个科学王朝的崛起</td>\n",
       "      <td>4</td>\n",
       "      <td>2022-06-15</td>\n",
       "      <td></td>\n",
       "      <td>[美] 罗伯特·卡尼格尔 / 江载芬、闫鲜宁、张新颖 / 上海科技教育出版社 / 2001-...</td>\n",
       "      <td>https://book.douban.com/subject/1028077/</td>\n",
       "      <td>6月</td>\n",
       "      <td>26</td>\n",
       "    </tr>\n",
       "    <tr>\n",
       "      <th>31</th>\n",
       "      <td>漫画半小时中国科技史</td>\n",
       "      <td>1</td>\n",
       "      <td>2022-06-21</td>\n",
       "      <td></td>\n",
       "      <td>胖乐胖乐/著绘 / 科学技术文献出版社 / 55.00</td>\n",
       "      <td>https://book.douban.com/subject/35498275/</td>\n",
       "      <td>6月</td>\n",
       "      <td>27</td>\n",
       "    </tr>\n",
       "    <tr>\n",
       "      <th>30</th>\n",
       "      <td>亂馬1/2（卷廿二）</td>\n",
       "      <td>4</td>\n",
       "      <td>2022-06-26</td>\n",
       "      <td></td>\n",
       "      <td>高橋留美子 / 文化传信有限公司 / HK$25</td>\n",
       "      <td>https://book.douban.com/subject/3928631/</td>\n",
       "      <td>6月</td>\n",
       "      <td>28</td>\n",
       "    </tr>\n",
       "    <tr>\n",
       "      <th>29</th>\n",
       "      <td>貓之眼 1: 性感的火爆女郎之卷</td>\n",
       "      <td>3</td>\n",
       "      <td>2022-07-03</td>\n",
       "      <td></td>\n",
       "      <td>北条司 / 玉皇朝出版集團 / $28</td>\n",
       "      <td>https://book.douban.com/subject/2379682/</td>\n",
       "      <td>7月</td>\n",
       "      <td>29</td>\n",
       "    </tr>\n",
       "    <tr>\n",
       "      <th>28</th>\n",
       "      <td>女士品茶: 统计学如何变革了科学和生活</td>\n",
       "      <td>3</td>\n",
       "      <td>2022-07-17</td>\n",
       "      <td></td>\n",
       "      <td>[美]戴维·萨尔斯伯格 / 刘清山 / 江西人民出版社 / 2016-8 / 48.00</td>\n",
       "      <td>https://book.douban.com/subject/26838150/</td>\n",
       "      <td>7月</td>\n",
       "      <td>30</td>\n",
       "    </tr>\n",
       "    <tr>\n",
       "      <th>27</th>\n",
       "      <td>高效写作的秘密: 美国1500多所高等院校指定写作教材</td>\n",
       "      <td>3</td>\n",
       "      <td>2022-07-21</td>\n",
       "      <td></td>\n",
       "      <td>［美］杰拉尔德·格拉夫、［美］凯茜·比肯施泰因 / 姜昊骞 / 天地出版社 / 2019-9...</td>\n",
       "      <td>https://book.douban.com/subject/34781627/</td>\n",
       "      <td>7月</td>\n",
       "      <td>31</td>\n",
       "    </tr>\n",
       "    <tr>\n",
       "      <th>26</th>\n",
       "      <td>人的困境: 单读17</td>\n",
       "      <td>4</td>\n",
       "      <td>2022-07-23</td>\n",
       "      <td></td>\n",
       "      <td>吴琦 主编 / 台海出版社 / 2018-6 / 45.00</td>\n",
       "      <td>https://book.douban.com/subject/30231509/</td>\n",
       "      <td>7月</td>\n",
       "      <td>32</td>\n",
       "    </tr>\n",
       "    <tr>\n",
       "      <th>25</th>\n",
       "      <td>亂馬1/2（卷廿三）</td>\n",
       "      <td>3</td>\n",
       "      <td>2022-07-24</td>\n",
       "      <td></td>\n",
       "      <td>高橋留美子 / 文化传信有限公司 / HK$25</td>\n",
       "      <td>https://book.douban.com/subject/3928646/</td>\n",
       "      <td>7月</td>\n",
       "      <td>33</td>\n",
       "    </tr>\n",
       "    <tr>\n",
       "      <th>24</th>\n",
       "      <td>少年维特的烦恼</td>\n",
       "      <td>4</td>\n",
       "      <td>2022-07-27</td>\n",
       "      <td></td>\n",
       "      <td>[德] 歌德 / 杨武能 / 人民文学出版社 / 2020-5 / 32.00元</td>\n",
       "      <td>https://book.douban.com/subject/34886656/</td>\n",
       "      <td>7月</td>\n",
       "      <td>34</td>\n",
       "    </tr>\n",
       "    <tr>\n",
       "      <th>23</th>\n",
       "      <td>双螺旋: 发现DNA结构的故事</td>\n",
       "      <td>2</td>\n",
       "      <td>2022-08-04</td>\n",
       "      <td></td>\n",
       "      <td>[美]詹姆斯·沃森 / 刘望夷 / 上海译文出版社 / 2016-3 / 45.00元</td>\n",
       "      <td>https://book.douban.com/subject/26752488/</td>\n",
       "      <td>8月</td>\n",
       "      <td>35</td>\n",
       "    </tr>\n",
       "    <tr>\n",
       "      <th>22</th>\n",
       "      <td>亂馬1/2（卷廿四）</td>\n",
       "      <td>3</td>\n",
       "      <td>2022-08-08</td>\n",
       "      <td></td>\n",
       "      <td>高橋留美子 / 文化传信有限公司 / HK$25</td>\n",
       "      <td>https://book.douban.com/subject/3928651/</td>\n",
       "      <td>8月</td>\n",
       "      <td>36</td>\n",
       "    </tr>\n",
       "    <tr>\n",
       "      <th>21</th>\n",
       "      <td>十分钟冥想</td>\n",
       "      <td>5</td>\n",
       "      <td>2022-08-11</td>\n",
       "      <td></td>\n",
       "      <td>［英］安迪·普迪科姆（Andy Puddicombe)、安迪·普迪科姆 / 王俊兰、王彦又 ...</td>\n",
       "      <td>https://book.douban.com/subject/34888157/</td>\n",
       "      <td>8月</td>\n",
       "      <td>37</td>\n",
       "    </tr>\n",
       "    <tr>\n",
       "      <th>20</th>\n",
       "      <td>元宇宙</td>\n",
       "      <td>3</td>\n",
       "      <td>2022-08-19</td>\n",
       "      <td></td>\n",
       "      <td>赵国栋、易欢欢、徐远重 著 / 中译出版社 / 2021-8 / 68.00元</td>\n",
       "      <td>https://book.douban.com/subject/35545521/</td>\n",
       "      <td>8月</td>\n",
       "      <td>38</td>\n",
       "    </tr>\n",
       "    <tr>\n",
       "      <th>19</th>\n",
       "      <td>成功与运气</td>\n",
       "      <td>2</td>\n",
       "      <td>2022-09-03</td>\n",
       "      <td></td>\n",
       "      <td>罗伯特·弗兰克 / 张琪 / 北京联合出版公司 / 2017-9 / 59.90</td>\n",
       "      <td>https://book.douban.com/subject/27126738/</td>\n",
       "      <td>9月</td>\n",
       "      <td>39</td>\n",
       "    </tr>\n",
       "    <tr>\n",
       "      <th>18</th>\n",
       "      <td>盲眼钟表匠</td>\n",
       "      <td>5</td>\n",
       "      <td>2022-09-17</td>\n",
       "      <td></td>\n",
       "      <td>[英] 理查德·道金斯 / 王德伦 / 重庆出版社 / 2005-5 / 22.00元</td>\n",
       "      <td>https://book.douban.com/subject/1427464/</td>\n",
       "      <td>9月</td>\n",
       "      <td>40</td>\n",
       "    </tr>\n",
       "    <tr>\n",
       "      <th>17</th>\n",
       "      <td>亂馬1/2（卷廿五）</td>\n",
       "      <td>3</td>\n",
       "      <td>2022-09-18</td>\n",
       "      <td></td>\n",
       "      <td>高橋留美子 / 文化传信有限公司 / HK$25</td>\n",
       "      <td>https://book.douban.com/subject/3928659/</td>\n",
       "      <td>9月</td>\n",
       "      <td>41</td>\n",
       "    </tr>\n",
       "    <tr>\n",
       "      <th>16</th>\n",
       "      <td>元宇宙大投资</td>\n",
       "      <td>3</td>\n",
       "      <td>2022-09-27</td>\n",
       "      <td></td>\n",
       "      <td>焦娟  易欢欢  毛永丰  著 / 中译出版社 / 2022-1 / 78.00元</td>\n",
       "      <td>https://book.douban.com/subject/35659748/</td>\n",
       "      <td>9月</td>\n",
       "      <td>42</td>\n",
       "    </tr>\n",
       "    <tr>\n",
       "      <th>15</th>\n",
       "      <td>包法利夫人: 包法利夫人</td>\n",
       "      <td>5</td>\n",
       "      <td>2022-09-29</td>\n",
       "      <td></td>\n",
       "      <td>居斯塔夫·福楼拜 / 罗国林 / 北京理工大学出版社 / 2015-9-1 / CNY 50.00</td>\n",
       "      <td>https://book.douban.com/subject/30315592/</td>\n",
       "      <td>9月</td>\n",
       "      <td>43</td>\n",
       "    </tr>\n",
       "    <tr>\n",
       "      <th>14</th>\n",
       "      <td>象与骑象人（更新版）: 幸福的假设</td>\n",
       "      <td>5</td>\n",
       "      <td>2022-10-07</td>\n",
       "      <td></td>\n",
       "      <td>[美]乔纳森•海特（Jonathan Haidt） / 李静瑶 / 浙江人民出版社 / 20...</td>\n",
       "      <td>https://book.douban.com/subject/20260640/</td>\n",
       "      <td>10月</td>\n",
       "      <td>44</td>\n",
       "    </tr>\n",
       "    <tr>\n",
       "      <th>13</th>\n",
       "      <td>亂馬1/2（卷廿六）</td>\n",
       "      <td>3</td>\n",
       "      <td>2022-10-20</td>\n",
       "      <td></td>\n",
       "      <td>高橋留美子 / 文化传信有限公司 / HK$25</td>\n",
       "      <td>https://book.douban.com/subject/3928667/</td>\n",
       "      <td>10月</td>\n",
       "      <td>45</td>\n",
       "    </tr>\n",
       "    <tr>\n",
       "      <th>11</th>\n",
       "      <td>亂馬1/2（卷廿七）</td>\n",
       "      <td>3</td>\n",
       "      <td>2022-10-22</td>\n",
       "      <td></td>\n",
       "      <td>高橋留美子 / 文化传信有限公司 / HK$25</td>\n",
       "      <td>https://book.douban.com/subject/3928686/</td>\n",
       "      <td>10月</td>\n",
       "      <td>46</td>\n",
       "    </tr>\n",
       "    <tr>\n",
       "      <th>12</th>\n",
       "      <td>摄影小史</td>\n",
       "      <td>3</td>\n",
       "      <td>2022-10-22</td>\n",
       "      <td></td>\n",
       "      <td>[德]瓦尔特·本雅明 / 许绮玲、林志明 / 广西师范大学出版社 / 2018-1 / 39...</td>\n",
       "      <td>https://book.douban.com/subject/27608151/</td>\n",
       "      <td>10月</td>\n",
       "      <td>47</td>\n",
       "    </tr>\n",
       "    <tr>\n",
       "      <th>10</th>\n",
       "      <td>爱的博弈: 建立信任、避免背叛与不忠</td>\n",
       "      <td>4</td>\n",
       "      <td>2022-10-27</td>\n",
       "      <td></td>\n",
       "      <td>约翰·戈特曼 (John Gottman)、娜恩·西尔弗 (Nan Silver) / 穆君...</td>\n",
       "      <td>https://book.douban.com/subject/25809012/</td>\n",
       "      <td>10月</td>\n",
       "      <td>48</td>\n",
       "    </tr>\n",
       "    <tr>\n",
       "      <th>9</th>\n",
       "      <td>黄金案: 大唐狄公案01</td>\n",
       "      <td>4</td>\n",
       "      <td>2022-11-06</td>\n",
       "      <td></td>\n",
       "      <td>[荷] 高罗佩 / 张凌 / 上海译文出版社 / 2019-5 / 40.00</td>\n",
       "      <td>https://book.douban.com/subject/30281429/</td>\n",
       "      <td>11月</td>\n",
       "      <td>49</td>\n",
       "    </tr>\n",
       "    <tr>\n",
       "      <th>8</th>\n",
       "      <td>亂馬1/2（卷廿八）</td>\n",
       "      <td>3</td>\n",
       "      <td>2022-11-14</td>\n",
       "      <td></td>\n",
       "      <td>高橋留美子 / 文化传信有限公司 / HK$25</td>\n",
       "      <td>https://book.douban.com/subject/3928696/</td>\n",
       "      <td>11月</td>\n",
       "      <td>50</td>\n",
       "    </tr>\n",
       "    <tr>\n",
       "      <th>7</th>\n",
       "      <td>Make: Getting Started with Processing.py: Maki...</td>\n",
       "      <td>4</td>\n",
       "      <td>2022-11-25</td>\n",
       "      <td></td>\n",
       "      <td>Allison Parrish、Ben Fry、Casey Reas / Maker Med...</td>\n",
       "      <td>https://book.douban.com/subject/30216217/</td>\n",
       "      <td>11月</td>\n",
       "      <td>51</td>\n",
       "    </tr>\n",
       "    <tr>\n",
       "      <th>6</th>\n",
       "      <td>LEARN PYTHON VISUALLY: CREATIVE CODING WITH PR...</td>\n",
       "      <td>3</td>\n",
       "      <td>2022-11-27</td>\n",
       "      <td></td>\n",
       "      <td></td>\n",
       "      <td>https://book.douban.com/subject/35909803/</td>\n",
       "      <td>11月</td>\n",
       "      <td>52</td>\n",
       "    </tr>\n",
       "    <tr>\n",
       "      <th>5</th>\n",
       "      <td>生吞</td>\n",
       "      <td>3</td>\n",
       "      <td>2022-11-30</td>\n",
       "      <td></td>\n",
       "      <td>郑执 / 浙江文艺出版社 / 2017-11-1 / 39.00</td>\n",
       "      <td>https://book.douban.com/subject/27170951/</td>\n",
       "      <td>11月</td>\n",
       "      <td>53</td>\n",
       "    </tr>\n",
       "    <tr>\n",
       "      <th>4</th>\n",
       "      <td>七十二堂写作课: 夏丏尊、叶圣陶教你写文章</td>\n",
       "      <td>3</td>\n",
       "      <td>2022-12-11</td>\n",
       "      <td></td>\n",
       "      <td>夏丏尊、叶圣陶 / 开明出版社 / 2017-8 / 48.00元</td>\n",
       "      <td>https://book.douban.com/subject/27122346/</td>\n",
       "      <td>12月</td>\n",
       "      <td>54</td>\n",
       "    </tr>\n",
       "    <tr>\n",
       "      <th>3</th>\n",
       "      <td>亂馬1/2（卷廿九）</td>\n",
       "      <td>5</td>\n",
       "      <td>2022-12-18</td>\n",
       "      <td></td>\n",
       "      <td>高橋留美子 / 文化传信有限公司 / HK$25</td>\n",
       "      <td>https://book.douban.com/subject/3990420/</td>\n",
       "      <td>12月</td>\n",
       "      <td>55</td>\n",
       "    </tr>\n",
       "    <tr>\n",
       "      <th>2</th>\n",
       "      <td>失落的卫星: 深入中亚大陆的旅程</td>\n",
       "      <td>5</td>\n",
       "      <td>2022-12-18</td>\n",
       "      <td></td>\n",
       "      <td>刘子超 / 文汇出版社 / 2020-7 / 69.00元</td>\n",
       "      <td>https://book.douban.com/subject/35025453/</td>\n",
       "      <td>12月</td>\n",
       "      <td>56</td>\n",
       "    </tr>\n",
       "    <tr>\n",
       "      <th>1</th>\n",
       "      <td>逻辑的引擎</td>\n",
       "      <td>3</td>\n",
       "      <td>2022-12-25</td>\n",
       "      <td></td>\n",
       "      <td>[美] 马丁•戴维斯 / 张卜天 / 湖南科学技术出版社 / 2018-1 / 49.00</td>\n",
       "      <td>https://book.douban.com/subject/30171335/</td>\n",
       "      <td>12月</td>\n",
       "      <td>57</td>\n",
       "    </tr>\n",
       "    <tr>\n",
       "      <th>0</th>\n",
       "      <td>人类的荣耀: 是什么让我们独一无二</td>\n",
       "      <td>4</td>\n",
       "      <td>2022-12-31</td>\n",
       "      <td></td>\n",
       "      <td>[美] 迈克尔·加扎尼加（Michael S. Gazzaniga / 彭雅伦 / 北京联合...</td>\n",
       "      <td>https://book.douban.com/subject/26862325/</td>\n",
       "      <td>12月</td>\n",
       "      <td>58</td>\n",
       "    </tr>\n",
       "  </tbody>\n",
       "</table>\n",
       "</div>"
      ],
      "text/plain": [
       "                                                   书名  评分       读完时间 标签  \\\n",
       "57                                          禅与摩托车维修艺术   3 2022-01-16      \n",
       "56                                               文章自在   4 2022-01-26      \n",
       "55                                            晨间日记的奇迹   3 2022-01-29      \n",
       "54                                    星之继承者 2 温柔的伽星巨人   4 2022-01-30      \n",
       "53                                         亂馬1/2（卷十五）   4 2022-02-01      \n",
       "52                                塞尔达传说 旷野之息 中文版完全攻略本   4 2022-02-02      \n",
       "51                                                七夜雪   3 2022-02-10      \n",
       "50                                         亂馬1/2（卷十六）   4 2022-02-20      \n",
       "49                                         亂馬1/2（卷十七）   3 2022-02-20      \n",
       "48                         镜厅: 大萧条、大衰退，我们做对了什么，又做错了什么   3 2022-02-23      \n",
       "47                                         亂馬1/2（卷十八）   2 2022-03-04      \n",
       "46                            助推: 如何做出有关健康、财富与幸福的最佳决策   3 2022-03-20      \n",
       "45                                   单向街 001: 最愚蠢的一代？   3 2022-03-25      \n",
       "44                                         亂馬1/2（卷十九）   3 2022-03-29      \n",
       "43                                    这就是搜索引擎: 核心技术详解   4 2022-04-10      \n",
       "42                                              以鸟兽之名   3 2022-04-14      \n",
       "41                                           元宇宙的虚拟现实   1 2022-04-23      \n",
       "40                                         亂馬1/2（卷二十）   3 2022-04-26      \n",
       "39                                  思想本质: 语言是洞察人类天性之窗   4 2022-05-02      \n",
       "38                                                 秋园   4 2022-05-06      \n",
       "37                               Python数据分析：活用Pandas库   3 2022-05-14      \n",
       "36                                             夜晚的潜水艇   5 2022-05-22      \n",
       "35                                         亂馬1/2（卷廿一）   3 2022-05-29      \n",
       "34                              梦游者: 1914年，欧洲如何走向“一战”   3 2022-06-01      \n",
       "33                                  SQL基础教程（第2版）: 第2版   4 2022-06-11      \n",
       "32                                    师从天才: 一个科学王朝的崛起   4 2022-06-15      \n",
       "31                                         漫画半小时中国科技史   1 2022-06-21      \n",
       "30                                         亂馬1/2（卷廿二）   4 2022-06-26      \n",
       "29                                   貓之眼 1: 性感的火爆女郎之卷   3 2022-07-03      \n",
       "28                                女士品茶: 统计学如何变革了科学和生活   3 2022-07-17      \n",
       "27                        高效写作的秘密: 美国1500多所高等院校指定写作教材   3 2022-07-21      \n",
       "26                                         人的困境: 单读17   4 2022-07-23      \n",
       "25                                         亂馬1/2（卷廿三）   3 2022-07-24      \n",
       "24                                            少年维特的烦恼   4 2022-07-27      \n",
       "23                                    双螺旋: 发现DNA结构的故事   2 2022-08-04      \n",
       "22                                         亂馬1/2（卷廿四）   3 2022-08-08      \n",
       "21                                              十分钟冥想   5 2022-08-11      \n",
       "20                                                元宇宙   3 2022-08-19      \n",
       "19                                              成功与运气   2 2022-09-03      \n",
       "18                                              盲眼钟表匠   5 2022-09-17      \n",
       "17                                         亂馬1/2（卷廿五）   3 2022-09-18      \n",
       "16                                             元宇宙大投资   3 2022-09-27      \n",
       "15                                       包法利夫人: 包法利夫人   5 2022-09-29      \n",
       "14                                  象与骑象人（更新版）: 幸福的假设   5 2022-10-07      \n",
       "13                                         亂馬1/2（卷廿六）   3 2022-10-20      \n",
       "11                                         亂馬1/2（卷廿七）   3 2022-10-22      \n",
       "12                                               摄影小史   3 2022-10-22      \n",
       "10                                 爱的博弈: 建立信任、避免背叛与不忠   4 2022-10-27      \n",
       "9                                        黄金案: 大唐狄公案01   4 2022-11-06      \n",
       "8                                          亂馬1/2（卷廿八）   3 2022-11-14      \n",
       "7   Make: Getting Started with Processing.py: Maki...   4 2022-11-25      \n",
       "6   LEARN PYTHON VISUALLY: CREATIVE CODING WITH PR...   3 2022-11-27      \n",
       "5                                                  生吞   3 2022-11-30      \n",
       "4                               七十二堂写作课: 夏丏尊、叶圣陶教你写文章   3 2022-12-11      \n",
       "3                                          亂馬1/2（卷廿九）   5 2022-12-18      \n",
       "2                                    失落的卫星: 深入中亚大陆的旅程   5 2022-12-18      \n",
       "1                                               逻辑的引擎   3 2022-12-25      \n",
       "0                                   人类的荣耀: 是什么让我们独一无二   4 2022-12-31      \n",
       "\n",
       "                                                   备注  \\\n",
       "57  罗伯特•M.波西格 (Robert M.Pirsig) / 张国辰 / 重庆出版社 / 20...   \n",
       "56                  张大春 / 广西师范大学出版社 / 2017-1 / 36.00元   \n",
       "55           [日] 佐藤傳 / 赵明敏 / 南海出版公司 / 2009-5 / 25.00元   \n",
       "54  [英] 詹姆斯·P.霍根 / [加] 仇春卉 / 新星出版社 / 2021-4 / 59.00 元   \n",
       "53                       高橋留美子 / 玉郎图书文化传信有限公司 / HK$25   \n",
       "52                                UCG / 2018-5 / 136元   \n",
       "51                  沧月 / 北京十月文艺出版社 / 2006-10 / 25.00元   \n",
       "50                       高橋留美子 / 玉郎图书文化传信有限公司 / HK$25   \n",
       "49                       高橋留美子 / 玉郎图书文化传信有限公司 / HK$25   \n",
       "48  [美] 巴里·埃森格林、Barry Eichengreen / 何帆 / 中信出版社 / 2...   \n",
       "47                           高橋留美子 / 文化传信有限公司 / HK$25   \n",
       "46  理查德•泰勒、卡斯·桑斯坦 / 刘宁 / 中信出版社 / 2015-4-1 / CNY 45.00   \n",
       "45             梁文道 张大春 许知远等 / 凤凰出版社 / 2009-8 / 25.00元   \n",
       "44                           高橋留美子 / 文化传信有限公司 / HK$25   \n",
       "43                  张俊林 / 电子工业出版社 / 2012-1-1 / 45.00元   \n",
       "42                         孙频 / 人民文学出版社 / 2021-4 / 49   \n",
       "41                                                      \n",
       "40                           高橋留美子 / 文化传信有限公司 / HK$25   \n",
       "39  史蒂芬·平克 (Steven Pinker) / 张旭红、梅德明 / 浙江人民出版社 / 2...   \n",
       "38                   杨本芬 / 北京联合出版公司 / 2020-6 / 38.00元   \n",
       "37        [美] 丹尼尔·陈 / 武传海 / 人民邮电出版社 / 2020-2 / 89.00元   \n",
       "36                     陈春成 / 上海三联书店 / 2020-9 / 52.00元   \n",
       "35                           高橋留美子 / 文化传信有限公司 / HK$25   \n",
       "34      [英]克里斯托弗·克拉克 / 董莹、肖潇 / 中信出版社 / 2014-9 / 69.00   \n",
       "33     [日] MICK / 孙　淼、罗　勇 / 人民邮电出版社 / 2017-6 / 79.00元   \n",
       "32  [美] 罗伯特·卡尼格尔 / 江载芬、闫鲜宁、张新颖 / 上海科技教育出版社 / 2001-...   \n",
       "31                        胖乐胖乐/著绘 / 科学技术文献出版社 / 55.00   \n",
       "30                           高橋留美子 / 文化传信有限公司 / HK$25   \n",
       "29                                北条司 / 玉皇朝出版集團 / $28   \n",
       "28       [美]戴维·萨尔斯伯格 / 刘清山 / 江西人民出版社 / 2016-8 / 48.00   \n",
       "27  ［美］杰拉尔德·格拉夫、［美］凯茜·比肯施泰因 / 姜昊骞 / 天地出版社 / 2019-9...   \n",
       "26                     吴琦 主编 / 台海出版社 / 2018-6 / 45.00   \n",
       "25                           高橋留美子 / 文化传信有限公司 / HK$25   \n",
       "24           [德] 歌德 / 杨武能 / 人民文学出版社 / 2020-5 / 32.00元   \n",
       "23        [美]詹姆斯·沃森 / 刘望夷 / 上海译文出版社 / 2016-3 / 45.00元   \n",
       "22                           高橋留美子 / 文化传信有限公司 / HK$25   \n",
       "21  ［英］安迪·普迪科姆（Andy Puddicombe)、安迪·普迪科姆 / 王俊兰、王彦又 ...   \n",
       "20            赵国栋、易欢欢、徐远重 著 / 中译出版社 / 2021-8 / 68.00元   \n",
       "19           罗伯特·弗兰克 / 张琪 / 北京联合出版公司 / 2017-9 / 59.90   \n",
       "18        [英] 理查德·道金斯 / 王德伦 / 重庆出版社 / 2005-5 / 22.00元   \n",
       "17                           高橋留美子 / 文化传信有限公司 / HK$25   \n",
       "16          焦娟  易欢欢  毛永丰  著 / 中译出版社 / 2022-1 / 78.00元   \n",
       "15  居斯塔夫·福楼拜 / 罗国林 / 北京理工大学出版社 / 2015-9-1 / CNY 50.00   \n",
       "14  [美]乔纳森•海特（Jonathan Haidt） / 李静瑶 / 浙江人民出版社 / 20...   \n",
       "13                           高橋留美子 / 文化传信有限公司 / HK$25   \n",
       "11                           高橋留美子 / 文化传信有限公司 / HK$25   \n",
       "12  [德]瓦尔特·本雅明 / 许绮玲、林志明 / 广西师范大学出版社 / 2018-1 / 39...   \n",
       "10  约翰·戈特曼 (John Gottman)、娜恩·西尔弗 (Nan Silver) / 穆君...   \n",
       "9             [荷] 高罗佩 / 张凌 / 上海译文出版社 / 2019-5 / 40.00   \n",
       "8                            高橋留美子 / 文化传信有限公司 / HK$25   \n",
       "7   Allison Parrish、Ben Fry、Casey Reas / Maker Med...   \n",
       "6                                                       \n",
       "5                    郑执 / 浙江文艺出版社 / 2017-11-1 / 39.00   \n",
       "4                   夏丏尊、叶圣陶 / 开明出版社 / 2017-8 / 48.00元   \n",
       "3                            高橋留美子 / 文化传信有限公司 / HK$25   \n",
       "2                       刘子超 / 文汇出版社 / 2020-7 / 69.00元   \n",
       "1       [美] 马丁•戴维斯 / 张卜天 / 湖南科学技术出版社 / 2018-1 / 49.00   \n",
       "0   [美] 迈克尔·加扎尼加（Michael S. Gazzaniga / 彭雅伦 / 北京联合...   \n",
       "\n",
       "                                         豆瓣链接   月份  累计数量  \n",
       "57   https://book.douban.com/subject/6811366/   1月     1  \n",
       "56  https://book.douban.com/subject/26940987/   1月     2  \n",
       "55   https://book.douban.com/subject/3744041/   1月     3  \n",
       "54  https://book.douban.com/subject/35314089/   1月     4  \n",
       "53   https://book.douban.com/subject/3894723/   2月     5  \n",
       "52  https://book.douban.com/subject/35269682/   2月     6  \n",
       "51   https://book.douban.com/subject/1919201/   2月     7  \n",
       "50   https://book.douban.com/subject/3911696/   2月     8  \n",
       "49   https://book.douban.com/subject/3911711/   2月     9  \n",
       "48  https://book.douban.com/subject/26851886/   2月    10  \n",
       "47   https://book.douban.com/subject/3911733/   3月    11  \n",
       "46  https://book.douban.com/subject/26357680/   3月    12  \n",
       "45   https://book.douban.com/subject/3908625/   3月    13  \n",
       "44   https://book.douban.com/subject/3911766/   3月    14  \n",
       "43   https://book.douban.com/subject/7006719/   4月    15  \n",
       "42  https://book.douban.com/subject/35456856/   4月    16  \n",
       "41  https://book.douban.com/subject/35789851/   4月    17  \n",
       "40   https://book.douban.com/subject/3911789/   4月    18  \n",
       "39  https://book.douban.com/subject/26593192/   5月    19  \n",
       "38  https://book.douban.com/subject/34998019/   5月    20  \n",
       "37  https://book.douban.com/subject/34973484/   5月    21  \n",
       "36  https://book.douban.com/subject/35005045/   5月    22  \n",
       "35   https://book.douban.com/subject/3911943/   5月    23  \n",
       "34  https://book.douban.com/subject/25943355/   6月    24  \n",
       "33  https://book.douban.com/subject/27055712/   6月    25  \n",
       "32   https://book.douban.com/subject/1028077/   6月    26  \n",
       "31  https://book.douban.com/subject/35498275/   6月    27  \n",
       "30   https://book.douban.com/subject/3928631/   6月    28  \n",
       "29   https://book.douban.com/subject/2379682/   7月    29  \n",
       "28  https://book.douban.com/subject/26838150/   7月    30  \n",
       "27  https://book.douban.com/subject/34781627/   7月    31  \n",
       "26  https://book.douban.com/subject/30231509/   7月    32  \n",
       "25   https://book.douban.com/subject/3928646/   7月    33  \n",
       "24  https://book.douban.com/subject/34886656/   7月    34  \n",
       "23  https://book.douban.com/subject/26752488/   8月    35  \n",
       "22   https://book.douban.com/subject/3928651/   8月    36  \n",
       "21  https://book.douban.com/subject/34888157/   8月    37  \n",
       "20  https://book.douban.com/subject/35545521/   8月    38  \n",
       "19  https://book.douban.com/subject/27126738/   9月    39  \n",
       "18   https://book.douban.com/subject/1427464/   9月    40  \n",
       "17   https://book.douban.com/subject/3928659/   9月    41  \n",
       "16  https://book.douban.com/subject/35659748/   9月    42  \n",
       "15  https://book.douban.com/subject/30315592/   9月    43  \n",
       "14  https://book.douban.com/subject/20260640/  10月    44  \n",
       "13   https://book.douban.com/subject/3928667/  10月    45  \n",
       "11   https://book.douban.com/subject/3928686/  10月    46  \n",
       "12  https://book.douban.com/subject/27608151/  10月    47  \n",
       "10  https://book.douban.com/subject/25809012/  10月    48  \n",
       "9   https://book.douban.com/subject/30281429/  11月    49  \n",
       "8    https://book.douban.com/subject/3928696/  11月    50  \n",
       "7   https://book.douban.com/subject/30216217/  11月    51  \n",
       "6   https://book.douban.com/subject/35909803/  11月    52  \n",
       "5   https://book.douban.com/subject/27170951/  11月    53  \n",
       "4   https://book.douban.com/subject/27122346/  12月    54  \n",
       "3    https://book.douban.com/subject/3990420/  12月    55  \n",
       "2   https://book.douban.com/subject/35025453/  12月    56  \n",
       "1   https://book.douban.com/subject/30171335/  12月    57  \n",
       "0   https://book.douban.com/subject/26862325/  12月    58  "
      ]
     },
     "execution_count": 5,
     "metadata": {},
     "output_type": "execute_result"
    }
   ],
   "source": [
    "\n",
    "df = pd.DataFrame({'书名': names, '评分': stars, '读完时间': read_dates, '标签': labels, '备注': line1, '豆瓣链接': links})\n",
    "df['读完时间'] = pd.to_datetime(df['读完时间'])\n",
    "df['月份'] = df['读完时间'].dt.month.astype(str) + '月'\n",
    "df['月份'] = pd.Categorical(df['月份'], categories=['1月', '2月', '3月', '4月', '5月', '6月', '7月', '8月', '9月', '10月', '11月', '12月'])\n",
    "df = df.sort_values('读完时间')\n",
    "df['累计数量'] = 1\n",
    "df['累计数量'] = df['累计数量'].cumsum()\n",
    "df['书名'] = df['书名'].str.replace(': 日本小學館獨家授權香港中文版', '')\n",
    "df"
   ]
  },
  {
   "cell_type": "code",
   "execution_count": 6,
   "metadata": {},
   "outputs": [
    {
     "data": {
      "text/plain": [
       "Index(['书名', '评分', '读完时间', '标签', '备注', '豆瓣链接', '月份', '累计数量'], dtype='object')"
      ]
     },
     "execution_count": 6,
     "metadata": {},
     "output_type": "execute_result"
    }
   ],
   "source": [
    "df.columns"
   ]
  },
  {
   "cell_type": "code",
   "execution_count": 7,
   "metadata": {},
   "outputs": [
    {
     "data": {
      "text/html": [
       "<div>\n",
       "<style scoped>\n",
       "    .dataframe tbody tr th:only-of-type {\n",
       "        vertical-align: middle;\n",
       "    }\n",
       "\n",
       "    .dataframe tbody tr th {\n",
       "        vertical-align: top;\n",
       "    }\n",
       "\n",
       "    .dataframe thead th {\n",
       "        text-align: right;\n",
       "    }\n",
       "</style>\n",
       "<table border=\"1\" class=\"dataframe\">\n",
       "  <thead>\n",
       "    <tr style=\"text-align: right;\">\n",
       "      <th></th>\n",
       "      <th>书名</th>\n",
       "      <th>作者</th>\n",
       "      <th>评分</th>\n",
       "      <th>读完时间</th>\n",
       "    </tr>\n",
       "  </thead>\n",
       "  <tbody>\n",
       "    <tr>\n",
       "      <th>57</th>\n",
       "      <td>禅与摩托车维修艺术</td>\n",
       "      <td>罗伯特•M.波西格 (Robert M.Pirsig)</td>\n",
       "      <td>★★★</td>\n",
       "      <td>2022-01-16</td>\n",
       "    </tr>\n",
       "    <tr>\n",
       "      <th>56</th>\n",
       "      <td>文章自在</td>\n",
       "      <td>张大春</td>\n",
       "      <td>★★★★</td>\n",
       "      <td>2022-01-26</td>\n",
       "    </tr>\n",
       "    <tr>\n",
       "      <th>55</th>\n",
       "      <td>晨间日记的奇迹</td>\n",
       "      <td>[日] 佐藤傳</td>\n",
       "      <td>★★★</td>\n",
       "      <td>2022-01-29</td>\n",
       "    </tr>\n",
       "    <tr>\n",
       "      <th>54</th>\n",
       "      <td>星之继承者 2 温柔的伽星巨人</td>\n",
       "      <td>[英] 詹姆斯·P.霍根</td>\n",
       "      <td>★★★★</td>\n",
       "      <td>2022-01-30</td>\n",
       "    </tr>\n",
       "    <tr>\n",
       "      <th>53</th>\n",
       "      <td>亂馬1/2（卷十五）</td>\n",
       "      <td>高橋留美子</td>\n",
       "      <td>★★★★</td>\n",
       "      <td>2022-02-01</td>\n",
       "    </tr>\n",
       "    <tr>\n",
       "      <th>52</th>\n",
       "      <td>塞尔达传说 旷野之息 中文版完全攻略本</td>\n",
       "      <td>UCG</td>\n",
       "      <td>★★★★</td>\n",
       "      <td>2022-02-02</td>\n",
       "    </tr>\n",
       "    <tr>\n",
       "      <th>51</th>\n",
       "      <td>七夜雪</td>\n",
       "      <td>沧月</td>\n",
       "      <td>★★★</td>\n",
       "      <td>2022-02-10</td>\n",
       "    </tr>\n",
       "    <tr>\n",
       "      <th>50</th>\n",
       "      <td>亂馬1/2（卷十六）</td>\n",
       "      <td>高橋留美子</td>\n",
       "      <td>★★★★</td>\n",
       "      <td>2022-02-20</td>\n",
       "    </tr>\n",
       "    <tr>\n",
       "      <th>49</th>\n",
       "      <td>亂馬1/2（卷十七）</td>\n",
       "      <td>高橋留美子</td>\n",
       "      <td>★★★</td>\n",
       "      <td>2022-02-20</td>\n",
       "    </tr>\n",
       "    <tr>\n",
       "      <th>48</th>\n",
       "      <td>镜厅: 大萧条、大衰退，我们做对了什么，又做错了什么</td>\n",
       "      <td>[美] 巴里·埃森格林、Barry Eichengreen</td>\n",
       "      <td>★★★</td>\n",
       "      <td>2022-02-23</td>\n",
       "    </tr>\n",
       "    <tr>\n",
       "      <th>47</th>\n",
       "      <td>亂馬1/2（卷十八）</td>\n",
       "      <td>高橋留美子</td>\n",
       "      <td>★★</td>\n",
       "      <td>2022-03-04</td>\n",
       "    </tr>\n",
       "    <tr>\n",
       "      <th>46</th>\n",
       "      <td>助推: 如何做出有关健康、财富与幸福的最佳决策</td>\n",
       "      <td>理查德•泰勒、卡斯·桑斯坦</td>\n",
       "      <td>★★★</td>\n",
       "      <td>2022-03-20</td>\n",
       "    </tr>\n",
       "    <tr>\n",
       "      <th>45</th>\n",
       "      <td>单向街 001: 最愚蠢的一代？</td>\n",
       "      <td>梁文道 张大春 许知远等</td>\n",
       "      <td>★★★</td>\n",
       "      <td>2022-03-25</td>\n",
       "    </tr>\n",
       "    <tr>\n",
       "      <th>44</th>\n",
       "      <td>亂馬1/2（卷十九）</td>\n",
       "      <td>高橋留美子</td>\n",
       "      <td>★★★</td>\n",
       "      <td>2022-03-29</td>\n",
       "    </tr>\n",
       "    <tr>\n",
       "      <th>43</th>\n",
       "      <td>这就是搜索引擎: 核心技术详解</td>\n",
       "      <td>张俊林</td>\n",
       "      <td>★★★★</td>\n",
       "      <td>2022-04-10</td>\n",
       "    </tr>\n",
       "    <tr>\n",
       "      <th>42</th>\n",
       "      <td>以鸟兽之名</td>\n",
       "      <td>孙频</td>\n",
       "      <td>★★★</td>\n",
       "      <td>2022-04-14</td>\n",
       "    </tr>\n",
       "    <tr>\n",
       "      <th>41</th>\n",
       "      <td>元宇宙的虚拟现实</td>\n",
       "      <td></td>\n",
       "      <td>★</td>\n",
       "      <td>2022-04-23</td>\n",
       "    </tr>\n",
       "    <tr>\n",
       "      <th>40</th>\n",
       "      <td>亂馬1/2（卷二十）</td>\n",
       "      <td>高橋留美子</td>\n",
       "      <td>★★★</td>\n",
       "      <td>2022-04-26</td>\n",
       "    </tr>\n",
       "    <tr>\n",
       "      <th>39</th>\n",
       "      <td>思想本质: 语言是洞察人类天性之窗</td>\n",
       "      <td>史蒂芬·平克 (Steven Pinker)</td>\n",
       "      <td>★★★★</td>\n",
       "      <td>2022-05-02</td>\n",
       "    </tr>\n",
       "    <tr>\n",
       "      <th>38</th>\n",
       "      <td>秋园</td>\n",
       "      <td>杨本芬</td>\n",
       "      <td>★★★★</td>\n",
       "      <td>2022-05-06</td>\n",
       "    </tr>\n",
       "    <tr>\n",
       "      <th>37</th>\n",
       "      <td>Python数据分析：活用Pandas库</td>\n",
       "      <td>[美] 丹尼尔·陈</td>\n",
       "      <td>★★★</td>\n",
       "      <td>2022-05-14</td>\n",
       "    </tr>\n",
       "    <tr>\n",
       "      <th>36</th>\n",
       "      <td>夜晚的潜水艇</td>\n",
       "      <td>陈春成</td>\n",
       "      <td>★★★★★</td>\n",
       "      <td>2022-05-22</td>\n",
       "    </tr>\n",
       "    <tr>\n",
       "      <th>35</th>\n",
       "      <td>亂馬1/2（卷廿一）</td>\n",
       "      <td>高橋留美子</td>\n",
       "      <td>★★★</td>\n",
       "      <td>2022-05-29</td>\n",
       "    </tr>\n",
       "    <tr>\n",
       "      <th>34</th>\n",
       "      <td>梦游者: 1914年，欧洲如何走向“一战”</td>\n",
       "      <td>[英]克里斯托弗·克拉克</td>\n",
       "      <td>★★★</td>\n",
       "      <td>2022-06-01</td>\n",
       "    </tr>\n",
       "    <tr>\n",
       "      <th>33</th>\n",
       "      <td>SQL基础教程（第2版）: 第2版</td>\n",
       "      <td>[日] MICK</td>\n",
       "      <td>★★★★</td>\n",
       "      <td>2022-06-11</td>\n",
       "    </tr>\n",
       "    <tr>\n",
       "      <th>32</th>\n",
       "      <td>师从天才: 一个科学王朝的崛起</td>\n",
       "      <td>[美] 罗伯特·卡尼格尔</td>\n",
       "      <td>★★★★</td>\n",
       "      <td>2022-06-15</td>\n",
       "    </tr>\n",
       "    <tr>\n",
       "      <th>31</th>\n",
       "      <td>漫画半小时中国科技史</td>\n",
       "      <td>胖乐胖乐/著绘</td>\n",
       "      <td>★</td>\n",
       "      <td>2022-06-21</td>\n",
       "    </tr>\n",
       "    <tr>\n",
       "      <th>30</th>\n",
       "      <td>亂馬1/2（卷廿二）</td>\n",
       "      <td>高橋留美子</td>\n",
       "      <td>★★★★</td>\n",
       "      <td>2022-06-26</td>\n",
       "    </tr>\n",
       "    <tr>\n",
       "      <th>29</th>\n",
       "      <td>貓之眼 1: 性感的火爆女郎之卷</td>\n",
       "      <td>北条司</td>\n",
       "      <td>★★★</td>\n",
       "      <td>2022-07-03</td>\n",
       "    </tr>\n",
       "    <tr>\n",
       "      <th>28</th>\n",
       "      <td>女士品茶: 统计学如何变革了科学和生活</td>\n",
       "      <td>[美]戴维·萨尔斯伯格</td>\n",
       "      <td>★★★</td>\n",
       "      <td>2022-07-17</td>\n",
       "    </tr>\n",
       "    <tr>\n",
       "      <th>27</th>\n",
       "      <td>高效写作的秘密: 美国1500多所高等院校指定写作教材</td>\n",
       "      <td>［美］杰拉尔德·格拉夫、［美］凯茜·比肯施泰因</td>\n",
       "      <td>★★★</td>\n",
       "      <td>2022-07-21</td>\n",
       "    </tr>\n",
       "    <tr>\n",
       "      <th>26</th>\n",
       "      <td>人的困境: 单读17</td>\n",
       "      <td>吴琦 主编</td>\n",
       "      <td>★★★★</td>\n",
       "      <td>2022-07-23</td>\n",
       "    </tr>\n",
       "    <tr>\n",
       "      <th>25</th>\n",
       "      <td>亂馬1/2（卷廿三）</td>\n",
       "      <td>高橋留美子</td>\n",
       "      <td>★★★</td>\n",
       "      <td>2022-07-24</td>\n",
       "    </tr>\n",
       "    <tr>\n",
       "      <th>24</th>\n",
       "      <td>少年维特的烦恼</td>\n",
       "      <td>[德] 歌德</td>\n",
       "      <td>★★★★</td>\n",
       "      <td>2022-07-27</td>\n",
       "    </tr>\n",
       "    <tr>\n",
       "      <th>23</th>\n",
       "      <td>双螺旋: 发现DNA结构的故事</td>\n",
       "      <td>[美]詹姆斯·沃森</td>\n",
       "      <td>★★</td>\n",
       "      <td>2022-08-04</td>\n",
       "    </tr>\n",
       "    <tr>\n",
       "      <th>22</th>\n",
       "      <td>亂馬1/2（卷廿四）</td>\n",
       "      <td>高橋留美子</td>\n",
       "      <td>★★★</td>\n",
       "      <td>2022-08-08</td>\n",
       "    </tr>\n",
       "    <tr>\n",
       "      <th>21</th>\n",
       "      <td>十分钟冥想</td>\n",
       "      <td>［英］安迪·普迪科姆（Andy Puddicombe)、安迪·普迪科姆</td>\n",
       "      <td>★★★★★</td>\n",
       "      <td>2022-08-11</td>\n",
       "    </tr>\n",
       "    <tr>\n",
       "      <th>20</th>\n",
       "      <td>元宇宙</td>\n",
       "      <td>赵国栋、易欢欢、徐远重 著</td>\n",
       "      <td>★★★</td>\n",
       "      <td>2022-08-19</td>\n",
       "    </tr>\n",
       "    <tr>\n",
       "      <th>19</th>\n",
       "      <td>成功与运气</td>\n",
       "      <td>罗伯特·弗兰克</td>\n",
       "      <td>★★</td>\n",
       "      <td>2022-09-03</td>\n",
       "    </tr>\n",
       "    <tr>\n",
       "      <th>18</th>\n",
       "      <td>盲眼钟表匠</td>\n",
       "      <td>[英] 理查德·道金斯</td>\n",
       "      <td>★★★★★</td>\n",
       "      <td>2022-09-17</td>\n",
       "    </tr>\n",
       "    <tr>\n",
       "      <th>17</th>\n",
       "      <td>亂馬1/2（卷廿五）</td>\n",
       "      <td>高橋留美子</td>\n",
       "      <td>★★★</td>\n",
       "      <td>2022-09-18</td>\n",
       "    </tr>\n",
       "    <tr>\n",
       "      <th>16</th>\n",
       "      <td>元宇宙大投资</td>\n",
       "      <td>焦娟  易欢欢  毛永丰  著</td>\n",
       "      <td>★★★</td>\n",
       "      <td>2022-09-27</td>\n",
       "    </tr>\n",
       "    <tr>\n",
       "      <th>15</th>\n",
       "      <td>包法利夫人: 包法利夫人</td>\n",
       "      <td>居斯塔夫·福楼拜</td>\n",
       "      <td>★★★★★</td>\n",
       "      <td>2022-09-29</td>\n",
       "    </tr>\n",
       "    <tr>\n",
       "      <th>14</th>\n",
       "      <td>象与骑象人（更新版）: 幸福的假设</td>\n",
       "      <td>[美]乔纳森•海特（Jonathan Haidt）</td>\n",
       "      <td>★★★★★</td>\n",
       "      <td>2022-10-07</td>\n",
       "    </tr>\n",
       "    <tr>\n",
       "      <th>13</th>\n",
       "      <td>亂馬1/2（卷廿六）</td>\n",
       "      <td>高橋留美子</td>\n",
       "      <td>★★★</td>\n",
       "      <td>2022-10-20</td>\n",
       "    </tr>\n",
       "    <tr>\n",
       "      <th>11</th>\n",
       "      <td>亂馬1/2（卷廿七）</td>\n",
       "      <td>高橋留美子</td>\n",
       "      <td>★★★</td>\n",
       "      <td>2022-10-22</td>\n",
       "    </tr>\n",
       "    <tr>\n",
       "      <th>12</th>\n",
       "      <td>摄影小史</td>\n",
       "      <td>[德]瓦尔特·本雅明</td>\n",
       "      <td>★★★</td>\n",
       "      <td>2022-10-22</td>\n",
       "    </tr>\n",
       "    <tr>\n",
       "      <th>10</th>\n",
       "      <td>爱的博弈: 建立信任、避免背叛与不忠</td>\n",
       "      <td>约翰·戈特曼 (John Gottman)、娜恩·西尔弗 (Nan Silver)</td>\n",
       "      <td>★★★★</td>\n",
       "      <td>2022-10-27</td>\n",
       "    </tr>\n",
       "    <tr>\n",
       "      <th>9</th>\n",
       "      <td>黄金案: 大唐狄公案01</td>\n",
       "      <td>[荷] 高罗佩</td>\n",
       "      <td>★★★★</td>\n",
       "      <td>2022-11-06</td>\n",
       "    </tr>\n",
       "    <tr>\n",
       "      <th>8</th>\n",
       "      <td>亂馬1/2（卷廿八）</td>\n",
       "      <td>高橋留美子</td>\n",
       "      <td>★★★</td>\n",
       "      <td>2022-11-14</td>\n",
       "    </tr>\n",
       "    <tr>\n",
       "      <th>7</th>\n",
       "      <td>Make: Getting Started with Processing.py: Maki...</td>\n",
       "      <td>Allison Parrish、Ben Fry、Casey Reas</td>\n",
       "      <td>★★★★</td>\n",
       "      <td>2022-11-25</td>\n",
       "    </tr>\n",
       "    <tr>\n",
       "      <th>6</th>\n",
       "      <td>LEARN PYTHON VISUALLY: CREATIVE CODING WITH PR...</td>\n",
       "      <td></td>\n",
       "      <td>★★★</td>\n",
       "      <td>2022-11-27</td>\n",
       "    </tr>\n",
       "    <tr>\n",
       "      <th>5</th>\n",
       "      <td>生吞</td>\n",
       "      <td>郑执</td>\n",
       "      <td>★★★</td>\n",
       "      <td>2022-11-30</td>\n",
       "    </tr>\n",
       "    <tr>\n",
       "      <th>4</th>\n",
       "      <td>七十二堂写作课: 夏丏尊、叶圣陶教你写文章</td>\n",
       "      <td>夏丏尊、叶圣陶</td>\n",
       "      <td>★★★</td>\n",
       "      <td>2022-12-11</td>\n",
       "    </tr>\n",
       "    <tr>\n",
       "      <th>3</th>\n",
       "      <td>亂馬1/2（卷廿九）</td>\n",
       "      <td>高橋留美子</td>\n",
       "      <td>★★★★★</td>\n",
       "      <td>2022-12-18</td>\n",
       "    </tr>\n",
       "    <tr>\n",
       "      <th>2</th>\n",
       "      <td>失落的卫星: 深入中亚大陆的旅程</td>\n",
       "      <td>刘子超</td>\n",
       "      <td>★★★★★</td>\n",
       "      <td>2022-12-18</td>\n",
       "    </tr>\n",
       "    <tr>\n",
       "      <th>1</th>\n",
       "      <td>逻辑的引擎</td>\n",
       "      <td>[美] 马丁•戴维斯</td>\n",
       "      <td>★★★</td>\n",
       "      <td>2022-12-25</td>\n",
       "    </tr>\n",
       "    <tr>\n",
       "      <th>0</th>\n",
       "      <td>人类的荣耀: 是什么让我们独一无二</td>\n",
       "      <td>[美] 迈克尔·加扎尼加（Michael S. Gazzaniga</td>\n",
       "      <td>★★★★</td>\n",
       "      <td>2022-12-31</td>\n",
       "    </tr>\n",
       "  </tbody>\n",
       "</table>\n",
       "</div>"
      ],
      "text/plain": [
       "                                                   书名  \\\n",
       "57                                          禅与摩托车维修艺术   \n",
       "56                                               文章自在   \n",
       "55                                            晨间日记的奇迹   \n",
       "54                                    星之继承者 2 温柔的伽星巨人   \n",
       "53                                         亂馬1/2（卷十五）   \n",
       "52                                塞尔达传说 旷野之息 中文版完全攻略本   \n",
       "51                                                七夜雪   \n",
       "50                                         亂馬1/2（卷十六）   \n",
       "49                                         亂馬1/2（卷十七）   \n",
       "48                         镜厅: 大萧条、大衰退，我们做对了什么，又做错了什么   \n",
       "47                                         亂馬1/2（卷十八）   \n",
       "46                            助推: 如何做出有关健康、财富与幸福的最佳决策   \n",
       "45                                   单向街 001: 最愚蠢的一代？   \n",
       "44                                         亂馬1/2（卷十九）   \n",
       "43                                    这就是搜索引擎: 核心技术详解   \n",
       "42                                              以鸟兽之名   \n",
       "41                                           元宇宙的虚拟现实   \n",
       "40                                         亂馬1/2（卷二十）   \n",
       "39                                  思想本质: 语言是洞察人类天性之窗   \n",
       "38                                                 秋园   \n",
       "37                               Python数据分析：活用Pandas库   \n",
       "36                                             夜晚的潜水艇   \n",
       "35                                         亂馬1/2（卷廿一）   \n",
       "34                              梦游者: 1914年，欧洲如何走向“一战”   \n",
       "33                                  SQL基础教程（第2版）: 第2版   \n",
       "32                                    师从天才: 一个科学王朝的崛起   \n",
       "31                                         漫画半小时中国科技史   \n",
       "30                                         亂馬1/2（卷廿二）   \n",
       "29                                   貓之眼 1: 性感的火爆女郎之卷   \n",
       "28                                女士品茶: 统计学如何变革了科学和生活   \n",
       "27                        高效写作的秘密: 美国1500多所高等院校指定写作教材   \n",
       "26                                         人的困境: 单读17   \n",
       "25                                         亂馬1/2（卷廿三）   \n",
       "24                                            少年维特的烦恼   \n",
       "23                                    双螺旋: 发现DNA结构的故事   \n",
       "22                                         亂馬1/2（卷廿四）   \n",
       "21                                              十分钟冥想   \n",
       "20                                                元宇宙   \n",
       "19                                              成功与运气   \n",
       "18                                              盲眼钟表匠   \n",
       "17                                         亂馬1/2（卷廿五）   \n",
       "16                                             元宇宙大投资   \n",
       "15                                       包法利夫人: 包法利夫人   \n",
       "14                                  象与骑象人（更新版）: 幸福的假设   \n",
       "13                                         亂馬1/2（卷廿六）   \n",
       "11                                         亂馬1/2（卷廿七）   \n",
       "12                                               摄影小史   \n",
       "10                                 爱的博弈: 建立信任、避免背叛与不忠   \n",
       "9                                        黄金案: 大唐狄公案01   \n",
       "8                                          亂馬1/2（卷廿八）   \n",
       "7   Make: Getting Started with Processing.py: Maki...   \n",
       "6   LEARN PYTHON VISUALLY: CREATIVE CODING WITH PR...   \n",
       "5                                                  生吞   \n",
       "4                               七十二堂写作课: 夏丏尊、叶圣陶教你写文章   \n",
       "3                                          亂馬1/2（卷廿九）   \n",
       "2                                    失落的卫星: 深入中亚大陆的旅程   \n",
       "1                                               逻辑的引擎   \n",
       "0                                   人类的荣耀: 是什么让我们独一无二   \n",
       "\n",
       "                                           作者     评分       读完时间  \n",
       "57                罗伯特•M.波西格 (Robert M.Pirsig)    ★★★ 2022-01-16  \n",
       "56                                        张大春   ★★★★ 2022-01-26  \n",
       "55                                    [日] 佐藤傳    ★★★ 2022-01-29  \n",
       "54                               [英] 詹姆斯·P.霍根   ★★★★ 2022-01-30  \n",
       "53                                      高橋留美子   ★★★★ 2022-02-01  \n",
       "52                                        UCG   ★★★★ 2022-02-02  \n",
       "51                                         沧月    ★★★ 2022-02-10  \n",
       "50                                      高橋留美子   ★★★★ 2022-02-20  \n",
       "49                                      高橋留美子    ★★★ 2022-02-20  \n",
       "48              [美] 巴里·埃森格林、Barry Eichengreen    ★★★ 2022-02-23  \n",
       "47                                      高橋留美子     ★★ 2022-03-04  \n",
       "46                              理查德•泰勒、卡斯·桑斯坦    ★★★ 2022-03-20  \n",
       "45                               梁文道 张大春 许知远等    ★★★ 2022-03-25  \n",
       "44                                      高橋留美子    ★★★ 2022-03-29  \n",
       "43                                        张俊林   ★★★★ 2022-04-10  \n",
       "42                                         孙频    ★★★ 2022-04-14  \n",
       "41                                                 ★ 2022-04-23  \n",
       "40                                      高橋留美子    ★★★ 2022-04-26  \n",
       "39                     史蒂芬·平克 (Steven Pinker)   ★★★★ 2022-05-02  \n",
       "38                                        杨本芬   ★★★★ 2022-05-06  \n",
       "37                                  [美] 丹尼尔·陈    ★★★ 2022-05-14  \n",
       "36                                        陈春成  ★★★★★ 2022-05-22  \n",
       "35                                      高橋留美子    ★★★ 2022-05-29  \n",
       "34                               [英]克里斯托弗·克拉克    ★★★ 2022-06-01  \n",
       "33                                   [日] MICK   ★★★★ 2022-06-11  \n",
       "32                               [美] 罗伯特·卡尼格尔   ★★★★ 2022-06-15  \n",
       "31                                    胖乐胖乐/著绘      ★ 2022-06-21  \n",
       "30                                      高橋留美子   ★★★★ 2022-06-26  \n",
       "29                                        北条司    ★★★ 2022-07-03  \n",
       "28                                [美]戴维·萨尔斯伯格    ★★★ 2022-07-17  \n",
       "27                    ［美］杰拉尔德·格拉夫、［美］凯茜·比肯施泰因    ★★★ 2022-07-21  \n",
       "26                                      吴琦 主编   ★★★★ 2022-07-23  \n",
       "25                                      高橋留美子    ★★★ 2022-07-24  \n",
       "24                                     [德] 歌德   ★★★★ 2022-07-27  \n",
       "23                                  [美]詹姆斯·沃森     ★★ 2022-08-04  \n",
       "22                                      高橋留美子    ★★★ 2022-08-08  \n",
       "21        ［英］安迪·普迪科姆（Andy Puddicombe)、安迪·普迪科姆  ★★★★★ 2022-08-11  \n",
       "20                              赵国栋、易欢欢、徐远重 著    ★★★ 2022-08-19  \n",
       "19                                    罗伯特·弗兰克     ★★ 2022-09-03  \n",
       "18                                [英] 理查德·道金斯  ★★★★★ 2022-09-17  \n",
       "17                                      高橋留美子    ★★★ 2022-09-18  \n",
       "16                            焦娟  易欢欢  毛永丰  著    ★★★ 2022-09-27  \n",
       "15                                   居斯塔夫·福楼拜  ★★★★★ 2022-09-29  \n",
       "14                  [美]乔纳森•海特（Jonathan Haidt）  ★★★★★ 2022-10-07  \n",
       "13                                      高橋留美子    ★★★ 2022-10-20  \n",
       "11                                      高橋留美子    ★★★ 2022-10-22  \n",
       "12                                 [德]瓦尔特·本雅明    ★★★ 2022-10-22  \n",
       "10  约翰·戈特曼 (John Gottman)、娜恩·西尔弗 (Nan Silver)   ★★★★ 2022-10-27  \n",
       "9                                     [荷] 高罗佩   ★★★★ 2022-11-06  \n",
       "8                                       高橋留美子    ★★★ 2022-11-14  \n",
       "7          Allison Parrish、Ben Fry、Casey Reas   ★★★★ 2022-11-25  \n",
       "6                                                ★★★ 2022-11-27  \n",
       "5                                          郑执    ★★★ 2022-11-30  \n",
       "4                                     夏丏尊、叶圣陶    ★★★ 2022-12-11  \n",
       "3                                       高橋留美子  ★★★★★ 2022-12-18  \n",
       "2                                         刘子超  ★★★★★ 2022-12-18  \n",
       "1                                  [美] 马丁•戴维斯    ★★★ 2022-12-25  \n",
       "0           [美] 迈克尔·加扎尼加（Michael S. Gazzaniga   ★★★★ 2022-12-31  "
      ]
     },
     "execution_count": 7,
     "metadata": {},
     "output_type": "execute_result"
    }
   ],
   "source": [
    "df['作者'] = df['备注'].map(lambda x: x.split(' / ')[0])\n",
    "df['评分'] = df['评分'].map(lambda x: '★' * x)\n",
    "df1 = df[['书名', '作者', '评分', '读完时间']]\n",
    "df1"
   ]
  },
  {
   "cell_type": "code",
   "execution_count": 8,
   "metadata": {},
   "outputs": [],
   "source": [
    "with pd.ExcelWriter(\"2022年读书小结.xlsx\") as xlsx:\n",
    "    df.to_excel(xlsx,sheet_name=\"小结1\", index=False)\n",
    "    df1.to_excel(xlsx,sheet_name=\"小结2\", index=False)\n"
   ]
  },
  {
   "cell_type": "markdown",
   "metadata": {},
   "source": [
    "## 配色"
   ]
  },
  {
   "cell_type": "code",
   "execution_count": 9,
   "metadata": {},
   "outputs": [
    {
     "data": {
      "application/vnd.plotly.v1+json": {
       "config": {
        "plotlyServerURL": "https://plot.ly"
       },
       "data": [
        {
         "customdata": [
          0,
          1,
          2,
          3,
          4,
          5,
          6
         ],
         "hovertemplate": "%{y}[%{customdata}] = %{marker.color}<extra></extra>",
         "marker": {
          "color": [
           "rgb(237, 229, 207)",
           "rgb(224, 194, 162)",
           "rgb(211, 156, 131)",
           "rgb(193, 118, 111)",
           "rgb(166, 84, 97)",
           "rgb(129, 55, 83)",
           "rgb(84, 31, 63)"
          ]
         },
         "orientation": "h",
         "type": "bar",
         "x": [
          1,
          1,
          1,
          1,
          1,
          1,
          1
         ],
         "y": [
          "Brwnyl",
          "Brwnyl",
          "Brwnyl",
          "Brwnyl",
          "Brwnyl",
          "Brwnyl",
          "Brwnyl"
         ]
        },
        {
         "customdata": [
          0,
          1,
          2,
          3,
          4,
          5,
          6
         ],
         "hovertemplate": "%{y}[%{customdata}] = %{marker.color}<extra></extra>",
         "marker": {
          "color": [
           "rgb(75, 41, 145)",
           "rgb(135, 44, 162)",
           "rgb(192, 54, 157)",
           "rgb(234, 79, 136)",
           "rgb(250, 120, 118)",
           "rgb(246, 169, 122)",
           "rgb(237, 217, 163)"
          ]
         },
         "orientation": "h",
         "type": "bar",
         "x": [
          1,
          1,
          1,
          1,
          1,
          1,
          1
         ],
         "y": [
          "Agsunset",
          "Agsunset",
          "Agsunset",
          "Agsunset",
          "Agsunset",
          "Agsunset",
          "Agsunset"
         ]
        },
        {
         "customdata": [
          0,
          1,
          2,
          3,
          4,
          5,
          6
         ],
         "hovertemplate": "%{y}[%{customdata}] = %{marker.color}<extra></extra>",
         "marker": {
          "color": [
           "rgb(252, 222, 156)",
           "rgb(250, 164, 118)",
           "rgb(240, 116, 110)",
           "rgb(227, 79, 111)",
           "rgb(220, 57, 119)",
           "rgb(185, 37, 122)",
           "rgb(124, 29, 111)"
          ]
         },
         "orientation": "h",
         "type": "bar",
         "x": [
          1,
          1,
          1,
          1,
          1,
          1,
          1
         ],
         "y": [
          "Sunsetdark",
          "Sunsetdark",
          "Sunsetdark",
          "Sunsetdark",
          "Sunsetdark",
          "Sunsetdark",
          "Sunsetdark"
         ]
        },
        {
         "customdata": [
          0,
          1,
          2,
          3,
          4,
          5,
          6
         ],
         "hovertemplate": "%{y}[%{customdata}] = %{marker.color}<extra></extra>",
         "marker": {
          "color": [
           "rgb(243, 203, 211)",
           "rgb(234, 169, 189)",
           "rgb(221, 136, 172)",
           "rgb(202, 105, 157)",
           "rgb(177, 77, 142)",
           "rgb(145, 53, 125)",
           "rgb(108, 33, 103)"
          ]
         },
         "orientation": "h",
         "type": "bar",
         "x": [
          1,
          1,
          1,
          1,
          1,
          1,
          1
         ],
         "y": [
          "Magenta",
          "Magenta",
          "Magenta",
          "Magenta",
          "Magenta",
          "Magenta",
          "Magenta"
         ]
        },
        {
         "customdata": [
          0,
          1,
          2,
          3,
          4,
          5,
          6
         ],
         "hovertemplate": "%{y}[%{customdata}] = %{marker.color}<extra></extra>",
         "marker": {
          "color": [
           "rgb(243, 231, 155)",
           "rgb(250, 196, 132)",
           "rgb(248, 160, 126)",
           "rgb(235, 127, 134)",
           "rgb(206, 102, 147)",
           "rgb(160, 89, 160)",
           "rgb(92, 83, 165)"
          ]
         },
         "orientation": "h",
         "type": "bar",
         "x": [
          1,
          1,
          1,
          1,
          1,
          1,
          1
         ],
         "y": [
          "Sunset",
          "Sunset",
          "Sunset",
          "Sunset",
          "Sunset",
          "Sunset",
          "Sunset"
         ]
        },
        {
         "customdata": [
          0,
          1,
          2,
          3,
          4,
          5,
          6
         ],
         "hovertemplate": "%{y}[%{customdata}] = %{marker.color}<extra></extra>",
         "marker": {
          "color": [
           "rgb(249, 221, 218)",
           "rgb(242, 185, 196)",
           "rgb(229, 151, 185)",
           "rgb(206, 120, 179)",
           "rgb(173, 95, 173)",
           "rgb(131, 75, 160)",
           "rgb(87, 59, 136)"
          ]
         },
         "orientation": "h",
         "type": "bar",
         "x": [
          1,
          1,
          1,
          1,
          1,
          1,
          1
         ],
         "y": [
          "Purpor",
          "Purpor",
          "Purpor",
          "Purpor",
          "Purpor",
          "Purpor",
          "Purpor"
         ]
        },
        {
         "customdata": [
          0,
          1,
          2,
          3,
          4,
          5,
          6
         ],
         "hovertemplate": "%{y}[%{customdata}] = %{marker.color}<extra></extra>",
         "marker": {
          "color": [
           "rgb(243, 224, 247)",
           "rgb(228, 199, 241)",
           "rgb(209, 175, 232)",
           "rgb(185, 152, 221)",
           "rgb(159, 130, 206)",
           "rgb(130, 109, 186)",
           "rgb(99, 88, 159)"
          ]
         },
         "orientation": "h",
         "type": "bar",
         "x": [
          1,
          1,
          1,
          1,
          1,
          1,
          1
         ],
         "y": [
          "Purp",
          "Purp",
          "Purp",
          "Purp",
          "Purp",
          "Purp",
          "Purp"
         ]
        },
        {
         "customdata": [
          0,
          1,
          2,
          3,
          4,
          5,
          6
         ],
         "hovertemplate": "%{y}[%{customdata}] = %{marker.color}<extra></extra>",
         "marker": {
          "color": [
           "rgb(176, 242, 188)",
           "rgb(137, 232, 172)",
           "rgb(103, 219, 165)",
           "rgb(76, 200, 163)",
           "rgb(56, 178, 163)",
           "rgb(44, 152, 160)",
           "rgb(37, 125, 152)"
          ]
         },
         "orientation": "h",
         "type": "bar",
         "x": [
          1,
          1,
          1,
          1,
          1,
          1,
          1
         ],
         "y": [
          "Tealgrn",
          "Tealgrn",
          "Tealgrn",
          "Tealgrn",
          "Tealgrn",
          "Tealgrn",
          "Tealgrn"
         ]
        },
        {
         "customdata": [
          0,
          1,
          2,
          3,
          4,
          5,
          6
         ],
         "hovertemplate": "%{y}[%{customdata}] = %{marker.color}<extra></extra>",
         "marker": {
          "color": [
           "rgb(209, 238, 234)",
           "rgb(168, 219, 217)",
           "rgb(133, 196, 201)",
           "rgb(104, 171, 184)",
           "rgb(79, 144, 166)",
           "rgb(59, 115, 143)",
           "rgb(42, 86, 116)"
          ]
         },
         "orientation": "h",
         "type": "bar",
         "x": [
          1,
          1,
          1,
          1,
          1,
          1,
          1
         ],
         "y": [
          "Teal",
          "Teal",
          "Teal",
          "Teal",
          "Teal",
          "Teal",
          "Teal"
         ]
        },
        {
         "customdata": [
          0,
          1,
          2,
          3,
          4,
          5,
          6
         ],
         "hovertemplate": "%{y}[%{customdata}] = %{marker.color}<extra></extra>",
         "marker": {
          "color": [
           "rgb(247, 254, 174)",
           "rgb(183, 230, 165)",
           "rgb(124, 203, 162)",
           "rgb(70, 174, 160)",
           "rgb(8, 144, 153)",
           "rgb(0, 113, 139)",
           "rgb(4, 82, 117)"
          ]
         },
         "orientation": "h",
         "type": "bar",
         "x": [
          1,
          1,
          1,
          1,
          1,
          1,
          1
         ],
         "y": [
          "Bluyl",
          "Bluyl",
          "Bluyl",
          "Bluyl",
          "Bluyl",
          "Bluyl",
          "Bluyl"
         ]
        },
        {
         "customdata": [
          0,
          1,
          2,
          3,
          4,
          5,
          6
         ],
         "hovertemplate": "%{y}[%{customdata}] = %{marker.color}<extra></extra>",
         "marker": {
          "color": [
           "rgb(36, 86, 104)",
           "rgb(15, 114, 121)",
           "rgb(13, 143, 129)",
           "rgb(57, 171, 126)",
           "rgb(110, 197, 116)",
           "rgb(169, 220, 103)",
           "rgb(237, 239, 93)"
          ]
         },
         "orientation": "h",
         "type": "bar",
         "x": [
          1,
          1,
          1,
          1,
          1,
          1,
          1
         ],
         "y": [
          "Aggrnyl",
          "Aggrnyl",
          "Aggrnyl",
          "Aggrnyl",
          "Aggrnyl",
          "Aggrnyl",
          "Aggrnyl"
         ]
        },
        {
         "customdata": [
          0,
          1,
          2,
          3,
          4,
          5,
          6
         ],
         "hovertemplate": "%{y}[%{customdata}] = %{marker.color}<extra></extra>",
         "marker": {
          "color": [
           "rgb(211, 242, 163)",
           "rgb(151, 225, 150)",
           "rgb(108, 192, 139)",
           "rgb(76, 155, 130)",
           "rgb(33, 122, 121)",
           "rgb(16, 89, 101)",
           "rgb(7, 64, 80)"
          ]
         },
         "orientation": "h",
         "type": "bar",
         "x": [
          1,
          1,
          1,
          1,
          1,
          1,
          1
         ],
         "y": [
          "Emrld",
          "Emrld",
          "Emrld",
          "Emrld",
          "Emrld",
          "Emrld",
          "Emrld"
         ]
        },
        {
         "customdata": [
          0,
          1,
          2,
          3,
          4,
          5,
          6
         ],
         "hovertemplate": "%{y}[%{customdata}] = %{marker.color}<extra></extra>",
         "marker": {
          "color": [
           "rgb(210, 251, 212)",
           "rgb(165, 219, 194)",
           "rgb(123, 188, 176)",
           "rgb(85, 156, 158)",
           "rgb(58, 124, 137)",
           "rgb(35, 93, 114)",
           "rgb(18, 63, 90)"
          ]
         },
         "orientation": "h",
         "type": "bar",
         "x": [
          1,
          1,
          1,
          1,
          1,
          1,
          1
         ],
         "y": [
          "Darkmint",
          "Darkmint",
          "Darkmint",
          "Darkmint",
          "Darkmint",
          "Darkmint",
          "Darkmint"
         ]
        },
        {
         "customdata": [
          0,
          1,
          2,
          3,
          4,
          5,
          6
         ],
         "hovertemplate": "%{y}[%{customdata}] = %{marker.color}<extra></extra>",
         "marker": {
          "color": [
           "rgb(196, 230, 195)",
           "rgb(150, 210, 164)",
           "rgb(109, 188, 144)",
           "rgb(77, 162, 132)",
           "rgb(54, 135, 122)",
           "rgb(38, 107, 110)",
           "rgb(29, 79, 96)"
          ]
         },
         "orientation": "h",
         "type": "bar",
         "x": [
          1,
          1,
          1,
          1,
          1,
          1,
          1
         ],
         "y": [
          "Blugrn",
          "Blugrn",
          "Blugrn",
          "Blugrn",
          "Blugrn",
          "Blugrn",
          "Blugrn"
         ]
        },
        {
         "customdata": [
          0,
          1,
          2,
          3,
          4,
          5,
          6
         ],
         "hovertemplate": "%{y}[%{customdata}] = %{marker.color}<extra></extra>",
         "marker": {
          "color": [
           "rgb(228, 241, 225)",
           "rgb(180, 217, 204)",
           "rgb(137, 192, 182)",
           "rgb(99, 166, 160)",
           "rgb(68, 140, 138)",
           "rgb(40, 114, 116)",
           "rgb(13, 88, 95)"
          ]
         },
         "orientation": "h",
         "type": "bar",
         "x": [
          1,
          1,
          1,
          1,
          1,
          1,
          1
         ],
         "y": [
          "Mint",
          "Mint",
          "Mint",
          "Mint",
          "Mint",
          "Mint",
          "Mint"
         ]
        },
        {
         "customdata": [
          0,
          1,
          2,
          3,
          4,
          5,
          6
         ],
         "hovertemplate": "%{y}[%{customdata}] = %{marker.color}<extra></extra>",
         "marker": {
          "color": [
           "rgb(254, 246, 181)",
           "rgb(255, 221, 154)",
           "rgb(255, 194, 133)",
           "rgb(255, 166, 121)",
           "rgb(250, 138, 118)",
           "rgb(241, 109, 122)",
           "rgb(225, 83, 131)"
          ]
         },
         "orientation": "h",
         "type": "bar",
         "x": [
          1,
          1,
          1,
          1,
          1,
          1,
          1
         ],
         "y": [
          "Pinkyl",
          "Pinkyl",
          "Pinkyl",
          "Pinkyl",
          "Pinkyl",
          "Pinkyl",
          "Pinkyl"
         ]
        },
        {
         "customdata": [
          0,
          1,
          2,
          3,
          4,
          5,
          6
         ],
         "hovertemplate": "%{y}[%{customdata}] = %{marker.color}<extra></extra>",
         "marker": {
          "color": [
           "rgb(253, 224, 197)",
           "rgb(250, 203, 166)",
           "rgb(248, 181, 139)",
           "rgb(245, 158, 114)",
           "rgb(242, 133, 93)",
           "rgb(239, 106, 76)",
           "rgb(235, 74, 64)"
          ]
         },
         "orientation": "h",
         "type": "bar",
         "x": [
          1,
          1,
          1,
          1,
          1,
          1,
          1
         ],
         "y": [
          "Peach",
          "Peach",
          "Peach",
          "Peach",
          "Peach",
          "Peach",
          "Peach"
         ]
        },
        {
         "customdata": [
          0,
          1,
          2,
          3,
          4,
          5,
          6
         ],
         "hovertemplate": "%{y}[%{customdata}] = %{marker.color}<extra></extra>",
         "marker": {
          "color": [
           "rgb(236, 218, 154)",
           "rgb(239, 196, 126)",
           "rgb(243, 173, 106)",
           "rgb(247, 148, 93)",
           "rgb(249, 123, 87)",
           "rgb(246, 99, 86)",
           "rgb(238, 77, 90)"
          ]
         },
         "orientation": "h",
         "type": "bar",
         "x": [
          1,
          1,
          1,
          1,
          1,
          1,
          1
         ],
         "y": [
          "Oryel",
          "Oryel",
          "Oryel",
          "Oryel",
          "Oryel",
          "Oryel",
          "Oryel"
         ]
        },
        {
         "customdata": [
          0,
          1,
          2,
          3,
          4,
          5,
          6
         ],
         "hovertemplate": "%{y}[%{customdata}] = %{marker.color}<extra></extra>",
         "marker": {
          "color": [
           "rgb(246, 210, 169)",
           "rgb(245, 183, 142)",
           "rgb(241, 156, 124)",
           "rgb(234, 129, 113)",
           "rgb(221, 104, 108)",
           "rgb(202, 82, 104)",
           "rgb(177, 63, 100)"
          ]
         },
         "orientation": "h",
         "type": "bar",
         "x": [
          1,
          1,
          1,
          1,
          1,
          1,
          1
         ],
         "y": [
          "Redor",
          "Redor",
          "Redor",
          "Redor",
          "Redor",
          "Redor",
          "Redor"
         ]
        },
        {
         "customdata": [
          0,
          1,
          2,
          3,
          4,
          5,
          6
         ],
         "hovertemplate": "%{y}[%{customdata}] = %{marker.color}<extra></extra>",
         "marker": {
          "color": [
           "rgb(251, 230, 197)",
           "rgb(245, 186, 152)",
           "rgb(238, 138, 130)",
           "rgb(220, 113, 118)",
           "rgb(200, 88, 108)",
           "rgb(156, 63, 93)",
           "rgb(112, 40, 74)"
          ]
         },
         "orientation": "h",
         "type": "bar",
         "x": [
          1,
          1,
          1,
          1,
          1,
          1,
          1
         ],
         "y": [
          "Burgyl",
          "Burgyl",
          "Burgyl",
          "Burgyl",
          "Burgyl",
          "Burgyl",
          "Burgyl"
         ]
        },
        {
         "customdata": [
          0,
          1,
          2,
          3,
          4,
          5,
          6
         ],
         "hovertemplate": "%{y}[%{customdata}] = %{marker.color}<extra></extra>",
         "marker": {
          "color": [
           "rgb(255, 198, 196)",
           "rgb(244, 163, 168)",
           "rgb(227, 129, 145)",
           "rgb(204, 96, 125)",
           "rgb(173, 70, 108)",
           "rgb(139, 48, 88)",
           "rgb(103, 32, 68)"
          ]
         },
         "orientation": "h",
         "type": "bar",
         "x": [
          1,
          1,
          1,
          1,
          1,
          1,
          1
         ],
         "y": [
          "Burg",
          "Burg",
          "Burg",
          "Burg",
          "Burg",
          "Burg",
          "Burg"
         ]
        },
        {
         "customdata": [
          0,
          1,
          2,
          3,
          4,
          5,
          6,
          7,
          8,
          9,
          10,
          11
         ],
         "hovertemplate": "%{y}[%{customdata}] = %{marker.color}<extra></extra>",
         "marker": {
          "color": [
           "rgb(254, 245, 244)",
           "rgb(222, 224, 210)",
           "rgb(189, 206, 181)",
           "rgb(153, 189, 156)",
           "rgb(110, 173, 138)",
           "rgb(65, 157, 129)",
           "rgb(25, 137, 125)",
           "rgb(18, 116, 117)",
           "rgb(25, 94, 106)",
           "rgb(28, 72, 93)",
           "rgb(25, 51, 80)",
           "rgb(20, 29, 67)"
          ]
         },
         "orientation": "h",
         "type": "bar",
         "x": [
          1,
          1,
          1,
          1,
          1,
          1,
          1,
          1,
          1,
          1,
          1,
          1
         ],
         "y": [
          "tempo",
          "tempo",
          "tempo",
          "tempo",
          "tempo",
          "tempo",
          "tempo",
          "tempo",
          "tempo",
          "tempo",
          "tempo",
          "tempo"
         ]
        },
        {
         "customdata": [
          0,
          1,
          2,
          3,
          4,
          5,
          6,
          7,
          8,
          9,
          10,
          11
         ],
         "hovertemplate": "%{y}[%{customdata}] = %{marker.color}<extra></extra>",
         "marker": {
          "color": [
           "rgb(241, 236, 236)",
           "rgb(230, 209, 203)",
           "rgb(221, 182, 170)",
           "rgb(213, 156, 137)",
           "rgb(205, 129, 103)",
           "rgb(196, 102, 73)",
           "rgb(186, 74, 47)",
           "rgb(172, 44, 36)",
           "rgb(149, 19, 39)",
           "rgb(120, 14, 40)",
           "rgb(89, 13, 31)",
           "rgb(60, 9, 17)"
          ]
         },
         "orientation": "h",
         "type": "bar",
         "x": [
          1,
          1,
          1,
          1,
          1,
          1,
          1,
          1,
          1,
          1,
          1,
          1
         ],
         "y": [
          "amp",
          "amp",
          "amp",
          "amp",
          "amp",
          "amp",
          "amp",
          "amp",
          "amp",
          "amp",
          "amp",
          "amp"
         ]
        },
        {
         "customdata": [
          0,
          1,
          2,
          3,
          4,
          5,
          6,
          7,
          8,
          9,
          10,
          11
         ],
         "hovertemplate": "%{y}[%{customdata}] = %{marker.color}<extra></extra>",
         "marker": {
          "color": [
           "rgb(254, 252, 205)",
           "rgb(239, 225, 156)",
           "rgb(221, 201, 106)",
           "rgb(194, 182, 59)",
           "rgb(157, 167, 21)",
           "rgb(116, 153, 5)",
           "rgb(75, 138, 20)",
           "rgb(35, 121, 36)",
           "rgb(11, 100, 44)",
           "rgb(18, 78, 43)",
           "rgb(25, 56, 34)",
           "rgb(23, 35, 18)"
          ]
         },
         "orientation": "h",
         "type": "bar",
         "x": [
          1,
          1,
          1,
          1,
          1,
          1,
          1,
          1,
          1,
          1,
          1,
          1
         ],
         "y": [
          "speed",
          "speed",
          "speed",
          "speed",
          "speed",
          "speed",
          "speed",
          "speed",
          "speed",
          "speed",
          "speed",
          "speed"
         ]
        },
        {
         "customdata": [
          0,
          1,
          2,
          3,
          4,
          5,
          6,
          7,
          8,
          9,
          10,
          11
         ],
         "hovertemplate": "%{y}[%{customdata}] = %{marker.color}<extra></extra>",
         "marker": {
          "color": [
           "rgb(253, 237, 176)",
           "rgb(250, 205, 145)",
           "rgb(246, 173, 119)",
           "rgb(240, 142, 98)",
           "rgb(231, 109, 84)",
           "rgb(216, 80, 83)",
           "rgb(195, 56, 90)",
           "rgb(168, 40, 96)",
           "rgb(138, 29, 99)",
           "rgb(107, 24, 93)",
           "rgb(76, 21, 80)",
           "rgb(47, 15, 61)"
          ]
         },
         "orientation": "h",
         "type": "bar",
         "x": [
          1,
          1,
          1,
          1,
          1,
          1,
          1,
          1,
          1,
          1,
          1,
          1
         ],
         "y": [
          "matter",
          "matter",
          "matter",
          "matter",
          "matter",
          "matter",
          "matter",
          "matter",
          "matter",
          "matter",
          "matter",
          "matter"
         ]
        },
        {
         "customdata": [
          0,
          1,
          2,
          3,
          4,
          5,
          6,
          7,
          8,
          9,
          10,
          11
         ],
         "hovertemplate": "%{y}[%{customdata}] = %{marker.color}<extra></extra>",
         "marker": {
          "color": [
           "rgb(214, 249, 207)",
           "rgb(186, 228, 174)",
           "rgb(156, 209, 143)",
           "rgb(124, 191, 115)",
           "rgb(85, 174, 91)",
           "rgb(37, 157, 81)",
           "rgb(7, 138, 78)",
           "rgb(13, 117, 71)",
           "rgb(23, 95, 61)",
           "rgb(25, 75, 49)",
           "rgb(23, 55, 35)",
           "rgb(17, 36, 20)"
          ]
         },
         "orientation": "h",
         "type": "bar",
         "x": [
          1,
          1,
          1,
          1,
          1,
          1,
          1,
          1,
          1,
          1,
          1,
          1
         ],
         "y": [
          "algae",
          "algae",
          "algae",
          "algae",
          "algae",
          "algae",
          "algae",
          "algae",
          "algae",
          "algae",
          "algae",
          "algae"
         ]
        },
        {
         "customdata": [
          0,
          1,
          2,
          3,
          4,
          5,
          6,
          7,
          8,
          9,
          10,
          11
         ],
         "hovertemplate": "%{y}[%{customdata}] = %{marker.color}<extra></extra>",
         "marker": {
          "color": [
           "rgb(230, 240, 240)",
           "rgb(191, 221, 229)",
           "rgb(156, 201, 226)",
           "rgb(129, 180, 227)",
           "rgb(115, 154, 228)",
           "rgb(117, 127, 221)",
           "rgb(120, 100, 202)",
           "rgb(119, 74, 175)",
           "rgb(113, 50, 141)",
           "rgb(100, 31, 104)",
           "rgb(80, 20, 66)",
           "rgb(54, 14, 36)"
          ]
         },
         "orientation": "h",
         "type": "bar",
         "x": [
          1,
          1,
          1,
          1,
          1,
          1,
          1,
          1,
          1,
          1,
          1,
          1
         ],
         "y": [
          "dense",
          "dense",
          "dense",
          "dense",
          "dense",
          "dense",
          "dense",
          "dense",
          "dense",
          "dense",
          "dense",
          "dense"
         ]
        },
        {
         "customdata": [
          0,
          1,
          2,
          3,
          4,
          5,
          6,
          7,
          8,
          9,
          10,
          11
         ],
         "hovertemplate": "%{y}[%{customdata}] = %{marker.color}<extra></extra>",
         "marker": {
          "color": [
           "rgb(253, 253, 204)",
           "rgb(206, 236, 179)",
           "rgb(156, 219, 165)",
           "rgb(111, 201, 163)",
           "rgb(86, 177, 163)",
           "rgb(76, 153, 160)",
           "rgb(68, 130, 155)",
           "rgb(62, 108, 150)",
           "rgb(62, 82, 143)",
           "rgb(64, 60, 115)",
           "rgb(54, 43, 77)",
           "rgb(39, 26, 44)"
          ]
         },
         "orientation": "h",
         "type": "bar",
         "x": [
          1,
          1,
          1,
          1,
          1,
          1,
          1,
          1,
          1,
          1,
          1,
          1
         ],
         "y": [
          "deep",
          "deep",
          "deep",
          "deep",
          "deep",
          "deep",
          "deep",
          "deep",
          "deep",
          "deep",
          "deep",
          "deep"
         ]
        },
        {
         "customdata": [
          0,
          1,
          2,
          3,
          4,
          5,
          6,
          7,
          8,
          9,
          10,
          11
         ],
         "hovertemplate": "%{y}[%{customdata}] = %{marker.color}<extra></extra>",
         "marker": {
          "color": [
           "rgb(0, 0, 0)",
           "rgb(16, 16, 16)",
           "rgb(38, 38, 38)",
           "rgb(59, 59, 59)",
           "rgb(81, 80, 80)",
           "rgb(102, 101, 101)",
           "rgb(124, 123, 122)",
           "rgb(146, 146, 145)",
           "rgb(171, 171, 170)",
           "rgb(197, 197, 195)",
           "rgb(224, 224, 223)",
           "rgb(254, 254, 253)"
          ]
         },
         "orientation": "h",
         "type": "bar",
         "x": [
          1,
          1,
          1,
          1,
          1,
          1,
          1,
          1,
          1,
          1,
          1,
          1
         ],
         "y": [
          "gray",
          "gray",
          "gray",
          "gray",
          "gray",
          "gray",
          "gray",
          "gray",
          "gray",
          "gray",
          "gray",
          "gray"
         ]
        },
        {
         "customdata": [
          0,
          1,
          2,
          3,
          4,
          5,
          6,
          7,
          8,
          9,
          10,
          11
         ],
         "hovertemplate": "%{y}[%{customdata}] = %{marker.color}<extra></extra>",
         "marker": {
          "color": [
           "rgb(3, 5, 18)",
           "rgb(25, 25, 51)",
           "rgb(44, 42, 87)",
           "rgb(58, 60, 125)",
           "rgb(62, 83, 160)",
           "rgb(62, 109, 178)",
           "rgb(72, 134, 187)",
           "rgb(89, 159, 196)",
           "rgb(114, 184, 205)",
           "rgb(149, 207, 216)",
           "rgb(192, 229, 232)",
           "rgb(234, 252, 253)"
          ]
         },
         "orientation": "h",
         "type": "bar",
         "x": [
          1,
          1,
          1,
          1,
          1,
          1,
          1,
          1,
          1,
          1,
          1,
          1
         ],
         "y": [
          "ice",
          "ice",
          "ice",
          "ice",
          "ice",
          "ice",
          "ice",
          "ice",
          "ice",
          "ice",
          "ice",
          "ice"
         ]
        },
        {
         "customdata": [
          0,
          1,
          2,
          3,
          4,
          5,
          6,
          7,
          8,
          9,
          10,
          11
         ],
         "hovertemplate": "%{y}[%{customdata}] = %{marker.color}<extra></extra>",
         "marker": {
          "color": [
           "rgb(51, 19, 23)",
           "rgb(79, 28, 33)",
           "rgb(108, 36, 36)",
           "rgb(135, 47, 32)",
           "rgb(157, 66, 25)",
           "rgb(174, 88, 20)",
           "rgb(188, 111, 19)",
           "rgb(199, 137, 22)",
           "rgb(209, 164, 32)",
           "rgb(217, 192, 44)",
           "rgb(222, 222, 59)",
           "rgb(224, 253, 74)"
          ]
         },
         "orientation": "h",
         "type": "bar",
         "x": [
          1,
          1,
          1,
          1,
          1,
          1,
          1,
          1,
          1,
          1,
          1,
          1
         ],
         "y": [
          "solar",
          "solar",
          "solar",
          "solar",
          "solar",
          "solar",
          "solar",
          "solar",
          "solar",
          "solar",
          "solar",
          "solar"
         ]
        },
        {
         "customdata": [
          0,
          1,
          2,
          3,
          4,
          5,
          6,
          7,
          8,
          9,
          10,
          11
         ],
         "hovertemplate": "%{y}[%{customdata}] = %{marker.color}<extra></extra>",
         "marker": {
          "color": [
           "rgb(41, 24, 107)",
           "rgb(42, 35, 160)",
           "rgb(15, 71, 153)",
           "rgb(18, 95, 142)",
           "rgb(38, 116, 137)",
           "rgb(53, 136, 136)",
           "rgb(65, 157, 133)",
           "rgb(81, 178, 124)",
           "rgb(111, 198, 107)",
           "rgb(160, 214, 91)",
           "rgb(212, 225, 112)",
           "rgb(253, 238, 153)"
          ]
         },
         "orientation": "h",
         "type": "bar",
         "x": [
          1,
          1,
          1,
          1,
          1,
          1,
          1,
          1,
          1,
          1,
          1,
          1
         ],
         "y": [
          "haline",
          "haline",
          "haline",
          "haline",
          "haline",
          "haline",
          "haline",
          "haline",
          "haline",
          "haline",
          "haline",
          "haline"
         ]
        },
        {
         "customdata": [
          0,
          1,
          2,
          3,
          4,
          5,
          6,
          7,
          8,
          9,
          10,
          11
         ],
         "hovertemplate": "%{y}[%{customdata}] = %{marker.color}<extra></extra>",
         "marker": {
          "color": [
           "rgb(3, 35, 51)",
           "rgb(13, 48, 100)",
           "rgb(53, 50, 155)",
           "rgb(93, 62, 153)",
           "rgb(126, 77, 143)",
           "rgb(158, 89, 135)",
           "rgb(193, 100, 121)",
           "rgb(225, 113, 97)",
           "rgb(246, 139, 69)",
           "rgb(251, 173, 60)",
           "rgb(246, 211, 70)",
           "rgb(231, 250, 90)"
          ]
         },
         "orientation": "h",
         "type": "bar",
         "x": [
          1,
          1,
          1,
          1,
          1,
          1,
          1,
          1,
          1,
          1,
          1,
          1
         ],
         "y": [
          "thermal",
          "thermal",
          "thermal",
          "thermal",
          "thermal",
          "thermal",
          "thermal",
          "thermal",
          "thermal",
          "thermal",
          "thermal",
          "thermal"
         ]
        },
        {
         "customdata": [
          0,
          1,
          2,
          3,
          4,
          5,
          6,
          7,
          8,
          9,
          10,
          11
         ],
         "hovertemplate": "%{y}[%{customdata}] = %{marker.color}<extra></extra>",
         "marker": {
          "color": [
           "rgb(232, 245, 171)",
           "rgb(220, 219, 137)",
           "rgb(209, 193, 107)",
           "rgb(199, 168, 83)",
           "rgb(186, 143, 66)",
           "rgb(170, 121, 60)",
           "rgb(151, 103, 58)",
           "rgb(129, 87, 56)",
           "rgb(104, 72, 53)",
           "rgb(80, 59, 46)",
           "rgb(57, 45, 37)",
           "rgb(34, 30, 27)"
          ]
         },
         "orientation": "h",
         "type": "bar",
         "x": [
          1,
          1,
          1,
          1,
          1,
          1,
          1,
          1,
          1,
          1,
          1,
          1
         ],
         "y": [
          "turbid",
          "turbid",
          "turbid",
          "turbid",
          "turbid",
          "turbid",
          "turbid",
          "turbid",
          "turbid",
          "turbid",
          "turbid",
          "turbid"
         ]
        },
        {
         "customdata": [
          0,
          1,
          2,
          3,
          4,
          5,
          6,
          7,
          8
         ],
         "hovertemplate": "%{y}[%{customdata}] = %{marker.color}<extra></extra>",
         "marker": {
          "color": [
           "rgb(255,255,204)",
           "rgb(255,237,160)",
           "rgb(254,217,118)",
           "rgb(254,178,76)",
           "rgb(253,141,60)",
           "rgb(252,78,42)",
           "rgb(227,26,28)",
           "rgb(189,0,38)",
           "rgb(128,0,38)"
          ]
         },
         "orientation": "h",
         "type": "bar",
         "x": [
          1,
          1,
          1,
          1,
          1,
          1,
          1,
          1,
          1
         ],
         "y": [
          "YlOrRd",
          "YlOrRd",
          "YlOrRd",
          "YlOrRd",
          "YlOrRd",
          "YlOrRd",
          "YlOrRd",
          "YlOrRd",
          "YlOrRd"
         ]
        },
        {
         "customdata": [
          0,
          1,
          2,
          3,
          4,
          5,
          6,
          7,
          8
         ],
         "hovertemplate": "%{y}[%{customdata}] = %{marker.color}<extra></extra>",
         "marker": {
          "color": [
           "rgb(255,255,229)",
           "rgb(255,247,188)",
           "rgb(254,227,145)",
           "rgb(254,196,79)",
           "rgb(254,153,41)",
           "rgb(236,112,20)",
           "rgb(204,76,2)",
           "rgb(153,52,4)",
           "rgb(102,37,6)"
          ]
         },
         "orientation": "h",
         "type": "bar",
         "x": [
          1,
          1,
          1,
          1,
          1,
          1,
          1,
          1,
          1
         ],
         "y": [
          "YlOrBr",
          "YlOrBr",
          "YlOrBr",
          "YlOrBr",
          "YlOrBr",
          "YlOrBr",
          "YlOrBr",
          "YlOrBr",
          "YlOrBr"
         ]
        },
        {
         "customdata": [
          0,
          1,
          2,
          3,
          4,
          5,
          6,
          7,
          8
         ],
         "hovertemplate": "%{y}[%{customdata}] = %{marker.color}<extra></extra>",
         "marker": {
          "color": [
           "rgb(255,255,217)",
           "rgb(237,248,177)",
           "rgb(199,233,180)",
           "rgb(127,205,187)",
           "rgb(65,182,196)",
           "rgb(29,145,192)",
           "rgb(34,94,168)",
           "rgb(37,52,148)",
           "rgb(8,29,88)"
          ]
         },
         "orientation": "h",
         "type": "bar",
         "x": [
          1,
          1,
          1,
          1,
          1,
          1,
          1,
          1,
          1
         ],
         "y": [
          "YlGnBu",
          "YlGnBu",
          "YlGnBu",
          "YlGnBu",
          "YlGnBu",
          "YlGnBu",
          "YlGnBu",
          "YlGnBu",
          "YlGnBu"
         ]
        },
        {
         "customdata": [
          0,
          1,
          2,
          3,
          4,
          5,
          6,
          7,
          8
         ],
         "hovertemplate": "%{y}[%{customdata}] = %{marker.color}<extra></extra>",
         "marker": {
          "color": [
           "rgb(255,255,229)",
           "rgb(247,252,185)",
           "rgb(217,240,163)",
           "rgb(173,221,142)",
           "rgb(120,198,121)",
           "rgb(65,171,93)",
           "rgb(35,132,67)",
           "rgb(0,104,55)",
           "rgb(0,69,41)"
          ]
         },
         "orientation": "h",
         "type": "bar",
         "x": [
          1,
          1,
          1,
          1,
          1,
          1,
          1,
          1,
          1
         ],
         "y": [
          "YlGn",
          "YlGn",
          "YlGn",
          "YlGn",
          "YlGn",
          "YlGn",
          "YlGn",
          "YlGn",
          "YlGn"
         ]
        },
        {
         "customdata": [
          0,
          1,
          2,
          3,
          4,
          5,
          6,
          7,
          8
         ],
         "hovertemplate": "%{y}[%{customdata}] = %{marker.color}<extra></extra>",
         "marker": {
          "color": [
           "rgb(255,245,240)",
           "rgb(254,224,210)",
           "rgb(252,187,161)",
           "rgb(252,146,114)",
           "rgb(251,106,74)",
           "rgb(239,59,44)",
           "rgb(203,24,29)",
           "rgb(165,15,21)",
           "rgb(103,0,13)"
          ]
         },
         "orientation": "h",
         "type": "bar",
         "x": [
          1,
          1,
          1,
          1,
          1,
          1,
          1,
          1,
          1
         ],
         "y": [
          "Reds",
          "Reds",
          "Reds",
          "Reds",
          "Reds",
          "Reds",
          "Reds",
          "Reds",
          "Reds"
         ]
        },
        {
         "customdata": [
          0,
          1,
          2,
          3,
          4,
          5,
          6,
          7,
          8
         ],
         "hovertemplate": "%{y}[%{customdata}] = %{marker.color}<extra></extra>",
         "marker": {
          "color": [
           "rgb(255,247,243)",
           "rgb(253,224,221)",
           "rgb(252,197,192)",
           "rgb(250,159,181)",
           "rgb(247,104,161)",
           "rgb(221,52,151)",
           "rgb(174,1,126)",
           "rgb(122,1,119)",
           "rgb(73,0,106)"
          ]
         },
         "orientation": "h",
         "type": "bar",
         "x": [
          1,
          1,
          1,
          1,
          1,
          1,
          1,
          1,
          1
         ],
         "y": [
          "RdPu",
          "RdPu",
          "RdPu",
          "RdPu",
          "RdPu",
          "RdPu",
          "RdPu",
          "RdPu",
          "RdPu"
         ]
        },
        {
         "customdata": [
          0,
          1,
          2,
          3,
          4,
          5,
          6,
          7,
          8,
          9,
          10
         ],
         "hovertemplate": "%{y}[%{customdata}] = %{marker.color}<extra></extra>",
         "marker": {
          "color": [
           "rgb(103,0,31)",
           "rgb(178,24,43)",
           "rgb(214,96,77)",
           "rgb(244,165,130)",
           "rgb(253,219,199)",
           "rgb(247,247,247)",
           "rgb(209,229,240)",
           "rgb(146,197,222)",
           "rgb(67,147,195)",
           "rgb(33,102,172)",
           "rgb(5,48,97)"
          ]
         },
         "orientation": "h",
         "type": "bar",
         "x": [
          1,
          1,
          1,
          1,
          1,
          1,
          1,
          1,
          1,
          1,
          1
         ],
         "y": [
          "RdBu",
          "RdBu",
          "RdBu",
          "RdBu",
          "RdBu",
          "RdBu",
          "RdBu",
          "RdBu",
          "RdBu",
          "RdBu",
          "RdBu"
         ]
        },
        {
         "customdata": [
          0,
          1,
          2,
          3,
          4,
          5,
          6,
          7,
          8
         ],
         "hovertemplate": "%{y}[%{customdata}] = %{marker.color}<extra></extra>",
         "marker": {
          "color": [
           "rgb(252,251,253)",
           "rgb(239,237,245)",
           "rgb(218,218,235)",
           "rgb(188,189,220)",
           "rgb(158,154,200)",
           "rgb(128,125,186)",
           "rgb(106,81,163)",
           "rgb(84,39,143)",
           "rgb(63,0,125)"
          ]
         },
         "orientation": "h",
         "type": "bar",
         "x": [
          1,
          1,
          1,
          1,
          1,
          1,
          1,
          1,
          1
         ],
         "y": [
          "Purples",
          "Purples",
          "Purples",
          "Purples",
          "Purples",
          "Purples",
          "Purples",
          "Purples",
          "Purples"
         ]
        },
        {
         "customdata": [
          0,
          1,
          2,
          3,
          4,
          5,
          6,
          7,
          8
         ],
         "hovertemplate": "%{y}[%{customdata}] = %{marker.color}<extra></extra>",
         "marker": {
          "color": [
           "rgb(247,244,249)",
           "rgb(231,225,239)",
           "rgb(212,185,218)",
           "rgb(201,148,199)",
           "rgb(223,101,176)",
           "rgb(231,41,138)",
           "rgb(206,18,86)",
           "rgb(152,0,67)",
           "rgb(103,0,31)"
          ]
         },
         "orientation": "h",
         "type": "bar",
         "x": [
          1,
          1,
          1,
          1,
          1,
          1,
          1,
          1,
          1
         ],
         "y": [
          "PuRd",
          "PuRd",
          "PuRd",
          "PuRd",
          "PuRd",
          "PuRd",
          "PuRd",
          "PuRd",
          "PuRd"
         ]
        },
        {
         "customdata": [
          0,
          1,
          2,
          3,
          4,
          5,
          6,
          7,
          8
         ],
         "hovertemplate": "%{y}[%{customdata}] = %{marker.color}<extra></extra>",
         "marker": {
          "color": [
           "rgb(255,247,251)",
           "rgb(236,226,240)",
           "rgb(208,209,230)",
           "rgb(166,189,219)",
           "rgb(103,169,207)",
           "rgb(54,144,192)",
           "rgb(2,129,138)",
           "rgb(1,108,89)",
           "rgb(1,70,54)"
          ]
         },
         "orientation": "h",
         "type": "bar",
         "x": [
          1,
          1,
          1,
          1,
          1,
          1,
          1,
          1,
          1
         ],
         "y": [
          "PuBuGn",
          "PuBuGn",
          "PuBuGn",
          "PuBuGn",
          "PuBuGn",
          "PuBuGn",
          "PuBuGn",
          "PuBuGn",
          "PuBuGn"
         ]
        },
        {
         "customdata": [
          0,
          1,
          2,
          3,
          4,
          5,
          6,
          7,
          8
         ],
         "hovertemplate": "%{y}[%{customdata}] = %{marker.color}<extra></extra>",
         "marker": {
          "color": [
           "rgb(255,247,251)",
           "rgb(236,231,242)",
           "rgb(208,209,230)",
           "rgb(166,189,219)",
           "rgb(116,169,207)",
           "rgb(54,144,192)",
           "rgb(5,112,176)",
           "rgb(4,90,141)",
           "rgb(2,56,88)"
          ]
         },
         "orientation": "h",
         "type": "bar",
         "x": [
          1,
          1,
          1,
          1,
          1,
          1,
          1,
          1,
          1
         ],
         "y": [
          "PuBu",
          "PuBu",
          "PuBu",
          "PuBu",
          "PuBu",
          "PuBu",
          "PuBu",
          "PuBu",
          "PuBu"
         ]
        },
        {
         "customdata": [
          0,
          1,
          2,
          3,
          4,
          5,
          6,
          7,
          8
         ],
         "hovertemplate": "%{y}[%{customdata}] = %{marker.color}<extra></extra>",
         "marker": {
          "color": [
           "rgb(255,245,235)",
           "rgb(254,230,206)",
           "rgb(253,208,162)",
           "rgb(253,174,107)",
           "rgb(253,141,60)",
           "rgb(241,105,19)",
           "rgb(217,72,1)",
           "rgb(166,54,3)",
           "rgb(127,39,4)"
          ]
         },
         "orientation": "h",
         "type": "bar",
         "x": [
          1,
          1,
          1,
          1,
          1,
          1,
          1,
          1,
          1
         ],
         "y": [
          "Oranges",
          "Oranges",
          "Oranges",
          "Oranges",
          "Oranges",
          "Oranges",
          "Oranges",
          "Oranges",
          "Oranges"
         ]
        },
        {
         "customdata": [
          0,
          1,
          2,
          3,
          4,
          5,
          6,
          7,
          8
         ],
         "hovertemplate": "%{y}[%{customdata}] = %{marker.color}<extra></extra>",
         "marker": {
          "color": [
           "rgb(255,247,236)",
           "rgb(254,232,200)",
           "rgb(253,212,158)",
           "rgb(253,187,132)",
           "rgb(252,141,89)",
           "rgb(239,101,72)",
           "rgb(215,48,31)",
           "rgb(179,0,0)",
           "rgb(127,0,0)"
          ]
         },
         "orientation": "h",
         "type": "bar",
         "x": [
          1,
          1,
          1,
          1,
          1,
          1,
          1,
          1,
          1
         ],
         "y": [
          "OrRd",
          "OrRd",
          "OrRd",
          "OrRd",
          "OrRd",
          "OrRd",
          "OrRd",
          "OrRd",
          "OrRd"
         ]
        },
        {
         "customdata": [
          0,
          1,
          2,
          3,
          4,
          5,
          6,
          7,
          8
         ],
         "hovertemplate": "%{y}[%{customdata}] = %{marker.color}<extra></extra>",
         "marker": {
          "color": [
           "rgb(255,255,255)",
           "rgb(240,240,240)",
           "rgb(217,217,217)",
           "rgb(189,189,189)",
           "rgb(150,150,150)",
           "rgb(115,115,115)",
           "rgb(82,82,82)",
           "rgb(37,37,37)",
           "rgb(0,0,0)"
          ]
         },
         "orientation": "h",
         "type": "bar",
         "x": [
          1,
          1,
          1,
          1,
          1,
          1,
          1,
          1,
          1
         ],
         "y": [
          "Greys",
          "Greys",
          "Greys",
          "Greys",
          "Greys",
          "Greys",
          "Greys",
          "Greys",
          "Greys"
         ]
        },
        {
         "customdata": [
          0,
          1,
          2,
          3,
          4,
          5,
          6,
          7,
          8
         ],
         "hovertemplate": "%{y}[%{customdata}] = %{marker.color}<extra></extra>",
         "marker": {
          "color": [
           "rgb(247,252,245)",
           "rgb(229,245,224)",
           "rgb(199,233,192)",
           "rgb(161,217,155)",
           "rgb(116,196,118)",
           "rgb(65,171,93)",
           "rgb(35,139,69)",
           "rgb(0,109,44)",
           "rgb(0,68,27)"
          ]
         },
         "orientation": "h",
         "type": "bar",
         "x": [
          1,
          1,
          1,
          1,
          1,
          1,
          1,
          1,
          1
         ],
         "y": [
          "Greens",
          "Greens",
          "Greens",
          "Greens",
          "Greens",
          "Greens",
          "Greens",
          "Greens",
          "Greens"
         ]
        },
        {
         "customdata": [
          0,
          1,
          2,
          3,
          4,
          5,
          6,
          7,
          8
         ],
         "hovertemplate": "%{y}[%{customdata}] = %{marker.color}<extra></extra>",
         "marker": {
          "color": [
           "rgb(247,252,240)",
           "rgb(224,243,219)",
           "rgb(204,235,197)",
           "rgb(168,221,181)",
           "rgb(123,204,196)",
           "rgb(78,179,211)",
           "rgb(43,140,190)",
           "rgb(8,104,172)",
           "rgb(8,64,129)"
          ]
         },
         "orientation": "h",
         "type": "bar",
         "x": [
          1,
          1,
          1,
          1,
          1,
          1,
          1,
          1,
          1
         ],
         "y": [
          "GnBu",
          "GnBu",
          "GnBu",
          "GnBu",
          "GnBu",
          "GnBu",
          "GnBu",
          "GnBu",
          "GnBu"
         ]
        },
        {
         "customdata": [
          0,
          1,
          2,
          3,
          4,
          5,
          6,
          7,
          8
         ],
         "hovertemplate": "%{y}[%{customdata}] = %{marker.color}<extra></extra>",
         "marker": {
          "color": [
           "rgb(247,252,253)",
           "rgb(224,236,244)",
           "rgb(191,211,230)",
           "rgb(158,188,218)",
           "rgb(140,150,198)",
           "rgb(140,107,177)",
           "rgb(136,65,157)",
           "rgb(129,15,124)",
           "rgb(77,0,75)"
          ]
         },
         "orientation": "h",
         "type": "bar",
         "x": [
          1,
          1,
          1,
          1,
          1,
          1,
          1,
          1,
          1
         ],
         "y": [
          "BuPu",
          "BuPu",
          "BuPu",
          "BuPu",
          "BuPu",
          "BuPu",
          "BuPu",
          "BuPu",
          "BuPu"
         ]
        },
        {
         "customdata": [
          0,
          1,
          2,
          3,
          4,
          5,
          6,
          7,
          8
         ],
         "hovertemplate": "%{y}[%{customdata}] = %{marker.color}<extra></extra>",
         "marker": {
          "color": [
           "rgb(247,252,253)",
           "rgb(229,245,249)",
           "rgb(204,236,230)",
           "rgb(153,216,201)",
           "rgb(102,194,164)",
           "rgb(65,174,118)",
           "rgb(35,139,69)",
           "rgb(0,109,44)",
           "rgb(0,68,27)"
          ]
         },
         "orientation": "h",
         "type": "bar",
         "x": [
          1,
          1,
          1,
          1,
          1,
          1,
          1,
          1,
          1
         ],
         "y": [
          "BuGn",
          "BuGn",
          "BuGn",
          "BuGn",
          "BuGn",
          "BuGn",
          "BuGn",
          "BuGn",
          "BuGn"
         ]
        },
        {
         "customdata": [
          0,
          1,
          2,
          3,
          4,
          5,
          6,
          7,
          8
         ],
         "hovertemplate": "%{y}[%{customdata}] = %{marker.color}<extra></extra>",
         "marker": {
          "color": [
           "rgb(247,251,255)",
           "rgb(222,235,247)",
           "rgb(198,219,239)",
           "rgb(158,202,225)",
           "rgb(107,174,214)",
           "rgb(66,146,198)",
           "rgb(33,113,181)",
           "rgb(8,81,156)",
           "rgb(8,48,107)"
          ]
         },
         "orientation": "h",
         "type": "bar",
         "x": [
          1,
          1,
          1,
          1,
          1,
          1,
          1,
          1,
          1
         ],
         "y": [
          "Blues",
          "Blues",
          "Blues",
          "Blues",
          "Blues",
          "Blues",
          "Blues",
          "Blues",
          "Blues"
         ]
        },
        {
         "customdata": [
          0,
          1,
          2,
          3,
          4,
          5,
          6,
          7,
          8
         ],
         "hovertemplate": "%{y}[%{customdata}] = %{marker.color}<extra></extra>",
         "marker": {
          "color": [
           "rgb(150,0,90)",
           "rgb(0,0,200)",
           "rgb(0,25,255)",
           "rgb(0,152,255)",
           "rgb(44,255,150)",
           "rgb(151,255,0)",
           "rgb(255,234,0)",
           "rgb(255,111,0)",
           "rgb(255,0,0)"
          ]
         },
         "orientation": "h",
         "type": "bar",
         "x": [
          1,
          1,
          1,
          1,
          1,
          1,
          1,
          1,
          1
         ],
         "y": [
          "Rainbow",
          "Rainbow",
          "Rainbow",
          "Rainbow",
          "Rainbow",
          "Rainbow",
          "Rainbow",
          "Rainbow",
          "Rainbow"
         ]
        },
        {
         "customdata": [
          0,
          1,
          2,
          3,
          4,
          5
         ],
         "hovertemplate": "%{y}[%{customdata}] = %{marker.color}<extra></extra>",
         "marker": {
          "color": [
           "rgb(0,0,131)",
           "rgb(0,60,170)",
           "rgb(5,255,255)",
           "rgb(255,255,0)",
           "rgb(250,0,0)",
           "rgb(128,0,0)"
          ]
         },
         "orientation": "h",
         "type": "bar",
         "x": [
          1,
          1,
          1,
          1,
          1,
          1
         ],
         "y": [
          "Jet",
          "Jet",
          "Jet",
          "Jet",
          "Jet",
          "Jet"
         ]
        },
        {
         "customdata": [
          0,
          1,
          2,
          3
         ],
         "hovertemplate": "%{y}[%{customdata}] = %{marker.color}<extra></extra>",
         "marker": {
          "color": [
           "rgb(0,0,0)",
           "rgb(230,0,0)",
           "rgb(255,210,0)",
           "rgb(255,255,255)"
          ]
         },
         "orientation": "h",
         "type": "bar",
         "x": [
          1,
          1,
          1,
          1
         ],
         "y": [
          "Hot",
          "Hot",
          "Hot",
          "Hot"
         ]
        },
        {
         "customdata": [
          0,
          1,
          2,
          3,
          4,
          5
         ],
         "hovertemplate": "%{y}[%{customdata}] = %{marker.color}<extra></extra>",
         "marker": {
          "color": [
           "rgb(0,0,0)",
           "rgb(30,0,100)",
           "rgb(120,0,100)",
           "rgb(160,90,0)",
           "rgb(230,200,0)",
           "rgb(255,250,220)"
          ]
         },
         "orientation": "h",
         "type": "bar",
         "x": [
          1,
          1,
          1,
          1,
          1,
          1
         ],
         "y": [
          "Electric",
          "Electric",
          "Electric",
          "Electric",
          "Electric",
          "Electric"
         ]
        },
        {
         "customdata": [
          0,
          1
         ],
         "hovertemplate": "%{y}[%{customdata}] = %{marker.color}<extra></extra>",
         "marker": {
          "color": [
           "rgb(0,0,255)",
           "rgb(255,0,0)"
          ]
         },
         "orientation": "h",
         "type": "bar",
         "x": [
          1,
          1
         ],
         "y": [
          "Bluered",
          "Bluered"
         ]
        },
        {
         "customdata": [
          0,
          1,
          2,
          3,
          4
         ],
         "hovertemplate": "%{y}[%{customdata}] = %{marker.color}<extra></extra>",
         "marker": {
          "color": [
           "rgb(0,0,0)",
           "rgb(230,0,0)",
           "rgb(230,210,0)",
           "rgb(255,255,255)",
           "rgb(160,200,255)"
          ]
         },
         "orientation": "h",
         "type": "bar",
         "x": [
          1,
          1,
          1,
          1,
          1
         ],
         "y": [
          "Blackbody",
          "Blackbody",
          "Blackbody",
          "Blackbody",
          "Blackbody"
         ]
        },
        {
         "customdata": [
          0,
          1,
          2,
          3,
          4,
          5,
          6,
          7,
          8,
          9,
          10,
          11,
          12,
          13,
          14
         ],
         "hovertemplate": "%{y}[%{customdata}] = %{marker.color}<extra></extra>",
         "marker": {
          "color": [
           "#30123b",
           "#4145ab",
           "#4675ed",
           "#39a2fc",
           "#1bcfd4",
           "#24eca6",
           "#61fc6c",
           "#a4fc3b",
           "#d1e834",
           "#f3c63a",
           "#fe9b2d",
           "#f36315",
           "#d93806",
           "#b11901",
           "#7a0402"
          ]
         },
         "orientation": "h",
         "type": "bar",
         "x": [
          1,
          1,
          1,
          1,
          1,
          1,
          1,
          1,
          1,
          1,
          1,
          1,
          1,
          1,
          1
         ],
         "y": [
          "Turbo",
          "Turbo",
          "Turbo",
          "Turbo",
          "Turbo",
          "Turbo",
          "Turbo",
          "Turbo",
          "Turbo",
          "Turbo",
          "Turbo",
          "Turbo",
          "Turbo",
          "Turbo",
          "Turbo"
         ]
        },
        {
         "customdata": [
          0,
          1,
          2,
          3,
          4,
          5,
          6,
          7,
          8,
          9
         ],
         "hovertemplate": "%{y}[%{customdata}] = %{marker.color}<extra></extra>",
         "marker": {
          "color": [
           "#0d0887",
           "#46039f",
           "#7201a8",
           "#9c179e",
           "#bd3786",
           "#d8576b",
           "#ed7953",
           "#fb9f3a",
           "#fdca26",
           "#f0f921"
          ]
         },
         "orientation": "h",
         "type": "bar",
         "x": [
          1,
          1,
          1,
          1,
          1,
          1,
          1,
          1,
          1,
          1
         ],
         "y": [
          "Plasma",
          "Plasma",
          "Plasma",
          "Plasma",
          "Plasma",
          "Plasma",
          "Plasma",
          "Plasma",
          "Plasma",
          "Plasma"
         ]
        },
        {
         "customdata": [
          0,
          1,
          2,
          3,
          4,
          5,
          6,
          7,
          8,
          9
         ],
         "hovertemplate": "%{y}[%{customdata}] = %{marker.color}<extra></extra>",
         "marker": {
          "color": [
           "#000004",
           "#180f3d",
           "#440f76",
           "#721f81",
           "#9e2f7f",
           "#cd4071",
           "#f1605d",
           "#fd9668",
           "#feca8d",
           "#fcfdbf"
          ]
         },
         "orientation": "h",
         "type": "bar",
         "x": [
          1,
          1,
          1,
          1,
          1,
          1,
          1,
          1,
          1,
          1
         ],
         "y": [
          "Magma",
          "Magma",
          "Magma",
          "Magma",
          "Magma",
          "Magma",
          "Magma",
          "Magma",
          "Magma",
          "Magma"
         ]
        },
        {
         "customdata": [
          0,
          1,
          2,
          3,
          4,
          5,
          6,
          7,
          8,
          9
         ],
         "hovertemplate": "%{y}[%{customdata}] = %{marker.color}<extra></extra>",
         "marker": {
          "color": [
           "#000004",
           "#1b0c41",
           "#4a0c6b",
           "#781c6d",
           "#a52c60",
           "#cf4446",
           "#ed6925",
           "#fb9b06",
           "#f7d13d",
           "#fcffa4"
          ]
         },
         "orientation": "h",
         "type": "bar",
         "x": [
          1,
          1,
          1,
          1,
          1,
          1,
          1,
          1,
          1,
          1
         ],
         "y": [
          "Inferno",
          "Inferno",
          "Inferno",
          "Inferno",
          "Inferno",
          "Inferno",
          "Inferno",
          "Inferno",
          "Inferno",
          "Inferno"
         ]
        },
        {
         "customdata": [
          0,
          1,
          2,
          3,
          4,
          5,
          6,
          7,
          8,
          9
         ],
         "hovertemplate": "%{y}[%{customdata}] = %{marker.color}<extra></extra>",
         "marker": {
          "color": [
           "#00224e",
           "#123570",
           "#3b496c",
           "#575d6d",
           "#707173",
           "#8a8678",
           "#a59c74",
           "#c3b369",
           "#e1cc55",
           "#fee838"
          ]
         },
         "orientation": "h",
         "type": "bar",
         "x": [
          1,
          1,
          1,
          1,
          1,
          1,
          1,
          1,
          1,
          1
         ],
         "y": [
          "Cividis",
          "Cividis",
          "Cividis",
          "Cividis",
          "Cividis",
          "Cividis",
          "Cividis",
          "Cividis",
          "Cividis",
          "Cividis"
         ]
        },
        {
         "customdata": [
          0,
          1,
          2,
          3,
          4,
          5,
          6,
          7,
          8,
          9
         ],
         "hovertemplate": "%{y}[%{customdata}] = %{marker.color}<extra></extra>",
         "marker": {
          "color": [
           "#440154",
           "#482878",
           "#3e4989",
           "#31688e",
           "#26828e",
           "#1f9e89",
           "#35b779",
           "#6ece58",
           "#b5de2b",
           "#fde725"
          ]
         },
         "orientation": "h",
         "type": "bar",
         "x": [
          1,
          1,
          1,
          1,
          1,
          1,
          1,
          1,
          1,
          1
         ],
         "y": [
          "Viridis",
          "Viridis",
          "Viridis",
          "Viridis",
          "Viridis",
          "Viridis",
          "Viridis",
          "Viridis",
          "Viridis",
          "Viridis"
         ]
        },
        {
         "customdata": [
          0,
          1,
          2,
          3,
          4,
          5,
          6,
          7,
          8,
          9,
          10,
          11,
          12
         ],
         "hovertemplate": "%{y}[%{customdata}] = %{marker.color}<extra></extra>",
         "marker": {
          "color": [
           "#0508b8",
           "#1910d8",
           "#3c19f0",
           "#6b1cfb",
           "#981cfd",
           "#bf1cfd",
           "#dd2bfd",
           "#f246fe",
           "#fc67fd",
           "#fe88fc",
           "#fea5fd",
           "#febefe",
           "#fec3fe"
          ]
         },
         "orientation": "h",
         "type": "bar",
         "x": [
          1,
          1,
          1,
          1,
          1,
          1,
          1,
          1,
          1,
          1,
          1,
          1,
          1
         ],
         "y": [
          "Plotly3",
          "Plotly3",
          "Plotly3",
          "Plotly3",
          "Plotly3",
          "Plotly3",
          "Plotly3",
          "Plotly3",
          "Plotly3",
          "Plotly3",
          "Plotly3",
          "Plotly3",
          "Plotly3"
         ]
        }
       ],
       "layout": {
        "bargap": 0.5,
        "barmode": "stack",
        "barnorm": "fraction",
        "height": 2640,
        "margin": {
         "b": 10
        },
        "showlegend": false,
        "template": {
         "data": {
          "bar": [
           {
            "error_x": {
             "color": "#2a3f5f"
            },
            "error_y": {
             "color": "#2a3f5f"
            },
            "marker": {
             "line": {
              "color": "#E5ECF6",
              "width": 0.5
             },
             "pattern": {
              "fillmode": "overlay",
              "size": 10,
              "solidity": 0.2
             }
            },
            "type": "bar"
           }
          ],
          "barpolar": [
           {
            "marker": {
             "line": {
              "color": "#E5ECF6",
              "width": 0.5
             },
             "pattern": {
              "fillmode": "overlay",
              "size": 10,
              "solidity": 0.2
             }
            },
            "type": "barpolar"
           }
          ],
          "carpet": [
           {
            "aaxis": {
             "endlinecolor": "#2a3f5f",
             "gridcolor": "white",
             "linecolor": "white",
             "minorgridcolor": "white",
             "startlinecolor": "#2a3f5f"
            },
            "baxis": {
             "endlinecolor": "#2a3f5f",
             "gridcolor": "white",
             "linecolor": "white",
             "minorgridcolor": "white",
             "startlinecolor": "#2a3f5f"
            },
            "type": "carpet"
           }
          ],
          "choropleth": [
           {
            "colorbar": {
             "outlinewidth": 0,
             "ticks": ""
            },
            "type": "choropleth"
           }
          ],
          "contour": [
           {
            "colorbar": {
             "outlinewidth": 0,
             "ticks": ""
            },
            "colorscale": [
             [
              0,
              "#0d0887"
             ],
             [
              0.1111111111111111,
              "#46039f"
             ],
             [
              0.2222222222222222,
              "#7201a8"
             ],
             [
              0.3333333333333333,
              "#9c179e"
             ],
             [
              0.4444444444444444,
              "#bd3786"
             ],
             [
              0.5555555555555556,
              "#d8576b"
             ],
             [
              0.6666666666666666,
              "#ed7953"
             ],
             [
              0.7777777777777778,
              "#fb9f3a"
             ],
             [
              0.8888888888888888,
              "#fdca26"
             ],
             [
              1,
              "#f0f921"
             ]
            ],
            "type": "contour"
           }
          ],
          "contourcarpet": [
           {
            "colorbar": {
             "outlinewidth": 0,
             "ticks": ""
            },
            "type": "contourcarpet"
           }
          ],
          "heatmap": [
           {
            "colorbar": {
             "outlinewidth": 0,
             "ticks": ""
            },
            "colorscale": [
             [
              0,
              "#0d0887"
             ],
             [
              0.1111111111111111,
              "#46039f"
             ],
             [
              0.2222222222222222,
              "#7201a8"
             ],
             [
              0.3333333333333333,
              "#9c179e"
             ],
             [
              0.4444444444444444,
              "#bd3786"
             ],
             [
              0.5555555555555556,
              "#d8576b"
             ],
             [
              0.6666666666666666,
              "#ed7953"
             ],
             [
              0.7777777777777778,
              "#fb9f3a"
             ],
             [
              0.8888888888888888,
              "#fdca26"
             ],
             [
              1,
              "#f0f921"
             ]
            ],
            "type": "heatmap"
           }
          ],
          "heatmapgl": [
           {
            "colorbar": {
             "outlinewidth": 0,
             "ticks": ""
            },
            "colorscale": [
             [
              0,
              "#0d0887"
             ],
             [
              0.1111111111111111,
              "#46039f"
             ],
             [
              0.2222222222222222,
              "#7201a8"
             ],
             [
              0.3333333333333333,
              "#9c179e"
             ],
             [
              0.4444444444444444,
              "#bd3786"
             ],
             [
              0.5555555555555556,
              "#d8576b"
             ],
             [
              0.6666666666666666,
              "#ed7953"
             ],
             [
              0.7777777777777778,
              "#fb9f3a"
             ],
             [
              0.8888888888888888,
              "#fdca26"
             ],
             [
              1,
              "#f0f921"
             ]
            ],
            "type": "heatmapgl"
           }
          ],
          "histogram": [
           {
            "marker": {
             "pattern": {
              "fillmode": "overlay",
              "size": 10,
              "solidity": 0.2
             }
            },
            "type": "histogram"
           }
          ],
          "histogram2d": [
           {
            "colorbar": {
             "outlinewidth": 0,
             "ticks": ""
            },
            "colorscale": [
             [
              0,
              "#0d0887"
             ],
             [
              0.1111111111111111,
              "#46039f"
             ],
             [
              0.2222222222222222,
              "#7201a8"
             ],
             [
              0.3333333333333333,
              "#9c179e"
             ],
             [
              0.4444444444444444,
              "#bd3786"
             ],
             [
              0.5555555555555556,
              "#d8576b"
             ],
             [
              0.6666666666666666,
              "#ed7953"
             ],
             [
              0.7777777777777778,
              "#fb9f3a"
             ],
             [
              0.8888888888888888,
              "#fdca26"
             ],
             [
              1,
              "#f0f921"
             ]
            ],
            "type": "histogram2d"
           }
          ],
          "histogram2dcontour": [
           {
            "colorbar": {
             "outlinewidth": 0,
             "ticks": ""
            },
            "colorscale": [
             [
              0,
              "#0d0887"
             ],
             [
              0.1111111111111111,
              "#46039f"
             ],
             [
              0.2222222222222222,
              "#7201a8"
             ],
             [
              0.3333333333333333,
              "#9c179e"
             ],
             [
              0.4444444444444444,
              "#bd3786"
             ],
             [
              0.5555555555555556,
              "#d8576b"
             ],
             [
              0.6666666666666666,
              "#ed7953"
             ],
             [
              0.7777777777777778,
              "#fb9f3a"
             ],
             [
              0.8888888888888888,
              "#fdca26"
             ],
             [
              1,
              "#f0f921"
             ]
            ],
            "type": "histogram2dcontour"
           }
          ],
          "mesh3d": [
           {
            "colorbar": {
             "outlinewidth": 0,
             "ticks": ""
            },
            "type": "mesh3d"
           }
          ],
          "parcoords": [
           {
            "line": {
             "colorbar": {
              "outlinewidth": 0,
              "ticks": ""
             }
            },
            "type": "parcoords"
           }
          ],
          "pie": [
           {
            "automargin": true,
            "type": "pie"
           }
          ],
          "scatter": [
           {
            "fillpattern": {
             "fillmode": "overlay",
             "size": 10,
             "solidity": 0.2
            },
            "type": "scatter"
           }
          ],
          "scatter3d": [
           {
            "line": {
             "colorbar": {
              "outlinewidth": 0,
              "ticks": ""
             }
            },
            "marker": {
             "colorbar": {
              "outlinewidth": 0,
              "ticks": ""
             }
            },
            "type": "scatter3d"
           }
          ],
          "scattercarpet": [
           {
            "marker": {
             "colorbar": {
              "outlinewidth": 0,
              "ticks": ""
             }
            },
            "type": "scattercarpet"
           }
          ],
          "scattergeo": [
           {
            "marker": {
             "colorbar": {
              "outlinewidth": 0,
              "ticks": ""
             }
            },
            "type": "scattergeo"
           }
          ],
          "scattergl": [
           {
            "marker": {
             "colorbar": {
              "outlinewidth": 0,
              "ticks": ""
             }
            },
            "type": "scattergl"
           }
          ],
          "scattermapbox": [
           {
            "marker": {
             "colorbar": {
              "outlinewidth": 0,
              "ticks": ""
             }
            },
            "type": "scattermapbox"
           }
          ],
          "scatterpolar": [
           {
            "marker": {
             "colorbar": {
              "outlinewidth": 0,
              "ticks": ""
             }
            },
            "type": "scatterpolar"
           }
          ],
          "scatterpolargl": [
           {
            "marker": {
             "colorbar": {
              "outlinewidth": 0,
              "ticks": ""
             }
            },
            "type": "scatterpolargl"
           }
          ],
          "scatterternary": [
           {
            "marker": {
             "colorbar": {
              "outlinewidth": 0,
              "ticks": ""
             }
            },
            "type": "scatterternary"
           }
          ],
          "surface": [
           {
            "colorbar": {
             "outlinewidth": 0,
             "ticks": ""
            },
            "colorscale": [
             [
              0,
              "#0d0887"
             ],
             [
              0.1111111111111111,
              "#46039f"
             ],
             [
              0.2222222222222222,
              "#7201a8"
             ],
             [
              0.3333333333333333,
              "#9c179e"
             ],
             [
              0.4444444444444444,
              "#bd3786"
             ],
             [
              0.5555555555555556,
              "#d8576b"
             ],
             [
              0.6666666666666666,
              "#ed7953"
             ],
             [
              0.7777777777777778,
              "#fb9f3a"
             ],
             [
              0.8888888888888888,
              "#fdca26"
             ],
             [
              1,
              "#f0f921"
             ]
            ],
            "type": "surface"
           }
          ],
          "table": [
           {
            "cells": {
             "fill": {
              "color": "#EBF0F8"
             },
             "line": {
              "color": "white"
             }
            },
            "header": {
             "fill": {
              "color": "#C8D4E3"
             },
             "line": {
              "color": "white"
             }
            },
            "type": "table"
           }
          ]
         },
         "layout": {
          "annotationdefaults": {
           "arrowcolor": "#2a3f5f",
           "arrowhead": 0,
           "arrowwidth": 1
          },
          "autotypenumbers": "strict",
          "coloraxis": {
           "colorbar": {
            "outlinewidth": 0,
            "ticks": ""
           }
          },
          "colorscale": {
           "diverging": [
            [
             0,
             "#8e0152"
            ],
            [
             0.1,
             "#c51b7d"
            ],
            [
             0.2,
             "#de77ae"
            ],
            [
             0.3,
             "#f1b6da"
            ],
            [
             0.4,
             "#fde0ef"
            ],
            [
             0.5,
             "#f7f7f7"
            ],
            [
             0.6,
             "#e6f5d0"
            ],
            [
             0.7,
             "#b8e186"
            ],
            [
             0.8,
             "#7fbc41"
            ],
            [
             0.9,
             "#4d9221"
            ],
            [
             1,
             "#276419"
            ]
           ],
           "sequential": [
            [
             0,
             "#0d0887"
            ],
            [
             0.1111111111111111,
             "#46039f"
            ],
            [
             0.2222222222222222,
             "#7201a8"
            ],
            [
             0.3333333333333333,
             "#9c179e"
            ],
            [
             0.4444444444444444,
             "#bd3786"
            ],
            [
             0.5555555555555556,
             "#d8576b"
            ],
            [
             0.6666666666666666,
             "#ed7953"
            ],
            [
             0.7777777777777778,
             "#fb9f3a"
            ],
            [
             0.8888888888888888,
             "#fdca26"
            ],
            [
             1,
             "#f0f921"
            ]
           ],
           "sequentialminus": [
            [
             0,
             "#0d0887"
            ],
            [
             0.1111111111111111,
             "#46039f"
            ],
            [
             0.2222222222222222,
             "#7201a8"
            ],
            [
             0.3333333333333333,
             "#9c179e"
            ],
            [
             0.4444444444444444,
             "#bd3786"
            ],
            [
             0.5555555555555556,
             "#d8576b"
            ],
            [
             0.6666666666666666,
             "#ed7953"
            ],
            [
             0.7777777777777778,
             "#fb9f3a"
            ],
            [
             0.8888888888888888,
             "#fdca26"
            ],
            [
             1,
             "#f0f921"
            ]
           ]
          },
          "colorway": [
           "#636efa",
           "#EF553B",
           "#00cc96",
           "#ab63fa",
           "#FFA15A",
           "#19d3f3",
           "#FF6692",
           "#B6E880",
           "#FF97FF",
           "#FECB52"
          ],
          "font": {
           "color": "#2a3f5f"
          },
          "geo": {
           "bgcolor": "white",
           "lakecolor": "white",
           "landcolor": "#E5ECF6",
           "showlakes": true,
           "showland": true,
           "subunitcolor": "white"
          },
          "hoverlabel": {
           "align": "left"
          },
          "hovermode": "closest",
          "mapbox": {
           "style": "light"
          },
          "paper_bgcolor": "white",
          "plot_bgcolor": "#E5ECF6",
          "polar": {
           "angularaxis": {
            "gridcolor": "white",
            "linecolor": "white",
            "ticks": ""
           },
           "bgcolor": "#E5ECF6",
           "radialaxis": {
            "gridcolor": "white",
            "linecolor": "white",
            "ticks": ""
           }
          },
          "scene": {
           "xaxis": {
            "backgroundcolor": "#E5ECF6",
            "gridcolor": "white",
            "gridwidth": 2,
            "linecolor": "white",
            "showbackground": true,
            "ticks": "",
            "zerolinecolor": "white"
           },
           "yaxis": {
            "backgroundcolor": "#E5ECF6",
            "gridcolor": "white",
            "gridwidth": 2,
            "linecolor": "white",
            "showbackground": true,
            "ticks": "",
            "zerolinecolor": "white"
           },
           "zaxis": {
            "backgroundcolor": "#E5ECF6",
            "gridcolor": "white",
            "gridwidth": 2,
            "linecolor": "white",
            "showbackground": true,
            "ticks": "",
            "zerolinecolor": "white"
           }
          },
          "shapedefaults": {
           "line": {
            "color": "#2a3f5f"
           }
          },
          "ternary": {
           "aaxis": {
            "gridcolor": "white",
            "linecolor": "white",
            "ticks": ""
           },
           "baxis": {
            "gridcolor": "white",
            "linecolor": "white",
            "ticks": ""
           },
           "bgcolor": "#E5ECF6",
           "caxis": {
            "gridcolor": "white",
            "linecolor": "white",
            "ticks": ""
           }
          },
          "title": {
           "x": 0.05
          },
          "xaxis": {
           "automargin": true,
           "gridcolor": "white",
           "linecolor": "white",
           "ticks": "",
           "title": {
            "standoff": 15
           },
           "zerolinecolor": "white",
           "zerolinewidth": 2
          },
          "yaxis": {
           "automargin": true,
           "gridcolor": "white",
           "linecolor": "white",
           "ticks": "",
           "title": {
            "standoff": 15
           },
           "zerolinecolor": "white",
           "zerolinewidth": 2
          }
         }
        },
        "title": {
         "text": "plotly.colors.sequential"
        },
        "xaxis": {
         "range": [
          -0.02,
          1.02
         ],
         "showgrid": false,
         "showticklabels": false
        }
       }
      }
     },
     "metadata": {},
     "output_type": "display_data"
    }
   ],
   "source": [
    "import plotly.express as px\n",
    "\n",
    "px.colors.sequential.swatches()"
   ]
  },
  {
   "cell_type": "code",
   "execution_count": 10,
   "metadata": {},
   "outputs": [
    {
     "data": {
      "application/vnd.plotly.v1+json": {
       "config": {
        "plotlyServerURL": "https://plot.ly"
       },
       "data": [
        {
         "customdata": [
          0,
          1,
          2,
          3,
          4,
          5,
          6,
          7,
          8,
          9,
          10
         ],
         "hovertemplate": "%{y}[%{customdata}] = %{marker.color}<extra></extra>",
         "marker": {
          "color": [
           "rgb(229, 134, 6)",
           "rgb(93, 105, 177)",
           "rgb(82, 188, 163)",
           "rgb(153, 201, 69)",
           "rgb(204, 97, 176)",
           "rgb(36, 121, 108)",
           "rgb(218, 165, 27)",
           "rgb(47, 138, 196)",
           "rgb(118, 78, 159)",
           "rgb(237, 100, 90)",
           "rgb(165, 170, 153)"
          ]
         },
         "orientation": "h",
         "type": "bar",
         "x": [
          1,
          1,
          1,
          1,
          1,
          1,
          1,
          1,
          1,
          1,
          1
         ],
         "y": [
          "Vivid",
          "Vivid",
          "Vivid",
          "Vivid",
          "Vivid",
          "Vivid",
          "Vivid",
          "Vivid",
          "Vivid",
          "Vivid",
          "Vivid"
         ]
        },
        {
         "customdata": [
          0,
          1,
          2,
          3,
          4,
          5,
          6,
          7,
          8,
          9,
          10
         ],
         "hovertemplate": "%{y}[%{customdata}] = %{marker.color}<extra></extra>",
         "marker": {
          "color": [
           "rgb(136, 204, 238)",
           "rgb(204, 102, 119)",
           "rgb(221, 204, 119)",
           "rgb(17, 119, 51)",
           "rgb(51, 34, 136)",
           "rgb(170, 68, 153)",
           "rgb(68, 170, 153)",
           "rgb(153, 153, 51)",
           "rgb(136, 34, 85)",
           "rgb(102, 17, 0)",
           "rgb(136, 136, 136)"
          ]
         },
         "orientation": "h",
         "type": "bar",
         "x": [
          1,
          1,
          1,
          1,
          1,
          1,
          1,
          1,
          1,
          1,
          1
         ],
         "y": [
          "Safe",
          "Safe",
          "Safe",
          "Safe",
          "Safe",
          "Safe",
          "Safe",
          "Safe",
          "Safe",
          "Safe",
          "Safe"
         ]
        },
        {
         "customdata": [
          0,
          1,
          2,
          3,
          4,
          5,
          6,
          7,
          8,
          9,
          10
         ],
         "hovertemplate": "%{y}[%{customdata}] = %{marker.color}<extra></extra>",
         "marker": {
          "color": [
           "rgb(95, 70, 144)",
           "rgb(29, 105, 150)",
           "rgb(56, 166, 165)",
           "rgb(15, 133, 84)",
           "rgb(115, 175, 72)",
           "rgb(237, 173, 8)",
           "rgb(225, 124, 5)",
           "rgb(204, 80, 62)",
           "rgb(148, 52, 110)",
           "rgb(111, 64, 112)",
           "rgb(102, 102, 102)"
          ]
         },
         "orientation": "h",
         "type": "bar",
         "x": [
          1,
          1,
          1,
          1,
          1,
          1,
          1,
          1,
          1,
          1,
          1
         ],
         "y": [
          "Prism",
          "Prism",
          "Prism",
          "Prism",
          "Prism",
          "Prism",
          "Prism",
          "Prism",
          "Prism",
          "Prism",
          "Prism"
         ]
        },
        {
         "customdata": [
          0,
          1,
          2,
          3,
          4,
          5,
          6,
          7,
          8,
          9,
          10
         ],
         "hovertemplate": "%{y}[%{customdata}] = %{marker.color}<extra></extra>",
         "marker": {
          "color": [
           "rgb(102, 197, 204)",
           "rgb(246, 207, 113)",
           "rgb(248, 156, 116)",
           "rgb(220, 176, 242)",
           "rgb(135, 197, 95)",
           "rgb(158, 185, 243)",
           "rgb(254, 136, 177)",
           "rgb(201, 219, 116)",
           "rgb(139, 224, 164)",
           "rgb(180, 151, 231)",
           "rgb(179, 179, 179)"
          ]
         },
         "orientation": "h",
         "type": "bar",
         "x": [
          1,
          1,
          1,
          1,
          1,
          1,
          1,
          1,
          1,
          1,
          1
         ],
         "y": [
          "Pastel",
          "Pastel",
          "Pastel",
          "Pastel",
          "Pastel",
          "Pastel",
          "Pastel",
          "Pastel",
          "Pastel",
          "Pastel",
          "Pastel"
         ]
        },
        {
         "customdata": [
          0,
          1,
          2,
          3,
          4,
          5,
          6,
          7,
          8,
          9,
          10
         ],
         "hovertemplate": "%{y}[%{customdata}] = %{marker.color}<extra></extra>",
         "marker": {
          "color": [
           "rgb(127, 60, 141)",
           "rgb(17, 165, 121)",
           "rgb(57, 105, 172)",
           "rgb(242, 183, 1)",
           "rgb(231, 63, 116)",
           "rgb(128, 186, 90)",
           "rgb(230, 131, 16)",
           "rgb(0, 134, 149)",
           "rgb(207, 28, 144)",
           "rgb(249, 123, 114)",
           "rgb(165, 170, 153)"
          ]
         },
         "orientation": "h",
         "type": "bar",
         "x": [
          1,
          1,
          1,
          1,
          1,
          1,
          1,
          1,
          1,
          1,
          1
         ],
         "y": [
          "Bold",
          "Bold",
          "Bold",
          "Bold",
          "Bold",
          "Bold",
          "Bold",
          "Bold",
          "Bold",
          "Bold",
          "Bold"
         ]
        },
        {
         "customdata": [
          0,
          1,
          2,
          3,
          4,
          5,
          6,
          7,
          8,
          9,
          10
         ],
         "hovertemplate": "%{y}[%{customdata}] = %{marker.color}<extra></extra>",
         "marker": {
          "color": [
           "rgb(133, 92, 117)",
           "rgb(217, 175, 107)",
           "rgb(175, 100, 88)",
           "rgb(115, 111, 76)",
           "rgb(82, 106, 131)",
           "rgb(98, 83, 119)",
           "rgb(104, 133, 92)",
           "rgb(156, 156, 94)",
           "rgb(160, 97, 119)",
           "rgb(140, 120, 93)",
           "rgb(124, 124, 124)"
          ]
         },
         "orientation": "h",
         "type": "bar",
         "x": [
          1,
          1,
          1,
          1,
          1,
          1,
          1,
          1,
          1,
          1,
          1
         ],
         "y": [
          "Antique",
          "Antique",
          "Antique",
          "Antique",
          "Antique",
          "Antique",
          "Antique",
          "Antique",
          "Antique",
          "Antique",
          "Antique"
         ]
        },
        {
         "customdata": [
          0,
          1,
          2,
          3,
          4,
          5,
          6,
          7,
          8,
          9,
          10,
          11
         ],
         "hovertemplate": "%{y}[%{customdata}] = %{marker.color}<extra></extra>",
         "marker": {
          "color": [
           "rgb(141,211,199)",
           "rgb(255,255,179)",
           "rgb(190,186,218)",
           "rgb(251,128,114)",
           "rgb(128,177,211)",
           "rgb(253,180,98)",
           "rgb(179,222,105)",
           "rgb(252,205,229)",
           "rgb(217,217,217)",
           "rgb(188,128,189)",
           "rgb(204,235,197)",
           "rgb(255,237,111)"
          ]
         },
         "orientation": "h",
         "type": "bar",
         "x": [
          1,
          1,
          1,
          1,
          1,
          1,
          1,
          1,
          1,
          1,
          1,
          1
         ],
         "y": [
          "Set3",
          "Set3",
          "Set3",
          "Set3",
          "Set3",
          "Set3",
          "Set3",
          "Set3",
          "Set3",
          "Set3",
          "Set3",
          "Set3"
         ]
        },
        {
         "customdata": [
          0,
          1,
          2,
          3,
          4,
          5,
          6,
          7
         ],
         "hovertemplate": "%{y}[%{customdata}] = %{marker.color}<extra></extra>",
         "marker": {
          "color": [
           "rgb(179,226,205)",
           "rgb(253,205,172)",
           "rgb(203,213,232)",
           "rgb(244,202,228)",
           "rgb(230,245,201)",
           "rgb(255,242,174)",
           "rgb(241,226,204)",
           "rgb(204,204,204)"
          ]
         },
         "orientation": "h",
         "type": "bar",
         "x": [
          1,
          1,
          1,
          1,
          1,
          1,
          1,
          1
         ],
         "y": [
          "Pastel2",
          "Pastel2",
          "Pastel2",
          "Pastel2",
          "Pastel2",
          "Pastel2",
          "Pastel2",
          "Pastel2"
         ]
        },
        {
         "customdata": [
          0,
          1,
          2,
          3,
          4,
          5,
          6,
          7
         ],
         "hovertemplate": "%{y}[%{customdata}] = %{marker.color}<extra></extra>",
         "marker": {
          "color": [
           "rgb(102,194,165)",
           "rgb(252,141,98)",
           "rgb(141,160,203)",
           "rgb(231,138,195)",
           "rgb(166,216,84)",
           "rgb(255,217,47)",
           "rgb(229,196,148)",
           "rgb(179,179,179)"
          ]
         },
         "orientation": "h",
         "type": "bar",
         "x": [
          1,
          1,
          1,
          1,
          1,
          1,
          1,
          1
         ],
         "y": [
          "Set2",
          "Set2",
          "Set2",
          "Set2",
          "Set2",
          "Set2",
          "Set2",
          "Set2"
         ]
        },
        {
         "customdata": [
          0,
          1,
          2,
          3,
          4,
          5,
          6,
          7
         ],
         "hovertemplate": "%{y}[%{customdata}] = %{marker.color}<extra></extra>",
         "marker": {
          "color": [
           "rgb(27,158,119)",
           "rgb(217,95,2)",
           "rgb(117,112,179)",
           "rgb(231,41,138)",
           "rgb(102,166,30)",
           "rgb(230,171,2)",
           "rgb(166,118,29)",
           "rgb(102,102,102)"
          ]
         },
         "orientation": "h",
         "type": "bar",
         "x": [
          1,
          1,
          1,
          1,
          1,
          1,
          1,
          1
         ],
         "y": [
          "Dark2",
          "Dark2",
          "Dark2",
          "Dark2",
          "Dark2",
          "Dark2",
          "Dark2",
          "Dark2"
         ]
        },
        {
         "customdata": [
          0,
          1,
          2,
          3,
          4,
          5,
          6,
          7,
          8
         ],
         "hovertemplate": "%{y}[%{customdata}] = %{marker.color}<extra></extra>",
         "marker": {
          "color": [
           "rgb(251,180,174)",
           "rgb(179,205,227)",
           "rgb(204,235,197)",
           "rgb(222,203,228)",
           "rgb(254,217,166)",
           "rgb(255,255,204)",
           "rgb(229,216,189)",
           "rgb(253,218,236)",
           "rgb(242,242,242)"
          ]
         },
         "orientation": "h",
         "type": "bar",
         "x": [
          1,
          1,
          1,
          1,
          1,
          1,
          1,
          1,
          1
         ],
         "y": [
          "Pastel1",
          "Pastel1",
          "Pastel1",
          "Pastel1",
          "Pastel1",
          "Pastel1",
          "Pastel1",
          "Pastel1",
          "Pastel1"
         ]
        },
        {
         "customdata": [
          0,
          1,
          2,
          3,
          4,
          5,
          6,
          7,
          8
         ],
         "hovertemplate": "%{y}[%{customdata}] = %{marker.color}<extra></extra>",
         "marker": {
          "color": [
           "rgb(228,26,28)",
           "rgb(55,126,184)",
           "rgb(77,175,74)",
           "rgb(152,78,163)",
           "rgb(255,127,0)",
           "rgb(255,255,51)",
           "rgb(166,86,40)",
           "rgb(247,129,191)",
           "rgb(153,153,153)"
          ]
         },
         "orientation": "h",
         "type": "bar",
         "x": [
          1,
          1,
          1,
          1,
          1,
          1,
          1,
          1,
          1
         ],
         "y": [
          "Set1",
          "Set1",
          "Set1",
          "Set1",
          "Set1",
          "Set1",
          "Set1",
          "Set1",
          "Set1"
         ]
        },
        {
         "customdata": [
          0,
          1,
          2,
          3,
          4,
          5,
          6,
          7,
          8,
          9,
          10,
          11,
          12,
          13,
          14,
          15,
          16,
          17,
          18,
          19,
          20,
          21,
          22,
          23
         ],
         "hovertemplate": "%{y}[%{customdata}] = %{marker.color}<extra></extra>",
         "marker": {
          "color": [
           "#FD3216",
           "#00FE35",
           "#6A76FC",
           "#FED4C4",
           "#FE00CE",
           "#0DF9FF",
           "#F6F926",
           "#FF9616",
           "#479B55",
           "#EEA6FB",
           "#DC587D",
           "#D626FF",
           "#6E899C",
           "#00B5F7",
           "#B68E00",
           "#C9FBE5",
           "#FF0092",
           "#22FFA7",
           "#E3EE9E",
           "#86CE00",
           "#BC7196",
           "#7E7DCD",
           "#FC6955",
           "#E48F72"
          ]
         },
         "orientation": "h",
         "type": "bar",
         "x": [
          1,
          1,
          1,
          1,
          1,
          1,
          1,
          1,
          1,
          1,
          1,
          1,
          1,
          1,
          1,
          1,
          1,
          1,
          1,
          1,
          1,
          1,
          1,
          1
         ],
         "y": [
          "Light24",
          "Light24",
          "Light24",
          "Light24",
          "Light24",
          "Light24",
          "Light24",
          "Light24",
          "Light24",
          "Light24",
          "Light24",
          "Light24",
          "Light24",
          "Light24",
          "Light24",
          "Light24",
          "Light24",
          "Light24",
          "Light24",
          "Light24",
          "Light24",
          "Light24",
          "Light24",
          "Light24"
         ]
        },
        {
         "customdata": [
          0,
          1,
          2,
          3,
          4,
          5,
          6,
          7,
          8,
          9,
          10,
          11,
          12,
          13,
          14,
          15,
          16,
          17,
          18,
          19,
          20,
          21,
          22,
          23
         ],
         "hovertemplate": "%{y}[%{customdata}] = %{marker.color}<extra></extra>",
         "marker": {
          "color": [
           "#2E91E5",
           "#E15F99",
           "#1CA71C",
           "#FB0D0D",
           "#DA16FF",
           "#222A2A",
           "#B68100",
           "#750D86",
           "#EB663B",
           "#511CFB",
           "#00A08B",
           "#FB00D1",
           "#FC0080",
           "#B2828D",
           "#6C7C32",
           "#778AAE",
           "#862A16",
           "#A777F1",
           "#620042",
           "#1616A7",
           "#DA60CA",
           "#6C4516",
           "#0D2A63",
           "#AF0038"
          ]
         },
         "orientation": "h",
         "type": "bar",
         "x": [
          1,
          1,
          1,
          1,
          1,
          1,
          1,
          1,
          1,
          1,
          1,
          1,
          1,
          1,
          1,
          1,
          1,
          1,
          1,
          1,
          1,
          1,
          1,
          1
         ],
         "y": [
          "Dark24",
          "Dark24",
          "Dark24",
          "Dark24",
          "Dark24",
          "Dark24",
          "Dark24",
          "Dark24",
          "Dark24",
          "Dark24",
          "Dark24",
          "Dark24",
          "Dark24",
          "Dark24",
          "Dark24",
          "Dark24",
          "Dark24",
          "Dark24",
          "Dark24",
          "Dark24",
          "Dark24",
          "Dark24",
          "Dark24",
          "Dark24"
         ]
        },
        {
         "customdata": [
          0,
          1,
          2,
          3,
          4,
          5,
          6,
          7,
          8,
          9,
          10,
          11,
          12,
          13,
          14,
          15,
          16,
          17,
          18,
          19,
          20,
          21,
          22,
          23,
          24,
          25
         ],
         "hovertemplate": "%{y}[%{customdata}] = %{marker.color}<extra></extra>",
         "marker": {
          "color": [
           "#AA0DFE",
           "#3283FE",
           "#85660D",
           "#782AB6",
           "#565656",
           "#1C8356",
           "#16FF32",
           "#F7E1A0",
           "#E2E2E2",
           "#1CBE4F",
           "#C4451C",
           "#DEA0FD",
           "#FE00FA",
           "#325A9B",
           "#FEAF16",
           "#F8A19F",
           "#90AD1C",
           "#F6222E",
           "#1CFFCE",
           "#2ED9FF",
           "#B10DA1",
           "#C075A6",
           "#FC1CBF",
           "#B00068",
           "#FBE426",
           "#FA0087"
          ]
         },
         "orientation": "h",
         "type": "bar",
         "x": [
          1,
          1,
          1,
          1,
          1,
          1,
          1,
          1,
          1,
          1,
          1,
          1,
          1,
          1,
          1,
          1,
          1,
          1,
          1,
          1,
          1,
          1,
          1,
          1,
          1,
          1
         ],
         "y": [
          "Alphabet",
          "Alphabet",
          "Alphabet",
          "Alphabet",
          "Alphabet",
          "Alphabet",
          "Alphabet",
          "Alphabet",
          "Alphabet",
          "Alphabet",
          "Alphabet",
          "Alphabet",
          "Alphabet",
          "Alphabet",
          "Alphabet",
          "Alphabet",
          "Alphabet",
          "Alphabet",
          "Alphabet",
          "Alphabet",
          "Alphabet",
          "Alphabet",
          "Alphabet",
          "Alphabet",
          "Alphabet",
          "Alphabet"
         ]
        },
        {
         "customdata": [
          0,
          1,
          2,
          3,
          4,
          5,
          6,
          7,
          8,
          9
         ],
         "hovertemplate": "%{y}[%{customdata}] = %{marker.color}<extra></extra>",
         "marker": {
          "color": [
           "#4C78A8",
           "#F58518",
           "#E45756",
           "#72B7B2",
           "#54A24B",
           "#EECA3B",
           "#B279A2",
           "#FF9DA6",
           "#9D755D",
           "#BAB0AC"
          ]
         },
         "orientation": "h",
         "type": "bar",
         "x": [
          1,
          1,
          1,
          1,
          1,
          1,
          1,
          1,
          1,
          1
         ],
         "y": [
          "T10",
          "T10",
          "T10",
          "T10",
          "T10",
          "T10",
          "T10",
          "T10",
          "T10",
          "T10"
         ]
        },
        {
         "customdata": [
          0,
          1,
          2,
          3,
          4,
          5,
          6,
          7,
          8,
          9
         ],
         "hovertemplate": "%{y}[%{customdata}] = %{marker.color}<extra></extra>",
         "marker": {
          "color": [
           "#3366CC",
           "#DC3912",
           "#FF9900",
           "#109618",
           "#990099",
           "#0099C6",
           "#DD4477",
           "#66AA00",
           "#B82E2E",
           "#316395"
          ]
         },
         "orientation": "h",
         "type": "bar",
         "x": [
          1,
          1,
          1,
          1,
          1,
          1,
          1,
          1,
          1,
          1
         ],
         "y": [
          "G10",
          "G10",
          "G10",
          "G10",
          "G10",
          "G10",
          "G10",
          "G10",
          "G10",
          "G10"
         ]
        },
        {
         "customdata": [
          0,
          1,
          2,
          3,
          4,
          5,
          6,
          7,
          8,
          9
         ],
         "hovertemplate": "%{y}[%{customdata}] = %{marker.color}<extra></extra>",
         "marker": {
          "color": [
           "#1F77B4",
           "#FF7F0E",
           "#2CA02C",
           "#D62728",
           "#9467BD",
           "#8C564B",
           "#E377C2",
           "#7F7F7F",
           "#BCBD22",
           "#17BECF"
          ]
         },
         "orientation": "h",
         "type": "bar",
         "x": [
          1,
          1,
          1,
          1,
          1,
          1,
          1,
          1,
          1,
          1
         ],
         "y": [
          "D3",
          "D3",
          "D3",
          "D3",
          "D3",
          "D3",
          "D3",
          "D3",
          "D3",
          "D3"
         ]
        },
        {
         "customdata": [
          0,
          1,
          2,
          3,
          4,
          5,
          6,
          7,
          8,
          9
         ],
         "hovertemplate": "%{y}[%{customdata}] = %{marker.color}<extra></extra>",
         "marker": {
          "color": [
           "#636EFA",
           "#EF553B",
           "#00CC96",
           "#AB63FA",
           "#FFA15A",
           "#19D3F3",
           "#FF6692",
           "#B6E880",
           "#FF97FF",
           "#FECB52"
          ]
         },
         "orientation": "h",
         "type": "bar",
         "x": [
          1,
          1,
          1,
          1,
          1,
          1,
          1,
          1,
          1,
          1
         ],
         "y": [
          "Plotly",
          "Plotly",
          "Plotly",
          "Plotly",
          "Plotly",
          "Plotly",
          "Plotly",
          "Plotly",
          "Plotly",
          "Plotly"
         ]
        }
       ],
       "layout": {
        "bargap": 0.5,
        "barmode": "stack",
        "barnorm": "fraction",
        "height": 760,
        "margin": {
         "b": 10
        },
        "showlegend": false,
        "template": {
         "data": {
          "bar": [
           {
            "error_x": {
             "color": "#2a3f5f"
            },
            "error_y": {
             "color": "#2a3f5f"
            },
            "marker": {
             "line": {
              "color": "#E5ECF6",
              "width": 0.5
             },
             "pattern": {
              "fillmode": "overlay",
              "size": 10,
              "solidity": 0.2
             }
            },
            "type": "bar"
           }
          ],
          "barpolar": [
           {
            "marker": {
             "line": {
              "color": "#E5ECF6",
              "width": 0.5
             },
             "pattern": {
              "fillmode": "overlay",
              "size": 10,
              "solidity": 0.2
             }
            },
            "type": "barpolar"
           }
          ],
          "carpet": [
           {
            "aaxis": {
             "endlinecolor": "#2a3f5f",
             "gridcolor": "white",
             "linecolor": "white",
             "minorgridcolor": "white",
             "startlinecolor": "#2a3f5f"
            },
            "baxis": {
             "endlinecolor": "#2a3f5f",
             "gridcolor": "white",
             "linecolor": "white",
             "minorgridcolor": "white",
             "startlinecolor": "#2a3f5f"
            },
            "type": "carpet"
           }
          ],
          "choropleth": [
           {
            "colorbar": {
             "outlinewidth": 0,
             "ticks": ""
            },
            "type": "choropleth"
           }
          ],
          "contour": [
           {
            "colorbar": {
             "outlinewidth": 0,
             "ticks": ""
            },
            "colorscale": [
             [
              0,
              "#0d0887"
             ],
             [
              0.1111111111111111,
              "#46039f"
             ],
             [
              0.2222222222222222,
              "#7201a8"
             ],
             [
              0.3333333333333333,
              "#9c179e"
             ],
             [
              0.4444444444444444,
              "#bd3786"
             ],
             [
              0.5555555555555556,
              "#d8576b"
             ],
             [
              0.6666666666666666,
              "#ed7953"
             ],
             [
              0.7777777777777778,
              "#fb9f3a"
             ],
             [
              0.8888888888888888,
              "#fdca26"
             ],
             [
              1,
              "#f0f921"
             ]
            ],
            "type": "contour"
           }
          ],
          "contourcarpet": [
           {
            "colorbar": {
             "outlinewidth": 0,
             "ticks": ""
            },
            "type": "contourcarpet"
           }
          ],
          "heatmap": [
           {
            "colorbar": {
             "outlinewidth": 0,
             "ticks": ""
            },
            "colorscale": [
             [
              0,
              "#0d0887"
             ],
             [
              0.1111111111111111,
              "#46039f"
             ],
             [
              0.2222222222222222,
              "#7201a8"
             ],
             [
              0.3333333333333333,
              "#9c179e"
             ],
             [
              0.4444444444444444,
              "#bd3786"
             ],
             [
              0.5555555555555556,
              "#d8576b"
             ],
             [
              0.6666666666666666,
              "#ed7953"
             ],
             [
              0.7777777777777778,
              "#fb9f3a"
             ],
             [
              0.8888888888888888,
              "#fdca26"
             ],
             [
              1,
              "#f0f921"
             ]
            ],
            "type": "heatmap"
           }
          ],
          "heatmapgl": [
           {
            "colorbar": {
             "outlinewidth": 0,
             "ticks": ""
            },
            "colorscale": [
             [
              0,
              "#0d0887"
             ],
             [
              0.1111111111111111,
              "#46039f"
             ],
             [
              0.2222222222222222,
              "#7201a8"
             ],
             [
              0.3333333333333333,
              "#9c179e"
             ],
             [
              0.4444444444444444,
              "#bd3786"
             ],
             [
              0.5555555555555556,
              "#d8576b"
             ],
             [
              0.6666666666666666,
              "#ed7953"
             ],
             [
              0.7777777777777778,
              "#fb9f3a"
             ],
             [
              0.8888888888888888,
              "#fdca26"
             ],
             [
              1,
              "#f0f921"
             ]
            ],
            "type": "heatmapgl"
           }
          ],
          "histogram": [
           {
            "marker": {
             "pattern": {
              "fillmode": "overlay",
              "size": 10,
              "solidity": 0.2
             }
            },
            "type": "histogram"
           }
          ],
          "histogram2d": [
           {
            "colorbar": {
             "outlinewidth": 0,
             "ticks": ""
            },
            "colorscale": [
             [
              0,
              "#0d0887"
             ],
             [
              0.1111111111111111,
              "#46039f"
             ],
             [
              0.2222222222222222,
              "#7201a8"
             ],
             [
              0.3333333333333333,
              "#9c179e"
             ],
             [
              0.4444444444444444,
              "#bd3786"
             ],
             [
              0.5555555555555556,
              "#d8576b"
             ],
             [
              0.6666666666666666,
              "#ed7953"
             ],
             [
              0.7777777777777778,
              "#fb9f3a"
             ],
             [
              0.8888888888888888,
              "#fdca26"
             ],
             [
              1,
              "#f0f921"
             ]
            ],
            "type": "histogram2d"
           }
          ],
          "histogram2dcontour": [
           {
            "colorbar": {
             "outlinewidth": 0,
             "ticks": ""
            },
            "colorscale": [
             [
              0,
              "#0d0887"
             ],
             [
              0.1111111111111111,
              "#46039f"
             ],
             [
              0.2222222222222222,
              "#7201a8"
             ],
             [
              0.3333333333333333,
              "#9c179e"
             ],
             [
              0.4444444444444444,
              "#bd3786"
             ],
             [
              0.5555555555555556,
              "#d8576b"
             ],
             [
              0.6666666666666666,
              "#ed7953"
             ],
             [
              0.7777777777777778,
              "#fb9f3a"
             ],
             [
              0.8888888888888888,
              "#fdca26"
             ],
             [
              1,
              "#f0f921"
             ]
            ],
            "type": "histogram2dcontour"
           }
          ],
          "mesh3d": [
           {
            "colorbar": {
             "outlinewidth": 0,
             "ticks": ""
            },
            "type": "mesh3d"
           }
          ],
          "parcoords": [
           {
            "line": {
             "colorbar": {
              "outlinewidth": 0,
              "ticks": ""
             }
            },
            "type": "parcoords"
           }
          ],
          "pie": [
           {
            "automargin": true,
            "type": "pie"
           }
          ],
          "scatter": [
           {
            "fillpattern": {
             "fillmode": "overlay",
             "size": 10,
             "solidity": 0.2
            },
            "type": "scatter"
           }
          ],
          "scatter3d": [
           {
            "line": {
             "colorbar": {
              "outlinewidth": 0,
              "ticks": ""
             }
            },
            "marker": {
             "colorbar": {
              "outlinewidth": 0,
              "ticks": ""
             }
            },
            "type": "scatter3d"
           }
          ],
          "scattercarpet": [
           {
            "marker": {
             "colorbar": {
              "outlinewidth": 0,
              "ticks": ""
             }
            },
            "type": "scattercarpet"
           }
          ],
          "scattergeo": [
           {
            "marker": {
             "colorbar": {
              "outlinewidth": 0,
              "ticks": ""
             }
            },
            "type": "scattergeo"
           }
          ],
          "scattergl": [
           {
            "marker": {
             "colorbar": {
              "outlinewidth": 0,
              "ticks": ""
             }
            },
            "type": "scattergl"
           }
          ],
          "scattermapbox": [
           {
            "marker": {
             "colorbar": {
              "outlinewidth": 0,
              "ticks": ""
             }
            },
            "type": "scattermapbox"
           }
          ],
          "scatterpolar": [
           {
            "marker": {
             "colorbar": {
              "outlinewidth": 0,
              "ticks": ""
             }
            },
            "type": "scatterpolar"
           }
          ],
          "scatterpolargl": [
           {
            "marker": {
             "colorbar": {
              "outlinewidth": 0,
              "ticks": ""
             }
            },
            "type": "scatterpolargl"
           }
          ],
          "scatterternary": [
           {
            "marker": {
             "colorbar": {
              "outlinewidth": 0,
              "ticks": ""
             }
            },
            "type": "scatterternary"
           }
          ],
          "surface": [
           {
            "colorbar": {
             "outlinewidth": 0,
             "ticks": ""
            },
            "colorscale": [
             [
              0,
              "#0d0887"
             ],
             [
              0.1111111111111111,
              "#46039f"
             ],
             [
              0.2222222222222222,
              "#7201a8"
             ],
             [
              0.3333333333333333,
              "#9c179e"
             ],
             [
              0.4444444444444444,
              "#bd3786"
             ],
             [
              0.5555555555555556,
              "#d8576b"
             ],
             [
              0.6666666666666666,
              "#ed7953"
             ],
             [
              0.7777777777777778,
              "#fb9f3a"
             ],
             [
              0.8888888888888888,
              "#fdca26"
             ],
             [
              1,
              "#f0f921"
             ]
            ],
            "type": "surface"
           }
          ],
          "table": [
           {
            "cells": {
             "fill": {
              "color": "#EBF0F8"
             },
             "line": {
              "color": "white"
             }
            },
            "header": {
             "fill": {
              "color": "#C8D4E3"
             },
             "line": {
              "color": "white"
             }
            },
            "type": "table"
           }
          ]
         },
         "layout": {
          "annotationdefaults": {
           "arrowcolor": "#2a3f5f",
           "arrowhead": 0,
           "arrowwidth": 1
          },
          "autotypenumbers": "strict",
          "coloraxis": {
           "colorbar": {
            "outlinewidth": 0,
            "ticks": ""
           }
          },
          "colorscale": {
           "diverging": [
            [
             0,
             "#8e0152"
            ],
            [
             0.1,
             "#c51b7d"
            ],
            [
             0.2,
             "#de77ae"
            ],
            [
             0.3,
             "#f1b6da"
            ],
            [
             0.4,
             "#fde0ef"
            ],
            [
             0.5,
             "#f7f7f7"
            ],
            [
             0.6,
             "#e6f5d0"
            ],
            [
             0.7,
             "#b8e186"
            ],
            [
             0.8,
             "#7fbc41"
            ],
            [
             0.9,
             "#4d9221"
            ],
            [
             1,
             "#276419"
            ]
           ],
           "sequential": [
            [
             0,
             "#0d0887"
            ],
            [
             0.1111111111111111,
             "#46039f"
            ],
            [
             0.2222222222222222,
             "#7201a8"
            ],
            [
             0.3333333333333333,
             "#9c179e"
            ],
            [
             0.4444444444444444,
             "#bd3786"
            ],
            [
             0.5555555555555556,
             "#d8576b"
            ],
            [
             0.6666666666666666,
             "#ed7953"
            ],
            [
             0.7777777777777778,
             "#fb9f3a"
            ],
            [
             0.8888888888888888,
             "#fdca26"
            ],
            [
             1,
             "#f0f921"
            ]
           ],
           "sequentialminus": [
            [
             0,
             "#0d0887"
            ],
            [
             0.1111111111111111,
             "#46039f"
            ],
            [
             0.2222222222222222,
             "#7201a8"
            ],
            [
             0.3333333333333333,
             "#9c179e"
            ],
            [
             0.4444444444444444,
             "#bd3786"
            ],
            [
             0.5555555555555556,
             "#d8576b"
            ],
            [
             0.6666666666666666,
             "#ed7953"
            ],
            [
             0.7777777777777778,
             "#fb9f3a"
            ],
            [
             0.8888888888888888,
             "#fdca26"
            ],
            [
             1,
             "#f0f921"
            ]
           ]
          },
          "colorway": [
           "#636efa",
           "#EF553B",
           "#00cc96",
           "#ab63fa",
           "#FFA15A",
           "#19d3f3",
           "#FF6692",
           "#B6E880",
           "#FF97FF",
           "#FECB52"
          ],
          "font": {
           "color": "#2a3f5f"
          },
          "geo": {
           "bgcolor": "white",
           "lakecolor": "white",
           "landcolor": "#E5ECF6",
           "showlakes": true,
           "showland": true,
           "subunitcolor": "white"
          },
          "hoverlabel": {
           "align": "left"
          },
          "hovermode": "closest",
          "mapbox": {
           "style": "light"
          },
          "paper_bgcolor": "white",
          "plot_bgcolor": "#E5ECF6",
          "polar": {
           "angularaxis": {
            "gridcolor": "white",
            "linecolor": "white",
            "ticks": ""
           },
           "bgcolor": "#E5ECF6",
           "radialaxis": {
            "gridcolor": "white",
            "linecolor": "white",
            "ticks": ""
           }
          },
          "scene": {
           "xaxis": {
            "backgroundcolor": "#E5ECF6",
            "gridcolor": "white",
            "gridwidth": 2,
            "linecolor": "white",
            "showbackground": true,
            "ticks": "",
            "zerolinecolor": "white"
           },
           "yaxis": {
            "backgroundcolor": "#E5ECF6",
            "gridcolor": "white",
            "gridwidth": 2,
            "linecolor": "white",
            "showbackground": true,
            "ticks": "",
            "zerolinecolor": "white"
           },
           "zaxis": {
            "backgroundcolor": "#E5ECF6",
            "gridcolor": "white",
            "gridwidth": 2,
            "linecolor": "white",
            "showbackground": true,
            "ticks": "",
            "zerolinecolor": "white"
           }
          },
          "shapedefaults": {
           "line": {
            "color": "#2a3f5f"
           }
          },
          "ternary": {
           "aaxis": {
            "gridcolor": "white",
            "linecolor": "white",
            "ticks": ""
           },
           "baxis": {
            "gridcolor": "white",
            "linecolor": "white",
            "ticks": ""
           },
           "bgcolor": "#E5ECF6",
           "caxis": {
            "gridcolor": "white",
            "linecolor": "white",
            "ticks": ""
           }
          },
          "title": {
           "x": 0.05
          },
          "xaxis": {
           "automargin": true,
           "gridcolor": "white",
           "linecolor": "white",
           "ticks": "",
           "title": {
            "standoff": 15
           },
           "zerolinecolor": "white",
           "zerolinewidth": 2
          },
          "yaxis": {
           "automargin": true,
           "gridcolor": "white",
           "linecolor": "white",
           "ticks": "",
           "title": {
            "standoff": 15
           },
           "zerolinecolor": "white",
           "zerolinewidth": 2
          }
         }
        },
        "title": {
         "text": "plotly.colors.qualitative"
        },
        "xaxis": {
         "range": [
          -0.02,
          1.02
         ],
         "showgrid": false,
         "showticklabels": false
        }
       }
      }
     },
     "metadata": {},
     "output_type": "display_data"
    }
   ],
   "source": [
    "px.colors.qualitative.swatches()"
   ]
  },
  {
   "cell_type": "code",
   "execution_count": 11,
   "metadata": {},
   "outputs": [
    {
     "data": {
      "text/plain": [
       "['rgb(141,211,199)',\n",
       " 'rgb(255,255,179)',\n",
       " 'rgb(190,186,218)',\n",
       " 'rgb(251,128,114)',\n",
       " 'rgb(128,177,211)',\n",
       " 'rgb(253,180,98)',\n",
       " 'rgb(179,222,105)',\n",
       " 'rgb(252,205,229)',\n",
       " 'rgb(217,217,217)',\n",
       " 'rgb(188,128,189)',\n",
       " 'rgb(204,235,197)',\n",
       " 'rgb(255,237,111)']"
      ]
     },
     "execution_count": 11,
     "metadata": {},
     "output_type": "execute_result"
    }
   ],
   "source": [
    "px.colors.qualitative.Set3"
   ]
  },
  {
   "cell_type": "code",
   "execution_count": 12,
   "metadata": {},
   "outputs": [
    {
     "data": {
      "text/html": [
       "<svg  width=\"660\" height=\"55\"><rect x=\"0\" y=\"0\" width=\"55\" height=\"55\" style=\"fill:#8dd3c7;stroke-width:2;stroke:rgb(255,255,255)\"/><rect x=\"55\" y=\"0\" width=\"55\" height=\"55\" style=\"fill:#ffffb3;stroke-width:2;stroke:rgb(255,255,255)\"/><rect x=\"110\" y=\"0\" width=\"55\" height=\"55\" style=\"fill:#bebada;stroke-width:2;stroke:rgb(255,255,255)\"/><rect x=\"165\" y=\"0\" width=\"55\" height=\"55\" style=\"fill:#fb8072;stroke-width:2;stroke:rgb(255,255,255)\"/><rect x=\"220\" y=\"0\" width=\"55\" height=\"55\" style=\"fill:#80b1d3;stroke-width:2;stroke:rgb(255,255,255)\"/><rect x=\"275\" y=\"0\" width=\"55\" height=\"55\" style=\"fill:#fdb462;stroke-width:2;stroke:rgb(255,255,255)\"/><rect x=\"330\" y=\"0\" width=\"55\" height=\"55\" style=\"fill:#b3de69;stroke-width:2;stroke:rgb(255,255,255)\"/><rect x=\"385\" y=\"0\" width=\"55\" height=\"55\" style=\"fill:#fccde5;stroke-width:2;stroke:rgb(255,255,255)\"/><rect x=\"440\" y=\"0\" width=\"55\" height=\"55\" style=\"fill:#d9d9d9;stroke-width:2;stroke:rgb(255,255,255)\"/><rect x=\"495\" y=\"0\" width=\"55\" height=\"55\" style=\"fill:#bc80bd;stroke-width:2;stroke:rgb(255,255,255)\"/><rect x=\"550\" y=\"0\" width=\"55\" height=\"55\" style=\"fill:#ccebc5;stroke-width:2;stroke:rgb(255,255,255)\"/><rect x=\"605\" y=\"0\" width=\"55\" height=\"55\" style=\"fill:#ffed6f;stroke-width:2;stroke:rgb(255,255,255)\"/></svg>"
      ],
      "text/plain": [
       "[(0.5529411764705883, 0.8274509803921568, 0.7803921568627451),\n",
       " (1.0, 1.0, 0.7019607843137254),\n",
       " (0.7450980392156863, 0.7294117647058823, 0.8549019607843137),\n",
       " (0.984313725490196, 0.5019607843137255, 0.4470588235294118),\n",
       " (0.5019607843137255, 0.6941176470588235, 0.8274509803921568),\n",
       " (0.9921568627450981, 0.7058823529411765, 0.3843137254901961),\n",
       " (0.7019607843137254, 0.8705882352941177, 0.4117647058823529),\n",
       " (0.9882352941176471, 0.803921568627451, 0.8980392156862745),\n",
       " (0.8509803921568627, 0.8509803921568627, 0.8509803921568627),\n",
       " (0.7372549019607844, 0.5019607843137255, 0.7411764705882353),\n",
       " (0.8, 0.9215686274509803, 0.7725490196078432),\n",
       " (1.0, 0.9294117647058824, 0.43529411764705883)]"
      ]
     },
     "execution_count": 12,
     "metadata": {},
     "output_type": "execute_result"
    }
   ],
   "source": [
    "sns.color_palette(\"Set3\", 12)"
   ]
  },
  {
   "cell_type": "code",
   "execution_count": 13,
   "metadata": {},
   "outputs": [
    {
     "data": {
      "text/plain": [
       "['rgb(253, 237, 176)',\n",
       " 'rgb(250, 205, 145)',\n",
       " 'rgb(246, 173, 119)',\n",
       " 'rgb(240, 142, 98)',\n",
       " 'rgb(231, 109, 84)',\n",
       " 'rgb(216, 80, 83)',\n",
       " 'rgb(195, 56, 90)',\n",
       " 'rgb(168, 40, 96)',\n",
       " 'rgb(138, 29, 99)',\n",
       " 'rgb(107, 24, 93)',\n",
       " 'rgb(76, 21, 80)',\n",
       " 'rgb(47, 15, 61)']"
      ]
     },
     "execution_count": 13,
     "metadata": {},
     "output_type": "execute_result"
    }
   ],
   "source": [
    "px.colors.sequential.matter"
   ]
  },
  {
   "cell_type": "code",
   "execution_count": 14,
   "metadata": {},
   "outputs": [
    {
     "data": {
      "image/png": "[encoded data removed]",
      "text/plain": [
       "<Figure size 800x100 with 1 Axes>"
      ]
     },
     "metadata": {},
     "output_type": "display_data"
    }
   ],
   "source": [
    "sns.palplot(sns.color_palette(\"Reds\", 8))"
   ]
  },
  {
   "cell_type": "markdown",
   "metadata": {},
   "source": [
    "## 可视化"
   ]
  },
  {
   "cell_type": "code",
   "execution_count": 15,
   "metadata": {},
   "outputs": [
    {
     "data": {
      "text/html": [
       "<div>\n",
       "<style scoped>\n",
       "    .dataframe tbody tr th:only-of-type {\n",
       "        vertical-align: middle;\n",
       "    }\n",
       "\n",
       "    .dataframe tbody tr th {\n",
       "        vertical-align: top;\n",
       "    }\n",
       "\n",
       "    .dataframe thead th {\n",
       "        text-align: right;\n",
       "    }\n",
       "</style>\n",
       "<table border=\"1\" class=\"dataframe\">\n",
       "  <thead>\n",
       "    <tr style=\"text-align: right;\">\n",
       "      <th></th>\n",
       "      <th>书名</th>\n",
       "      <th>评分</th>\n",
       "      <th>读完时间</th>\n",
       "      <th>标签</th>\n",
       "      <th>备注</th>\n",
       "      <th>豆瓣链接</th>\n",
       "      <th>月份</th>\n",
       "      <th>累计数量</th>\n",
       "      <th>作者</th>\n",
       "    </tr>\n",
       "  </thead>\n",
       "  <tbody>\n",
       "    <tr>\n",
       "      <th>0</th>\n",
       "      <td>禅与摩托车维修艺术</td>\n",
       "      <td>★★★</td>\n",
       "      <td>2022-01-16</td>\n",
       "      <td>NaN</td>\n",
       "      <td>罗伯特•M.波西格 (Robert M.Pirsig) / 张国辰 / 重庆出版社 / 20...</td>\n",
       "      <td>https://book.douban.com/subject/6811366/</td>\n",
       "      <td>1月</td>\n",
       "      <td>1</td>\n",
       "      <td>罗伯特•M.波西格 (Robert M.Pirsig)</td>\n",
       "    </tr>\n",
       "    <tr>\n",
       "      <th>1</th>\n",
       "      <td>文章自在</td>\n",
       "      <td>★★★★</td>\n",
       "      <td>2022-01-26</td>\n",
       "      <td>NaN</td>\n",
       "      <td>张大春 / 广西师范大学出版社 / 2017-1 / 36.00元</td>\n",
       "      <td>https://book.douban.com/subject/26940987/</td>\n",
       "      <td>1月</td>\n",
       "      <td>2</td>\n",
       "      <td>张大春</td>\n",
       "    </tr>\n",
       "    <tr>\n",
       "      <th>2</th>\n",
       "      <td>晨间日记的奇迹</td>\n",
       "      <td>★★★</td>\n",
       "      <td>2022-01-29</td>\n",
       "      <td>NaN</td>\n",
       "      <td>[日] 佐藤傳 / 赵明敏 / 南海出版公司 / 2009-5 / 25.00元</td>\n",
       "      <td>https://book.douban.com/subject/3744041/</td>\n",
       "      <td>1月</td>\n",
       "      <td>3</td>\n",
       "      <td>[日] 佐藤傳</td>\n",
       "    </tr>\n",
       "    <tr>\n",
       "      <th>3</th>\n",
       "      <td>星之继承者 2 温柔的伽星巨人</td>\n",
       "      <td>★★★★</td>\n",
       "      <td>2022-01-30</td>\n",
       "      <td>NaN</td>\n",
       "      <td>[英] 詹姆斯·P.霍根 / [加] 仇春卉 / 新星出版社 / 2021-4 / 59.00 元</td>\n",
       "      <td>https://book.douban.com/subject/35314089/</td>\n",
       "      <td>1月</td>\n",
       "      <td>4</td>\n",
       "      <td>[英] 詹姆斯·P.霍根</td>\n",
       "    </tr>\n",
       "    <tr>\n",
       "      <th>4</th>\n",
       "      <td>亂馬1/2（卷十五）</td>\n",
       "      <td>★★★★</td>\n",
       "      <td>2022-02-01</td>\n",
       "      <td>NaN</td>\n",
       "      <td>高橋留美子 / 玉郎图书文化传信有限公司 / HK$25</td>\n",
       "      <td>https://book.douban.com/subject/3894723/</td>\n",
       "      <td>2月</td>\n",
       "      <td>5</td>\n",
       "      <td>高橋留美子</td>\n",
       "    </tr>\n",
       "    <tr>\n",
       "      <th>5</th>\n",
       "      <td>塞尔达传说 旷野之息 中文版完全攻略本</td>\n",
       "      <td>★★★★</td>\n",
       "      <td>2022-02-02</td>\n",
       "      <td>NaN</td>\n",
       "      <td>UCG / 2018-5 / 136元</td>\n",
       "      <td>https://book.douban.com/subject/35269682/</td>\n",
       "      <td>2月</td>\n",
       "      <td>6</td>\n",
       "      <td>UCG</td>\n",
       "    </tr>\n",
       "    <tr>\n",
       "      <th>6</th>\n",
       "      <td>七夜雪</td>\n",
       "      <td>★★★</td>\n",
       "      <td>2022-02-10</td>\n",
       "      <td>NaN</td>\n",
       "      <td>沧月 / 北京十月文艺出版社 / 2006-10 / 25.00元</td>\n",
       "      <td>https://book.douban.com/subject/1919201/</td>\n",
       "      <td>2月</td>\n",
       "      <td>7</td>\n",
       "      <td>沧月</td>\n",
       "    </tr>\n",
       "    <tr>\n",
       "      <th>7</th>\n",
       "      <td>亂馬1/2（卷十六）</td>\n",
       "      <td>★★★★</td>\n",
       "      <td>2022-02-20</td>\n",
       "      <td>NaN</td>\n",
       "      <td>高橋留美子 / 玉郎图书文化传信有限公司 / HK$25</td>\n",
       "      <td>https://book.douban.com/subject/3911696/</td>\n",
       "      <td>2月</td>\n",
       "      <td>8</td>\n",
       "      <td>高橋留美子</td>\n",
       "    </tr>\n",
       "    <tr>\n",
       "      <th>8</th>\n",
       "      <td>亂馬1/2（卷十七）</td>\n",
       "      <td>★★★</td>\n",
       "      <td>2022-02-20</td>\n",
       "      <td>NaN</td>\n",
       "      <td>高橋留美子 / 玉郎图书文化传信有限公司 / HK$25</td>\n",
       "      <td>https://book.douban.com/subject/3911711/</td>\n",
       "      <td>2月</td>\n",
       "      <td>9</td>\n",
       "      <td>高橋留美子</td>\n",
       "    </tr>\n",
       "    <tr>\n",
       "      <th>9</th>\n",
       "      <td>镜厅: 大萧条、大衰退，我们做对了什么，又做错了什么</td>\n",
       "      <td>★★★</td>\n",
       "      <td>2022-02-23</td>\n",
       "      <td>NaN</td>\n",
       "      <td>[美] 巴里·埃森格林、Barry Eichengreen / 何帆 / 中信出版社 / 2...</td>\n",
       "      <td>https://book.douban.com/subject/26851886/</td>\n",
       "      <td>2月</td>\n",
       "      <td>10</td>\n",
       "      <td>[美] 巴里·埃森格林、Barry Eichengreen</td>\n",
       "    </tr>\n",
       "    <tr>\n",
       "      <th>10</th>\n",
       "      <td>亂馬1/2（卷十八）</td>\n",
       "      <td>★★</td>\n",
       "      <td>2022-03-04</td>\n",
       "      <td>NaN</td>\n",
       "      <td>高橋留美子 / 文化传信有限公司 / HK$25</td>\n",
       "      <td>https://book.douban.com/subject/3911733/</td>\n",
       "      <td>3月</td>\n",
       "      <td>11</td>\n",
       "      <td>高橋留美子</td>\n",
       "    </tr>\n",
       "    <tr>\n",
       "      <th>11</th>\n",
       "      <td>助推: 如何做出有关健康、财富与幸福的最佳决策</td>\n",
       "      <td>★★★</td>\n",
       "      <td>2022-03-20</td>\n",
       "      <td>NaN</td>\n",
       "      <td>理查德•泰勒、卡斯·桑斯坦 / 刘宁 / 中信出版社 / 2015-4-1 / CNY 45.00</td>\n",
       "      <td>https://book.douban.com/subject/26357680/</td>\n",
       "      <td>3月</td>\n",
       "      <td>12</td>\n",
       "      <td>理查德•泰勒、卡斯·桑斯坦</td>\n",
       "    </tr>\n",
       "    <tr>\n",
       "      <th>12</th>\n",
       "      <td>单向街 001: 最愚蠢的一代？</td>\n",
       "      <td>★★★</td>\n",
       "      <td>2022-03-25</td>\n",
       "      <td>NaN</td>\n",
       "      <td>梁文道 张大春 许知远等 / 凤凰出版社 / 2009-8 / 25.00元</td>\n",
       "      <td>https://book.douban.com/subject/3908625/</td>\n",
       "      <td>3月</td>\n",
       "      <td>13</td>\n",
       "      <td>梁文道 张大春 许知远等</td>\n",
       "    </tr>\n",
       "    <tr>\n",
       "      <th>13</th>\n",
       "      <td>亂馬1/2（卷十九）</td>\n",
       "      <td>★★★</td>\n",
       "      <td>2022-03-29</td>\n",
       "      <td>NaN</td>\n",
       "      <td>高橋留美子 / 文化传信有限公司 / HK$25</td>\n",
       "      <td>https://book.douban.com/subject/3911766/</td>\n",
       "      <td>3月</td>\n",
       "      <td>14</td>\n",
       "      <td>高橋留美子</td>\n",
       "    </tr>\n",
       "    <tr>\n",
       "      <th>14</th>\n",
       "      <td>这就是搜索引擎: 核心技术详解</td>\n",
       "      <td>★★★★</td>\n",
       "      <td>2022-04-10</td>\n",
       "      <td>NaN</td>\n",
       "      <td>张俊林 / 电子工业出版社 / 2012-1-1 / 45.00元</td>\n",
       "      <td>https://book.douban.com/subject/7006719/</td>\n",
       "      <td>4月</td>\n",
       "      <td>15</td>\n",
       "      <td>张俊林</td>\n",
       "    </tr>\n",
       "    <tr>\n",
       "      <th>15</th>\n",
       "      <td>以鸟兽之名</td>\n",
       "      <td>★★★</td>\n",
       "      <td>2022-04-14</td>\n",
       "      <td>NaN</td>\n",
       "      <td>孙频 / 人民文学出版社 / 2021-4 / 49</td>\n",
       "      <td>https://book.douban.com/subject/35456856/</td>\n",
       "      <td>4月</td>\n",
       "      <td>16</td>\n",
       "      <td>孙频</td>\n",
       "    </tr>\n",
       "    <tr>\n",
       "      <th>16</th>\n",
       "      <td>元宇宙的虚拟现实</td>\n",
       "      <td>★</td>\n",
       "      <td>2022-04-23</td>\n",
       "      <td>NaN</td>\n",
       "      <td>NaN</td>\n",
       "      <td>https://book.douban.com/subject/35789851/</td>\n",
       "      <td>4月</td>\n",
       "      <td>17</td>\n",
       "      <td>NaN</td>\n",
       "    </tr>\n",
       "    <tr>\n",
       "      <th>17</th>\n",
       "      <td>亂馬1/2（卷二十）</td>\n",
       "      <td>★★★</td>\n",
       "      <td>2022-04-26</td>\n",
       "      <td>NaN</td>\n",
       "      <td>高橋留美子 / 文化传信有限公司 / HK$25</td>\n",
       "      <td>https://book.douban.com/subject/3911789/</td>\n",
       "      <td>4月</td>\n",
       "      <td>18</td>\n",
       "      <td>高橋留美子</td>\n",
       "    </tr>\n",
       "    <tr>\n",
       "      <th>18</th>\n",
       "      <td>思想本质: 语言是洞察人类天性之窗</td>\n",
       "      <td>★★★★</td>\n",
       "      <td>2022-05-02</td>\n",
       "      <td>NaN</td>\n",
       "      <td>史蒂芬·平克 (Steven Pinker) / 张旭红、梅德明 / 浙江人民出版社 / 2...</td>\n",
       "      <td>https://book.douban.com/subject/26593192/</td>\n",
       "      <td>5月</td>\n",
       "      <td>19</td>\n",
       "      <td>史蒂芬·平克 (Steven Pinker)</td>\n",
       "    </tr>\n",
       "    <tr>\n",
       "      <th>19</th>\n",
       "      <td>秋园</td>\n",
       "      <td>★★★★</td>\n",
       "      <td>2022-05-06</td>\n",
       "      <td>NaN</td>\n",
       "      <td>杨本芬 / 北京联合出版公司 / 2020-6 / 38.00元</td>\n",
       "      <td>https://book.douban.com/subject/34998019/</td>\n",
       "      <td>5月</td>\n",
       "      <td>20</td>\n",
       "      <td>杨本芬</td>\n",
       "    </tr>\n",
       "    <tr>\n",
       "      <th>20</th>\n",
       "      <td>Python数据分析：活用Pandas库</td>\n",
       "      <td>★★★</td>\n",
       "      <td>2022-05-14</td>\n",
       "      <td>NaN</td>\n",
       "      <td>[美] 丹尼尔·陈 / 武传海 / 人民邮电出版社 / 2020-2 / 89.00元</td>\n",
       "      <td>https://book.douban.com/subject/34973484/</td>\n",
       "      <td>5月</td>\n",
       "      <td>21</td>\n",
       "      <td>[美] 丹尼尔·陈</td>\n",
       "    </tr>\n",
       "    <tr>\n",
       "      <th>21</th>\n",
       "      <td>夜晚的潜水艇</td>\n",
       "      <td>★★★★★</td>\n",
       "      <td>2022-05-22</td>\n",
       "      <td>NaN</td>\n",
       "      <td>陈春成 / 上海三联书店 / 2020-9 / 52.00元</td>\n",
       "      <td>https://book.douban.com/subject/35005045/</td>\n",
       "      <td>5月</td>\n",
       "      <td>22</td>\n",
       "      <td>陈春成</td>\n",
       "    </tr>\n",
       "    <tr>\n",
       "      <th>22</th>\n",
       "      <td>亂馬1/2（卷廿一）</td>\n",
       "      <td>★★★</td>\n",
       "      <td>2022-05-29</td>\n",
       "      <td>NaN</td>\n",
       "      <td>高橋留美子 / 文化传信有限公司 / HK$25</td>\n",
       "      <td>https://book.douban.com/subject/3911943/</td>\n",
       "      <td>5月</td>\n",
       "      <td>23</td>\n",
       "      <td>高橋留美子</td>\n",
       "    </tr>\n",
       "    <tr>\n",
       "      <th>23</th>\n",
       "      <td>梦游者: 1914年，欧洲如何走向“一战”</td>\n",
       "      <td>★★★</td>\n",
       "      <td>2022-06-01</td>\n",
       "      <td>NaN</td>\n",
       "      <td>[英]克里斯托弗·克拉克 / 董莹、肖潇 / 中信出版社 / 2014-9 / 69.00</td>\n",
       "      <td>https://book.douban.com/subject/25943355/</td>\n",
       "      <td>6月</td>\n",
       "      <td>24</td>\n",
       "      <td>[英]克里斯托弗·克拉克</td>\n",
       "    </tr>\n",
       "    <tr>\n",
       "      <th>24</th>\n",
       "      <td>SQL基础教程（第2版）: 第2版</td>\n",
       "      <td>★★★★</td>\n",
       "      <td>2022-06-11</td>\n",
       "      <td>NaN</td>\n",
       "      <td>[日] MICK / 孙　淼、罗　勇 / 人民邮电出版社 / 2017-6 / 79.00元</td>\n",
       "      <td>https://book.douban.com/subject/27055712/</td>\n",
       "      <td>6月</td>\n",
       "      <td>25</td>\n",
       "      <td>[日] MICK</td>\n",
       "    </tr>\n",
       "    <tr>\n",
       "      <th>25</th>\n",
       "      <td>师从天才: 一个科学王朝的崛起</td>\n",
       "      <td>★★★★</td>\n",
       "      <td>2022-06-15</td>\n",
       "      <td>NaN</td>\n",
       "      <td>[美] 罗伯特·卡尼格尔 / 江载芬、闫鲜宁、张新颖 / 上海科技教育出版社 / 2001-...</td>\n",
       "      <td>https://book.douban.com/subject/1028077/</td>\n",
       "      <td>6月</td>\n",
       "      <td>26</td>\n",
       "      <td>[美] 罗伯特·卡尼格尔</td>\n",
       "    </tr>\n",
       "    <tr>\n",
       "      <th>26</th>\n",
       "      <td>漫画半小时中国科技史</td>\n",
       "      <td>★</td>\n",
       "      <td>2022-06-21</td>\n",
       "      <td>NaN</td>\n",
       "      <td>胖乐胖乐/著绘 / 科学技术文献出版社 / 55.00</td>\n",
       "      <td>https://book.douban.com/subject/35498275/</td>\n",
       "      <td>6月</td>\n",
       "      <td>27</td>\n",
       "      <td>胖乐胖乐/著绘</td>\n",
       "    </tr>\n",
       "    <tr>\n",
       "      <th>27</th>\n",
       "      <td>亂馬1/2（卷廿二）</td>\n",
       "      <td>★★★★</td>\n",
       "      <td>2022-06-26</td>\n",
       "      <td>NaN</td>\n",
       "      <td>高橋留美子 / 文化传信有限公司 / HK$25</td>\n",
       "      <td>https://book.douban.com/subject/3928631/</td>\n",
       "      <td>6月</td>\n",
       "      <td>28</td>\n",
       "      <td>高橋留美子</td>\n",
       "    </tr>\n",
       "    <tr>\n",
       "      <th>28</th>\n",
       "      <td>貓之眼 1: 性感的火爆女郎之卷</td>\n",
       "      <td>★★★</td>\n",
       "      <td>2022-07-03</td>\n",
       "      <td>NaN</td>\n",
       "      <td>北条司 / 玉皇朝出版集團 / $28</td>\n",
       "      <td>https://book.douban.com/subject/2379682/</td>\n",
       "      <td>7月</td>\n",
       "      <td>29</td>\n",
       "      <td>北条司</td>\n",
       "    </tr>\n",
       "    <tr>\n",
       "      <th>29</th>\n",
       "      <td>女士品茶: 统计学如何变革了科学和生活</td>\n",
       "      <td>★★★</td>\n",
       "      <td>2022-07-17</td>\n",
       "      <td>NaN</td>\n",
       "      <td>[美]戴维·萨尔斯伯格 / 刘清山 / 江西人民出版社 / 2016-8 / 48.00</td>\n",
       "      <td>https://book.douban.com/subject/26838150/</td>\n",
       "      <td>7月</td>\n",
       "      <td>30</td>\n",
       "      <td>[美]戴维·萨尔斯伯格</td>\n",
       "    </tr>\n",
       "    <tr>\n",
       "      <th>30</th>\n",
       "      <td>高效写作的秘密: 美国1500多所高等院校指定写作教材</td>\n",
       "      <td>★★★</td>\n",
       "      <td>2022-07-21</td>\n",
       "      <td>NaN</td>\n",
       "      <td>［美］杰拉尔德·格拉夫、［美］凯茜·比肯施泰因 / 姜昊骞 / 天地出版社 / 2019-9...</td>\n",
       "      <td>https://book.douban.com/subject/34781627/</td>\n",
       "      <td>7月</td>\n",
       "      <td>31</td>\n",
       "      <td>［美］杰拉尔德·格拉夫、［美］凯茜·比肯施泰因</td>\n",
       "    </tr>\n",
       "    <tr>\n",
       "      <th>31</th>\n",
       "      <td>人的困境: 单读17</td>\n",
       "      <td>★★★★</td>\n",
       "      <td>2022-07-23</td>\n",
       "      <td>NaN</td>\n",
       "      <td>吴琦 主编 / 台海出版社 / 2018-6 / 45.00</td>\n",
       "      <td>https://book.douban.com/subject/30231509/</td>\n",
       "      <td>7月</td>\n",
       "      <td>32</td>\n",
       "      <td>吴琦 主编</td>\n",
       "    </tr>\n",
       "    <tr>\n",
       "      <th>32</th>\n",
       "      <td>亂馬1/2（卷廿三）</td>\n",
       "      <td>★★★</td>\n",
       "      <td>2022-07-24</td>\n",
       "      <td>NaN</td>\n",
       "      <td>高橋留美子 / 文化传信有限公司 / HK$25</td>\n",
       "      <td>https://book.douban.com/subject/3928646/</td>\n",
       "      <td>7月</td>\n",
       "      <td>33</td>\n",
       "      <td>高橋留美子</td>\n",
       "    </tr>\n",
       "    <tr>\n",
       "      <th>33</th>\n",
       "      <td>少年维特的烦恼</td>\n",
       "      <td>★★★★</td>\n",
       "      <td>2022-07-27</td>\n",
       "      <td>NaN</td>\n",
       "      <td>[德] 歌德 / 杨武能 / 人民文学出版社 / 2020-5 / 32.00元</td>\n",
       "      <td>https://book.douban.com/subject/34886656/</td>\n",
       "      <td>7月</td>\n",
       "      <td>34</td>\n",
       "      <td>[德] 歌德</td>\n",
       "    </tr>\n",
       "    <tr>\n",
       "      <th>34</th>\n",
       "      <td>双螺旋: 发现DNA结构的故事</td>\n",
       "      <td>★★</td>\n",
       "      <td>2022-08-04</td>\n",
       "      <td>NaN</td>\n",
       "      <td>[美]詹姆斯·沃森 / 刘望夷 / 上海译文出版社 / 2016-3 / 45.00元</td>\n",
       "      <td>https://book.douban.com/subject/26752488/</td>\n",
       "      <td>8月</td>\n",
       "      <td>35</td>\n",
       "      <td>[美]詹姆斯·沃森</td>\n",
       "    </tr>\n",
       "    <tr>\n",
       "      <th>35</th>\n",
       "      <td>亂馬1/2（卷廿四）</td>\n",
       "      <td>★★★</td>\n",
       "      <td>2022-08-08</td>\n",
       "      <td>NaN</td>\n",
       "      <td>高橋留美子 / 文化传信有限公司 / HK$25</td>\n",
       "      <td>https://book.douban.com/subject/3928651/</td>\n",
       "      <td>8月</td>\n",
       "      <td>36</td>\n",
       "      <td>高橋留美子</td>\n",
       "    </tr>\n",
       "    <tr>\n",
       "      <th>36</th>\n",
       "      <td>十分钟冥想</td>\n",
       "      <td>★★★★★</td>\n",
       "      <td>2022-08-11</td>\n",
       "      <td>NaN</td>\n",
       "      <td>［英］安迪·普迪科姆（Andy Puddicombe)、安迪·普迪科姆 / 王俊兰、王彦又 ...</td>\n",
       "      <td>https://book.douban.com/subject/34888157/</td>\n",
       "      <td>8月</td>\n",
       "      <td>37</td>\n",
       "      <td>［英］安迪·普迪科姆（Andy Puddicombe)、安迪·普迪科姆</td>\n",
       "    </tr>\n",
       "    <tr>\n",
       "      <th>37</th>\n",
       "      <td>元宇宙</td>\n",
       "      <td>★★★</td>\n",
       "      <td>2022-08-19</td>\n",
       "      <td>NaN</td>\n",
       "      <td>赵国栋、易欢欢、徐远重 著 / 中译出版社 / 2021-8 / 68.00元</td>\n",
       "      <td>https://book.douban.com/subject/35545521/</td>\n",
       "      <td>8月</td>\n",
       "      <td>38</td>\n",
       "      <td>赵国栋、易欢欢、徐远重 著</td>\n",
       "    </tr>\n",
       "    <tr>\n",
       "      <th>38</th>\n",
       "      <td>成功与运气</td>\n",
       "      <td>★★</td>\n",
       "      <td>2022-09-03</td>\n",
       "      <td>NaN</td>\n",
       "      <td>罗伯特·弗兰克 / 张琪 / 北京联合出版公司 / 2017-9 / 59.90</td>\n",
       "      <td>https://book.douban.com/subject/27126738/</td>\n",
       "      <td>9月</td>\n",
       "      <td>39</td>\n",
       "      <td>罗伯特·弗兰克</td>\n",
       "    </tr>\n",
       "    <tr>\n",
       "      <th>39</th>\n",
       "      <td>盲眼钟表匠</td>\n",
       "      <td>★★★★★</td>\n",
       "      <td>2022-09-17</td>\n",
       "      <td>NaN</td>\n",
       "      <td>[英] 理查德·道金斯 / 王德伦 / 重庆出版社 / 2005-5 / 22.00元</td>\n",
       "      <td>https://book.douban.com/subject/1427464/</td>\n",
       "      <td>9月</td>\n",
       "      <td>40</td>\n",
       "      <td>[英] 理查德·道金斯</td>\n",
       "    </tr>\n",
       "    <tr>\n",
       "      <th>40</th>\n",
       "      <td>亂馬1/2（卷廿五）</td>\n",
       "      <td>★★★</td>\n",
       "      <td>2022-09-18</td>\n",
       "      <td>NaN</td>\n",
       "      <td>高橋留美子 / 文化传信有限公司 / HK$25</td>\n",
       "      <td>https://book.douban.com/subject/3928659/</td>\n",
       "      <td>9月</td>\n",
       "      <td>41</td>\n",
       "      <td>高橋留美子</td>\n",
       "    </tr>\n",
       "    <tr>\n",
       "      <th>41</th>\n",
       "      <td>元宇宙大投资</td>\n",
       "      <td>★★★</td>\n",
       "      <td>2022-09-27</td>\n",
       "      <td>NaN</td>\n",
       "      <td>焦娟  易欢欢  毛永丰  著 / 中译出版社 / 2022-1 / 78.00元</td>\n",
       "      <td>https://book.douban.com/subject/35659748/</td>\n",
       "      <td>9月</td>\n",
       "      <td>42</td>\n",
       "      <td>焦娟  易欢欢  毛永丰  著</td>\n",
       "    </tr>\n",
       "    <tr>\n",
       "      <th>42</th>\n",
       "      <td>包法利夫人: 包法利夫人</td>\n",
       "      <td>★★★★★</td>\n",
       "      <td>2022-09-29</td>\n",
       "      <td>NaN</td>\n",
       "      <td>居斯塔夫·福楼拜 / 罗国林 / 北京理工大学出版社 / 2015-9-1 / CNY 50.00</td>\n",
       "      <td>https://book.douban.com/subject/30315592/</td>\n",
       "      <td>9月</td>\n",
       "      <td>43</td>\n",
       "      <td>居斯塔夫·福楼拜</td>\n",
       "    </tr>\n",
       "    <tr>\n",
       "      <th>43</th>\n",
       "      <td>象与骑象人（更新版）: 幸福的假设</td>\n",
       "      <td>★★★★★</td>\n",
       "      <td>2022-10-07</td>\n",
       "      <td>NaN</td>\n",
       "      <td>[美]乔纳森•海特（Jonathan Haidt） / 李静瑶 / 浙江人民出版社 / 20...</td>\n",
       "      <td>https://book.douban.com/subject/20260640/</td>\n",
       "      <td>10月</td>\n",
       "      <td>44</td>\n",
       "      <td>[美]乔纳森•海特（Jonathan Haidt）</td>\n",
       "    </tr>\n",
       "    <tr>\n",
       "      <th>44</th>\n",
       "      <td>亂馬1/2（卷廿六）</td>\n",
       "      <td>★★★</td>\n",
       "      <td>2022-10-20</td>\n",
       "      <td>NaN</td>\n",
       "      <td>高橋留美子 / 文化传信有限公司 / HK$25</td>\n",
       "      <td>https://book.douban.com/subject/3928667/</td>\n",
       "      <td>10月</td>\n",
       "      <td>45</td>\n",
       "      <td>高橋留美子</td>\n",
       "    </tr>\n",
       "    <tr>\n",
       "      <th>45</th>\n",
       "      <td>亂馬1/2（卷廿七）</td>\n",
       "      <td>★★★</td>\n",
       "      <td>2022-10-22</td>\n",
       "      <td>NaN</td>\n",
       "      <td>高橋留美子 / 文化传信有限公司 / HK$25</td>\n",
       "      <td>https://book.douban.com/subject/3928686/</td>\n",
       "      <td>10月</td>\n",
       "      <td>46</td>\n",
       "      <td>高橋留美子</td>\n",
       "    </tr>\n",
       "    <tr>\n",
       "      <th>46</th>\n",
       "      <td>摄影小史</td>\n",
       "      <td>★★★</td>\n",
       "      <td>2022-10-22</td>\n",
       "      <td>NaN</td>\n",
       "      <td>[德]瓦尔特·本雅明 / 许绮玲、林志明 / 广西师范大学出版社 / 2018-1 / 39...</td>\n",
       "      <td>https://book.douban.com/subject/27608151/</td>\n",
       "      <td>10月</td>\n",
       "      <td>47</td>\n",
       "      <td>[德]瓦尔特·本雅明</td>\n",
       "    </tr>\n",
       "    <tr>\n",
       "      <th>47</th>\n",
       "      <td>爱的博弈: 建立信任、避免背叛与不忠</td>\n",
       "      <td>★★★★</td>\n",
       "      <td>2022-10-27</td>\n",
       "      <td>NaN</td>\n",
       "      <td>约翰·戈特曼 (John Gottman)、娜恩·西尔弗 (Nan Silver) / 穆君...</td>\n",
       "      <td>https://book.douban.com/subject/25809012/</td>\n",
       "      <td>10月</td>\n",
       "      <td>48</td>\n",
       "      <td>约翰·戈特曼 (John Gottman)、娜恩·西尔弗 (Nan Silver)</td>\n",
       "    </tr>\n",
       "    <tr>\n",
       "      <th>48</th>\n",
       "      <td>黄金案: 大唐狄公案01</td>\n",
       "      <td>★★★★</td>\n",
       "      <td>2022-11-06</td>\n",
       "      <td>NaN</td>\n",
       "      <td>[荷] 高罗佩 / 张凌 / 上海译文出版社 / 2019-5 / 40.00</td>\n",
       "      <td>https://book.douban.com/subject/30281429/</td>\n",
       "      <td>11月</td>\n",
       "      <td>49</td>\n",
       "      <td>[荷] 高罗佩</td>\n",
       "    </tr>\n",
       "    <tr>\n",
       "      <th>49</th>\n",
       "      <td>亂馬1/2（卷廿八）</td>\n",
       "      <td>★★★</td>\n",
       "      <td>2022-11-14</td>\n",
       "      <td>NaN</td>\n",
       "      <td>高橋留美子 / 文化传信有限公司 / HK$25</td>\n",
       "      <td>https://book.douban.com/subject/3928696/</td>\n",
       "      <td>11月</td>\n",
       "      <td>50</td>\n",
       "      <td>高橋留美子</td>\n",
       "    </tr>\n",
       "    <tr>\n",
       "      <th>50</th>\n",
       "      <td>Make: Getting Started with Processing.py: Maki...</td>\n",
       "      <td>★★★★</td>\n",
       "      <td>2022-11-25</td>\n",
       "      <td>NaN</td>\n",
       "      <td>Allison Parrish、Ben Fry、Casey Reas / Maker Med...</td>\n",
       "      <td>https://book.douban.com/subject/30216217/</td>\n",
       "      <td>11月</td>\n",
       "      <td>51</td>\n",
       "      <td>Allison Parrish、Ben Fry、Casey Reas</td>\n",
       "    </tr>\n",
       "    <tr>\n",
       "      <th>51</th>\n",
       "      <td>LEARN PYTHON VISUALLY: CREATIVE CODING WITH PR...</td>\n",
       "      <td>★★★</td>\n",
       "      <td>2022-11-27</td>\n",
       "      <td>NaN</td>\n",
       "      <td>NaN</td>\n",
       "      <td>https://book.douban.com/subject/35909803/</td>\n",
       "      <td>11月</td>\n",
       "      <td>52</td>\n",
       "      <td>NaN</td>\n",
       "    </tr>\n",
       "    <tr>\n",
       "      <th>52</th>\n",
       "      <td>生吞</td>\n",
       "      <td>★★★</td>\n",
       "      <td>2022-11-30</td>\n",
       "      <td>NaN</td>\n",
       "      <td>郑执 / 浙江文艺出版社 / 2017-11-1 / 39.00</td>\n",
       "      <td>https://book.douban.com/subject/27170951/</td>\n",
       "      <td>11月</td>\n",
       "      <td>53</td>\n",
       "      <td>郑执</td>\n",
       "    </tr>\n",
       "    <tr>\n",
       "      <th>53</th>\n",
       "      <td>七十二堂写作课: 夏丏尊、叶圣陶教你写文章</td>\n",
       "      <td>★★★</td>\n",
       "      <td>2022-12-11</td>\n",
       "      <td>NaN</td>\n",
       "      <td>夏丏尊、叶圣陶 / 开明出版社 / 2017-8 / 48.00元</td>\n",
       "      <td>https://book.douban.com/subject/27122346/</td>\n",
       "      <td>12月</td>\n",
       "      <td>54</td>\n",
       "      <td>夏丏尊、叶圣陶</td>\n",
       "    </tr>\n",
       "    <tr>\n",
       "      <th>54</th>\n",
       "      <td>亂馬1/2（卷廿九）</td>\n",
       "      <td>★★★★★</td>\n",
       "      <td>2022-12-18</td>\n",
       "      <td>NaN</td>\n",
       "      <td>高橋留美子 / 文化传信有限公司 / HK$25</td>\n",
       "      <td>https://book.douban.com/subject/3990420/</td>\n",
       "      <td>12月</td>\n",
       "      <td>55</td>\n",
       "      <td>高橋留美子</td>\n",
       "    </tr>\n",
       "    <tr>\n",
       "      <th>55</th>\n",
       "      <td>失落的卫星: 深入中亚大陆的旅程</td>\n",
       "      <td>★★★★★</td>\n",
       "      <td>2022-12-18</td>\n",
       "      <td>NaN</td>\n",
       "      <td>刘子超 / 文汇出版社 / 2020-7 / 69.00元</td>\n",
       "      <td>https://book.douban.com/subject/35025453/</td>\n",
       "      <td>12月</td>\n",
       "      <td>56</td>\n",
       "      <td>刘子超</td>\n",
       "    </tr>\n",
       "    <tr>\n",
       "      <th>56</th>\n",
       "      <td>逻辑的引擎</td>\n",
       "      <td>★★★</td>\n",
       "      <td>2022-12-25</td>\n",
       "      <td>NaN</td>\n",
       "      <td>[美] 马丁•戴维斯 / 张卜天 / 湖南科学技术出版社 / 2018-1 / 49.00</td>\n",
       "      <td>https://book.douban.com/subject/30171335/</td>\n",
       "      <td>12月</td>\n",
       "      <td>57</td>\n",
       "      <td>[美] 马丁•戴维斯</td>\n",
       "    </tr>\n",
       "    <tr>\n",
       "      <th>57</th>\n",
       "      <td>人类的荣耀: 是什么让我们独一无二</td>\n",
       "      <td>★★★★</td>\n",
       "      <td>2022-12-31</td>\n",
       "      <td>NaN</td>\n",
       "      <td>[美] 迈克尔·加扎尼加（Michael S. Gazzaniga / 彭雅伦 / 北京联合...</td>\n",
       "      <td>https://book.douban.com/subject/26862325/</td>\n",
       "      <td>12月</td>\n",
       "      <td>58</td>\n",
       "      <td>[美] 迈克尔·加扎尼加（Michael S. Gazzaniga</td>\n",
       "    </tr>\n",
       "  </tbody>\n",
       "</table>\n",
       "</div>"
      ],
      "text/plain": [
       "                                                   书名     评分       读完时间  标签  \\\n",
       "0                                           禅与摩托车维修艺术    ★★★ 2022-01-16 NaN   \n",
       "1                                                文章自在   ★★★★ 2022-01-26 NaN   \n",
       "2                                             晨间日记的奇迹    ★★★ 2022-01-29 NaN   \n",
       "3                                     星之继承者 2 温柔的伽星巨人   ★★★★ 2022-01-30 NaN   \n",
       "4                                          亂馬1/2（卷十五）   ★★★★ 2022-02-01 NaN   \n",
       "5                                 塞尔达传说 旷野之息 中文版完全攻略本   ★★★★ 2022-02-02 NaN   \n",
       "6                                                 七夜雪    ★★★ 2022-02-10 NaN   \n",
       "7                                          亂馬1/2（卷十六）   ★★★★ 2022-02-20 NaN   \n",
       "8                                          亂馬1/2（卷十七）    ★★★ 2022-02-20 NaN   \n",
       "9                          镜厅: 大萧条、大衰退，我们做对了什么，又做错了什么    ★★★ 2022-02-23 NaN   \n",
       "10                                         亂馬1/2（卷十八）     ★★ 2022-03-04 NaN   \n",
       "11                            助推: 如何做出有关健康、财富与幸福的最佳决策    ★★★ 2022-03-20 NaN   \n",
       "12                                   单向街 001: 最愚蠢的一代？    ★★★ 2022-03-25 NaN   \n",
       "13                                         亂馬1/2（卷十九）    ★★★ 2022-03-29 NaN   \n",
       "14                                    这就是搜索引擎: 核心技术详解   ★★★★ 2022-04-10 NaN   \n",
       "15                                              以鸟兽之名    ★★★ 2022-04-14 NaN   \n",
       "16                                           元宇宙的虚拟现实      ★ 2022-04-23 NaN   \n",
       "17                                         亂馬1/2（卷二十）    ★★★ 2022-04-26 NaN   \n",
       "18                                  思想本质: 语言是洞察人类天性之窗   ★★★★ 2022-05-02 NaN   \n",
       "19                                                 秋园   ★★★★ 2022-05-06 NaN   \n",
       "20                               Python数据分析：活用Pandas库    ★★★ 2022-05-14 NaN   \n",
       "21                                             夜晚的潜水艇  ★★★★★ 2022-05-22 NaN   \n",
       "22                                         亂馬1/2（卷廿一）    ★★★ 2022-05-29 NaN   \n",
       "23                              梦游者: 1914年，欧洲如何走向“一战”    ★★★ 2022-06-01 NaN   \n",
       "24                                  SQL基础教程（第2版）: 第2版   ★★★★ 2022-06-11 NaN   \n",
       "25                                    师从天才: 一个科学王朝的崛起   ★★★★ 2022-06-15 NaN   \n",
       "26                                         漫画半小时中国科技史      ★ 2022-06-21 NaN   \n",
       "27                                         亂馬1/2（卷廿二）   ★★★★ 2022-06-26 NaN   \n",
       "28                                   貓之眼 1: 性感的火爆女郎之卷    ★★★ 2022-07-03 NaN   \n",
       "29                                女士品茶: 统计学如何变革了科学和生活    ★★★ 2022-07-17 NaN   \n",
       "30                        高效写作的秘密: 美国1500多所高等院校指定写作教材    ★★★ 2022-07-21 NaN   \n",
       "31                                         人的困境: 单读17   ★★★★ 2022-07-23 NaN   \n",
       "32                                         亂馬1/2（卷廿三）    ★★★ 2022-07-24 NaN   \n",
       "33                                            少年维特的烦恼   ★★★★ 2022-07-27 NaN   \n",
       "34                                    双螺旋: 发现DNA结构的故事     ★★ 2022-08-04 NaN   \n",
       "35                                         亂馬1/2（卷廿四）    ★★★ 2022-08-08 NaN   \n",
       "36                                              十分钟冥想  ★★★★★ 2022-08-11 NaN   \n",
       "37                                                元宇宙    ★★★ 2022-08-19 NaN   \n",
       "38                                              成功与运气     ★★ 2022-09-03 NaN   \n",
       "39                                              盲眼钟表匠  ★★★★★ 2022-09-17 NaN   \n",
       "40                                         亂馬1/2（卷廿五）    ★★★ 2022-09-18 NaN   \n",
       "41                                             元宇宙大投资    ★★★ 2022-09-27 NaN   \n",
       "42                                       包法利夫人: 包法利夫人  ★★★★★ 2022-09-29 NaN   \n",
       "43                                  象与骑象人（更新版）: 幸福的假设  ★★★★★ 2022-10-07 NaN   \n",
       "44                                         亂馬1/2（卷廿六）    ★★★ 2022-10-20 NaN   \n",
       "45                                         亂馬1/2（卷廿七）    ★★★ 2022-10-22 NaN   \n",
       "46                                               摄影小史    ★★★ 2022-10-22 NaN   \n",
       "47                                 爱的博弈: 建立信任、避免背叛与不忠   ★★★★ 2022-10-27 NaN   \n",
       "48                                       黄金案: 大唐狄公案01   ★★★★ 2022-11-06 NaN   \n",
       "49                                         亂馬1/2（卷廿八）    ★★★ 2022-11-14 NaN   \n",
       "50  Make: Getting Started with Processing.py: Maki...   ★★★★ 2022-11-25 NaN   \n",
       "51  LEARN PYTHON VISUALLY: CREATIVE CODING WITH PR...    ★★★ 2022-11-27 NaN   \n",
       "52                                                 生吞    ★★★ 2022-11-30 NaN   \n",
       "53                              七十二堂写作课: 夏丏尊、叶圣陶教你写文章    ★★★ 2022-12-11 NaN   \n",
       "54                                         亂馬1/2（卷廿九）  ★★★★★ 2022-12-18 NaN   \n",
       "55                                   失落的卫星: 深入中亚大陆的旅程  ★★★★★ 2022-12-18 NaN   \n",
       "56                                              逻辑的引擎    ★★★ 2022-12-25 NaN   \n",
       "57                                  人类的荣耀: 是什么让我们独一无二   ★★★★ 2022-12-31 NaN   \n",
       "\n",
       "                                                   备注  \\\n",
       "0   罗伯特•M.波西格 (Robert M.Pirsig) / 张国辰 / 重庆出版社 / 20...   \n",
       "1                   张大春 / 广西师范大学出版社 / 2017-1 / 36.00元   \n",
       "2            [日] 佐藤傳 / 赵明敏 / 南海出版公司 / 2009-5 / 25.00元   \n",
       "3   [英] 詹姆斯·P.霍根 / [加] 仇春卉 / 新星出版社 / 2021-4 / 59.00 元   \n",
       "4                        高橋留美子 / 玉郎图书文化传信有限公司 / HK$25   \n",
       "5                                 UCG / 2018-5 / 136元   \n",
       "6                   沧月 / 北京十月文艺出版社 / 2006-10 / 25.00元   \n",
       "7                        高橋留美子 / 玉郎图书文化传信有限公司 / HK$25   \n",
       "8                        高橋留美子 / 玉郎图书文化传信有限公司 / HK$25   \n",
       "9   [美] 巴里·埃森格林、Barry Eichengreen / 何帆 / 中信出版社 / 2...   \n",
       "10                           高橋留美子 / 文化传信有限公司 / HK$25   \n",
       "11  理查德•泰勒、卡斯·桑斯坦 / 刘宁 / 中信出版社 / 2015-4-1 / CNY 45.00   \n",
       "12             梁文道 张大春 许知远等 / 凤凰出版社 / 2009-8 / 25.00元   \n",
       "13                           高橋留美子 / 文化传信有限公司 / HK$25   \n",
       "14                  张俊林 / 电子工业出版社 / 2012-1-1 / 45.00元   \n",
       "15                         孙频 / 人民文学出版社 / 2021-4 / 49   \n",
       "16                                                NaN   \n",
       "17                           高橋留美子 / 文化传信有限公司 / HK$25   \n",
       "18  史蒂芬·平克 (Steven Pinker) / 张旭红、梅德明 / 浙江人民出版社 / 2...   \n",
       "19                   杨本芬 / 北京联合出版公司 / 2020-6 / 38.00元   \n",
       "20        [美] 丹尼尔·陈 / 武传海 / 人民邮电出版社 / 2020-2 / 89.00元   \n",
       "21                     陈春成 / 上海三联书店 / 2020-9 / 52.00元   \n",
       "22                           高橋留美子 / 文化传信有限公司 / HK$25   \n",
       "23      [英]克里斯托弗·克拉克 / 董莹、肖潇 / 中信出版社 / 2014-9 / 69.00   \n",
       "24     [日] MICK / 孙　淼、罗　勇 / 人民邮电出版社 / 2017-6 / 79.00元   \n",
       "25  [美] 罗伯特·卡尼格尔 / 江载芬、闫鲜宁、张新颖 / 上海科技教育出版社 / 2001-...   \n",
       "26                        胖乐胖乐/著绘 / 科学技术文献出版社 / 55.00   \n",
       "27                           高橋留美子 / 文化传信有限公司 / HK$25   \n",
       "28                                北条司 / 玉皇朝出版集團 / $28   \n",
       "29       [美]戴维·萨尔斯伯格 / 刘清山 / 江西人民出版社 / 2016-8 / 48.00   \n",
       "30  ［美］杰拉尔德·格拉夫、［美］凯茜·比肯施泰因 / 姜昊骞 / 天地出版社 / 2019-9...   \n",
       "31                     吴琦 主编 / 台海出版社 / 2018-6 / 45.00   \n",
       "32                           高橋留美子 / 文化传信有限公司 / HK$25   \n",
       "33           [德] 歌德 / 杨武能 / 人民文学出版社 / 2020-5 / 32.00元   \n",
       "34        [美]詹姆斯·沃森 / 刘望夷 / 上海译文出版社 / 2016-3 / 45.00元   \n",
       "35                           高橋留美子 / 文化传信有限公司 / HK$25   \n",
       "36  ［英］安迪·普迪科姆（Andy Puddicombe)、安迪·普迪科姆 / 王俊兰、王彦又 ...   \n",
       "37            赵国栋、易欢欢、徐远重 著 / 中译出版社 / 2021-8 / 68.00元   \n",
       "38           罗伯特·弗兰克 / 张琪 / 北京联合出版公司 / 2017-9 / 59.90   \n",
       "39        [英] 理查德·道金斯 / 王德伦 / 重庆出版社 / 2005-5 / 22.00元   \n",
       "40                           高橋留美子 / 文化传信有限公司 / HK$25   \n",
       "41          焦娟  易欢欢  毛永丰  著 / 中译出版社 / 2022-1 / 78.00元   \n",
       "42  居斯塔夫·福楼拜 / 罗国林 / 北京理工大学出版社 / 2015-9-1 / CNY 50.00   \n",
       "43  [美]乔纳森•海特（Jonathan Haidt） / 李静瑶 / 浙江人民出版社 / 20...   \n",
       "44                           高橋留美子 / 文化传信有限公司 / HK$25   \n",
       "45                           高橋留美子 / 文化传信有限公司 / HK$25   \n",
       "46  [德]瓦尔特·本雅明 / 许绮玲、林志明 / 广西师范大学出版社 / 2018-1 / 39...   \n",
       "47  约翰·戈特曼 (John Gottman)、娜恩·西尔弗 (Nan Silver) / 穆君...   \n",
       "48            [荷] 高罗佩 / 张凌 / 上海译文出版社 / 2019-5 / 40.00   \n",
       "49                           高橋留美子 / 文化传信有限公司 / HK$25   \n",
       "50  Allison Parrish、Ben Fry、Casey Reas / Maker Med...   \n",
       "51                                                NaN   \n",
       "52                   郑执 / 浙江文艺出版社 / 2017-11-1 / 39.00   \n",
       "53                  夏丏尊、叶圣陶 / 开明出版社 / 2017-8 / 48.00元   \n",
       "54                           高橋留美子 / 文化传信有限公司 / HK$25   \n",
       "55                      刘子超 / 文汇出版社 / 2020-7 / 69.00元   \n",
       "56      [美] 马丁•戴维斯 / 张卜天 / 湖南科学技术出版社 / 2018-1 / 49.00   \n",
       "57  [美] 迈克尔·加扎尼加（Michael S. Gazzaniga / 彭雅伦 / 北京联合...   \n",
       "\n",
       "                                         豆瓣链接   月份  累计数量  \\\n",
       "0    https://book.douban.com/subject/6811366/   1月     1   \n",
       "1   https://book.douban.com/subject/26940987/   1月     2   \n",
       "2    https://book.douban.com/subject/3744041/   1月     3   \n",
       "3   https://book.douban.com/subject/35314089/   1月     4   \n",
       "4    https://book.douban.com/subject/3894723/   2月     5   \n",
       "5   https://book.douban.com/subject/35269682/   2月     6   \n",
       "6    https://book.douban.com/subject/1919201/   2月     7   \n",
       "7    https://book.douban.com/subject/3911696/   2月     8   \n",
       "8    https://book.douban.com/subject/3911711/   2月     9   \n",
       "9   https://book.douban.com/subject/26851886/   2月    10   \n",
       "10   https://book.douban.com/subject/3911733/   3月    11   \n",
       "11  https://book.douban.com/subject/26357680/   3月    12   \n",
       "12   https://book.douban.com/subject/3908625/   3月    13   \n",
       "13   https://book.douban.com/subject/3911766/   3月    14   \n",
       "14   https://book.douban.com/subject/7006719/   4月    15   \n",
       "15  https://book.douban.com/subject/35456856/   4月    16   \n",
       "16  https://book.douban.com/subject/35789851/   4月    17   \n",
       "17   https://book.douban.com/subject/3911789/   4月    18   \n",
       "18  https://book.douban.com/subject/26593192/   5月    19   \n",
       "19  https://book.douban.com/subject/34998019/   5月    20   \n",
       "20  https://book.douban.com/subject/34973484/   5月    21   \n",
       "21  https://book.douban.com/subject/35005045/   5月    22   \n",
       "22   https://book.douban.com/subject/3911943/   5月    23   \n",
       "23  https://book.douban.com/subject/25943355/   6月    24   \n",
       "24  https://book.douban.com/subject/27055712/   6月    25   \n",
       "25   https://book.douban.com/subject/1028077/   6月    26   \n",
       "26  https://book.douban.com/subject/35498275/   6月    27   \n",
       "27   https://book.douban.com/subject/3928631/   6月    28   \n",
       "28   https://book.douban.com/subject/2379682/   7月    29   \n",
       "29  https://book.douban.com/subject/26838150/   7月    30   \n",
       "30  https://book.douban.com/subject/34781627/   7月    31   \n",
       "31  https://book.douban.com/subject/30231509/   7月    32   \n",
       "32   https://book.douban.com/subject/3928646/   7月    33   \n",
       "33  https://book.douban.com/subject/34886656/   7月    34   \n",
       "34  https://book.douban.com/subject/26752488/   8月    35   \n",
       "35   https://book.douban.com/subject/3928651/   8月    36   \n",
       "36  https://book.douban.com/subject/34888157/   8月    37   \n",
       "37  https://book.douban.com/subject/35545521/   8月    38   \n",
       "38  https://book.douban.com/subject/27126738/   9月    39   \n",
       "39   https://book.douban.com/subject/1427464/   9月    40   \n",
       "40   https://book.douban.com/subject/3928659/   9月    41   \n",
       "41  https://book.douban.com/subject/35659748/   9月    42   \n",
       "42  https://book.douban.com/subject/30315592/   9月    43   \n",
       "43  https://book.douban.com/subject/20260640/  10月    44   \n",
       "44   https://book.douban.com/subject/3928667/  10月    45   \n",
       "45   https://book.douban.com/subject/3928686/  10月    46   \n",
       "46  https://book.douban.com/subject/27608151/  10月    47   \n",
       "47  https://book.douban.com/subject/25809012/  10月    48   \n",
       "48  https://book.douban.com/subject/30281429/  11月    49   \n",
       "49   https://book.douban.com/subject/3928696/  11月    50   \n",
       "50  https://book.douban.com/subject/30216217/  11月    51   \n",
       "51  https://book.douban.com/subject/35909803/  11月    52   \n",
       "52  https://book.douban.com/subject/27170951/  11月    53   \n",
       "53  https://book.douban.com/subject/27122346/  12月    54   \n",
       "54   https://book.douban.com/subject/3990420/  12月    55   \n",
       "55  https://book.douban.com/subject/35025453/  12月    56   \n",
       "56  https://book.douban.com/subject/30171335/  12月    57   \n",
       "57  https://book.douban.com/subject/26862325/  12月    58   \n",
       "\n",
       "                                           作者  \n",
       "0                 罗伯特•M.波西格 (Robert M.Pirsig)  \n",
       "1                                         张大春  \n",
       "2                                     [日] 佐藤傳  \n",
       "3                                [英] 詹姆斯·P.霍根  \n",
       "4                                       高橋留美子  \n",
       "5                                         UCG  \n",
       "6                                          沧月  \n",
       "7                                       高橋留美子  \n",
       "8                                       高橋留美子  \n",
       "9               [美] 巴里·埃森格林、Barry Eichengreen  \n",
       "10                                      高橋留美子  \n",
       "11                              理查德•泰勒、卡斯·桑斯坦  \n",
       "12                               梁文道 张大春 许知远等  \n",
       "13                                      高橋留美子  \n",
       "14                                        张俊林  \n",
       "15                                         孙频  \n",
       "16                                        NaN  \n",
       "17                                      高橋留美子  \n",
       "18                     史蒂芬·平克 (Steven Pinker)  \n",
       "19                                        杨本芬  \n",
       "20                                  [美] 丹尼尔·陈  \n",
       "21                                        陈春成  \n",
       "22                                      高橋留美子  \n",
       "23                               [英]克里斯托弗·克拉克  \n",
       "24                                   [日] MICK  \n",
       "25                               [美] 罗伯特·卡尼格尔  \n",
       "26                                    胖乐胖乐/著绘  \n",
       "27                                      高橋留美子  \n",
       "28                                        北条司  \n",
       "29                                [美]戴维·萨尔斯伯格  \n",
       "30                    ［美］杰拉尔德·格拉夫、［美］凯茜·比肯施泰因  \n",
       "31                                      吴琦 主编  \n",
       "32                                      高橋留美子  \n",
       "33                                     [德] 歌德  \n",
       "34                                  [美]詹姆斯·沃森  \n",
       "35                                      高橋留美子  \n",
       "36        ［英］安迪·普迪科姆（Andy Puddicombe)、安迪·普迪科姆  \n",
       "37                              赵国栋、易欢欢、徐远重 著  \n",
       "38                                    罗伯特·弗兰克  \n",
       "39                                [英] 理查德·道金斯  \n",
       "40                                      高橋留美子  \n",
       "41                            焦娟  易欢欢  毛永丰  著  \n",
       "42                                   居斯塔夫·福楼拜  \n",
       "43                  [美]乔纳森•海特（Jonathan Haidt）  \n",
       "44                                      高橋留美子  \n",
       "45                                      高橋留美子  \n",
       "46                                 [德]瓦尔特·本雅明  \n",
       "47  约翰·戈特曼 (John Gottman)、娜恩·西尔弗 (Nan Silver)  \n",
       "48                                    [荷] 高罗佩  \n",
       "49                                      高橋留美子  \n",
       "50         Allison Parrish、Ben Fry、Casey Reas  \n",
       "51                                        NaN  \n",
       "52                                         郑执  \n",
       "53                                    夏丏尊、叶圣陶  \n",
       "54                                      高橋留美子  \n",
       "55                                        刘子超  \n",
       "56                                 [美] 马丁•戴维斯  \n",
       "57          [美] 迈克尔·加扎尼加（Michael S. Gazzaniga  "
      ]
     },
     "execution_count": 15,
     "metadata": {},
     "output_type": "execute_result"
    }
   ],
   "source": [
    "df = pd.read_excel(\"2022年读书小结.xlsx\")\n",
    "df"
   ]
  },
  {
   "cell_type": "code",
   "execution_count": 16,
   "metadata": {},
   "outputs": [
    {
     "data": {
      "image/png": "[encoded data removed]",
      "text/plain": [
       "<Figure size 640x480 with 1 Axes>"
      ]
     },
     "metadata": {},
     "output_type": "display_data"
    },
    {
     "data": {
      "text/plain": [
       "<ggplot: (108169478361)>"
      ]
     },
     "execution_count": 16,
     "metadata": {},
     "output_type": "execute_result"
    }
   ],
   "source": [
    "(ggplot(df, aes(x='读完时间', y='累计数量'))\n",
    "    # + geom_line()\n",
    "    + geom_step(color='grey')\n",
    "    + geom_point(aes(color='月份'), size=.7)\n",
    "    + labs(x='时间', y='累计阅读数量', title='2022年读书时间记录')\n",
    "    + guides(color=False)\n",
    "    + theme(text=element_text(family=\"SimHei\"),\n",
    "            # axis_text_x=element_text(size=12),\n",
    "            axis_text_y=element_text(size=12),\n",
    "            )\n",
    ")"
   ]
  },
  {
   "cell_type": "code",
   "execution_count": 17,
   "metadata": {},
   "outputs": [
    {
     "data": {
      "text/html": [
       "<svg  width=\"660\" height=\"55\"><rect x=\"0\" y=\"0\" width=\"55\" height=\"55\" style=\"fill:#8dd3c7;stroke-width:2;stroke:rgb(255,255,255)\"/><rect x=\"55\" y=\"0\" width=\"55\" height=\"55\" style=\"fill:#ffffb3;stroke-width:2;stroke:rgb(255,255,255)\"/><rect x=\"110\" y=\"0\" width=\"55\" height=\"55\" style=\"fill:#bebada;stroke-width:2;stroke:rgb(255,255,255)\"/><rect x=\"165\" y=\"0\" width=\"55\" height=\"55\" style=\"fill:#fb8072;stroke-width:2;stroke:rgb(255,255,255)\"/><rect x=\"220\" y=\"0\" width=\"55\" height=\"55\" style=\"fill:#80b1d3;stroke-width:2;stroke:rgb(255,255,255)\"/><rect x=\"275\" y=\"0\" width=\"55\" height=\"55\" style=\"fill:#fdb462;stroke-width:2;stroke:rgb(255,255,255)\"/><rect x=\"330\" y=\"0\" width=\"55\" height=\"55\" style=\"fill:#b3de69;stroke-width:2;stroke:rgb(255,255,255)\"/><rect x=\"385\" y=\"0\" width=\"55\" height=\"55\" style=\"fill:#fccde5;stroke-width:2;stroke:rgb(255,255,255)\"/><rect x=\"440\" y=\"0\" width=\"55\" height=\"55\" style=\"fill:#d9d9d9;stroke-width:2;stroke:rgb(255,255,255)\"/><rect x=\"495\" y=\"0\" width=\"55\" height=\"55\" style=\"fill:#bc80bd;stroke-width:2;stroke:rgb(255,255,255)\"/><rect x=\"550\" y=\"0\" width=\"55\" height=\"55\" style=\"fill:#ccebc5;stroke-width:2;stroke:rgb(255,255,255)\"/><rect x=\"605\" y=\"0\" width=\"55\" height=\"55\" style=\"fill:#ffed6f;stroke-width:2;stroke:rgb(255,255,255)\"/></svg>"
      ],
      "text/plain": [
       "['#8dd3c7',\n",
       " '#ffffb3',\n",
       " '#bebada',\n",
       " '#fb8072',\n",
       " '#80b1d3',\n",
       " '#fdb462',\n",
       " '#b3de69',\n",
       " '#fccde5',\n",
       " '#d9d9d9',\n",
       " '#bc80bd',\n",
       " '#ccebc5',\n",
       " '#ffed6f']"
      ]
     },
     "execution_count": 17,
     "metadata": {},
     "output_type": "execute_result"
    }
   ],
   "source": [
    "sns.color_palette(\"Set3\", 12).as_hex()"
   ]
  },
  {
   "cell_type": "code",
   "execution_count": 18,
   "metadata": {},
   "outputs": [
    {
     "data": {
      "image/png": "[encoded data removed]",
      "text/plain": [
       "<Figure size 640x480 with 1 Axes>"
      ]
     },
     "metadata": {},
     "output_type": "display_data"
    },
    {
     "data": {
      "text/plain": [
       "<ggplot: (108169653221)>"
      ]
     },
     "execution_count": 18,
     "metadata": {},
     "output_type": "execute_result"
    }
   ],
   "source": [
    "# colors = sns.color_palette(\"Reds\").as_hex()\n",
    "colors = [sns.color_palette(\"Set3\", 12).as_hex()[i] for i in [0, 4, 2, 5, 3]]\n",
    "\n",
    "(ggplot(df, aes(x='月份'))\n",
    "    # + geom_bar(fill='lightblue')\n",
    "    + geom_bar(aes(fill='factor(评分)', group='factor(评分)'))\n",
    "    + scale_fill_manual(values=colors)\n",
    "    + labs(x='', y='', title='2022年月度读书数量', fill='评分')\n",
    "    + theme(text=element_text(family=\"SimHei\"),\n",
    "            axis_text_x=element_text(size=12),\n",
    "            axis_text_y=element_text(size=12),\n",
    "            )\n",
    ")\n"
   ]
  },
  {
   "cell_type": "code",
   "execution_count": 19,
   "metadata": {},
   "outputs": [
    {
     "data": {
      "text/html": [
       "<div>\n",
       "<style scoped>\n",
       "    .dataframe tbody tr th:only-of-type {\n",
       "        vertical-align: middle;\n",
       "    }\n",
       "\n",
       "    .dataframe tbody tr th {\n",
       "        vertical-align: top;\n",
       "    }\n",
       "\n",
       "    .dataframe thead th {\n",
       "        text-align: right;\n",
       "    }\n",
       "</style>\n",
       "<table border=\"1\" class=\"dataframe\">\n",
       "  <thead>\n",
       "    <tr style=\"text-align: right;\">\n",
       "      <th></th>\n",
       "      <th>评分</th>\n",
       "      <th>书名</th>\n",
       "      <th>x</th>\n",
       "    </tr>\n",
       "  </thead>\n",
       "  <tbody>\n",
       "    <tr>\n",
       "      <th>0</th>\n",
       "      <td>1分</td>\n",
       "      <td>2</td>\n",
       "      <td>1</td>\n",
       "    </tr>\n",
       "    <tr>\n",
       "      <th>1</th>\n",
       "      <td>2分</td>\n",
       "      <td>3</td>\n",
       "      <td>1</td>\n",
       "    </tr>\n",
       "    <tr>\n",
       "      <th>2</th>\n",
       "      <td>3分</td>\n",
       "      <td>29</td>\n",
       "      <td>1</td>\n",
       "    </tr>\n",
       "    <tr>\n",
       "      <th>3</th>\n",
       "      <td>4分</td>\n",
       "      <td>17</td>\n",
       "      <td>1</td>\n",
       "    </tr>\n",
       "    <tr>\n",
       "      <th>4</th>\n",
       "      <td>5分</td>\n",
       "      <td>7</td>\n",
       "      <td>1</td>\n",
       "    </tr>\n",
       "  </tbody>\n",
       "</table>\n",
       "</div>"
      ],
      "text/plain": [
       "   评分  书名  x\n",
       "0  1分   2  1\n",
       "1  2分   3  1\n",
       "2  3分  29  1\n",
       "3  4分  17  1\n",
       "4  5分   7  1"
      ]
     },
     "execution_count": 19,
     "metadata": {},
     "output_type": "execute_result"
    }
   ],
   "source": [
    "df_score = df.groupby('评分', as_index=False).count()[['评分', '书名']]\n",
    "df_score['评分'] = df_score['评分'].map(len).astype(str) + '分'\n",
    "df_score['评分'] = pd.Categorical(df_score['评分'], categories=reversed(['1分', '2分', '3分', '4分', '5分']))\n",
    "df_score['x'] = 1\n",
    "df_score"
   ]
  },
  {
   "cell_type": "code",
   "execution_count": 20,
   "metadata": {},
   "outputs": [
    {
     "data": {
      "image/png": "[encoded data removed]",
      "text/plain": [
       "<Figure size 650x50 with 1 Axes>"
      ]
     },
     "metadata": {},
     "output_type": "display_data"
    },
    {
     "data": {
      "text/plain": [
       "<ggplot: (108169618670)>"
      ]
     },
     "execution_count": 20,
     "metadata": {},
     "output_type": "execute_result"
    }
   ],
   "source": [
    "# colors_r = sns.color_palette(\"Reds_r\").as_hex()\n",
    "colors_r = list(reversed(colors))\n",
    "\n",
    "(ggplot(df_score)\n",
    "    + geom_col(aes(x='x', y='书名', fill='评分'))\n",
    "    # + geom_text(aes(label='书名'), )\n",
    "    + scale_fill_manual(values=colors_r)\n",
    "    + labs(x='', y='', title=f'书籍评价分布（共{df_score[\"书名\"].sum()}本）')\n",
    "    + scale_x_continuous(breaks=None)\n",
    "    # + guides(fill = guide_legend(reverse=True))\n",
    "    + theme(text=element_text(family=\"SimHei\"),\n",
    "            figure_size=(6.5, 0.5),\n",
    "            # axis_ticks=element_blank(),\n",
    "            )\n",
    "    + coord_flip()\n",
    ")"
   ]
  },
  {
   "cell_type": "code",
   "execution_count": 31,
   "metadata": {},
   "outputs": [
    {
     "data": {
      "image/png": "[encoded data removed]",
      "text/plain": [
       "<Figure size 640x480 with 1 Axes>"
      ]
     },
     "metadata": {},
     "output_type": "display_data"
    },
    {
     "data": {
      "text/plain": [
       "<ggplot: (108170361926)>"
      ]
     },
     "execution_count": 31,
     "metadata": {},
     "output_type": "execute_result"
    }
   ],
   "source": [
    "(ggplot(df_score, aes(x='评分', y='书名', fill='评分'))\n",
    "    + geom_col()\n",
    "    + geom_text(aes(label='书名', y='书名+.5'))\n",
    "    + scale_fill_manual(values=colors_r)\n",
    "    + labs(x='', y='', title=f'书籍评价分布（共{df_score[\"书名\"].sum()}本）')\n",
    "    # + scale_x_continuous(breaks=None)\n",
    "    + guides(fill = guide_legend(reverse=True))\n",
    "    + theme(text=element_text(family=\"SimHei\"),\n",
    "            # figure_size=(6.5, 0.5),\n",
    "            # axis_ticks=element_blank(),\n",
    "            )\n",
    "    + coord_flip()\n",
    ")"
   ]
  },
  {
   "cell_type": "code",
   "execution_count": 21,
   "metadata": {},
   "outputs": [
    {
     "data": {
      "text/plain": [
       "<AxesSubplot:ylabel='书名'>"
      ]
     },
     "execution_count": 21,
     "metadata": {},
     "output_type": "execute_result"
    },
    {
     "data": {
      "image/png": "[encoded data removed]",
      "text/plain": [
       "<Figure size 600x600 with 1 Axes>"
      ]
     },
     "metadata": {},
     "output_type": "display_data"
    }
   ],
   "source": [
    "df_score.set_index('评分').plot.pie(y='书名', figsize=(6, 6), autopct='%1.0f%%', fontsize=12, legend=False)"
   ]
  },
  {
   "cell_type": "code",
   "execution_count": 42,
   "metadata": {},
   "outputs": [
    {
     "data": {
      "text/html": [
       "<div>\n",
       "<style scoped>\n",
       "    .dataframe tbody tr th:only-of-type {\n",
       "        vertical-align: middle;\n",
       "    }\n",
       "\n",
       "    .dataframe tbody tr th {\n",
       "        vertical-align: top;\n",
       "    }\n",
       "\n",
       "    .dataframe thead th {\n",
       "        text-align: right;\n",
       "    }\n",
       "</style>\n",
       "<table border=\"1\" class=\"dataframe\">\n",
       "  <thead>\n",
       "    <tr style=\"text-align: right;\">\n",
       "      <th></th>\n",
       "      <th>评论</th>\n",
       "      <th>数量</th>\n",
       "    </tr>\n",
       "  </thead>\n",
       "  <tbody>\n",
       "    <tr>\n",
       "      <th>0</th>\n",
       "      <td>短评</td>\n",
       "      <td>58</td>\n",
       "    </tr>\n",
       "    <tr>\n",
       "      <th>1</th>\n",
       "      <td>长评</td>\n",
       "      <td>33</td>\n",
       "    </tr>\n",
       "  </tbody>\n",
       "</table>\n",
       "</div>"
      ],
      "text/plain": [
       "   评论  数量\n",
       "0  短评  58\n",
       "1  长评  33"
      ]
     },
     "execution_count": 42,
     "metadata": {},
     "output_type": "execute_result"
    }
   ],
   "source": [
    "df_output = pd.DataFrame({'短评': 58, '长评': 33}, index=[0]).melt()\n",
    "df_output.columns=['评论', '数量']\n",
    "df_output"
   ]
  },
  {
   "cell_type": "code",
   "execution_count": 51,
   "metadata": {},
   "outputs": [
    {
     "data": {
      "image/png": "[encoded data removed]",
      "text/plain": [
       "<Figure size 500x100 with 1 Axes>"
      ]
     },
     "metadata": {},
     "output_type": "display_data"
    },
    {
     "data": {
      "text/plain": [
       "<ggplot: (108171995736)>"
      ]
     },
     "execution_count": 51,
     "metadata": {},
     "output_type": "execute_result"
    }
   ],
   "source": [
    "(ggplot(df_output, aes(x='评论', y='数量'))\n",
    "    + geom_col()\n",
    "    + geom_text(aes(label='数量', y='数量+2'))\n",
    "    + labs(x='', y='', title=f'书评输出')\n",
    "    + theme(text=element_text(family=\"SimHei\"),\n",
    "            figure_size=(5, 1),\n",
    "            )\n",
    "    + coord_flip()\n",
    ")"
   ]
  },
  {
   "cell_type": "code",
   "execution_count": null,
   "metadata": {},
   "outputs": [
    {
     "data": {
      "image/png": "[encoded data removed]",
      "text/plain": [
       "<Figure size 640x480 with 1 Axes>"
      ]
     },
     "metadata": {},
     "output_type": "display_data"
    },
    {
     "data": {
      "text/plain": [
       "<ggplot: (106227880533)>"
      ]
     },
     "execution_count": 113,
     "metadata": {},
     "output_type": "execute_result"
    }
   ],
   "source": [
    "df_score['评分2'] = pd.Categorical(df_score['评分'], categories=['1分', '2分', '3分', '4分', '5分'])\n",
    "\n",
    "(ggplot(df_score, aes(x='评分2', y='书名'))\n",
    "    + geom_col(fill='lightblue')\n",
    "    + geom_text(aes(label='书名'), size=12, va='bottom')\n",
    "    + ggtitle('书籍评价分布')\n",
    "    + ylab('数量')\n",
    "    + theme(text=element_text(family=\"SimHei\"))\n",
    ")"
   ]
  },
  {
   "cell_type": "code",
   "execution_count": null,
   "metadata": {},
   "outputs": [
    {
     "data": {
      "text/plain": [
       "Series([], Name: 书名, dtype: object)"
      ]
     },
     "execution_count": 114,
     "metadata": {},
     "output_type": "execute_result"
    }
   ],
   "source": [
    "df.query('评分==5')['书名']"
   ]
  },
  {
   "cell_type": "markdown",
   "metadata": {},
   "source": [
    "## 书本封面缩略图集合"
   ]
  },
  {
   "cell_type": "code",
   "execution_count": null,
   "metadata": {},
   "outputs": [],
   "source": [
    "import re\n",
    "from PIL import Image, ImageDraw, ImageFont\n",
    "\n",
    "folder = pathlib.Path(\"D:\\Python_Work\\Web Spider\\my_douban_books\\my_douban_data\")\n",
    "records = folder / \"2022年读书记录.md\"\n",
    "sort_flag = True    # 是否按评价排序\n",
    "\n",
    "# 获取图片和评级信息\n",
    "with open(records, encoding='utf-8') as f:\n",
    "    content = f.read()\n",
    "    \n",
    "img_links = [folder / i for i in re.findall(\"!\\[\\]\\((.*?)\\)\", content)]\n",
    "stars = re.findall(r'>(.*?)</font>', content)\n",
    "\n",
    "if sort_flag:\n",
    "    combined = sorted(zip(img_links, stars), key=lambda x: len(x[1]), reverse=True)\n",
    "    img_links = [i[0] for i in combined]\n",
    "    stars = [i[1] for i in combined]"
   ]
  },
  {
   "cell_type": "code",
   "execution_count": null,
   "metadata": {},
   "outputs": [],
   "source": [
    "def combine_pics(img_links, width, height, col_num, pic_path):\n",
    "    \"\"\"拼接图片缩略图\"\"\"\n",
    "    imgs = [Image.open(i).resize((width, height)) for i in img_links]\n",
    "    big_pic = Image.new('RGBA', (width * col_num, height * (len(imgs) // col_num + 1)), 'white')\n",
    "\n",
    "    for num, img in enumerate(imgs):\n",
    "        x = num % col_num * width\n",
    "        y = num // col_num * height\n",
    "        big_pic.paste(img, (x, y))\n",
    "        \n",
    "    # big_pic.show()   \n",
    "    # plt.imshow(big_pic)  \n",
    "    # plt.show()\n",
    "    big_pic.save(pic_path)\n",
    "    \n",
    "    \n",
    "def add_stars(stars, width, height, col_num, pic_path, font_path):\n",
    "    \"\"\"添加书本评价星标\"\"\"\n",
    "    big_pic = Image.open(pic_path)\n",
    "    draw = ImageDraw.Draw(big_pic)\n",
    "    font = ImageFont.truetype(font_path, 32)\n",
    "\n",
    "    for num, star in enumerate(stars):\n",
    "        x = num % col_num * width\n",
    "        y = num // col_num * height\n",
    "        # draw.rectangle((x, y+col_num, x+width, int(y+40)), fill=(23, 103, 224, 255))\n",
    "        draw.rectangle((x, y+col_num, x+width, int(y+40)), fill=(226, 221, 70, 255))\n",
    "        # draw.text((x, y), star, fill='darkred', font=font)\n",
    "        draw.text((x, y), star, fill=(204, 48, 67, 255), font=font)\n",
    "\n",
    "    # big_pic.show()   \n",
    "    # plt.imshow(big_pic)  \n",
    "    # plt.show()\n",
    "    big_pic.save(pic_path)\n",
    "    \n",
    "    \n",
    "width, height = 270, 400    # 单幅小图尺寸\n",
    "col_num = 10    # 每行包含的图片数\n",
    "pic_path = \"书籍封面图集合.png\"     # 拼接图保存路径\n",
    "font_path = r'D:\\Python_Work\\maze_generator&solver\\fonts\\msyh.ttf'\n",
    "\n",
    "combine_pics(img_links, width, height, col_num, pic_path)\n",
    "add_stars(stars, width, height, col_num, pic_path, font_path)"
   ]
  },
  {
   "cell_type": "code",
   "execution_count": null,
   "metadata": {},
   "outputs": [],
   "source": [
    "top = 7\n",
    "img_links_top = img_links[:top]\n",
    "pic_path = \"五星书籍封面图集合.png\"     # 拼接图保存路径\n",
    "col_num = 4    # 每行包含的图片数\n",
    "combine_pics(img_links_top, width, height, col_num, pic_path)"
   ]
  }
 ],
 "metadata": {
  "kernelspec": {
   "display_name": "Python 3.9.13 ('base')",
   "language": "python",
   "name": "python3"
  },
  "language_info": {
   "codemirror_mode": {
    "name": "ipython",
    "version": 3
   },
   "file_extension": ".py",
   "mimetype": "text/x-python",
   "name": "python",
   "nbconvert_exporter": "python",
   "pygments_lexer": "ipython3",
   "version": "3.9.13"
  },
  "orig_nbformat": 4,
  "vscode": {
   "interpreter": {
    "hash": "57bc2b6ce032b5f0e93daa91901b7ea38a856826ef43aa9e95b6d3999f5310df"
   }
  }
 },
 "nbformat": 4,
 "nbformat_minor": 2
}
