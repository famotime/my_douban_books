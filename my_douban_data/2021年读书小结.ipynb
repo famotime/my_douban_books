{
 "cells": [
  {
   "cell_type": "code",
   "execution_count": 1,
   "metadata": {},
   "outputs": [],
   "source": [
    "import re\n",
    "import pathlib\n",
    "import numpy as np\n",
    "import pandas as pd\n",
    "from plotnine import *\n",
    "import matplotlib.pyplot as plt\n",
    "import seaborn as sns\n",
    "plt.style.use('seaborn-whitegrid')    # 使用样式\n",
    "plt.rcParams['font.sans-serif'] = ['SimHei']     # 显示中文\n",
    "plt.rcParams['axes.unicode_minus'] = False     # 显示负号\n",
    "\n",
    "\n",
    "path_record = pathlib.Path('./2021年读书小结.md')"
   ]
  },
  {
   "cell_type": "markdown",
   "metadata": {},
   "source": [
    "## 数据准备"
   ]
  },
  {
   "cell_type": "code",
   "execution_count": 2,
   "metadata": {},
   "outputs": [],
   "source": [
    "with open(path_record, encoding='utf-8') as f:\n",
    "    content = f.read()\n"
   ]
  },
  {
   "cell_type": "code",
   "execution_count": 3,
   "metadata": {},
   "outputs": [],
   "source": [
    "names = re.findall(r'### \\[(.*?)\\]\\(', content)\n",
    "links = re.findall(r'### .*?\\((.*?)\\)', content)\n",
    "stars = [len(i) for i in re.findall(r'<font color.*?>(.*?)</font>', content)]"
   ]
  },
  {
   "cell_type": "code",
   "execution_count": 4,
   "metadata": {},
   "outputs": [],
   "source": [
    "line1 = re.findall(r'\\n> (.*?)\\n>', content)\n",
    "line2 = re.findall(r'\\n> .*?\\n> (.*?)\\n', content)\n",
    "\n",
    "# writers = [i.split(' / ')[0] for i in line1]\n",
    "# publishers = [i.split(' / ')[1] for i in line1]\n",
    "# publish_times = [i.split(' / ')[2] for i in line1]\n",
    "# prices = [i.split(' / ')[3].replace('元', '') for i in line1]\n",
    "\n",
    "read_dates = [i.split(' ')[0] for i in line2]\n",
    "labels = [re.search(r'标签: (.*)', i).group(1).split() for i in line2]"
   ]
  },
  {
   "cell_type": "code",
   "execution_count": 5,
   "metadata": {},
   "outputs": [
    {
     "data": {
      "text/html": [
       "<div>\n",
       "<style scoped>\n",
       "    .dataframe tbody tr th:only-of-type {\n",
       "        vertical-align: middle;\n",
       "    }\n",
       "\n",
       "    .dataframe tbody tr th {\n",
       "        vertical-align: top;\n",
       "    }\n",
       "\n",
       "    .dataframe thead th {\n",
       "        text-align: right;\n",
       "    }\n",
       "</style>\n",
       "<table border=\"1\" class=\"dataframe\">\n",
       "  <thead>\n",
       "    <tr style=\"text-align: right;\">\n",
       "      <th></th>\n",
       "      <th>书名</th>\n",
       "      <th>评分</th>\n",
       "      <th>读完时间</th>\n",
       "      <th>标签</th>\n",
       "      <th>备注</th>\n",
       "      <th>豆瓣链接</th>\n",
       "      <th>月份</th>\n",
       "      <th>累计数量</th>\n",
       "    </tr>\n",
       "  </thead>\n",
       "  <tbody>\n",
       "    <tr>\n",
       "      <th>50</th>\n",
       "      <td>剑来1：少年起微末</td>\n",
       "      <td>3</td>\n",
       "      <td>2021-01-11</td>\n",
       "      <td>[网文, 小说, 玄幻, 网络小说]</td>\n",
       "      <td>烽火戏诸侯 / 浙江文艺出版社 / 2020-4 / 40.00元</td>\n",
       "      <td>https://book.douban.com/subject/35022388/</td>\n",
       "      <td>1月</td>\n",
       "      <td>1</td>\n",
       "    </tr>\n",
       "    <tr>\n",
       "      <th>49</th>\n",
       "      <td>剑来2：忽为远行客</td>\n",
       "      <td>2</td>\n",
       "      <td>2021-01-12</td>\n",
       "      <td>[玄幻, 网络小说, 网文]</td>\n",
       "      <td>烽火戏诸侯 / 浙江文艺出版社 / 2020-4 / 45.00元</td>\n",
       "      <td>https://book.douban.com/subject/35022398/</td>\n",
       "      <td>1月</td>\n",
       "      <td>2</td>\n",
       "    </tr>\n",
       "    <tr>\n",
       "      <th>47</th>\n",
       "      <td>許仙志03</td>\n",
       "      <td>4</td>\n",
       "      <td>2021-01-28</td>\n",
       "      <td>[玄幻, 仙侠, 网文]</td>\n",
       "      <td></td>\n",
       "      <td>https://book.douban.com/subject/33280855/</td>\n",
       "      <td>1月</td>\n",
       "      <td>3</td>\n",
       "    </tr>\n",
       "    <tr>\n",
       "      <th>48</th>\n",
       "      <td>許仙志01</td>\n",
       "      <td>3</td>\n",
       "      <td>2021-01-28</td>\n",
       "      <td>[小说, 仙侠, 玄幻, 网文]</td>\n",
       "      <td>說夢者 / 說頻文化</td>\n",
       "      <td>https://book.douban.com/subject/30154382/</td>\n",
       "      <td>1月</td>\n",
       "      <td>4</td>\n",
       "    </tr>\n",
       "    <tr>\n",
       "      <th>46</th>\n",
       "      <td>飞行家</td>\n",
       "      <td>4</td>\n",
       "      <td>2021-02-18</td>\n",
       "      <td>[小说, 文学, 中国]</td>\n",
       "      <td>双雪涛 / 广西师范大学出版社 / 2017-8 / 45.00元</td>\n",
       "      <td>https://book.douban.com/subject/27116235/</td>\n",
       "      <td>2月</td>\n",
       "      <td>5</td>\n",
       "    </tr>\n",
       "    <tr>\n",
       "      <th>45</th>\n",
       "      <td>文学课：如何轻松理解伟大作品</td>\n",
       "      <td>3</td>\n",
       "      <td>2021-02-23</td>\n",
       "      <td>[导读, 文学, 文学理论]</td>\n",
       "      <td>[美] 托马斯·福斯特 / 张积模、江美娜 / 后浪丨北京联合出版公司 / 2018-10 ...</td>\n",
       "      <td>https://book.douban.com/subject/30270831/</td>\n",
       "      <td>2月</td>\n",
       "      <td>6</td>\n",
       "    </tr>\n",
       "    <tr>\n",
       "      <th>44</th>\n",
       "      <td>許仙志06</td>\n",
       "      <td>3</td>\n",
       "      <td>2021-02-23</td>\n",
       "      <td>[玄幻, 小说]</td>\n",
       "      <td></td>\n",
       "      <td>https://book.douban.com/subject/32740373/</td>\n",
       "      <td>2月</td>\n",
       "      <td>7</td>\n",
       "    </tr>\n",
       "    <tr>\n",
       "      <th>43</th>\n",
       "      <td>白话机器学习算法</td>\n",
       "      <td>3</td>\n",
       "      <td>2021-02-28</td>\n",
       "      <td>[入门, 人工智能, 机器学习, 计算机]</td>\n",
       "      <td>[新加坡] 黄莉婷、[新加坡] 苏川集 / 武传海 / 人民邮电出版社 / 2019-2 /...</td>\n",
       "      <td>https://book.douban.com/subject/30442187/</td>\n",
       "      <td>2月</td>\n",
       "      <td>8</td>\n",
       "    </tr>\n",
       "    <tr>\n",
       "      <th>42</th>\n",
       "      <td>文森特与凡·高：星空中的月亮</td>\n",
       "      <td>3</td>\n",
       "      <td>2021-03-04</td>\n",
       "      <td>[绘本, 图像小说, 漫画]</td>\n",
       "      <td>[塞尔维亚] 格拉迪米尔·斯穆贾 编绘 / 黄洁华 / 湖南美术出版社 / 2017-12 ...</td>\n",
       "      <td>https://book.douban.com/subject/27194696/</td>\n",
       "      <td>3月</td>\n",
       "      <td>9</td>\n",
       "    </tr>\n",
       "    <tr>\n",
       "      <th>41</th>\n",
       "      <td>Python数据科学入门</td>\n",
       "      <td>2</td>\n",
       "      <td>2021-03-09</td>\n",
       "      <td>[Python, 数据分析, 数据科学]</td>\n",
       "      <td>[俄] Dmitry Zinoviev / 熊子源 / 人民邮电出版社 / 2017-11 ...</td>\n",
       "      <td>https://book.douban.com/subject/27179941/</td>\n",
       "      <td>3月</td>\n",
       "      <td>10</td>\n",
       "    </tr>\n",
       "    <tr>\n",
       "      <th>40</th>\n",
       "      <td>方向</td>\n",
       "      <td>4</td>\n",
       "      <td>2021-03-11</td>\n",
       "      <td>[绘本, 法国, 欧美漫画, 哲学]</td>\n",
       "      <td>[法] 马克-安托万·马修 / 后浪漫（编译） / 北京联合出版公司 / 2017-4 / ...</td>\n",
       "      <td>https://book.douban.com/subject/26975609/</td>\n",
       "      <td>3月</td>\n",
       "      <td>11</td>\n",
       "    </tr>\n",
       "    <tr>\n",
       "      <th>39</th>\n",
       "      <td>小说课（壹）: 折磨读者的秘密</td>\n",
       "      <td>3</td>\n",
       "      <td>2021-03-18</td>\n",
       "      <td>[写作, 讲故事, 小说]</td>\n",
       "      <td>许荣哲 / 中信出版社 / 2016-8 / 38.00</td>\n",
       "      <td>https://book.douban.com/subject/26738797/</td>\n",
       "      <td>3月</td>\n",
       "      <td>12</td>\n",
       "    </tr>\n",
       "    <tr>\n",
       "      <th>38</th>\n",
       "      <td>小顾聊神话</td>\n",
       "      <td>3</td>\n",
       "      <td>2021-03-23</td>\n",
       "      <td>[神话, 绘画, 希腊神话, 艺术]</td>\n",
       "      <td>顾爷 / 北京联合出版公司 / 2016-7 / 49.80元</td>\n",
       "      <td>https://book.douban.com/subject/26865730/</td>\n",
       "      <td>3月</td>\n",
       "      <td>13</td>\n",
       "    </tr>\n",
       "    <tr>\n",
       "      <th>37</th>\n",
       "      <td>法国往事（上）</td>\n",
       "      <td>5</td>\n",
       "      <td>2021-03-30</td>\n",
       "      <td>[漫画, 法国]</td>\n",
       "      <td>[法] 法比安·努瑞、西尔万·瓦雷 / 申华明、朱婕 / 后浪丨北京联合出版公司 / 201...</td>\n",
       "      <td>https://book.douban.com/subject/26958896/</td>\n",
       "      <td>3月</td>\n",
       "      <td>14</td>\n",
       "    </tr>\n",
       "    <tr>\n",
       "      <th>36</th>\n",
       "      <td>逝</td>\n",
       "      <td>3</td>\n",
       "      <td>2021-04-02</td>\n",
       "      <td>[漫画, 国漫, 青春, 爱情故事]</td>\n",
       "      <td>尹川 / 北京联合出版公司 / 2019-1-1 / 49.00元</td>\n",
       "      <td>https://book.douban.com/subject/30406561/</td>\n",
       "      <td>4月</td>\n",
       "      <td>15</td>\n",
       "    </tr>\n",
       "    <tr>\n",
       "      <th>35</th>\n",
       "      <td>法国往事（下）</td>\n",
       "      <td>5</td>\n",
       "      <td>2021-04-11</td>\n",
       "      <td>[法国, 漫画, 欧洲漫画, 传记]</td>\n",
       "      <td>[法] 法比安·努瑞 文、[法] 西尔万·泰松 图 / 申华明、朱婕 / 后浪丨北京联合出版...</td>\n",
       "      <td>https://book.douban.com/subject/30324567/</td>\n",
       "      <td>4月</td>\n",
       "      <td>16</td>\n",
       "    </tr>\n",
       "    <tr>\n",
       "      <th>34</th>\n",
       "      <td>数据分析实战</td>\n",
       "      <td>2</td>\n",
       "      <td>2021-04-16</td>\n",
       "      <td>[数据分析, R语言, 计算机]</td>\n",
       "      <td>［ 日］ 酒卷隆治　里洋平 / 肖　峰 / 人民邮电出版社 / 2017-6 / 45.00元</td>\n",
       "      <td>https://book.douban.com/subject/27046284/</td>\n",
       "      <td>4月</td>\n",
       "      <td>17</td>\n",
       "    </tr>\n",
       "    <tr>\n",
       "      <th>33</th>\n",
       "      <td>半小时漫画唐诗</td>\n",
       "      <td>3</td>\n",
       "      <td>2021-04-16</td>\n",
       "      <td>[诗词, 漫画, 文化, 中国]</td>\n",
       "      <td>陈磊·半小时漫画团队 / 江苏凤凰文艺 / 2019-5-1 / 49.9</td>\n",
       "      <td>https://book.douban.com/subject/33441524/</td>\n",
       "      <td>4月</td>\n",
       "      <td>18</td>\n",
       "    </tr>\n",
       "    <tr>\n",
       "      <th>32</th>\n",
       "      <td>漫画统计学</td>\n",
       "      <td>2</td>\n",
       "      <td>2021-04-18</td>\n",
       "      <td>[统计学, 漫画, 科普]</td>\n",
       "      <td>[日] 高桥信 / 陈刚 / 科学出版社 / 2009-8 / 29.80元</td>\n",
       "      <td>https://book.douban.com/subject/4010128/</td>\n",
       "      <td>4月</td>\n",
       "      <td>19</td>\n",
       "    </tr>\n",
       "    <tr>\n",
       "      <th>31</th>\n",
       "      <td>小顾聊绘画: 文艺复兴</td>\n",
       "      <td>3</td>\n",
       "      <td>2021-05-16</td>\n",
       "      <td>[绘画, 文艺复兴, 美术, 科普, 艺术]</td>\n",
       "      <td>顾爷 / 北京联合出版公司 / 2017-9 / 55.00元</td>\n",
       "      <td>https://book.douban.com/subject/27140491/</td>\n",
       "      <td>5月</td>\n",
       "      <td>20</td>\n",
       "    </tr>\n",
       "    <tr>\n",
       "      <th>30</th>\n",
       "      <td>Python数据可视化之美</td>\n",
       "      <td>5</td>\n",
       "      <td>2021-05-16</td>\n",
       "      <td>[python, 可视化]</td>\n",
       "      <td>张杰 / 电子工业出版社 / 129元</td>\n",
       "      <td>https://book.douban.com/subject/35013530/</td>\n",
       "      <td>5月</td>\n",
       "      <td>21</td>\n",
       "    </tr>\n",
       "    <tr>\n",
       "      <th>29</th>\n",
       "      <td>身边的江湖</td>\n",
       "      <td>4</td>\n",
       "      <td>2021-05-17</td>\n",
       "      <td>[散文, 随笔, 中国现当代文学]</td>\n",
       "      <td>野夫 / 广东人民出版社 / 2013-9 / 32元</td>\n",
       "      <td>https://book.douban.com/subject/25639223/</td>\n",
       "      <td>5月</td>\n",
       "      <td>22</td>\n",
       "    </tr>\n",
       "    <tr>\n",
       "      <th>28</th>\n",
       "      <td>成为数据分析师: 6步练就数据思维</td>\n",
       "      <td>2</td>\n",
       "      <td>2021-05-28</td>\n",
       "      <td>[数据分析]</td>\n",
       "      <td>托马斯·达文波特、金镇浩 / 盛杨燕 / 浙江人民出版社 / 2018-3-1 / 62.90元</td>\n",
       "      <td>https://book.douban.com/subject/30134503/</td>\n",
       "      <td>5月</td>\n",
       "      <td>23</td>\n",
       "    </tr>\n",
       "    <tr>\n",
       "      <th>27</th>\n",
       "      <td>如何阅读一本文学书</td>\n",
       "      <td>3</td>\n",
       "      <td>2021-06-02</td>\n",
       "      <td>[文学, 文学理论]</td>\n",
       "      <td>[美] 托马斯·福斯特 / 王爱燕 / 南海出版公司 / 2016-2-1 / 39.50元</td>\n",
       "      <td>https://book.douban.com/subject/26676528/</td>\n",
       "      <td>6月</td>\n",
       "      <td>24</td>\n",
       "    </tr>\n",
       "    <tr>\n",
       "      <th>26</th>\n",
       "      <td>极简人工智能</td>\n",
       "      <td>2</td>\n",
       "      <td>2021-06-04</td>\n",
       "      <td>[人工智能, AI, 计算机]</td>\n",
       "      <td>[英] 理查德·温 / 有道人工翻译、吴乔 / 电子工业出版社 / 2018-3-1 / 50</td>\n",
       "      <td>https://book.douban.com/subject/30164495/</td>\n",
       "      <td>6月</td>\n",
       "      <td>25</td>\n",
       "    </tr>\n",
       "    <tr>\n",
       "      <th>25</th>\n",
       "      <td>小顾聊绘画·贰</td>\n",
       "      <td>3</td>\n",
       "      <td>2021-06-14</td>\n",
       "      <td>[美术, 绘画, 艺术史, 艺术]</td>\n",
       "      <td>顾爷 / 中信出版社 / 2014-11 / 39.80元</td>\n",
       "      <td>https://book.douban.com/subject/26265303/</td>\n",
       "      <td>6月</td>\n",
       "      <td>26</td>\n",
       "    </tr>\n",
       "    <tr>\n",
       "      <th>24</th>\n",
       "      <td>美得令人心醉的宋词</td>\n",
       "      <td>4</td>\n",
       "      <td>2021-06-29</td>\n",
       "      <td>[宋词, 诗词, 古典, 中国文学]</td>\n",
       "      <td>顾非熊 / 北京联合出版公司 / 2012-8 / 32.80元</td>\n",
       "      <td>https://book.douban.com/subject/11524184/</td>\n",
       "      <td>6月</td>\n",
       "      <td>27</td>\n",
       "    </tr>\n",
       "    <tr>\n",
       "      <th>23</th>\n",
       "      <td>鬼刀: WLOP个人插画作品集</td>\n",
       "      <td>3</td>\n",
       "      <td>2021-07-07</td>\n",
       "      <td>[绘画, 艺术, 画册, 绘本]</td>\n",
       "      <td>WLOP / 人民邮电出版社 / 2018-4 / 89.00元</td>\n",
       "      <td>https://book.douban.com/subject/30180617/</td>\n",
       "      <td>7月</td>\n",
       "      <td>28</td>\n",
       "    </tr>\n",
       "    <tr>\n",
       "      <th>22</th>\n",
       "      <td>系统之美: 决策者的系统思考</td>\n",
       "      <td>3</td>\n",
       "      <td>2021-07-15</td>\n",
       "      <td>[系统思考, 思维方式, 系统论, 思维, 方法论]</td>\n",
       "      <td>[美] 德内拉•梅多斯 / 邱昭良 / 浙江人民出版社 / 2012-8 / 56.90元</td>\n",
       "      <td>https://book.douban.com/subject/11528220/</td>\n",
       "      <td>7月</td>\n",
       "      <td>29</td>\n",
       "    </tr>\n",
       "    <tr>\n",
       "      <th>21</th>\n",
       "      <td>蒋勋说宋词（修订版）</td>\n",
       "      <td>4</td>\n",
       "      <td>2021-07-20</td>\n",
       "      <td>[古典文学, 宋词, 诗词, 中国文学]</td>\n",
       "      <td>蒋勋 / 中信出版社 / 2014-9 / 39.80元</td>\n",
       "      <td>https://book.douban.com/subject/26022052/</td>\n",
       "      <td>7月</td>\n",
       "      <td>30</td>\n",
       "    </tr>\n",
       "    <tr>\n",
       "      <th>20</th>\n",
       "      <td>皮囊</td>\n",
       "      <td>4</td>\n",
       "      <td>2021-07-27</td>\n",
       "      <td>[成长, 小说, 散文]</td>\n",
       "      <td>蔡崇达 / 天津人民出版社 / 2014-12-1 / 39.80元</td>\n",
       "      <td>https://book.douban.com/subject/26278687/</td>\n",
       "      <td>7月</td>\n",
       "      <td>31</td>\n",
       "    </tr>\n",
       "    <tr>\n",
       "      <th>19</th>\n",
       "      <td>智能时代</td>\n",
       "      <td>3</td>\n",
       "      <td>2021-08-02</td>\n",
       "      <td>[科普, 趋势, 科技, 人工智能]</td>\n",
       "      <td>吴军 / 中信出版集团 / 2016-8 / 68.00</td>\n",
       "      <td>https://book.douban.com/subject/26838557/</td>\n",
       "      <td>8月</td>\n",
       "      <td>32</td>\n",
       "    </tr>\n",
       "    <tr>\n",
       "      <th>18</th>\n",
       "      <td>清单革命</td>\n",
       "      <td>2</td>\n",
       "      <td>2021-08-17</td>\n",
       "      <td>[时间管理, 自我管理, 方法论, 效率]</td>\n",
       "      <td>[美] 阿图•葛文德（Atul Gawande） / 王佳艺 / 浙江人民出版社 / 201...</td>\n",
       "      <td>https://book.douban.com/subject/10788371/</td>\n",
       "      <td>8月</td>\n",
       "      <td>33</td>\n",
       "    </tr>\n",
       "    <tr>\n",
       "      <th>17</th>\n",
       "      <td>不只是美: 信息图表设计原理与经典案例</td>\n",
       "      <td>4</td>\n",
       "      <td>2021-08-28</td>\n",
       "      <td>[可视化, 图表, 设计, 信息图, 数据可视化]</td>\n",
       "      <td>Alberto Cairo / 罗辉、李丽华 / 人民邮电出版社 / 2014-12 / 7...</td>\n",
       "      <td>https://book.douban.com/subject/26289656/</td>\n",
       "      <td>8月</td>\n",
       "      <td>34</td>\n",
       "    </tr>\n",
       "    <tr>\n",
       "      <th>16</th>\n",
       "      <td>冥想5分钟，等于熟睡一小时</td>\n",
       "      <td>3</td>\n",
       "      <td>2021-08-31</td>\n",
       "      <td>[思维, 心灵, 冥想, 灵修]</td>\n",
       "      <td>[美] 里克·汉森、理查德·蒙迪思 / 姜勇 / 上海锦绣文章出版社 / 2011-4 / ...</td>\n",
       "      <td>https://book.douban.com/subject/6011081/</td>\n",
       "      <td>8月</td>\n",
       "      <td>35</td>\n",
       "    </tr>\n",
       "    <tr>\n",
       "      <th>15</th>\n",
       "      <td>诉讼可视化</td>\n",
       "      <td>3</td>\n",
       "      <td>2021-09-10</td>\n",
       "      <td>[工具书, 图表, 法律]</td>\n",
       "      <td>蒋勇（主编） / 法律出版社 / 2017-12-1 / 98</td>\n",
       "      <td>https://book.douban.com/subject/30133424/</td>\n",
       "      <td>9月</td>\n",
       "      <td>36</td>\n",
       "    </tr>\n",
       "    <tr>\n",
       "      <th>14</th>\n",
       "      <td>有梗</td>\n",
       "      <td>3</td>\n",
       "      <td>2021-09-15</td>\n",
       "      <td>[脱口秀, 搞笑, 喜剧]</td>\n",
       "      <td>黄西 / 天津科学技术出版社 / 49.80元</td>\n",
       "      <td>https://book.douban.com/subject/35167369/</td>\n",
       "      <td>9月</td>\n",
       "      <td>37</td>\n",
       "    </tr>\n",
       "    <tr>\n",
       "      <th>13</th>\n",
       "      <td>哥谭重案组1：分内之事</td>\n",
       "      <td>3</td>\n",
       "      <td>2021-09-19</td>\n",
       "      <td>[DC, 美漫, 漫画, 欧美漫画, 蝙蝠侠]</td>\n",
       "      <td>[美] 艾德·布鲁贝克  格雷格·卢卡 编、迈克尔·拉克 绘 / 肖恩 / 北京联合出版公司...</td>\n",
       "      <td>https://book.douban.com/subject/26905143/</td>\n",
       "      <td>9月</td>\n",
       "      <td>38</td>\n",
       "    </tr>\n",
       "    <tr>\n",
       "      <th>12</th>\n",
       "      <td>一本小小的红色写作书</td>\n",
       "      <td>2</td>\n",
       "      <td>2021-09-22</td>\n",
       "      <td>[写作, 方法论]</td>\n",
       "      <td>[加] 布兰登·罗伊尔 / 周丽萍 / 九州出版社 / 2017-4 / 39.80元</td>\n",
       "      <td>https://book.douban.com/subject/26990918/</td>\n",
       "      <td>9月</td>\n",
       "      <td>39</td>\n",
       "    </tr>\n",
       "    <tr>\n",
       "      <th>11</th>\n",
       "      <td>利用Python进行数据分析（原书第2版）</td>\n",
       "      <td>4</td>\n",
       "      <td>2021-10-14</td>\n",
       "      <td>[Python, 数据分析, 编程, 计算科学, 计算机]</td>\n",
       "      <td>[美] Wes McKinney / 徐敬一 / 机械工业出版社 / 2018-7 / 11...</td>\n",
       "      <td>https://book.douban.com/subject/30283996/</td>\n",
       "      <td>10月</td>\n",
       "      <td>40</td>\n",
       "    </tr>\n",
       "    <tr>\n",
       "      <th>10</th>\n",
       "      <td>野火集: 三十周年纪念版</td>\n",
       "      <td>4</td>\n",
       "      <td>2021-10-21</td>\n",
       "      <td>[杂文, 台湾, 社会, 民主, 政治]</td>\n",
       "      <td>龙应台 / 广西师范大学出版社 / 2014-5 / 39.80</td>\n",
       "      <td>https://book.douban.com/subject/25870310/</td>\n",
       "      <td>10月</td>\n",
       "      <td>41</td>\n",
       "    </tr>\n",
       "    <tr>\n",
       "      <th>9</th>\n",
       "      <td>我大概是只废汪了</td>\n",
       "      <td>2</td>\n",
       "      <td>2021-10-24</td>\n",
       "      <td>[段子]</td>\n",
       "      <td>周显亮 / 江苏凤凰文艺出版社 / 2017-1 / 39.80</td>\n",
       "      <td>https://book.douban.com/subject/26954567/</td>\n",
       "      <td>10月</td>\n",
       "      <td>42</td>\n",
       "    </tr>\n",
       "    <tr>\n",
       "      <th>8</th>\n",
       "      <td>奇点临近: 当计算机智能超越人类</td>\n",
       "      <td>4</td>\n",
       "      <td>2021-10-26</td>\n",
       "      <td>[未来学, 科学, 人工智能, 计算机]</td>\n",
       "      <td>Ray Kurzweil / 董振华、李庆成 / 机械工业出版社 / 2011-10 / 6...</td>\n",
       "      <td>https://book.douban.com/subject/6855803/</td>\n",
       "      <td>10月</td>\n",
       "      <td>43</td>\n",
       "    </tr>\n",
       "    <tr>\n",
       "      <th>7</th>\n",
       "      <td>给大壮的信</td>\n",
       "      <td>4</td>\n",
       "      <td>2021-11-08</td>\n",
       "      <td>[育儿, 成长, 生活]</td>\n",
       "      <td>苗炜 / 译林出版社 / 2019-5 / 39.00元</td>\n",
       "      <td>https://book.douban.com/subject/33427859/</td>\n",
       "      <td>11月</td>\n",
       "      <td>44</td>\n",
       "    </tr>\n",
       "    <tr>\n",
       "      <th>6</th>\n",
       "      <td>霍乱时期的爱情</td>\n",
       "      <td>5</td>\n",
       "      <td>2021-11-16</td>\n",
       "      <td>[拉美文学, 外国文学, 文学, 经典, 爱情, 小说, 人生]</td>\n",
       "      <td>[哥伦比亚] 加西亚·马尔克斯 / 杨玲 / 南海出版公司 / 2012-9-1 / 39.50元</td>\n",
       "      <td>https://book.douban.com/subject/10594787/</td>\n",
       "      <td>11月</td>\n",
       "      <td>45</td>\n",
       "    </tr>\n",
       "    <tr>\n",
       "      <th>5</th>\n",
       "      <td>乐见数据</td>\n",
       "      <td>4</td>\n",
       "      <td>2021-11-22</td>\n",
       "      <td>[数据可视化, 可视化, 思维]</td>\n",
       "      <td>马世权 / 人民邮电出版社 / 2020-1-1 / 69.8元</td>\n",
       "      <td>https://book.douban.com/subject/34945273/</td>\n",
       "      <td>11月</td>\n",
       "      <td>46</td>\n",
       "    </tr>\n",
       "    <tr>\n",
       "      <th>4</th>\n",
       "      <td>星之继承者</td>\n",
       "      <td>5</td>\n",
       "      <td>2021-11-28</td>\n",
       "      <td>[科幻, 推理, 小说, 科幻小说]</td>\n",
       "      <td>[英] 詹姆斯·P.霍根 / [加] 仇春卉 / 新星出版社 / 2021-4 / 58.00元</td>\n",
       "      <td>https://book.douban.com/subject/35271451/</td>\n",
       "      <td>11月</td>\n",
       "      <td>47</td>\n",
       "    </tr>\n",
       "    <tr>\n",
       "      <th>3</th>\n",
       "      <td>病毒星球</td>\n",
       "      <td>4</td>\n",
       "      <td>2021-12-08</td>\n",
       "      <td>[病毒, 科普, 科学, 微生物]</td>\n",
       "      <td>[美]卡尔·齐默 / 刘旸 / 广西师范大学出版社 / 2019-4 / 48.00元</td>\n",
       "      <td>https://book.douban.com/subject/33408247/</td>\n",
       "      <td>12月</td>\n",
       "      <td>48</td>\n",
       "    </tr>\n",
       "    <tr>\n",
       "      <th>2</th>\n",
       "      <td>一个人的朝圣</td>\n",
       "      <td>4</td>\n",
       "      <td>2021-12-12</td>\n",
       "      <td>[心灵, 旅行, 小说, 外国文学, 英国文学]</td>\n",
       "      <td>[英] 蕾秋·乔伊斯 / 黄妙瑜 / 北京联合出版公司 / 2013-9-1 / 32.80</td>\n",
       "      <td>https://book.douban.com/subject/24934182/</td>\n",
       "      <td>12月</td>\n",
       "      <td>49</td>\n",
       "    </tr>\n",
       "    <tr>\n",
       "      <th>1</th>\n",
       "      <td>哲学·科学·常识</td>\n",
       "      <td>5</td>\n",
       "      <td>2021-12-19</td>\n",
       "      <td>[哲学, 科学, 思维, 科学哲学]</td>\n",
       "      <td>陈嘉映 / 中信出版社·新思文化 / 2018-3 / 58.00元</td>\n",
       "      <td>https://book.douban.com/subject/27139938/</td>\n",
       "      <td>12月</td>\n",
       "      <td>50</td>\n",
       "    </tr>\n",
       "    <tr>\n",
       "      <th>0</th>\n",
       "      <td>游戏开发之旅</td>\n",
       "      <td>3</td>\n",
       "      <td>2021-12-29</td>\n",
       "      <td>[游戏, 历史]</td>\n",
       "      <td>李瑞森、孟凡墨、刘广臣 / 电子工业出版社 / 2017-7 / 88.00元</td>\n",
       "      <td>https://book.douban.com/subject/27101518/</td>\n",
       "      <td>12月</td>\n",
       "      <td>51</td>\n",
       "    </tr>\n",
       "  </tbody>\n",
       "</table>\n",
       "</div>"
      ],
      "text/plain": [
       "                       书名  评分       读完时间                                标签  \\\n",
       "50              剑来1：少年起微末   3 2021-01-11                [网文, 小说, 玄幻, 网络小说]   \n",
       "49              剑来2：忽为远行客   2 2021-01-12                    [玄幻, 网络小说, 网文]   \n",
       "47                  許仙志03   4 2021-01-28                      [玄幻, 仙侠, 网文]   \n",
       "48                  許仙志01   3 2021-01-28                  [小说, 仙侠, 玄幻, 网文]   \n",
       "46                    飞行家   4 2021-02-18                      [小说, 文学, 中国]   \n",
       "45         文学课：如何轻松理解伟大作品   3 2021-02-23                    [导读, 文学, 文学理论]   \n",
       "44                  許仙志06   3 2021-02-23                          [玄幻, 小说]   \n",
       "43               白话机器学习算法   3 2021-02-28             [入门, 人工智能, 机器学习, 计算机]   \n",
       "42         文森特与凡·高：星空中的月亮   3 2021-03-04                    [绘本, 图像小说, 漫画]   \n",
       "41           Python数据科学入门   2 2021-03-09              [Python, 数据分析, 数据科学]   \n",
       "40                     方向   4 2021-03-11                [绘本, 法国, 欧美漫画, 哲学]   \n",
       "39        小说课（壹）: 折磨读者的秘密   3 2021-03-18                     [写作, 讲故事, 小说]   \n",
       "38                  小顾聊神话   3 2021-03-23                [神话, 绘画, 希腊神话, 艺术]   \n",
       "37                法国往事（上）   5 2021-03-30                          [漫画, 法国]   \n",
       "36                      逝   3 2021-04-02                [漫画, 国漫, 青春, 爱情故事]   \n",
       "35                法国往事（下）   5 2021-04-11                [法国, 漫画, 欧洲漫画, 传记]   \n",
       "34                 数据分析实战   2 2021-04-16                  [数据分析, R语言, 计算机]   \n",
       "33                半小时漫画唐诗   3 2021-04-16                  [诗词, 漫画, 文化, 中国]   \n",
       "32                  漫画统计学   2 2021-04-18                     [统计学, 漫画, 科普]   \n",
       "31            小顾聊绘画: 文艺复兴   3 2021-05-16            [绘画, 文艺复兴, 美术, 科普, 艺术]   \n",
       "30          Python数据可视化之美   5 2021-05-16                     [python, 可视化]   \n",
       "29                  身边的江湖   4 2021-05-17                 [散文, 随笔, 中国现当代文学]   \n",
       "28      成为数据分析师: 6步练就数据思维   2 2021-05-28                            [数据分析]   \n",
       "27              如何阅读一本文学书   3 2021-06-02                        [文学, 文学理论]   \n",
       "26                 极简人工智能   2 2021-06-04                   [人工智能, AI, 计算机]   \n",
       "25                小顾聊绘画·贰   3 2021-06-14                 [美术, 绘画, 艺术史, 艺术]   \n",
       "24              美得令人心醉的宋词   4 2021-06-29                [宋词, 诗词, 古典, 中国文学]   \n",
       "23        鬼刀: WLOP个人插画作品集   3 2021-07-07                  [绘画, 艺术, 画册, 绘本]   \n",
       "22         系统之美: 决策者的系统思考   3 2021-07-15        [系统思考, 思维方式, 系统论, 思维, 方法论]   \n",
       "21             蒋勋说宋词（修订版）   4 2021-07-20              [古典文学, 宋词, 诗词, 中国文学]   \n",
       "20                     皮囊   4 2021-07-27                      [成长, 小说, 散文]   \n",
       "19                   智能时代   3 2021-08-02                [科普, 趋势, 科技, 人工智能]   \n",
       "18                   清单革命   2 2021-08-17             [时间管理, 自我管理, 方法论, 效率]   \n",
       "17    不只是美: 信息图表设计原理与经典案例   4 2021-08-28         [可视化, 图表, 设计, 信息图, 数据可视化]   \n",
       "16          冥想5分钟，等于熟睡一小时   3 2021-08-31                  [思维, 心灵, 冥想, 灵修]   \n",
       "15                  诉讼可视化   3 2021-09-10                     [工具书, 图表, 法律]   \n",
       "14                     有梗   3 2021-09-15                     [脱口秀, 搞笑, 喜剧]   \n",
       "13            哥谭重案组1：分内之事   3 2021-09-19           [DC, 美漫, 漫画, 欧美漫画, 蝙蝠侠]   \n",
       "12             一本小小的红色写作书   2 2021-09-22                         [写作, 方法论]   \n",
       "11  利用Python进行数据分析（原书第2版）   4 2021-10-14     [Python, 数据分析, 编程, 计算科学, 计算机]   \n",
       "10           野火集: 三十周年纪念版   4 2021-10-21              [杂文, 台湾, 社会, 民主, 政治]   \n",
       "9                我大概是只废汪了   2 2021-10-24                              [段子]   \n",
       "8        奇点临近: 当计算机智能超越人类   4 2021-10-26              [未来学, 科学, 人工智能, 计算机]   \n",
       "7                   给大壮的信   4 2021-11-08                      [育儿, 成长, 生活]   \n",
       "6                 霍乱时期的爱情   5 2021-11-16  [拉美文学, 外国文学, 文学, 经典, 爱情, 小说, 人生]   \n",
       "5                    乐见数据   4 2021-11-22                  [数据可视化, 可视化, 思维]   \n",
       "4                   星之继承者   5 2021-11-28                [科幻, 推理, 小说, 科幻小说]   \n",
       "3                    病毒星球   4 2021-12-08                 [病毒, 科普, 科学, 微生物]   \n",
       "2                  一个人的朝圣   4 2021-12-12          [心灵, 旅行, 小说, 外国文学, 英国文学]   \n",
       "1                哲学·科学·常识   5 2021-12-19                [哲学, 科学, 思维, 科学哲学]   \n",
       "0                  游戏开发之旅   3 2021-12-29                          [游戏, 历史]   \n",
       "\n",
       "                                                   备注  \\\n",
       "50                  烽火戏诸侯 / 浙江文艺出版社 / 2020-4 / 40.00元   \n",
       "49                  烽火戏诸侯 / 浙江文艺出版社 / 2020-4 / 45.00元   \n",
       "47                                                      \n",
       "48                                         說夢者 / 說頻文化   \n",
       "46                  双雪涛 / 广西师范大学出版社 / 2017-8 / 45.00元   \n",
       "45  [美] 托马斯·福斯特 / 张积模、江美娜 / 后浪丨北京联合出版公司 / 2018-10 ...   \n",
       "44                                                      \n",
       "43  [新加坡] 黄莉婷、[新加坡] 苏川集 / 武传海 / 人民邮电出版社 / 2019-2 /...   \n",
       "42  [塞尔维亚] 格拉迪米尔·斯穆贾 编绘 / 黄洁华 / 湖南美术出版社 / 2017-12 ...   \n",
       "41  [俄] Dmitry Zinoviev / 熊子源 / 人民邮电出版社 / 2017-11 ...   \n",
       "40  [法] 马克-安托万·马修 / 后浪漫（编译） / 北京联合出版公司 / 2017-4 / ...   \n",
       "39                       许荣哲 / 中信出版社 / 2016-8 / 38.00   \n",
       "38                    顾爷 / 北京联合出版公司 / 2016-7 / 49.80元   \n",
       "37  [法] 法比安·努瑞、西尔万·瓦雷 / 申华明、朱婕 / 后浪丨北京联合出版公司 / 201...   \n",
       "36                  尹川 / 北京联合出版公司 / 2019-1-1 / 49.00元   \n",
       "35  [法] 法比安·努瑞 文、[法] 西尔万·泰松 图 / 申华明、朱婕 / 后浪丨北京联合出版...   \n",
       "34    ［ 日］ 酒卷隆治　里洋平 / 肖　峰 / 人民邮电出版社 / 2017-6 / 45.00元   \n",
       "33              陈磊·半小时漫画团队 / 江苏凤凰文艺 / 2019-5-1 / 49.9   \n",
       "32             [日] 高桥信 / 陈刚 / 科学出版社 / 2009-8 / 29.80元   \n",
       "31                    顾爷 / 北京联合出版公司 / 2017-9 / 55.00元   \n",
       "30                                张杰 / 电子工业出版社 / 129元   \n",
       "29                        野夫 / 广东人民出版社 / 2013-9 / 32元   \n",
       "28   托马斯·达文波特、金镇浩 / 盛杨燕 / 浙江人民出版社 / 2018-3-1 / 62.90元   \n",
       "27     [美] 托马斯·福斯特 / 王爱燕 / 南海出版公司 / 2016-2-1 / 39.50元   \n",
       "26    [英] 理查德·温 / 有道人工翻译、吴乔 / 电子工业出版社 / 2018-3-1 / 50   \n",
       "25                      顾爷 / 中信出版社 / 2014-11 / 39.80元   \n",
       "24                   顾非熊 / 北京联合出版公司 / 2012-8 / 32.80元   \n",
       "23                   WLOP / 人民邮电出版社 / 2018-4 / 89.00元   \n",
       "22      [美] 德内拉•梅多斯 / 邱昭良 / 浙江人民出版社 / 2012-8 / 56.90元   \n",
       "21                       蒋勋 / 中信出版社 / 2014-9 / 39.80元   \n",
       "20                 蔡崇达 / 天津人民出版社 / 2014-12-1 / 39.80元   \n",
       "19                       吴军 / 中信出版集团 / 2016-8 / 68.00   \n",
       "18  [美] 阿图•葛文德（Atul Gawande） / 王佳艺 / 浙江人民出版社 / 201...   \n",
       "17  Alberto Cairo / 罗辉、李丽华 / 人民邮电出版社 / 2014-12 / 7...   \n",
       "16  [美] 里克·汉森、理查德·蒙迪思 / 姜勇 / 上海锦绣文章出版社 / 2011-4 / ...   \n",
       "15                    蒋勇（主编） / 法律出版社 / 2017-12-1 / 98   \n",
       "14                            黄西 / 天津科学技术出版社 / 49.80元   \n",
       "13  [美] 艾德·布鲁贝克  格雷格·卢卡 编、迈克尔·拉克 绘 / 肖恩 / 北京联合出版公司...   \n",
       "12        [加] 布兰登·罗伊尔 / 周丽萍 / 九州出版社 / 2017-4 / 39.80元   \n",
       "11  [美] Wes McKinney / 徐敬一 / 机械工业出版社 / 2018-7 / 11...   \n",
       "10                   龙应台 / 广西师范大学出版社 / 2014-5 / 39.80   \n",
       "9                    周显亮 / 江苏凤凰文艺出版社 / 2017-1 / 39.80   \n",
       "8   Ray Kurzweil / 董振华、李庆成 / 机械工业出版社 / 2011-10 / 6...   \n",
       "7                        苗炜 / 译林出版社 / 2019-5 / 39.00元   \n",
       "6   [哥伦比亚] 加西亚·马尔克斯 / 杨玲 / 南海出版公司 / 2012-9-1 / 39.50元   \n",
       "5                    马世权 / 人民邮电出版社 / 2020-1-1 / 69.8元   \n",
       "4    [英] 詹姆斯·P.霍根 / [加] 仇春卉 / 新星出版社 / 2021-4 / 58.00元   \n",
       "3         [美]卡尔·齐默 / 刘旸 / 广西师范大学出版社 / 2019-4 / 48.00元   \n",
       "2      [英] 蕾秋·乔伊斯 / 黄妙瑜 / 北京联合出版公司 / 2013-9-1 / 32.80   \n",
       "1                  陈嘉映 / 中信出版社·新思文化 / 2018-3 / 58.00元   \n",
       "0             李瑞森、孟凡墨、刘广臣 / 电子工业出版社 / 2017-7 / 88.00元   \n",
       "\n",
       "                                         豆瓣链接   月份  累计数量  \n",
       "50  https://book.douban.com/subject/35022388/   1月     1  \n",
       "49  https://book.douban.com/subject/35022398/   1月     2  \n",
       "47  https://book.douban.com/subject/33280855/   1月     3  \n",
       "48  https://book.douban.com/subject/30154382/   1月     4  \n",
       "46  https://book.douban.com/subject/27116235/   2月     5  \n",
       "45  https://book.douban.com/subject/30270831/   2月     6  \n",
       "44  https://book.douban.com/subject/32740373/   2月     7  \n",
       "43  https://book.douban.com/subject/30442187/   2月     8  \n",
       "42  https://book.douban.com/subject/27194696/   3月     9  \n",
       "41  https://book.douban.com/subject/27179941/   3月    10  \n",
       "40  https://book.douban.com/subject/26975609/   3月    11  \n",
       "39  https://book.douban.com/subject/26738797/   3月    12  \n",
       "38  https://book.douban.com/subject/26865730/   3月    13  \n",
       "37  https://book.douban.com/subject/26958896/   3月    14  \n",
       "36  https://book.douban.com/subject/30406561/   4月    15  \n",
       "35  https://book.douban.com/subject/30324567/   4月    16  \n",
       "34  https://book.douban.com/subject/27046284/   4月    17  \n",
       "33  https://book.douban.com/subject/33441524/   4月    18  \n",
       "32   https://book.douban.com/subject/4010128/   4月    19  \n",
       "31  https://book.douban.com/subject/27140491/   5月    20  \n",
       "30  https://book.douban.com/subject/35013530/   5月    21  \n",
       "29  https://book.douban.com/subject/25639223/   5月    22  \n",
       "28  https://book.douban.com/subject/30134503/   5月    23  \n",
       "27  https://book.douban.com/subject/26676528/   6月    24  \n",
       "26  https://book.douban.com/subject/30164495/   6月    25  \n",
       "25  https://book.douban.com/subject/26265303/   6月    26  \n",
       "24  https://book.douban.com/subject/11524184/   6月    27  \n",
       "23  https://book.douban.com/subject/30180617/   7月    28  \n",
       "22  https://book.douban.com/subject/11528220/   7月    29  \n",
       "21  https://book.douban.com/subject/26022052/   7月    30  \n",
       "20  https://book.douban.com/subject/26278687/   7月    31  \n",
       "19  https://book.douban.com/subject/26838557/   8月    32  \n",
       "18  https://book.douban.com/subject/10788371/   8月    33  \n",
       "17  https://book.douban.com/subject/26289656/   8月    34  \n",
       "16   https://book.douban.com/subject/6011081/   8月    35  \n",
       "15  https://book.douban.com/subject/30133424/   9月    36  \n",
       "14  https://book.douban.com/subject/35167369/   9月    37  \n",
       "13  https://book.douban.com/subject/26905143/   9月    38  \n",
       "12  https://book.douban.com/subject/26990918/   9月    39  \n",
       "11  https://book.douban.com/subject/30283996/  10月    40  \n",
       "10  https://book.douban.com/subject/25870310/  10月    41  \n",
       "9   https://book.douban.com/subject/26954567/  10月    42  \n",
       "8    https://book.douban.com/subject/6855803/  10月    43  \n",
       "7   https://book.douban.com/subject/33427859/  11月    44  \n",
       "6   https://book.douban.com/subject/10594787/  11月    45  \n",
       "5   https://book.douban.com/subject/34945273/  11月    46  \n",
       "4   https://book.douban.com/subject/35271451/  11月    47  \n",
       "3   https://book.douban.com/subject/33408247/  12月    48  \n",
       "2   https://book.douban.com/subject/24934182/  12月    49  \n",
       "1   https://book.douban.com/subject/27139938/  12月    50  \n",
       "0   https://book.douban.com/subject/27101518/  12月    51  "
      ]
     },
     "execution_count": 5,
     "metadata": {},
     "output_type": "execute_result"
    }
   ],
   "source": [
    "\n",
    "df = pd.DataFrame({'书名': names, '评分': stars, '读完时间': read_dates, '标签': labels, '备注': line1, '豆瓣链接': links})\n",
    "df['读完时间'] = pd.to_datetime(df['读完时间'])\n",
    "df['月份'] = df['读完时间'].dt.month.astype(str) + '月'\n",
    "df['月份'] = pd.Categorical(df['月份'], categories=['1月', '2月', '3月', '4月', '5月', '6月', '7月', '8月', '9月', '10月', '11月', '12月'])\n",
    "df = df.sort_values('读完时间')\n",
    "df['累计数量'] = 1\n",
    "df['累计数量'] = df['累计数量'].cumsum()\n",
    "df"
   ]
  },
  {
   "cell_type": "code",
   "execution_count": 6,
   "metadata": {},
   "outputs": [
    {
     "data": {
      "text/plain": [
       "Index(['书名', '评分', '读完时间', '标签', '备注', '豆瓣链接', '月份', '累计数量'], dtype='object')"
      ]
     },
     "execution_count": 6,
     "metadata": {},
     "output_type": "execute_result"
    }
   ],
   "source": [
    "df.columns"
   ]
  },
  {
   "cell_type": "code",
   "execution_count": 7,
   "metadata": {},
   "outputs": [
    {
     "data": {
      "text/html": [
       "<div>\n",
       "<style scoped>\n",
       "    .dataframe tbody tr th:only-of-type {\n",
       "        vertical-align: middle;\n",
       "    }\n",
       "\n",
       "    .dataframe tbody tr th {\n",
       "        vertical-align: top;\n",
       "    }\n",
       "\n",
       "    .dataframe thead th {\n",
       "        text-align: right;\n",
       "    }\n",
       "</style>\n",
       "<table border=\"1\" class=\"dataframe\">\n",
       "  <thead>\n",
       "    <tr style=\"text-align: right;\">\n",
       "      <th></th>\n",
       "      <th>书名</th>\n",
       "      <th>作者</th>\n",
       "      <th>评分</th>\n",
       "      <th>读完时间</th>\n",
       "    </tr>\n",
       "  </thead>\n",
       "  <tbody>\n",
       "    <tr>\n",
       "      <th>50</th>\n",
       "      <td>剑来1：少年起微末</td>\n",
       "      <td>烽火戏诸侯</td>\n",
       "      <td>★★★</td>\n",
       "      <td>2021-01-11</td>\n",
       "    </tr>\n",
       "    <tr>\n",
       "      <th>49</th>\n",
       "      <td>剑来2：忽为远行客</td>\n",
       "      <td>烽火戏诸侯</td>\n",
       "      <td>★★</td>\n",
       "      <td>2021-01-12</td>\n",
       "    </tr>\n",
       "    <tr>\n",
       "      <th>47</th>\n",
       "      <td>許仙志03</td>\n",
       "      <td></td>\n",
       "      <td>★★★★</td>\n",
       "      <td>2021-01-28</td>\n",
       "    </tr>\n",
       "    <tr>\n",
       "      <th>48</th>\n",
       "      <td>許仙志01</td>\n",
       "      <td>說夢者</td>\n",
       "      <td>★★★</td>\n",
       "      <td>2021-01-28</td>\n",
       "    </tr>\n",
       "    <tr>\n",
       "      <th>46</th>\n",
       "      <td>飞行家</td>\n",
       "      <td>双雪涛</td>\n",
       "      <td>★★★★</td>\n",
       "      <td>2021-02-18</td>\n",
       "    </tr>\n",
       "    <tr>\n",
       "      <th>45</th>\n",
       "      <td>文学课：如何轻松理解伟大作品</td>\n",
       "      <td>[美] 托马斯·福斯特</td>\n",
       "      <td>★★★</td>\n",
       "      <td>2021-02-23</td>\n",
       "    </tr>\n",
       "    <tr>\n",
       "      <th>44</th>\n",
       "      <td>許仙志06</td>\n",
       "      <td></td>\n",
       "      <td>★★★</td>\n",
       "      <td>2021-02-23</td>\n",
       "    </tr>\n",
       "    <tr>\n",
       "      <th>43</th>\n",
       "      <td>白话机器学习算法</td>\n",
       "      <td>[新加坡] 黄莉婷、[新加坡] 苏川集</td>\n",
       "      <td>★★★</td>\n",
       "      <td>2021-02-28</td>\n",
       "    </tr>\n",
       "    <tr>\n",
       "      <th>42</th>\n",
       "      <td>文森特与凡·高：星空中的月亮</td>\n",
       "      <td>[塞尔维亚] 格拉迪米尔·斯穆贾 编绘</td>\n",
       "      <td>★★★</td>\n",
       "      <td>2021-03-04</td>\n",
       "    </tr>\n",
       "    <tr>\n",
       "      <th>41</th>\n",
       "      <td>Python数据科学入门</td>\n",
       "      <td>[俄] Dmitry Zinoviev</td>\n",
       "      <td>★★</td>\n",
       "      <td>2021-03-09</td>\n",
       "    </tr>\n",
       "    <tr>\n",
       "      <th>40</th>\n",
       "      <td>方向</td>\n",
       "      <td>[法] 马克-安托万·马修</td>\n",
       "      <td>★★★★</td>\n",
       "      <td>2021-03-11</td>\n",
       "    </tr>\n",
       "    <tr>\n",
       "      <th>39</th>\n",
       "      <td>小说课（壹）: 折磨读者的秘密</td>\n",
       "      <td>许荣哲</td>\n",
       "      <td>★★★</td>\n",
       "      <td>2021-03-18</td>\n",
       "    </tr>\n",
       "    <tr>\n",
       "      <th>38</th>\n",
       "      <td>小顾聊神话</td>\n",
       "      <td>顾爷</td>\n",
       "      <td>★★★</td>\n",
       "      <td>2021-03-23</td>\n",
       "    </tr>\n",
       "    <tr>\n",
       "      <th>37</th>\n",
       "      <td>法国往事（上）</td>\n",
       "      <td>[法] 法比安·努瑞、西尔万·瓦雷</td>\n",
       "      <td>★★★★★</td>\n",
       "      <td>2021-03-30</td>\n",
       "    </tr>\n",
       "    <tr>\n",
       "      <th>36</th>\n",
       "      <td>逝</td>\n",
       "      <td>尹川</td>\n",
       "      <td>★★★</td>\n",
       "      <td>2021-04-02</td>\n",
       "    </tr>\n",
       "    <tr>\n",
       "      <th>35</th>\n",
       "      <td>法国往事（下）</td>\n",
       "      <td>[法] 法比安·努瑞 文、[法] 西尔万·泰松 图</td>\n",
       "      <td>★★★★★</td>\n",
       "      <td>2021-04-11</td>\n",
       "    </tr>\n",
       "    <tr>\n",
       "      <th>34</th>\n",
       "      <td>数据分析实战</td>\n",
       "      <td>［ 日］ 酒卷隆治　里洋平</td>\n",
       "      <td>★★</td>\n",
       "      <td>2021-04-16</td>\n",
       "    </tr>\n",
       "    <tr>\n",
       "      <th>33</th>\n",
       "      <td>半小时漫画唐诗</td>\n",
       "      <td>陈磊·半小时漫画团队</td>\n",
       "      <td>★★★</td>\n",
       "      <td>2021-04-16</td>\n",
       "    </tr>\n",
       "    <tr>\n",
       "      <th>32</th>\n",
       "      <td>漫画统计学</td>\n",
       "      <td>[日] 高桥信</td>\n",
       "      <td>★★</td>\n",
       "      <td>2021-04-18</td>\n",
       "    </tr>\n",
       "    <tr>\n",
       "      <th>31</th>\n",
       "      <td>小顾聊绘画: 文艺复兴</td>\n",
       "      <td>顾爷</td>\n",
       "      <td>★★★</td>\n",
       "      <td>2021-05-16</td>\n",
       "    </tr>\n",
       "    <tr>\n",
       "      <th>30</th>\n",
       "      <td>Python数据可视化之美</td>\n",
       "      <td>张杰</td>\n",
       "      <td>★★★★★</td>\n",
       "      <td>2021-05-16</td>\n",
       "    </tr>\n",
       "    <tr>\n",
       "      <th>29</th>\n",
       "      <td>身边的江湖</td>\n",
       "      <td>野夫</td>\n",
       "      <td>★★★★</td>\n",
       "      <td>2021-05-17</td>\n",
       "    </tr>\n",
       "    <tr>\n",
       "      <th>28</th>\n",
       "      <td>成为数据分析师: 6步练就数据思维</td>\n",
       "      <td>托马斯·达文波特、金镇浩</td>\n",
       "      <td>★★</td>\n",
       "      <td>2021-05-28</td>\n",
       "    </tr>\n",
       "    <tr>\n",
       "      <th>27</th>\n",
       "      <td>如何阅读一本文学书</td>\n",
       "      <td>[美] 托马斯·福斯特</td>\n",
       "      <td>★★★</td>\n",
       "      <td>2021-06-02</td>\n",
       "    </tr>\n",
       "    <tr>\n",
       "      <th>26</th>\n",
       "      <td>极简人工智能</td>\n",
       "      <td>[英] 理查德·温</td>\n",
       "      <td>★★</td>\n",
       "      <td>2021-06-04</td>\n",
       "    </tr>\n",
       "    <tr>\n",
       "      <th>25</th>\n",
       "      <td>小顾聊绘画·贰</td>\n",
       "      <td>顾爷</td>\n",
       "      <td>★★★</td>\n",
       "      <td>2021-06-14</td>\n",
       "    </tr>\n",
       "    <tr>\n",
       "      <th>24</th>\n",
       "      <td>美得令人心醉的宋词</td>\n",
       "      <td>顾非熊</td>\n",
       "      <td>★★★★</td>\n",
       "      <td>2021-06-29</td>\n",
       "    </tr>\n",
       "    <tr>\n",
       "      <th>23</th>\n",
       "      <td>鬼刀: WLOP个人插画作品集</td>\n",
       "      <td>WLOP</td>\n",
       "      <td>★★★</td>\n",
       "      <td>2021-07-07</td>\n",
       "    </tr>\n",
       "    <tr>\n",
       "      <th>22</th>\n",
       "      <td>系统之美: 决策者的系统思考</td>\n",
       "      <td>[美] 德内拉•梅多斯</td>\n",
       "      <td>★★★</td>\n",
       "      <td>2021-07-15</td>\n",
       "    </tr>\n",
       "    <tr>\n",
       "      <th>21</th>\n",
       "      <td>蒋勋说宋词（修订版）</td>\n",
       "      <td>蒋勋</td>\n",
       "      <td>★★★★</td>\n",
       "      <td>2021-07-20</td>\n",
       "    </tr>\n",
       "    <tr>\n",
       "      <th>20</th>\n",
       "      <td>皮囊</td>\n",
       "      <td>蔡崇达</td>\n",
       "      <td>★★★★</td>\n",
       "      <td>2021-07-27</td>\n",
       "    </tr>\n",
       "    <tr>\n",
       "      <th>19</th>\n",
       "      <td>智能时代</td>\n",
       "      <td>吴军</td>\n",
       "      <td>★★★</td>\n",
       "      <td>2021-08-02</td>\n",
       "    </tr>\n",
       "    <tr>\n",
       "      <th>18</th>\n",
       "      <td>清单革命</td>\n",
       "      <td>[美] 阿图•葛文德（Atul Gawande）</td>\n",
       "      <td>★★</td>\n",
       "      <td>2021-08-17</td>\n",
       "    </tr>\n",
       "    <tr>\n",
       "      <th>17</th>\n",
       "      <td>不只是美: 信息图表设计原理与经典案例</td>\n",
       "      <td>Alberto Cairo</td>\n",
       "      <td>★★★★</td>\n",
       "      <td>2021-08-28</td>\n",
       "    </tr>\n",
       "    <tr>\n",
       "      <th>16</th>\n",
       "      <td>冥想5分钟，等于熟睡一小时</td>\n",
       "      <td>[美] 里克·汉森、理查德·蒙迪思</td>\n",
       "      <td>★★★</td>\n",
       "      <td>2021-08-31</td>\n",
       "    </tr>\n",
       "    <tr>\n",
       "      <th>15</th>\n",
       "      <td>诉讼可视化</td>\n",
       "      <td>蒋勇（主编）</td>\n",
       "      <td>★★★</td>\n",
       "      <td>2021-09-10</td>\n",
       "    </tr>\n",
       "    <tr>\n",
       "      <th>14</th>\n",
       "      <td>有梗</td>\n",
       "      <td>黄西</td>\n",
       "      <td>★★★</td>\n",
       "      <td>2021-09-15</td>\n",
       "    </tr>\n",
       "    <tr>\n",
       "      <th>13</th>\n",
       "      <td>哥谭重案组1：分内之事</td>\n",
       "      <td>[美] 艾德·布鲁贝克  格雷格·卢卡 编、迈克尔·拉克 绘</td>\n",
       "      <td>★★★</td>\n",
       "      <td>2021-09-19</td>\n",
       "    </tr>\n",
       "    <tr>\n",
       "      <th>12</th>\n",
       "      <td>一本小小的红色写作书</td>\n",
       "      <td>[加] 布兰登·罗伊尔</td>\n",
       "      <td>★★</td>\n",
       "      <td>2021-09-22</td>\n",
       "    </tr>\n",
       "    <tr>\n",
       "      <th>11</th>\n",
       "      <td>利用Python进行数据分析（原书第2版）</td>\n",
       "      <td>[美] Wes McKinney</td>\n",
       "      <td>★★★★</td>\n",
       "      <td>2021-10-14</td>\n",
       "    </tr>\n",
       "    <tr>\n",
       "      <th>10</th>\n",
       "      <td>野火集: 三十周年纪念版</td>\n",
       "      <td>龙应台</td>\n",
       "      <td>★★★★</td>\n",
       "      <td>2021-10-21</td>\n",
       "    </tr>\n",
       "    <tr>\n",
       "      <th>9</th>\n",
       "      <td>我大概是只废汪了</td>\n",
       "      <td>周显亮</td>\n",
       "      <td>★★</td>\n",
       "      <td>2021-10-24</td>\n",
       "    </tr>\n",
       "    <tr>\n",
       "      <th>8</th>\n",
       "      <td>奇点临近: 当计算机智能超越人类</td>\n",
       "      <td>Ray Kurzweil</td>\n",
       "      <td>★★★★</td>\n",
       "      <td>2021-10-26</td>\n",
       "    </tr>\n",
       "    <tr>\n",
       "      <th>7</th>\n",
       "      <td>给大壮的信</td>\n",
       "      <td>苗炜</td>\n",
       "      <td>★★★★</td>\n",
       "      <td>2021-11-08</td>\n",
       "    </tr>\n",
       "    <tr>\n",
       "      <th>6</th>\n",
       "      <td>霍乱时期的爱情</td>\n",
       "      <td>[哥伦比亚] 加西亚·马尔克斯</td>\n",
       "      <td>★★★★★</td>\n",
       "      <td>2021-11-16</td>\n",
       "    </tr>\n",
       "    <tr>\n",
       "      <th>5</th>\n",
       "      <td>乐见数据</td>\n",
       "      <td>马世权</td>\n",
       "      <td>★★★★</td>\n",
       "      <td>2021-11-22</td>\n",
       "    </tr>\n",
       "    <tr>\n",
       "      <th>4</th>\n",
       "      <td>星之继承者</td>\n",
       "      <td>[英] 詹姆斯·P.霍根</td>\n",
       "      <td>★★★★★</td>\n",
       "      <td>2021-11-28</td>\n",
       "    </tr>\n",
       "    <tr>\n",
       "      <th>3</th>\n",
       "      <td>病毒星球</td>\n",
       "      <td>[美]卡尔·齐默</td>\n",
       "      <td>★★★★</td>\n",
       "      <td>2021-12-08</td>\n",
       "    </tr>\n",
       "    <tr>\n",
       "      <th>2</th>\n",
       "      <td>一个人的朝圣</td>\n",
       "      <td>[英] 蕾秋·乔伊斯</td>\n",
       "      <td>★★★★</td>\n",
       "      <td>2021-12-12</td>\n",
       "    </tr>\n",
       "    <tr>\n",
       "      <th>1</th>\n",
       "      <td>哲学·科学·常识</td>\n",
       "      <td>陈嘉映</td>\n",
       "      <td>★★★★★</td>\n",
       "      <td>2021-12-19</td>\n",
       "    </tr>\n",
       "    <tr>\n",
       "      <th>0</th>\n",
       "      <td>游戏开发之旅</td>\n",
       "      <td>李瑞森、孟凡墨、刘广臣</td>\n",
       "      <td>★★★</td>\n",
       "      <td>2021-12-29</td>\n",
       "    </tr>\n",
       "  </tbody>\n",
       "</table>\n",
       "</div>"
      ],
      "text/plain": [
       "                       书名                              作者     评分       读完时间\n",
       "50              剑来1：少年起微末                           烽火戏诸侯    ★★★ 2021-01-11\n",
       "49              剑来2：忽为远行客                           烽火戏诸侯     ★★ 2021-01-12\n",
       "47                  許仙志03                                   ★★★★ 2021-01-28\n",
       "48                  許仙志01                             說夢者    ★★★ 2021-01-28\n",
       "46                    飞行家                             双雪涛   ★★★★ 2021-02-18\n",
       "45         文学课：如何轻松理解伟大作品                     [美] 托马斯·福斯特    ★★★ 2021-02-23\n",
       "44                  許仙志06                                    ★★★ 2021-02-23\n",
       "43               白话机器学习算法             [新加坡] 黄莉婷、[新加坡] 苏川集    ★★★ 2021-02-28\n",
       "42         文森特与凡·高：星空中的月亮             [塞尔维亚] 格拉迪米尔·斯穆贾 编绘    ★★★ 2021-03-04\n",
       "41           Python数据科学入门             [俄] Dmitry Zinoviev     ★★ 2021-03-09\n",
       "40                     方向                   [法] 马克-安托万·马修   ★★★★ 2021-03-11\n",
       "39        小说课（壹）: 折磨读者的秘密                             许荣哲    ★★★ 2021-03-18\n",
       "38                  小顾聊神话                              顾爷    ★★★ 2021-03-23\n",
       "37                法国往事（上）               [法] 法比安·努瑞、西尔万·瓦雷  ★★★★★ 2021-03-30\n",
       "36                      逝                              尹川    ★★★ 2021-04-02\n",
       "35                法国往事（下）       [法] 法比安·努瑞 文、[法] 西尔万·泰松 图  ★★★★★ 2021-04-11\n",
       "34                 数据分析实战                   ［ 日］ 酒卷隆治　里洋平     ★★ 2021-04-16\n",
       "33                半小时漫画唐诗                      陈磊·半小时漫画团队    ★★★ 2021-04-16\n",
       "32                  漫画统计学                         [日] 高桥信     ★★ 2021-04-18\n",
       "31            小顾聊绘画: 文艺复兴                              顾爷    ★★★ 2021-05-16\n",
       "30          Python数据可视化之美                              张杰  ★★★★★ 2021-05-16\n",
       "29                  身边的江湖                              野夫   ★★★★ 2021-05-17\n",
       "28      成为数据分析师: 6步练就数据思维                    托马斯·达文波特、金镇浩     ★★ 2021-05-28\n",
       "27              如何阅读一本文学书                     [美] 托马斯·福斯特    ★★★ 2021-06-02\n",
       "26                 极简人工智能                       [英] 理查德·温     ★★ 2021-06-04\n",
       "25                小顾聊绘画·贰                              顾爷    ★★★ 2021-06-14\n",
       "24              美得令人心醉的宋词                             顾非熊   ★★★★ 2021-06-29\n",
       "23        鬼刀: WLOP个人插画作品集                            WLOP    ★★★ 2021-07-07\n",
       "22         系统之美: 决策者的系统思考                     [美] 德内拉•梅多斯    ★★★ 2021-07-15\n",
       "21             蒋勋说宋词（修订版）                              蒋勋   ★★★★ 2021-07-20\n",
       "20                     皮囊                             蔡崇达   ★★★★ 2021-07-27\n",
       "19                   智能时代                              吴军    ★★★ 2021-08-02\n",
       "18                   清单革命        [美] 阿图•葛文德（Atul Gawande）     ★★ 2021-08-17\n",
       "17    不只是美: 信息图表设计原理与经典案例                   Alberto Cairo   ★★★★ 2021-08-28\n",
       "16          冥想5分钟，等于熟睡一小时               [美] 里克·汉森、理查德·蒙迪思    ★★★ 2021-08-31\n",
       "15                  诉讼可视化                          蒋勇（主编）    ★★★ 2021-09-10\n",
       "14                     有梗                              黄西    ★★★ 2021-09-15\n",
       "13            哥谭重案组1：分内之事  [美] 艾德·布鲁贝克  格雷格·卢卡 编、迈克尔·拉克 绘    ★★★ 2021-09-19\n",
       "12             一本小小的红色写作书                     [加] 布兰登·罗伊尔     ★★ 2021-09-22\n",
       "11  利用Python进行数据分析（原书第2版）                [美] Wes McKinney   ★★★★ 2021-10-14\n",
       "10           野火集: 三十周年纪念版                             龙应台   ★★★★ 2021-10-21\n",
       "9                我大概是只废汪了                             周显亮     ★★ 2021-10-24\n",
       "8        奇点临近: 当计算机智能超越人类                    Ray Kurzweil   ★★★★ 2021-10-26\n",
       "7                   给大壮的信                              苗炜   ★★★★ 2021-11-08\n",
       "6                 霍乱时期的爱情                 [哥伦比亚] 加西亚·马尔克斯  ★★★★★ 2021-11-16\n",
       "5                    乐见数据                             马世权   ★★★★ 2021-11-22\n",
       "4                   星之继承者                    [英] 詹姆斯·P.霍根  ★★★★★ 2021-11-28\n",
       "3                    病毒星球                        [美]卡尔·齐默   ★★★★ 2021-12-08\n",
       "2                  一个人的朝圣                      [英] 蕾秋·乔伊斯   ★★★★ 2021-12-12\n",
       "1                哲学·科学·常识                             陈嘉映  ★★★★★ 2021-12-19\n",
       "0                  游戏开发之旅                     李瑞森、孟凡墨、刘广臣    ★★★ 2021-12-29"
      ]
     },
     "execution_count": 7,
     "metadata": {},
     "output_type": "execute_result"
    }
   ],
   "source": [
    "df['作者'] = df['备注'].map(lambda x: x.split(' / ')[0])\n",
    "df['评分'] = df['评分'].map(lambda x: '★' * x)\n",
    "df1 = df[['书名', '作者', '评分', '读完时间']]\n",
    "df1"
   ]
  },
  {
   "cell_type": "code",
   "execution_count": 8,
   "metadata": {},
   "outputs": [],
   "source": [
    "df1.to_excel('./2021年读书小结2.xlsx', index=False)"
   ]
  },
  {
   "cell_type": "code",
   "execution_count": 9,
   "metadata": {},
   "outputs": [],
   "source": [
    "# df.to_excel('./2021年读书小结.xlsx', index=False)"
   ]
  },
  {
   "cell_type": "markdown",
   "metadata": {},
   "source": [
    "## 配色"
   ]
  },
  {
   "cell_type": "code",
   "execution_count": 10,
   "metadata": {},
   "outputs": [
    {
     "data": {
      "application/vnd.plotly.v1+json": {
       "config": {
        "plotlyServerURL": "https://plot.ly"
       },
       "data": [
        {
         "customdata": [
          0,
          1,
          2,
          3,
          4,
          5,
          6
         ],
         "hovertemplate": "%{y}[%{customdata}] = %{marker.color}<extra></extra>",
         "marker": {
          "color": [
           "rgb(237, 229, 207)",
           "rgb(224, 194, 162)",
           "rgb(211, 156, 131)",
           "rgb(193, 118, 111)",
           "rgb(166, 84, 97)",
           "rgb(129, 55, 83)",
           "rgb(84, 31, 63)"
          ]
         },
         "orientation": "h",
         "type": "bar",
         "x": [
          1,
          1,
          1,
          1,
          1,
          1,
          1
         ],
         "y": [
          "Brwnyl",
          "Brwnyl",
          "Brwnyl",
          "Brwnyl",
          "Brwnyl",
          "Brwnyl",
          "Brwnyl"
         ]
        },
        {
         "customdata": [
          0,
          1,
          2,
          3,
          4,
          5,
          6
         ],
         "hovertemplate": "%{y}[%{customdata}] = %{marker.color}<extra></extra>",
         "marker": {
          "color": [
           "rgb(75, 41, 145)",
           "rgb(135, 44, 162)",
           "rgb(192, 54, 157)",
           "rgb(234, 79, 136)",
           "rgb(250, 120, 118)",
           "rgb(246, 169, 122)",
           "rgb(237, 217, 163)"
          ]
         },
         "orientation": "h",
         "type": "bar",
         "x": [
          1,
          1,
          1,
          1,
          1,
          1,
          1
         ],
         "y": [
          "Agsunset",
          "Agsunset",
          "Agsunset",
          "Agsunset",
          "Agsunset",
          "Agsunset",
          "Agsunset"
         ]
        },
        {
         "customdata": [
          0,
          1,
          2,
          3,
          4,
          5,
          6
         ],
         "hovertemplate": "%{y}[%{customdata}] = %{marker.color}<extra></extra>",
         "marker": {
          "color": [
           "rgb(252, 222, 156)",
           "rgb(250, 164, 118)",
           "rgb(240, 116, 110)",
           "rgb(227, 79, 111)",
           "rgb(220, 57, 119)",
           "rgb(185, 37, 122)",
           "rgb(124, 29, 111)"
          ]
         },
         "orientation": "h",
         "type": "bar",
         "x": [
          1,
          1,
          1,
          1,
          1,
          1,
          1
         ],
         "y": [
          "Sunsetdark",
          "Sunsetdark",
          "Sunsetdark",
          "Sunsetdark",
          "Sunsetdark",
          "Sunsetdark",
          "Sunsetdark"
         ]
        },
        {
         "customdata": [
          0,
          1,
          2,
          3,
          4,
          5,
          6
         ],
         "hovertemplate": "%{y}[%{customdata}] = %{marker.color}<extra></extra>",
         "marker": {
          "color": [
           "rgb(243, 203, 211)",
           "rgb(234, 169, 189)",
           "rgb(221, 136, 172)",
           "rgb(202, 105, 157)",
           "rgb(177, 77, 142)",
           "rgb(145, 53, 125)",
           "rgb(108, 33, 103)"
          ]
         },
         "orientation": "h",
         "type": "bar",
         "x": [
          1,
          1,
          1,
          1,
          1,
          1,
          1
         ],
         "y": [
          "Magenta",
          "Magenta",
          "Magenta",
          "Magenta",
          "Magenta",
          "Magenta",
          "Magenta"
         ]
        },
        {
         "customdata": [
          0,
          1,
          2,
          3,
          4,
          5,
          6
         ],
         "hovertemplate": "%{y}[%{customdata}] = %{marker.color}<extra></extra>",
         "marker": {
          "color": [
           "rgb(243, 231, 155)",
           "rgb(250, 196, 132)",
           "rgb(248, 160, 126)",
           "rgb(235, 127, 134)",
           "rgb(206, 102, 147)",
           "rgb(160, 89, 160)",
           "rgb(92, 83, 165)"
          ]
         },
         "orientation": "h",
         "type": "bar",
         "x": [
          1,
          1,
          1,
          1,
          1,
          1,
          1
         ],
         "y": [
          "Sunset",
          "Sunset",
          "Sunset",
          "Sunset",
          "Sunset",
          "Sunset",
          "Sunset"
         ]
        },
        {
         "customdata": [
          0,
          1,
          2,
          3,
          4,
          5,
          6
         ],
         "hovertemplate": "%{y}[%{customdata}] = %{marker.color}<extra></extra>",
         "marker": {
          "color": [
           "rgb(249, 221, 218)",
           "rgb(242, 185, 196)",
           "rgb(229, 151, 185)",
           "rgb(206, 120, 179)",
           "rgb(173, 95, 173)",
           "rgb(131, 75, 160)",
           "rgb(87, 59, 136)"
          ]
         },
         "orientation": "h",
         "type": "bar",
         "x": [
          1,
          1,
          1,
          1,
          1,
          1,
          1
         ],
         "y": [
          "Purpor",
          "Purpor",
          "Purpor",
          "Purpor",
          "Purpor",
          "Purpor",
          "Purpor"
         ]
        },
        {
         "customdata": [
          0,
          1,
          2,
          3,
          4,
          5,
          6
         ],
         "hovertemplate": "%{y}[%{customdata}] = %{marker.color}<extra></extra>",
         "marker": {
          "color": [
           "rgb(243, 224, 247)",
           "rgb(228, 199, 241)",
           "rgb(209, 175, 232)",
           "rgb(185, 152, 221)",
           "rgb(159, 130, 206)",
           "rgb(130, 109, 186)",
           "rgb(99, 88, 159)"
          ]
         },
         "orientation": "h",
         "type": "bar",
         "x": [
          1,
          1,
          1,
          1,
          1,
          1,
          1
         ],
         "y": [
          "Purp",
          "Purp",
          "Purp",
          "Purp",
          "Purp",
          "Purp",
          "Purp"
         ]
        },
        {
         "customdata": [
          0,
          1,
          2,
          3,
          4,
          5,
          6
         ],
         "hovertemplate": "%{y}[%{customdata}] = %{marker.color}<extra></extra>",
         "marker": {
          "color": [
           "rgb(176, 242, 188)",
           "rgb(137, 232, 172)",
           "rgb(103, 219, 165)",
           "rgb(76, 200, 163)",
           "rgb(56, 178, 163)",
           "rgb(44, 152, 160)",
           "rgb(37, 125, 152)"
          ]
         },
         "orientation": "h",
         "type": "bar",
         "x": [
          1,
          1,
          1,
          1,
          1,
          1,
          1
         ],
         "y": [
          "Tealgrn",
          "Tealgrn",
          "Tealgrn",
          "Tealgrn",
          "Tealgrn",
          "Tealgrn",
          "Tealgrn"
         ]
        },
        {
         "customdata": [
          0,
          1,
          2,
          3,
          4,
          5,
          6
         ],
         "hovertemplate": "%{y}[%{customdata}] = %{marker.color}<extra></extra>",
         "marker": {
          "color": [
           "rgb(209, 238, 234)",
           "rgb(168, 219, 217)",
           "rgb(133, 196, 201)",
           "rgb(104, 171, 184)",
           "rgb(79, 144, 166)",
           "rgb(59, 115, 143)",
           "rgb(42, 86, 116)"
          ]
         },
         "orientation": "h",
         "type": "bar",
         "x": [
          1,
          1,
          1,
          1,
          1,
          1,
          1
         ],
         "y": [
          "Teal",
          "Teal",
          "Teal",
          "Teal",
          "Teal",
          "Teal",
          "Teal"
         ]
        },
        {
         "customdata": [
          0,
          1,
          2,
          3,
          4,
          5,
          6
         ],
         "hovertemplate": "%{y}[%{customdata}] = %{marker.color}<extra></extra>",
         "marker": {
          "color": [
           "rgb(247, 254, 174)",
           "rgb(183, 230, 165)",
           "rgb(124, 203, 162)",
           "rgb(70, 174, 160)",
           "rgb(8, 144, 153)",
           "rgb(0, 113, 139)",
           "rgb(4, 82, 117)"
          ]
         },
         "orientation": "h",
         "type": "bar",
         "x": [
          1,
          1,
          1,
          1,
          1,
          1,
          1
         ],
         "y": [
          "Bluyl",
          "Bluyl",
          "Bluyl",
          "Bluyl",
          "Bluyl",
          "Bluyl",
          "Bluyl"
         ]
        },
        {
         "customdata": [
          0,
          1,
          2,
          3,
          4,
          5,
          6
         ],
         "hovertemplate": "%{y}[%{customdata}] = %{marker.color}<extra></extra>",
         "marker": {
          "color": [
           "rgb(36, 86, 104)",
           "rgb(15, 114, 121)",
           "rgb(13, 143, 129)",
           "rgb(57, 171, 126)",
           "rgb(110, 197, 116)",
           "rgb(169, 220, 103)",
           "rgb(237, 239, 93)"
          ]
         },
         "orientation": "h",
         "type": "bar",
         "x": [
          1,
          1,
          1,
          1,
          1,
          1,
          1
         ],
         "y": [
          "Aggrnyl",
          "Aggrnyl",
          "Aggrnyl",
          "Aggrnyl",
          "Aggrnyl",
          "Aggrnyl",
          "Aggrnyl"
         ]
        },
        {
         "customdata": [
          0,
          1,
          2,
          3,
          4,
          5,
          6
         ],
         "hovertemplate": "%{y}[%{customdata}] = %{marker.color}<extra></extra>",
         "marker": {
          "color": [
           "rgb(211, 242, 163)",
           "rgb(151, 225, 150)",
           "rgb(108, 192, 139)",
           "rgb(76, 155, 130)",
           "rgb(33, 122, 121)",
           "rgb(16, 89, 101)",
           "rgb(7, 64, 80)"
          ]
         },
         "orientation": "h",
         "type": "bar",
         "x": [
          1,
          1,
          1,
          1,
          1,
          1,
          1
         ],
         "y": [
          "Emrld",
          "Emrld",
          "Emrld",
          "Emrld",
          "Emrld",
          "Emrld",
          "Emrld"
         ]
        },
        {
         "customdata": [
          0,
          1,
          2,
          3,
          4,
          5,
          6
         ],
         "hovertemplate": "%{y}[%{customdata}] = %{marker.color}<extra></extra>",
         "marker": {
          "color": [
           "rgb(210, 251, 212)",
           "rgb(165, 219, 194)",
           "rgb(123, 188, 176)",
           "rgb(85, 156, 158)",
           "rgb(58, 124, 137)",
           "rgb(35, 93, 114)",
           "rgb(18, 63, 90)"
          ]
         },
         "orientation": "h",
         "type": "bar",
         "x": [
          1,
          1,
          1,
          1,
          1,
          1,
          1
         ],
         "y": [
          "Darkmint",
          "Darkmint",
          "Darkmint",
          "Darkmint",
          "Darkmint",
          "Darkmint",
          "Darkmint"
         ]
        },
        {
         "customdata": [
          0,
          1,
          2,
          3,
          4,
          5,
          6
         ],
         "hovertemplate": "%{y}[%{customdata}] = %{marker.color}<extra></extra>",
         "marker": {
          "color": [
           "rgb(196, 230, 195)",
           "rgb(150, 210, 164)",
           "rgb(109, 188, 144)",
           "rgb(77, 162, 132)",
           "rgb(54, 135, 122)",
           "rgb(38, 107, 110)",
           "rgb(29, 79, 96)"
          ]
         },
         "orientation": "h",
         "type": "bar",
         "x": [
          1,
          1,
          1,
          1,
          1,
          1,
          1
         ],
         "y": [
          "Blugrn",
          "Blugrn",
          "Blugrn",
          "Blugrn",
          "Blugrn",
          "Blugrn",
          "Blugrn"
         ]
        },
        {
         "customdata": [
          0,
          1,
          2,
          3,
          4,
          5,
          6
         ],
         "hovertemplate": "%{y}[%{customdata}] = %{marker.color}<extra></extra>",
         "marker": {
          "color": [
           "rgb(228, 241, 225)",
           "rgb(180, 217, 204)",
           "rgb(137, 192, 182)",
           "rgb(99, 166, 160)",
           "rgb(68, 140, 138)",
           "rgb(40, 114, 116)",
           "rgb(13, 88, 95)"
          ]
         },
         "orientation": "h",
         "type": "bar",
         "x": [
          1,
          1,
          1,
          1,
          1,
          1,
          1
         ],
         "y": [
          "Mint",
          "Mint",
          "Mint",
          "Mint",
          "Mint",
          "Mint",
          "Mint"
         ]
        },
        {
         "customdata": [
          0,
          1,
          2,
          3,
          4,
          5,
          6
         ],
         "hovertemplate": "%{y}[%{customdata}] = %{marker.color}<extra></extra>",
         "marker": {
          "color": [
           "rgb(254, 246, 181)",
           "rgb(255, 221, 154)",
           "rgb(255, 194, 133)",
           "rgb(255, 166, 121)",
           "rgb(250, 138, 118)",
           "rgb(241, 109, 122)",
           "rgb(225, 83, 131)"
          ]
         },
         "orientation": "h",
         "type": "bar",
         "x": [
          1,
          1,
          1,
          1,
          1,
          1,
          1
         ],
         "y": [
          "Pinkyl",
          "Pinkyl",
          "Pinkyl",
          "Pinkyl",
          "Pinkyl",
          "Pinkyl",
          "Pinkyl"
         ]
        },
        {
         "customdata": [
          0,
          1,
          2,
          3,
          4,
          5,
          6
         ],
         "hovertemplate": "%{y}[%{customdata}] = %{marker.color}<extra></extra>",
         "marker": {
          "color": [
           "rgb(253, 224, 197)",
           "rgb(250, 203, 166)",
           "rgb(248, 181, 139)",
           "rgb(245, 158, 114)",
           "rgb(242, 133, 93)",
           "rgb(239, 106, 76)",
           "rgb(235, 74, 64)"
          ]
         },
         "orientation": "h",
         "type": "bar",
         "x": [
          1,
          1,
          1,
          1,
          1,
          1,
          1
         ],
         "y": [
          "Peach",
          "Peach",
          "Peach",
          "Peach",
          "Peach",
          "Peach",
          "Peach"
         ]
        },
        {
         "customdata": [
          0,
          1,
          2,
          3,
          4,
          5,
          6
         ],
         "hovertemplate": "%{y}[%{customdata}] = %{marker.color}<extra></extra>",
         "marker": {
          "color": [
           "rgb(236, 218, 154)",
           "rgb(239, 196, 126)",
           "rgb(243, 173, 106)",
           "rgb(247, 148, 93)",
           "rgb(249, 123, 87)",
           "rgb(246, 99, 86)",
           "rgb(238, 77, 90)"
          ]
         },
         "orientation": "h",
         "type": "bar",
         "x": [
          1,
          1,
          1,
          1,
          1,
          1,
          1
         ],
         "y": [
          "Oryel",
          "Oryel",
          "Oryel",
          "Oryel",
          "Oryel",
          "Oryel",
          "Oryel"
         ]
        },
        {
         "customdata": [
          0,
          1,
          2,
          3,
          4,
          5,
          6
         ],
         "hovertemplate": "%{y}[%{customdata}] = %{marker.color}<extra></extra>",
         "marker": {
          "color": [
           "rgb(246, 210, 169)",
           "rgb(245, 183, 142)",
           "rgb(241, 156, 124)",
           "rgb(234, 129, 113)",
           "rgb(221, 104, 108)",
           "rgb(202, 82, 104)",
           "rgb(177, 63, 100)"
          ]
         },
         "orientation": "h",
         "type": "bar",
         "x": [
          1,
          1,
          1,
          1,
          1,
          1,
          1
         ],
         "y": [
          "Redor",
          "Redor",
          "Redor",
          "Redor",
          "Redor",
          "Redor",
          "Redor"
         ]
        },
        {
         "customdata": [
          0,
          1,
          2,
          3,
          4,
          5,
          6
         ],
         "hovertemplate": "%{y}[%{customdata}] = %{marker.color}<extra></extra>",
         "marker": {
          "color": [
           "rgb(251, 230, 197)",
           "rgb(245, 186, 152)",
           "rgb(238, 138, 130)",
           "rgb(220, 113, 118)",
           "rgb(200, 88, 108)",
           "rgb(156, 63, 93)",
           "rgb(112, 40, 74)"
          ]
         },
         "orientation": "h",
         "type": "bar",
         "x": [
          1,
          1,
          1,
          1,
          1,
          1,
          1
         ],
         "y": [
          "Burgyl",
          "Burgyl",
          "Burgyl",
          "Burgyl",
          "Burgyl",
          "Burgyl",
          "Burgyl"
         ]
        },
        {
         "customdata": [
          0,
          1,
          2,
          3,
          4,
          5,
          6
         ],
         "hovertemplate": "%{y}[%{customdata}] = %{marker.color}<extra></extra>",
         "marker": {
          "color": [
           "rgb(255, 198, 196)",
           "rgb(244, 163, 168)",
           "rgb(227, 129, 145)",
           "rgb(204, 96, 125)",
           "rgb(173, 70, 108)",
           "rgb(139, 48, 88)",
           "rgb(103, 32, 68)"
          ]
         },
         "orientation": "h",
         "type": "bar",
         "x": [
          1,
          1,
          1,
          1,
          1,
          1,
          1
         ],
         "y": [
          "Burg",
          "Burg",
          "Burg",
          "Burg",
          "Burg",
          "Burg",
          "Burg"
         ]
        },
        {
         "customdata": [
          0,
          1,
          2,
          3,
          4,
          5,
          6,
          7,
          8,
          9,
          10,
          11
         ],
         "hovertemplate": "%{y}[%{customdata}] = %{marker.color}<extra></extra>",
         "marker": {
          "color": [
           "rgb(254, 245, 244)",
           "rgb(222, 224, 210)",
           "rgb(189, 206, 181)",
           "rgb(153, 189, 156)",
           "rgb(110, 173, 138)",
           "rgb(65, 157, 129)",
           "rgb(25, 137, 125)",
           "rgb(18, 116, 117)",
           "rgb(25, 94, 106)",
           "rgb(28, 72, 93)",
           "rgb(25, 51, 80)",
           "rgb(20, 29, 67)"
          ]
         },
         "orientation": "h",
         "type": "bar",
         "x": [
          1,
          1,
          1,
          1,
          1,
          1,
          1,
          1,
          1,
          1,
          1,
          1
         ],
         "y": [
          "tempo",
          "tempo",
          "tempo",
          "tempo",
          "tempo",
          "tempo",
          "tempo",
          "tempo",
          "tempo",
          "tempo",
          "tempo",
          "tempo"
         ]
        },
        {
         "customdata": [
          0,
          1,
          2,
          3,
          4,
          5,
          6,
          7,
          8,
          9,
          10,
          11
         ],
         "hovertemplate": "%{y}[%{customdata}] = %{marker.color}<extra></extra>",
         "marker": {
          "color": [
           "rgb(241, 236, 236)",
           "rgb(230, 209, 203)",
           "rgb(221, 182, 170)",
           "rgb(213, 156, 137)",
           "rgb(205, 129, 103)",
           "rgb(196, 102, 73)",
           "rgb(186, 74, 47)",
           "rgb(172, 44, 36)",
           "rgb(149, 19, 39)",
           "rgb(120, 14, 40)",
           "rgb(89, 13, 31)",
           "rgb(60, 9, 17)"
          ]
         },
         "orientation": "h",
         "type": "bar",
         "x": [
          1,
          1,
          1,
          1,
          1,
          1,
          1,
          1,
          1,
          1,
          1,
          1
         ],
         "y": [
          "amp",
          "amp",
          "amp",
          "amp",
          "amp",
          "amp",
          "amp",
          "amp",
          "amp",
          "amp",
          "amp",
          "amp"
         ]
        },
        {
         "customdata": [
          0,
          1,
          2,
          3,
          4,
          5,
          6,
          7,
          8,
          9,
          10,
          11
         ],
         "hovertemplate": "%{y}[%{customdata}] = %{marker.color}<extra></extra>",
         "marker": {
          "color": [
           "rgb(254, 252, 205)",
           "rgb(239, 225, 156)",
           "rgb(221, 201, 106)",
           "rgb(194, 182, 59)",
           "rgb(157, 167, 21)",
           "rgb(116, 153, 5)",
           "rgb(75, 138, 20)",
           "rgb(35, 121, 36)",
           "rgb(11, 100, 44)",
           "rgb(18, 78, 43)",
           "rgb(25, 56, 34)",
           "rgb(23, 35, 18)"
          ]
         },
         "orientation": "h",
         "type": "bar",
         "x": [
          1,
          1,
          1,
          1,
          1,
          1,
          1,
          1,
          1,
          1,
          1,
          1
         ],
         "y": [
          "speed",
          "speed",
          "speed",
          "speed",
          "speed",
          "speed",
          "speed",
          "speed",
          "speed",
          "speed",
          "speed",
          "speed"
         ]
        },
        {
         "customdata": [
          0,
          1,
          2,
          3,
          4,
          5,
          6,
          7,
          8,
          9,
          10,
          11
         ],
         "hovertemplate": "%{y}[%{customdata}] = %{marker.color}<extra></extra>",
         "marker": {
          "color": [
           "rgb(253, 237, 176)",
           "rgb(250, 205, 145)",
           "rgb(246, 173, 119)",
           "rgb(240, 142, 98)",
           "rgb(231, 109, 84)",
           "rgb(216, 80, 83)",
           "rgb(195, 56, 90)",
           "rgb(168, 40, 96)",
           "rgb(138, 29, 99)",
           "rgb(107, 24, 93)",
           "rgb(76, 21, 80)",
           "rgb(47, 15, 61)"
          ]
         },
         "orientation": "h",
         "type": "bar",
         "x": [
          1,
          1,
          1,
          1,
          1,
          1,
          1,
          1,
          1,
          1,
          1,
          1
         ],
         "y": [
          "matter",
          "matter",
          "matter",
          "matter",
          "matter",
          "matter",
          "matter",
          "matter",
          "matter",
          "matter",
          "matter",
          "matter"
         ]
        },
        {
         "customdata": [
          0,
          1,
          2,
          3,
          4,
          5,
          6,
          7,
          8,
          9,
          10,
          11
         ],
         "hovertemplate": "%{y}[%{customdata}] = %{marker.color}<extra></extra>",
         "marker": {
          "color": [
           "rgb(214, 249, 207)",
           "rgb(186, 228, 174)",
           "rgb(156, 209, 143)",
           "rgb(124, 191, 115)",
           "rgb(85, 174, 91)",
           "rgb(37, 157, 81)",
           "rgb(7, 138, 78)",
           "rgb(13, 117, 71)",
           "rgb(23, 95, 61)",
           "rgb(25, 75, 49)",
           "rgb(23, 55, 35)",
           "rgb(17, 36, 20)"
          ]
         },
         "orientation": "h",
         "type": "bar",
         "x": [
          1,
          1,
          1,
          1,
          1,
          1,
          1,
          1,
          1,
          1,
          1,
          1
         ],
         "y": [
          "algae",
          "algae",
          "algae",
          "algae",
          "algae",
          "algae",
          "algae",
          "algae",
          "algae",
          "algae",
          "algae",
          "algae"
         ]
        },
        {
         "customdata": [
          0,
          1,
          2,
          3,
          4,
          5,
          6,
          7,
          8,
          9,
          10,
          11
         ],
         "hovertemplate": "%{y}[%{customdata}] = %{marker.color}<extra></extra>",
         "marker": {
          "color": [
           "rgb(230, 240, 240)",
           "rgb(191, 221, 229)",
           "rgb(156, 201, 226)",
           "rgb(129, 180, 227)",
           "rgb(115, 154, 228)",
           "rgb(117, 127, 221)",
           "rgb(120, 100, 202)",
           "rgb(119, 74, 175)",
           "rgb(113, 50, 141)",
           "rgb(100, 31, 104)",
           "rgb(80, 20, 66)",
           "rgb(54, 14, 36)"
          ]
         },
         "orientation": "h",
         "type": "bar",
         "x": [
          1,
          1,
          1,
          1,
          1,
          1,
          1,
          1,
          1,
          1,
          1,
          1
         ],
         "y": [
          "dense",
          "dense",
          "dense",
          "dense",
          "dense",
          "dense",
          "dense",
          "dense",
          "dense",
          "dense",
          "dense",
          "dense"
         ]
        },
        {
         "customdata": [
          0,
          1,
          2,
          3,
          4,
          5,
          6,
          7,
          8,
          9,
          10,
          11
         ],
         "hovertemplate": "%{y}[%{customdata}] = %{marker.color}<extra></extra>",
         "marker": {
          "color": [
           "rgb(253, 253, 204)",
           "rgb(206, 236, 179)",
           "rgb(156, 219, 165)",
           "rgb(111, 201, 163)",
           "rgb(86, 177, 163)",
           "rgb(76, 153, 160)",
           "rgb(68, 130, 155)",
           "rgb(62, 108, 150)",
           "rgb(62, 82, 143)",
           "rgb(64, 60, 115)",
           "rgb(54, 43, 77)",
           "rgb(39, 26, 44)"
          ]
         },
         "orientation": "h",
         "type": "bar",
         "x": [
          1,
          1,
          1,
          1,
          1,
          1,
          1,
          1,
          1,
          1,
          1,
          1
         ],
         "y": [
          "deep",
          "deep",
          "deep",
          "deep",
          "deep",
          "deep",
          "deep",
          "deep",
          "deep",
          "deep",
          "deep",
          "deep"
         ]
        },
        {
         "customdata": [
          0,
          1,
          2,
          3,
          4,
          5,
          6,
          7,
          8,
          9,
          10,
          11
         ],
         "hovertemplate": "%{y}[%{customdata}] = %{marker.color}<extra></extra>",
         "marker": {
          "color": [
           "rgb(0, 0, 0)",
           "rgb(16, 16, 16)",
           "rgb(38, 38, 38)",
           "rgb(59, 59, 59)",
           "rgb(81, 80, 80)",
           "rgb(102, 101, 101)",
           "rgb(124, 123, 122)",
           "rgb(146, 146, 145)",
           "rgb(171, 171, 170)",
           "rgb(197, 197, 195)",
           "rgb(224, 224, 223)",
           "rgb(254, 254, 253)"
          ]
         },
         "orientation": "h",
         "type": "bar",
         "x": [
          1,
          1,
          1,
          1,
          1,
          1,
          1,
          1,
          1,
          1,
          1,
          1
         ],
         "y": [
          "gray",
          "gray",
          "gray",
          "gray",
          "gray",
          "gray",
          "gray",
          "gray",
          "gray",
          "gray",
          "gray",
          "gray"
         ]
        },
        {
         "customdata": [
          0,
          1,
          2,
          3,
          4,
          5,
          6,
          7,
          8,
          9,
          10,
          11
         ],
         "hovertemplate": "%{y}[%{customdata}] = %{marker.color}<extra></extra>",
         "marker": {
          "color": [
           "rgb(3, 5, 18)",
           "rgb(25, 25, 51)",
           "rgb(44, 42, 87)",
           "rgb(58, 60, 125)",
           "rgb(62, 83, 160)",
           "rgb(62, 109, 178)",
           "rgb(72, 134, 187)",
           "rgb(89, 159, 196)",
           "rgb(114, 184, 205)",
           "rgb(149, 207, 216)",
           "rgb(192, 229, 232)",
           "rgb(234, 252, 253)"
          ]
         },
         "orientation": "h",
         "type": "bar",
         "x": [
          1,
          1,
          1,
          1,
          1,
          1,
          1,
          1,
          1,
          1,
          1,
          1
         ],
         "y": [
          "ice",
          "ice",
          "ice",
          "ice",
          "ice",
          "ice",
          "ice",
          "ice",
          "ice",
          "ice",
          "ice",
          "ice"
         ]
        },
        {
         "customdata": [
          0,
          1,
          2,
          3,
          4,
          5,
          6,
          7,
          8,
          9,
          10,
          11
         ],
         "hovertemplate": "%{y}[%{customdata}] = %{marker.color}<extra></extra>",
         "marker": {
          "color": [
           "rgb(51, 19, 23)",
           "rgb(79, 28, 33)",
           "rgb(108, 36, 36)",
           "rgb(135, 47, 32)",
           "rgb(157, 66, 25)",
           "rgb(174, 88, 20)",
           "rgb(188, 111, 19)",
           "rgb(199, 137, 22)",
           "rgb(209, 164, 32)",
           "rgb(217, 192, 44)",
           "rgb(222, 222, 59)",
           "rgb(224, 253, 74)"
          ]
         },
         "orientation": "h",
         "type": "bar",
         "x": [
          1,
          1,
          1,
          1,
          1,
          1,
          1,
          1,
          1,
          1,
          1,
          1
         ],
         "y": [
          "solar",
          "solar",
          "solar",
          "solar",
          "solar",
          "solar",
          "solar",
          "solar",
          "solar",
          "solar",
          "solar",
          "solar"
         ]
        },
        {
         "customdata": [
          0,
          1,
          2,
          3,
          4,
          5,
          6,
          7,
          8,
          9,
          10,
          11
         ],
         "hovertemplate": "%{y}[%{customdata}] = %{marker.color}<extra></extra>",
         "marker": {
          "color": [
           "rgb(41, 24, 107)",
           "rgb(42, 35, 160)",
           "rgb(15, 71, 153)",
           "rgb(18, 95, 142)",
           "rgb(38, 116, 137)",
           "rgb(53, 136, 136)",
           "rgb(65, 157, 133)",
           "rgb(81, 178, 124)",
           "rgb(111, 198, 107)",
           "rgb(160, 214, 91)",
           "rgb(212, 225, 112)",
           "rgb(253, 238, 153)"
          ]
         },
         "orientation": "h",
         "type": "bar",
         "x": [
          1,
          1,
          1,
          1,
          1,
          1,
          1,
          1,
          1,
          1,
          1,
          1
         ],
         "y": [
          "haline",
          "haline",
          "haline",
          "haline",
          "haline",
          "haline",
          "haline",
          "haline",
          "haline",
          "haline",
          "haline",
          "haline"
         ]
        },
        {
         "customdata": [
          0,
          1,
          2,
          3,
          4,
          5,
          6,
          7,
          8,
          9,
          10,
          11
         ],
         "hovertemplate": "%{y}[%{customdata}] = %{marker.color}<extra></extra>",
         "marker": {
          "color": [
           "rgb(3, 35, 51)",
           "rgb(13, 48, 100)",
           "rgb(53, 50, 155)",
           "rgb(93, 62, 153)",
           "rgb(126, 77, 143)",
           "rgb(158, 89, 135)",
           "rgb(193, 100, 121)",
           "rgb(225, 113, 97)",
           "rgb(246, 139, 69)",
           "rgb(251, 173, 60)",
           "rgb(246, 211, 70)",
           "rgb(231, 250, 90)"
          ]
         },
         "orientation": "h",
         "type": "bar",
         "x": [
          1,
          1,
          1,
          1,
          1,
          1,
          1,
          1,
          1,
          1,
          1,
          1
         ],
         "y": [
          "thermal",
          "thermal",
          "thermal",
          "thermal",
          "thermal",
          "thermal",
          "thermal",
          "thermal",
          "thermal",
          "thermal",
          "thermal",
          "thermal"
         ]
        },
        {
         "customdata": [
          0,
          1,
          2,
          3,
          4,
          5,
          6,
          7,
          8,
          9,
          10,
          11
         ],
         "hovertemplate": "%{y}[%{customdata}] = %{marker.color}<extra></extra>",
         "marker": {
          "color": [
           "rgb(232, 245, 171)",
           "rgb(220, 219, 137)",
           "rgb(209, 193, 107)",
           "rgb(199, 168, 83)",
           "rgb(186, 143, 66)",
           "rgb(170, 121, 60)",
           "rgb(151, 103, 58)",
           "rgb(129, 87, 56)",
           "rgb(104, 72, 53)",
           "rgb(80, 59, 46)",
           "rgb(57, 45, 37)",
           "rgb(34, 30, 27)"
          ]
         },
         "orientation": "h",
         "type": "bar",
         "x": [
          1,
          1,
          1,
          1,
          1,
          1,
          1,
          1,
          1,
          1,
          1,
          1
         ],
         "y": [
          "turbid",
          "turbid",
          "turbid",
          "turbid",
          "turbid",
          "turbid",
          "turbid",
          "turbid",
          "turbid",
          "turbid",
          "turbid",
          "turbid"
         ]
        },
        {
         "customdata": [
          0,
          1,
          2,
          3,
          4,
          5,
          6,
          7,
          8
         ],
         "hovertemplate": "%{y}[%{customdata}] = %{marker.color}<extra></extra>",
         "marker": {
          "color": [
           "rgb(255,255,204)",
           "rgb(255,237,160)",
           "rgb(254,217,118)",
           "rgb(254,178,76)",
           "rgb(253,141,60)",
           "rgb(252,78,42)",
           "rgb(227,26,28)",
           "rgb(189,0,38)",
           "rgb(128,0,38)"
          ]
         },
         "orientation": "h",
         "type": "bar",
         "x": [
          1,
          1,
          1,
          1,
          1,
          1,
          1,
          1,
          1
         ],
         "y": [
          "YlOrRd",
          "YlOrRd",
          "YlOrRd",
          "YlOrRd",
          "YlOrRd",
          "YlOrRd",
          "YlOrRd",
          "YlOrRd",
          "YlOrRd"
         ]
        },
        {
         "customdata": [
          0,
          1,
          2,
          3,
          4,
          5,
          6,
          7,
          8
         ],
         "hovertemplate": "%{y}[%{customdata}] = %{marker.color}<extra></extra>",
         "marker": {
          "color": [
           "rgb(255,255,229)",
           "rgb(255,247,188)",
           "rgb(254,227,145)",
           "rgb(254,196,79)",
           "rgb(254,153,41)",
           "rgb(236,112,20)",
           "rgb(204,76,2)",
           "rgb(153,52,4)",
           "rgb(102,37,6)"
          ]
         },
         "orientation": "h",
         "type": "bar",
         "x": [
          1,
          1,
          1,
          1,
          1,
          1,
          1,
          1,
          1
         ],
         "y": [
          "YlOrBr",
          "YlOrBr",
          "YlOrBr",
          "YlOrBr",
          "YlOrBr",
          "YlOrBr",
          "YlOrBr",
          "YlOrBr",
          "YlOrBr"
         ]
        },
        {
         "customdata": [
          0,
          1,
          2,
          3,
          4,
          5,
          6,
          7,
          8
         ],
         "hovertemplate": "%{y}[%{customdata}] = %{marker.color}<extra></extra>",
         "marker": {
          "color": [
           "rgb(255,255,217)",
           "rgb(237,248,177)",
           "rgb(199,233,180)",
           "rgb(127,205,187)",
           "rgb(65,182,196)",
           "rgb(29,145,192)",
           "rgb(34,94,168)",
           "rgb(37,52,148)",
           "rgb(8,29,88)"
          ]
         },
         "orientation": "h",
         "type": "bar",
         "x": [
          1,
          1,
          1,
          1,
          1,
          1,
          1,
          1,
          1
         ],
         "y": [
          "YlGnBu",
          "YlGnBu",
          "YlGnBu",
          "YlGnBu",
          "YlGnBu",
          "YlGnBu",
          "YlGnBu",
          "YlGnBu",
          "YlGnBu"
         ]
        },
        {
         "customdata": [
          0,
          1,
          2,
          3,
          4,
          5,
          6,
          7,
          8
         ],
         "hovertemplate": "%{y}[%{customdata}] = %{marker.color}<extra></extra>",
         "marker": {
          "color": [
           "rgb(255,255,229)",
           "rgb(247,252,185)",
           "rgb(217,240,163)",
           "rgb(173,221,142)",
           "rgb(120,198,121)",
           "rgb(65,171,93)",
           "rgb(35,132,67)",
           "rgb(0,104,55)",
           "rgb(0,69,41)"
          ]
         },
         "orientation": "h",
         "type": "bar",
         "x": [
          1,
          1,
          1,
          1,
          1,
          1,
          1,
          1,
          1
         ],
         "y": [
          "YlGn",
          "YlGn",
          "YlGn",
          "YlGn",
          "YlGn",
          "YlGn",
          "YlGn",
          "YlGn",
          "YlGn"
         ]
        },
        {
         "customdata": [
          0,
          1,
          2,
          3,
          4,
          5,
          6,
          7,
          8
         ],
         "hovertemplate": "%{y}[%{customdata}] = %{marker.color}<extra></extra>",
         "marker": {
          "color": [
           "rgb(255,245,240)",
           "rgb(254,224,210)",
           "rgb(252,187,161)",
           "rgb(252,146,114)",
           "rgb(251,106,74)",
           "rgb(239,59,44)",
           "rgb(203,24,29)",
           "rgb(165,15,21)",
           "rgb(103,0,13)"
          ]
         },
         "orientation": "h",
         "type": "bar",
         "x": [
          1,
          1,
          1,
          1,
          1,
          1,
          1,
          1,
          1
         ],
         "y": [
          "Reds",
          "Reds",
          "Reds",
          "Reds",
          "Reds",
          "Reds",
          "Reds",
          "Reds",
          "Reds"
         ]
        },
        {
         "customdata": [
          0,
          1,
          2,
          3,
          4,
          5,
          6,
          7,
          8
         ],
         "hovertemplate": "%{y}[%{customdata}] = %{marker.color}<extra></extra>",
         "marker": {
          "color": [
           "rgb(255,247,243)",
           "rgb(253,224,221)",
           "rgb(252,197,192)",
           "rgb(250,159,181)",
           "rgb(247,104,161)",
           "rgb(221,52,151)",
           "rgb(174,1,126)",
           "rgb(122,1,119)",
           "rgb(73,0,106)"
          ]
         },
         "orientation": "h",
         "type": "bar",
         "x": [
          1,
          1,
          1,
          1,
          1,
          1,
          1,
          1,
          1
         ],
         "y": [
          "RdPu",
          "RdPu",
          "RdPu",
          "RdPu",
          "RdPu",
          "RdPu",
          "RdPu",
          "RdPu",
          "RdPu"
         ]
        },
        {
         "customdata": [
          0,
          1,
          2,
          3,
          4,
          5,
          6,
          7,
          8,
          9,
          10
         ],
         "hovertemplate": "%{y}[%{customdata}] = %{marker.color}<extra></extra>",
         "marker": {
          "color": [
           "rgb(103,0,31)",
           "rgb(178,24,43)",
           "rgb(214,96,77)",
           "rgb(244,165,130)",
           "rgb(253,219,199)",
           "rgb(247,247,247)",
           "rgb(209,229,240)",
           "rgb(146,197,222)",
           "rgb(67,147,195)",
           "rgb(33,102,172)",
           "rgb(5,48,97)"
          ]
         },
         "orientation": "h",
         "type": "bar",
         "x": [
          1,
          1,
          1,
          1,
          1,
          1,
          1,
          1,
          1,
          1,
          1
         ],
         "y": [
          "RdBu",
          "RdBu",
          "RdBu",
          "RdBu",
          "RdBu",
          "RdBu",
          "RdBu",
          "RdBu",
          "RdBu",
          "RdBu",
          "RdBu"
         ]
        },
        {
         "customdata": [
          0,
          1,
          2,
          3,
          4,
          5,
          6,
          7,
          8
         ],
         "hovertemplate": "%{y}[%{customdata}] = %{marker.color}<extra></extra>",
         "marker": {
          "color": [
           "rgb(252,251,253)",
           "rgb(239,237,245)",
           "rgb(218,218,235)",
           "rgb(188,189,220)",
           "rgb(158,154,200)",
           "rgb(128,125,186)",
           "rgb(106,81,163)",
           "rgb(84,39,143)",
           "rgb(63,0,125)"
          ]
         },
         "orientation": "h",
         "type": "bar",
         "x": [
          1,
          1,
          1,
          1,
          1,
          1,
          1,
          1,
          1
         ],
         "y": [
          "Purples",
          "Purples",
          "Purples",
          "Purples",
          "Purples",
          "Purples",
          "Purples",
          "Purples",
          "Purples"
         ]
        },
        {
         "customdata": [
          0,
          1,
          2,
          3,
          4,
          5,
          6,
          7,
          8
         ],
         "hovertemplate": "%{y}[%{customdata}] = %{marker.color}<extra></extra>",
         "marker": {
          "color": [
           "rgb(247,244,249)",
           "rgb(231,225,239)",
           "rgb(212,185,218)",
           "rgb(201,148,199)",
           "rgb(223,101,176)",
           "rgb(231,41,138)",
           "rgb(206,18,86)",
           "rgb(152,0,67)",
           "rgb(103,0,31)"
          ]
         },
         "orientation": "h",
         "type": "bar",
         "x": [
          1,
          1,
          1,
          1,
          1,
          1,
          1,
          1,
          1
         ],
         "y": [
          "PuRd",
          "PuRd",
          "PuRd",
          "PuRd",
          "PuRd",
          "PuRd",
          "PuRd",
          "PuRd",
          "PuRd"
         ]
        },
        {
         "customdata": [
          0,
          1,
          2,
          3,
          4,
          5,
          6,
          7,
          8
         ],
         "hovertemplate": "%{y}[%{customdata}] = %{marker.color}<extra></extra>",
         "marker": {
          "color": [
           "rgb(255,247,251)",
           "rgb(236,226,240)",
           "rgb(208,209,230)",
           "rgb(166,189,219)",
           "rgb(103,169,207)",
           "rgb(54,144,192)",
           "rgb(2,129,138)",
           "rgb(1,108,89)",
           "rgb(1,70,54)"
          ]
         },
         "orientation": "h",
         "type": "bar",
         "x": [
          1,
          1,
          1,
          1,
          1,
          1,
          1,
          1,
          1
         ],
         "y": [
          "PuBuGn",
          "PuBuGn",
          "PuBuGn",
          "PuBuGn",
          "PuBuGn",
          "PuBuGn",
          "PuBuGn",
          "PuBuGn",
          "PuBuGn"
         ]
        },
        {
         "customdata": [
          0,
          1,
          2,
          3,
          4,
          5,
          6,
          7,
          8
         ],
         "hovertemplate": "%{y}[%{customdata}] = %{marker.color}<extra></extra>",
         "marker": {
          "color": [
           "rgb(255,247,251)",
           "rgb(236,231,242)",
           "rgb(208,209,230)",
           "rgb(166,189,219)",
           "rgb(116,169,207)",
           "rgb(54,144,192)",
           "rgb(5,112,176)",
           "rgb(4,90,141)",
           "rgb(2,56,88)"
          ]
         },
         "orientation": "h",
         "type": "bar",
         "x": [
          1,
          1,
          1,
          1,
          1,
          1,
          1,
          1,
          1
         ],
         "y": [
          "PuBu",
          "PuBu",
          "PuBu",
          "PuBu",
          "PuBu",
          "PuBu",
          "PuBu",
          "PuBu",
          "PuBu"
         ]
        },
        {
         "customdata": [
          0,
          1,
          2,
          3,
          4,
          5,
          6,
          7,
          8
         ],
         "hovertemplate": "%{y}[%{customdata}] = %{marker.color}<extra></extra>",
         "marker": {
          "color": [
           "rgb(255,245,235)",
           "rgb(254,230,206)",
           "rgb(253,208,162)",
           "rgb(253,174,107)",
           "rgb(253,141,60)",
           "rgb(241,105,19)",
           "rgb(217,72,1)",
           "rgb(166,54,3)",
           "rgb(127,39,4)"
          ]
         },
         "orientation": "h",
         "type": "bar",
         "x": [
          1,
          1,
          1,
          1,
          1,
          1,
          1,
          1,
          1
         ],
         "y": [
          "Oranges",
          "Oranges",
          "Oranges",
          "Oranges",
          "Oranges",
          "Oranges",
          "Oranges",
          "Oranges",
          "Oranges"
         ]
        },
        {
         "customdata": [
          0,
          1,
          2,
          3,
          4,
          5,
          6,
          7,
          8
         ],
         "hovertemplate": "%{y}[%{customdata}] = %{marker.color}<extra></extra>",
         "marker": {
          "color": [
           "rgb(255,247,236)",
           "rgb(254,232,200)",
           "rgb(253,212,158)",
           "rgb(253,187,132)",
           "rgb(252,141,89)",
           "rgb(239,101,72)",
           "rgb(215,48,31)",
           "rgb(179,0,0)",
           "rgb(127,0,0)"
          ]
         },
         "orientation": "h",
         "type": "bar",
         "x": [
          1,
          1,
          1,
          1,
          1,
          1,
          1,
          1,
          1
         ],
         "y": [
          "OrRd",
          "OrRd",
          "OrRd",
          "OrRd",
          "OrRd",
          "OrRd",
          "OrRd",
          "OrRd",
          "OrRd"
         ]
        },
        {
         "customdata": [
          0,
          1,
          2,
          3,
          4,
          5,
          6,
          7,
          8
         ],
         "hovertemplate": "%{y}[%{customdata}] = %{marker.color}<extra></extra>",
         "marker": {
          "color": [
           "rgb(255,255,255)",
           "rgb(240,240,240)",
           "rgb(217,217,217)",
           "rgb(189,189,189)",
           "rgb(150,150,150)",
           "rgb(115,115,115)",
           "rgb(82,82,82)",
           "rgb(37,37,37)",
           "rgb(0,0,0)"
          ]
         },
         "orientation": "h",
         "type": "bar",
         "x": [
          1,
          1,
          1,
          1,
          1,
          1,
          1,
          1,
          1
         ],
         "y": [
          "Greys",
          "Greys",
          "Greys",
          "Greys",
          "Greys",
          "Greys",
          "Greys",
          "Greys",
          "Greys"
         ]
        },
        {
         "customdata": [
          0,
          1,
          2,
          3,
          4,
          5,
          6,
          7,
          8
         ],
         "hovertemplate": "%{y}[%{customdata}] = %{marker.color}<extra></extra>",
         "marker": {
          "color": [
           "rgb(247,252,245)",
           "rgb(229,245,224)",
           "rgb(199,233,192)",
           "rgb(161,217,155)",
           "rgb(116,196,118)",
           "rgb(65,171,93)",
           "rgb(35,139,69)",
           "rgb(0,109,44)",
           "rgb(0,68,27)"
          ]
         },
         "orientation": "h",
         "type": "bar",
         "x": [
          1,
          1,
          1,
          1,
          1,
          1,
          1,
          1,
          1
         ],
         "y": [
          "Greens",
          "Greens",
          "Greens",
          "Greens",
          "Greens",
          "Greens",
          "Greens",
          "Greens",
          "Greens"
         ]
        },
        {
         "customdata": [
          0,
          1,
          2,
          3,
          4,
          5,
          6,
          7,
          8
         ],
         "hovertemplate": "%{y}[%{customdata}] = %{marker.color}<extra></extra>",
         "marker": {
          "color": [
           "rgb(247,252,240)",
           "rgb(224,243,219)",
           "rgb(204,235,197)",
           "rgb(168,221,181)",
           "rgb(123,204,196)",
           "rgb(78,179,211)",
           "rgb(43,140,190)",
           "rgb(8,104,172)",
           "rgb(8,64,129)"
          ]
         },
         "orientation": "h",
         "type": "bar",
         "x": [
          1,
          1,
          1,
          1,
          1,
          1,
          1,
          1,
          1
         ],
         "y": [
          "GnBu",
          "GnBu",
          "GnBu",
          "GnBu",
          "GnBu",
          "GnBu",
          "GnBu",
          "GnBu",
          "GnBu"
         ]
        },
        {
         "customdata": [
          0,
          1,
          2,
          3,
          4,
          5,
          6,
          7,
          8
         ],
         "hovertemplate": "%{y}[%{customdata}] = %{marker.color}<extra></extra>",
         "marker": {
          "color": [
           "rgb(247,252,253)",
           "rgb(224,236,244)",
           "rgb(191,211,230)",
           "rgb(158,188,218)",
           "rgb(140,150,198)",
           "rgb(140,107,177)",
           "rgb(136,65,157)",
           "rgb(129,15,124)",
           "rgb(77,0,75)"
          ]
         },
         "orientation": "h",
         "type": "bar",
         "x": [
          1,
          1,
          1,
          1,
          1,
          1,
          1,
          1,
          1
         ],
         "y": [
          "BuPu",
          "BuPu",
          "BuPu",
          "BuPu",
          "BuPu",
          "BuPu",
          "BuPu",
          "BuPu",
          "BuPu"
         ]
        },
        {
         "customdata": [
          0,
          1,
          2,
          3,
          4,
          5,
          6,
          7,
          8
         ],
         "hovertemplate": "%{y}[%{customdata}] = %{marker.color}<extra></extra>",
         "marker": {
          "color": [
           "rgb(247,252,253)",
           "rgb(229,245,249)",
           "rgb(204,236,230)",
           "rgb(153,216,201)",
           "rgb(102,194,164)",
           "rgb(65,174,118)",
           "rgb(35,139,69)",
           "rgb(0,109,44)",
           "rgb(0,68,27)"
          ]
         },
         "orientation": "h",
         "type": "bar",
         "x": [
          1,
          1,
          1,
          1,
          1,
          1,
          1,
          1,
          1
         ],
         "y": [
          "BuGn",
          "BuGn",
          "BuGn",
          "BuGn",
          "BuGn",
          "BuGn",
          "BuGn",
          "BuGn",
          "BuGn"
         ]
        },
        {
         "customdata": [
          0,
          1,
          2,
          3,
          4,
          5,
          6,
          7,
          8
         ],
         "hovertemplate": "%{y}[%{customdata}] = %{marker.color}<extra></extra>",
         "marker": {
          "color": [
           "rgb(247,251,255)",
           "rgb(222,235,247)",
           "rgb(198,219,239)",
           "rgb(158,202,225)",
           "rgb(107,174,214)",
           "rgb(66,146,198)",
           "rgb(33,113,181)",
           "rgb(8,81,156)",
           "rgb(8,48,107)"
          ]
         },
         "orientation": "h",
         "type": "bar",
         "x": [
          1,
          1,
          1,
          1,
          1,
          1,
          1,
          1,
          1
         ],
         "y": [
          "Blues",
          "Blues",
          "Blues",
          "Blues",
          "Blues",
          "Blues",
          "Blues",
          "Blues",
          "Blues"
         ]
        },
        {
         "customdata": [
          0,
          1,
          2,
          3,
          4,
          5,
          6,
          7,
          8
         ],
         "hovertemplate": "%{y}[%{customdata}] = %{marker.color}<extra></extra>",
         "marker": {
          "color": [
           "rgb(150,0,90)",
           "rgb(0,0,200)",
           "rgb(0,25,255)",
           "rgb(0,152,255)",
           "rgb(44,255,150)",
           "rgb(151,255,0)",
           "rgb(255,234,0)",
           "rgb(255,111,0)",
           "rgb(255,0,0)"
          ]
         },
         "orientation": "h",
         "type": "bar",
         "x": [
          1,
          1,
          1,
          1,
          1,
          1,
          1,
          1,
          1
         ],
         "y": [
          "Rainbow",
          "Rainbow",
          "Rainbow",
          "Rainbow",
          "Rainbow",
          "Rainbow",
          "Rainbow",
          "Rainbow",
          "Rainbow"
         ]
        },
        {
         "customdata": [
          0,
          1,
          2,
          3,
          4,
          5
         ],
         "hovertemplate": "%{y}[%{customdata}] = %{marker.color}<extra></extra>",
         "marker": {
          "color": [
           "rgb(0,0,131)",
           "rgb(0,60,170)",
           "rgb(5,255,255)",
           "rgb(255,255,0)",
           "rgb(250,0,0)",
           "rgb(128,0,0)"
          ]
         },
         "orientation": "h",
         "type": "bar",
         "x": [
          1,
          1,
          1,
          1,
          1,
          1
         ],
         "y": [
          "Jet",
          "Jet",
          "Jet",
          "Jet",
          "Jet",
          "Jet"
         ]
        },
        {
         "customdata": [
          0,
          1,
          2,
          3
         ],
         "hovertemplate": "%{y}[%{customdata}] = %{marker.color}<extra></extra>",
         "marker": {
          "color": [
           "rgb(0,0,0)",
           "rgb(230,0,0)",
           "rgb(255,210,0)",
           "rgb(255,255,255)"
          ]
         },
         "orientation": "h",
         "type": "bar",
         "x": [
          1,
          1,
          1,
          1
         ],
         "y": [
          "Hot",
          "Hot",
          "Hot",
          "Hot"
         ]
        },
        {
         "customdata": [
          0,
          1,
          2,
          3,
          4,
          5
         ],
         "hovertemplate": "%{y}[%{customdata}] = %{marker.color}<extra></extra>",
         "marker": {
          "color": [
           "rgb(0,0,0)",
           "rgb(30,0,100)",
           "rgb(120,0,100)",
           "rgb(160,90,0)",
           "rgb(230,200,0)",
           "rgb(255,250,220)"
          ]
         },
         "orientation": "h",
         "type": "bar",
         "x": [
          1,
          1,
          1,
          1,
          1,
          1
         ],
         "y": [
          "Electric",
          "Electric",
          "Electric",
          "Electric",
          "Electric",
          "Electric"
         ]
        },
        {
         "customdata": [
          0,
          1
         ],
         "hovertemplate": "%{y}[%{customdata}] = %{marker.color}<extra></extra>",
         "marker": {
          "color": [
           "rgb(0,0,255)",
           "rgb(255,0,0)"
          ]
         },
         "orientation": "h",
         "type": "bar",
         "x": [
          1,
          1
         ],
         "y": [
          "Bluered",
          "Bluered"
         ]
        },
        {
         "customdata": [
          0,
          1,
          2,
          3,
          4
         ],
         "hovertemplate": "%{y}[%{customdata}] = %{marker.color}<extra></extra>",
         "marker": {
          "color": [
           "rgb(0,0,0)",
           "rgb(230,0,0)",
           "rgb(230,210,0)",
           "rgb(255,255,255)",
           "rgb(160,200,255)"
          ]
         },
         "orientation": "h",
         "type": "bar",
         "x": [
          1,
          1,
          1,
          1,
          1
         ],
         "y": [
          "Blackbody",
          "Blackbody",
          "Blackbody",
          "Blackbody",
          "Blackbody"
         ]
        },
        {
         "customdata": [
          0,
          1,
          2,
          3,
          4,
          5,
          6,
          7,
          8,
          9,
          10,
          11,
          12,
          13,
          14
         ],
         "hovertemplate": "%{y}[%{customdata}] = %{marker.color}<extra></extra>",
         "marker": {
          "color": [
           "#30123b",
           "#4145ab",
           "#4675ed",
           "#39a2fc",
           "#1bcfd4",
           "#24eca6",
           "#61fc6c",
           "#a4fc3b",
           "#d1e834",
           "#f3c63a",
           "#fe9b2d",
           "#f36315",
           "#d93806",
           "#b11901",
           "#7a0402"
          ]
         },
         "orientation": "h",
         "type": "bar",
         "x": [
          1,
          1,
          1,
          1,
          1,
          1,
          1,
          1,
          1,
          1,
          1,
          1,
          1,
          1,
          1
         ],
         "y": [
          "Turbo",
          "Turbo",
          "Turbo",
          "Turbo",
          "Turbo",
          "Turbo",
          "Turbo",
          "Turbo",
          "Turbo",
          "Turbo",
          "Turbo",
          "Turbo",
          "Turbo",
          "Turbo",
          "Turbo"
         ]
        },
        {
         "customdata": [
          0,
          1,
          2,
          3,
          4,
          5,
          6,
          7,
          8,
          9
         ],
         "hovertemplate": "%{y}[%{customdata}] = %{marker.color}<extra></extra>",
         "marker": {
          "color": [
           "#0d0887",
           "#46039f",
           "#7201a8",
           "#9c179e",
           "#bd3786",
           "#d8576b",
           "#ed7953",
           "#fb9f3a",
           "#fdca26",
           "#f0f921"
          ]
         },
         "orientation": "h",
         "type": "bar",
         "x": [
          1,
          1,
          1,
          1,
          1,
          1,
          1,
          1,
          1,
          1
         ],
         "y": [
          "Plasma",
          "Plasma",
          "Plasma",
          "Plasma",
          "Plasma",
          "Plasma",
          "Plasma",
          "Plasma",
          "Plasma",
          "Plasma"
         ]
        },
        {
         "customdata": [
          0,
          1,
          2,
          3,
          4,
          5,
          6,
          7,
          8,
          9
         ],
         "hovertemplate": "%{y}[%{customdata}] = %{marker.color}<extra></extra>",
         "marker": {
          "color": [
           "#000004",
           "#180f3d",
           "#440f76",
           "#721f81",
           "#9e2f7f",
           "#cd4071",
           "#f1605d",
           "#fd9668",
           "#feca8d",
           "#fcfdbf"
          ]
         },
         "orientation": "h",
         "type": "bar",
         "x": [
          1,
          1,
          1,
          1,
          1,
          1,
          1,
          1,
          1,
          1
         ],
         "y": [
          "Magma",
          "Magma",
          "Magma",
          "Magma",
          "Magma",
          "Magma",
          "Magma",
          "Magma",
          "Magma",
          "Magma"
         ]
        },
        {
         "customdata": [
          0,
          1,
          2,
          3,
          4,
          5,
          6,
          7,
          8,
          9
         ],
         "hovertemplate": "%{y}[%{customdata}] = %{marker.color}<extra></extra>",
         "marker": {
          "color": [
           "#000004",
           "#1b0c41",
           "#4a0c6b",
           "#781c6d",
           "#a52c60",
           "#cf4446",
           "#ed6925",
           "#fb9b06",
           "#f7d13d",
           "#fcffa4"
          ]
         },
         "orientation": "h",
         "type": "bar",
         "x": [
          1,
          1,
          1,
          1,
          1,
          1,
          1,
          1,
          1,
          1
         ],
         "y": [
          "Inferno",
          "Inferno",
          "Inferno",
          "Inferno",
          "Inferno",
          "Inferno",
          "Inferno",
          "Inferno",
          "Inferno",
          "Inferno"
         ]
        },
        {
         "customdata": [
          0,
          1,
          2,
          3,
          4,
          5,
          6,
          7,
          8,
          9
         ],
         "hovertemplate": "%{y}[%{customdata}] = %{marker.color}<extra></extra>",
         "marker": {
          "color": [
           "#00224e",
           "#123570",
           "#3b496c",
           "#575d6d",
           "#707173",
           "#8a8678",
           "#a59c74",
           "#c3b369",
           "#e1cc55",
           "#fee838"
          ]
         },
         "orientation": "h",
         "type": "bar",
         "x": [
          1,
          1,
          1,
          1,
          1,
          1,
          1,
          1,
          1,
          1
         ],
         "y": [
          "Cividis",
          "Cividis",
          "Cividis",
          "Cividis",
          "Cividis",
          "Cividis",
          "Cividis",
          "Cividis",
          "Cividis",
          "Cividis"
         ]
        },
        {
         "customdata": [
          0,
          1,
          2,
          3,
          4,
          5,
          6,
          7,
          8,
          9
         ],
         "hovertemplate": "%{y}[%{customdata}] = %{marker.color}<extra></extra>",
         "marker": {
          "color": [
           "#440154",
           "#482878",
           "#3e4989",
           "#31688e",
           "#26828e",
           "#1f9e89",
           "#35b779",
           "#6ece58",
           "#b5de2b",
           "#fde725"
          ]
         },
         "orientation": "h",
         "type": "bar",
         "x": [
          1,
          1,
          1,
          1,
          1,
          1,
          1,
          1,
          1,
          1
         ],
         "y": [
          "Viridis",
          "Viridis",
          "Viridis",
          "Viridis",
          "Viridis",
          "Viridis",
          "Viridis",
          "Viridis",
          "Viridis",
          "Viridis"
         ]
        },
        {
         "customdata": [
          0,
          1,
          2,
          3,
          4,
          5,
          6,
          7,
          8,
          9,
          10,
          11,
          12
         ],
         "hovertemplate": "%{y}[%{customdata}] = %{marker.color}<extra></extra>",
         "marker": {
          "color": [
           "#0508b8",
           "#1910d8",
           "#3c19f0",
           "#6b1cfb",
           "#981cfd",
           "#bf1cfd",
           "#dd2bfd",
           "#f246fe",
           "#fc67fd",
           "#fe88fc",
           "#fea5fd",
           "#febefe",
           "#fec3fe"
          ]
         },
         "orientation": "h",
         "type": "bar",
         "x": [
          1,
          1,
          1,
          1,
          1,
          1,
          1,
          1,
          1,
          1,
          1,
          1,
          1
         ],
         "y": [
          "Plotly3",
          "Plotly3",
          "Plotly3",
          "Plotly3",
          "Plotly3",
          "Plotly3",
          "Plotly3",
          "Plotly3",
          "Plotly3",
          "Plotly3",
          "Plotly3",
          "Plotly3",
          "Plotly3"
         ]
        }
       ],
       "layout": {
        "bargap": 0.5,
        "barmode": "stack",
        "barnorm": "fraction",
        "height": 2640,
        "margin": {
         "b": 10
        },
        "showlegend": false,
        "template": {
         "data": {
          "bar": [
           {
            "error_x": {
             "color": "#2a3f5f"
            },
            "error_y": {
             "color": "#2a3f5f"
            },
            "marker": {
             "line": {
              "color": "#E5ECF6",
              "width": 0.5
             },
             "pattern": {
              "fillmode": "overlay",
              "size": 10,
              "solidity": 0.2
             }
            },
            "type": "bar"
           }
          ],
          "barpolar": [
           {
            "marker": {
             "line": {
              "color": "#E5ECF6",
              "width": 0.5
             },
             "pattern": {
              "fillmode": "overlay",
              "size": 10,
              "solidity": 0.2
             }
            },
            "type": "barpolar"
           }
          ],
          "carpet": [
           {
            "aaxis": {
             "endlinecolor": "#2a3f5f",
             "gridcolor": "white",
             "linecolor": "white",
             "minorgridcolor": "white",
             "startlinecolor": "#2a3f5f"
            },
            "baxis": {
             "endlinecolor": "#2a3f5f",
             "gridcolor": "white",
             "linecolor": "white",
             "minorgridcolor": "white",
             "startlinecolor": "#2a3f5f"
            },
            "type": "carpet"
           }
          ],
          "choropleth": [
           {
            "colorbar": {
             "outlinewidth": 0,
             "ticks": ""
            },
            "type": "choropleth"
           }
          ],
          "contour": [
           {
            "colorbar": {
             "outlinewidth": 0,
             "ticks": ""
            },
            "colorscale": [
             [
              0,
              "#0d0887"
             ],
             [
              0.1111111111111111,
              "#46039f"
             ],
             [
              0.2222222222222222,
              "#7201a8"
             ],
             [
              0.3333333333333333,
              "#9c179e"
             ],
             [
              0.4444444444444444,
              "#bd3786"
             ],
             [
              0.5555555555555556,
              "#d8576b"
             ],
             [
              0.6666666666666666,
              "#ed7953"
             ],
             [
              0.7777777777777778,
              "#fb9f3a"
             ],
             [
              0.8888888888888888,
              "#fdca26"
             ],
             [
              1,
              "#f0f921"
             ]
            ],
            "type": "contour"
           }
          ],
          "contourcarpet": [
           {
            "colorbar": {
             "outlinewidth": 0,
             "ticks": ""
            },
            "type": "contourcarpet"
           }
          ],
          "heatmap": [
           {
            "colorbar": {
             "outlinewidth": 0,
             "ticks": ""
            },
            "colorscale": [
             [
              0,
              "#0d0887"
             ],
             [
              0.1111111111111111,
              "#46039f"
             ],
             [
              0.2222222222222222,
              "#7201a8"
             ],
             [
              0.3333333333333333,
              "#9c179e"
             ],
             [
              0.4444444444444444,
              "#bd3786"
             ],
             [
              0.5555555555555556,
              "#d8576b"
             ],
             [
              0.6666666666666666,
              "#ed7953"
             ],
             [
              0.7777777777777778,
              "#fb9f3a"
             ],
             [
              0.8888888888888888,
              "#fdca26"
             ],
             [
              1,
              "#f0f921"
             ]
            ],
            "type": "heatmap"
           }
          ],
          "heatmapgl": [
           {
            "colorbar": {
             "outlinewidth": 0,
             "ticks": ""
            },
            "colorscale": [
             [
              0,
              "#0d0887"
             ],
             [
              0.1111111111111111,
              "#46039f"
             ],
             [
              0.2222222222222222,
              "#7201a8"
             ],
             [
              0.3333333333333333,
              "#9c179e"
             ],
             [
              0.4444444444444444,
              "#bd3786"
             ],
             [
              0.5555555555555556,
              "#d8576b"
             ],
             [
              0.6666666666666666,
              "#ed7953"
             ],
             [
              0.7777777777777778,
              "#fb9f3a"
             ],
             [
              0.8888888888888888,
              "#fdca26"
             ],
             [
              1,
              "#f0f921"
             ]
            ],
            "type": "heatmapgl"
           }
          ],
          "histogram": [
           {
            "marker": {
             "pattern": {
              "fillmode": "overlay",
              "size": 10,
              "solidity": 0.2
             }
            },
            "type": "histogram"
           }
          ],
          "histogram2d": [
           {
            "colorbar": {
             "outlinewidth": 0,
             "ticks": ""
            },
            "colorscale": [
             [
              0,
              "#0d0887"
             ],
             [
              0.1111111111111111,
              "#46039f"
             ],
             [
              0.2222222222222222,
              "#7201a8"
             ],
             [
              0.3333333333333333,
              "#9c179e"
             ],
             [
              0.4444444444444444,
              "#bd3786"
             ],
             [
              0.5555555555555556,
              "#d8576b"
             ],
             [
              0.6666666666666666,
              "#ed7953"
             ],
             [
              0.7777777777777778,
              "#fb9f3a"
             ],
             [
              0.8888888888888888,
              "#fdca26"
             ],
             [
              1,
              "#f0f921"
             ]
            ],
            "type": "histogram2d"
           }
          ],
          "histogram2dcontour": [
           {
            "colorbar": {
             "outlinewidth": 0,
             "ticks": ""
            },
            "colorscale": [
             [
              0,
              "#0d0887"
             ],
             [
              0.1111111111111111,
              "#46039f"
             ],
             [
              0.2222222222222222,
              "#7201a8"
             ],
             [
              0.3333333333333333,
              "#9c179e"
             ],
             [
              0.4444444444444444,
              "#bd3786"
             ],
             [
              0.5555555555555556,
              "#d8576b"
             ],
             [
              0.6666666666666666,
              "#ed7953"
             ],
             [
              0.7777777777777778,
              "#fb9f3a"
             ],
             [
              0.8888888888888888,
              "#fdca26"
             ],
             [
              1,
              "#f0f921"
             ]
            ],
            "type": "histogram2dcontour"
           }
          ],
          "mesh3d": [
           {
            "colorbar": {
             "outlinewidth": 0,
             "ticks": ""
            },
            "type": "mesh3d"
           }
          ],
          "parcoords": [
           {
            "line": {
             "colorbar": {
              "outlinewidth": 0,
              "ticks": ""
             }
            },
            "type": "parcoords"
           }
          ],
          "pie": [
           {
            "automargin": true,
            "type": "pie"
           }
          ],
          "scatter": [
           {
            "fillpattern": {
             "fillmode": "overlay",
             "size": 10,
             "solidity": 0.2
            },
            "type": "scatter"
           }
          ],
          "scatter3d": [
           {
            "line": {
             "colorbar": {
              "outlinewidth": 0,
              "ticks": ""
             }
            },
            "marker": {
             "colorbar": {
              "outlinewidth": 0,
              "ticks": ""
             }
            },
            "type": "scatter3d"
           }
          ],
          "scattercarpet": [
           {
            "marker": {
             "colorbar": {
              "outlinewidth": 0,
              "ticks": ""
             }
            },
            "type": "scattercarpet"
           }
          ],
          "scattergeo": [
           {
            "marker": {
             "colorbar": {
              "outlinewidth": 0,
              "ticks": ""
             }
            },
            "type": "scattergeo"
           }
          ],
          "scattergl": [
           {
            "marker": {
             "colorbar": {
              "outlinewidth": 0,
              "ticks": ""
             }
            },
            "type": "scattergl"
           }
          ],
          "scattermapbox": [
           {
            "marker": {
             "colorbar": {
              "outlinewidth": 0,
              "ticks": ""
             }
            },
            "type": "scattermapbox"
           }
          ],
          "scatterpolar": [
           {
            "marker": {
             "colorbar": {
              "outlinewidth": 0,
              "ticks": ""
             }
            },
            "type": "scatterpolar"
           }
          ],
          "scatterpolargl": [
           {
            "marker": {
             "colorbar": {
              "outlinewidth": 0,
              "ticks": ""
             }
            },
            "type": "scatterpolargl"
           }
          ],
          "scatterternary": [
           {
            "marker": {
             "colorbar": {
              "outlinewidth": 0,
              "ticks": ""
             }
            },
            "type": "scatterternary"
           }
          ],
          "surface": [
           {
            "colorbar": {
             "outlinewidth": 0,
             "ticks": ""
            },
            "colorscale": [
             [
              0,
              "#0d0887"
             ],
             [
              0.1111111111111111,
              "#46039f"
             ],
             [
              0.2222222222222222,
              "#7201a8"
             ],
             [
              0.3333333333333333,
              "#9c179e"
             ],
             [
              0.4444444444444444,
              "#bd3786"
             ],
             [
              0.5555555555555556,
              "#d8576b"
             ],
             [
              0.6666666666666666,
              "#ed7953"
             ],
             [
              0.7777777777777778,
              "#fb9f3a"
             ],
             [
              0.8888888888888888,
              "#fdca26"
             ],
             [
              1,
              "#f0f921"
             ]
            ],
            "type": "surface"
           }
          ],
          "table": [
           {
            "cells": {
             "fill": {
              "color": "#EBF0F8"
             },
             "line": {
              "color": "white"
             }
            },
            "header": {
             "fill": {
              "color": "#C8D4E3"
             },
             "line": {
              "color": "white"
             }
            },
            "type": "table"
           }
          ]
         },
         "layout": {
          "annotationdefaults": {
           "arrowcolor": "#2a3f5f",
           "arrowhead": 0,
           "arrowwidth": 1
          },
          "autotypenumbers": "strict",
          "coloraxis": {
           "colorbar": {
            "outlinewidth": 0,
            "ticks": ""
           }
          },
          "colorscale": {
           "diverging": [
            [
             0,
             "#8e0152"
            ],
            [
             0.1,
             "#c51b7d"
            ],
            [
             0.2,
             "#de77ae"
            ],
            [
             0.3,
             "#f1b6da"
            ],
            [
             0.4,
             "#fde0ef"
            ],
            [
             0.5,
             "#f7f7f7"
            ],
            [
             0.6,
             "#e6f5d0"
            ],
            [
             0.7,
             "#b8e186"
            ],
            [
             0.8,
             "#7fbc41"
            ],
            [
             0.9,
             "#4d9221"
            ],
            [
             1,
             "#276419"
            ]
           ],
           "sequential": [
            [
             0,
             "#0d0887"
            ],
            [
             0.1111111111111111,
             "#46039f"
            ],
            [
             0.2222222222222222,
             "#7201a8"
            ],
            [
             0.3333333333333333,
             "#9c179e"
            ],
            [
             0.4444444444444444,
             "#bd3786"
            ],
            [
             0.5555555555555556,
             "#d8576b"
            ],
            [
             0.6666666666666666,
             "#ed7953"
            ],
            [
             0.7777777777777778,
             "#fb9f3a"
            ],
            [
             0.8888888888888888,
             "#fdca26"
            ],
            [
             1,
             "#f0f921"
            ]
           ],
           "sequentialminus": [
            [
             0,
             "#0d0887"
            ],
            [
             0.1111111111111111,
             "#46039f"
            ],
            [
             0.2222222222222222,
             "#7201a8"
            ],
            [
             0.3333333333333333,
             "#9c179e"
            ],
            [
             0.4444444444444444,
             "#bd3786"
            ],
            [
             0.5555555555555556,
             "#d8576b"
            ],
            [
             0.6666666666666666,
             "#ed7953"
            ],
            [
             0.7777777777777778,
             "#fb9f3a"
            ],
            [
             0.8888888888888888,
             "#fdca26"
            ],
            [
             1,
             "#f0f921"
            ]
           ]
          },
          "colorway": [
           "#636efa",
           "#EF553B",
           "#00cc96",
           "#ab63fa",
           "#FFA15A",
           "#19d3f3",
           "#FF6692",
           "#B6E880",
           "#FF97FF",
           "#FECB52"
          ],
          "font": {
           "color": "#2a3f5f"
          },
          "geo": {
           "bgcolor": "white",
           "lakecolor": "white",
           "landcolor": "#E5ECF6",
           "showlakes": true,
           "showland": true,
           "subunitcolor": "white"
          },
          "hoverlabel": {
           "align": "left"
          },
          "hovermode": "closest",
          "mapbox": {
           "style": "light"
          },
          "paper_bgcolor": "white",
          "plot_bgcolor": "#E5ECF6",
          "polar": {
           "angularaxis": {
            "gridcolor": "white",
            "linecolor": "white",
            "ticks": ""
           },
           "bgcolor": "#E5ECF6",
           "radialaxis": {
            "gridcolor": "white",
            "linecolor": "white",
            "ticks": ""
           }
          },
          "scene": {
           "xaxis": {
            "backgroundcolor": "#E5ECF6",
            "gridcolor": "white",
            "gridwidth": 2,
            "linecolor": "white",
            "showbackground": true,
            "ticks": "",
            "zerolinecolor": "white"
           },
           "yaxis": {
            "backgroundcolor": "#E5ECF6",
            "gridcolor": "white",
            "gridwidth": 2,
            "linecolor": "white",
            "showbackground": true,
            "ticks": "",
            "zerolinecolor": "white"
           },
           "zaxis": {
            "backgroundcolor": "#E5ECF6",
            "gridcolor": "white",
            "gridwidth": 2,
            "linecolor": "white",
            "showbackground": true,
            "ticks": "",
            "zerolinecolor": "white"
           }
          },
          "shapedefaults": {
           "line": {
            "color": "#2a3f5f"
           }
          },
          "ternary": {
           "aaxis": {
            "gridcolor": "white",
            "linecolor": "white",
            "ticks": ""
           },
           "baxis": {
            "gridcolor": "white",
            "linecolor": "white",
            "ticks": ""
           },
           "bgcolor": "#E5ECF6",
           "caxis": {
            "gridcolor": "white",
            "linecolor": "white",
            "ticks": ""
           }
          },
          "title": {
           "x": 0.05
          },
          "xaxis": {
           "automargin": true,
           "gridcolor": "white",
           "linecolor": "white",
           "ticks": "",
           "title": {
            "standoff": 15
           },
           "zerolinecolor": "white",
           "zerolinewidth": 2
          },
          "yaxis": {
           "automargin": true,
           "gridcolor": "white",
           "linecolor": "white",
           "ticks": "",
           "title": {
            "standoff": 15
           },
           "zerolinecolor": "white",
           "zerolinewidth": 2
          }
         }
        },
        "title": {
         "text": "plotly.colors.sequential"
        },
        "xaxis": {
         "range": [
          -0.02,
          1.02
         ],
         "showgrid": false,
         "showticklabels": false
        }
       }
      }
     },
     "metadata": {},
     "output_type": "display_data"
    }
   ],
   "source": [
    "import plotly.express as px\n",
    "\n",
    "px.colors.sequential.swatches()"
   ]
  },
  {
   "cell_type": "code",
   "execution_count": 11,
   "metadata": {},
   "outputs": [
    {
     "data": {
      "text/plain": [
       "['rgb(253, 237, 176)',\n",
       " 'rgb(250, 205, 145)',\n",
       " 'rgb(246, 173, 119)',\n",
       " 'rgb(240, 142, 98)',\n",
       " 'rgb(231, 109, 84)',\n",
       " 'rgb(216, 80, 83)',\n",
       " 'rgb(195, 56, 90)',\n",
       " 'rgb(168, 40, 96)',\n",
       " 'rgb(138, 29, 99)',\n",
       " 'rgb(107, 24, 93)',\n",
       " 'rgb(76, 21, 80)',\n",
       " 'rgb(47, 15, 61)']"
      ]
     },
     "execution_count": 11,
     "metadata": {},
     "output_type": "execute_result"
    }
   ],
   "source": [
    "px.colors.sequential.matter"
   ]
  },
  {
   "cell_type": "code",
   "execution_count": 12,
   "metadata": {},
   "outputs": [
    {
     "data": {
      "image/png": "[encoded data removed]",
      "text/plain": [
       "<Figure size 800x100 with 1 Axes>"
      ]
     },
     "metadata": {},
     "output_type": "display_data"
    }
   ],
   "source": [
    "sns.palplot(sns.color_palette(\"Reds\", 8))"
   ]
  },
  {
   "cell_type": "markdown",
   "metadata": {},
   "source": [
    "## 可视化"
   ]
  },
  {
   "cell_type": "code",
   "execution_count": 13,
   "metadata": {},
   "outputs": [
    {
     "data": {
      "image/png": "[encoded data removed]",
      "text/plain": [
       "<Figure size 640x480 with 1 Axes>"
      ]
     },
     "metadata": {},
     "output_type": "display_data"
    },
    {
     "data": {
      "text/plain": [
       "<ggplot: (86133206983)>"
      ]
     },
     "execution_count": 13,
     "metadata": {},
     "output_type": "execute_result"
    }
   ],
   "source": [
    "(ggplot(df, aes(x='读完时间', y='累计数量'))\n",
    "    + geom_line()\n",
    "    + geom_point(aes(color='月份'))\n",
    "    + labs(x='时间', y='累计阅读数量', title='2021年读书记录')\n",
    "    + guides(color=False)\n",
    "    + theme(text=element_text(family=\"SimHei\"),\n",
    "            # axis_text_x=element_text(size=12),\n",
    "            axis_text_y=element_text(size=12),\n",
    "            )\n",
    ")"
   ]
  },
  {
   "cell_type": "code",
   "execution_count": 14,
   "metadata": {},
   "outputs": [
    {
     "data": {
      "image/png": "[encoded data removed]",
      "text/plain": [
       "<Figure size 640x480 with 1 Axes>"
      ]
     },
     "metadata": {},
     "output_type": "display_data"
    },
    {
     "data": {
      "text/plain": [
       "<ggplot: (86133287641)>"
      ]
     },
     "execution_count": 14,
     "metadata": {},
     "output_type": "execute_result"
    }
   ],
   "source": [
    "colors = sns.color_palette(\"Reds\").as_hex()\n",
    "\n",
    "(ggplot(df, aes(x='月份'))\n",
    "    # + geom_bar(fill='lightblue')\n",
    "    + geom_bar(aes(fill='factor(评分)', group='factor(评分)'))\n",
    "    + scale_fill_manual(values=colors[1:])\n",
    "    + labs(x='', y='', title='2021年月度读书数量', fill='评分')\n",
    "    + theme(text=element_text(family=\"SimHei\"),\n",
    "            axis_text_x=element_text(size=12),\n",
    "            axis_text_y=element_text(size=12),\n",
    "            )\n",
    ")\n"
   ]
  },
  {
   "cell_type": "code",
   "execution_count": 22,
   "metadata": {},
   "outputs": [
    {
     "data": {
      "text/html": [
       "<div>\n",
       "<style scoped>\n",
       "    .dataframe tbody tr th:only-of-type {\n",
       "        vertical-align: middle;\n",
       "    }\n",
       "\n",
       "    .dataframe tbody tr th {\n",
       "        vertical-align: top;\n",
       "    }\n",
       "\n",
       "    .dataframe thead th {\n",
       "        text-align: right;\n",
       "    }\n",
       "</style>\n",
       "<table border=\"1\" class=\"dataframe\">\n",
       "  <thead>\n",
       "    <tr style=\"text-align: right;\">\n",
       "      <th></th>\n",
       "      <th>评分</th>\n",
       "      <th>书名</th>\n",
       "      <th>x</th>\n",
       "    </tr>\n",
       "  </thead>\n",
       "  <tbody>\n",
       "    <tr>\n",
       "      <th>0</th>\n",
       "      <td>2分</td>\n",
       "      <td>9</td>\n",
       "      <td>1</td>\n",
       "    </tr>\n",
       "    <tr>\n",
       "      <th>1</th>\n",
       "      <td>3分</td>\n",
       "      <td>21</td>\n",
       "      <td>1</td>\n",
       "    </tr>\n",
       "    <tr>\n",
       "      <th>2</th>\n",
       "      <td>4分</td>\n",
       "      <td>15</td>\n",
       "      <td>1</td>\n",
       "    </tr>\n",
       "    <tr>\n",
       "      <th>3</th>\n",
       "      <td>5分</td>\n",
       "      <td>6</td>\n",
       "      <td>1</td>\n",
       "    </tr>\n",
       "    <tr>\n",
       "      <th>-1</th>\n",
       "      <td>1分</td>\n",
       "      <td>0</td>\n",
       "      <td>1</td>\n",
       "    </tr>\n",
       "  </tbody>\n",
       "</table>\n",
       "</div>"
      ],
      "text/plain": [
       "    评分  书名  x\n",
       " 0  2分   9  1\n",
       " 1  3分  21  1\n",
       " 2  4分  15  1\n",
       " 3  5分   6  1\n",
       "-1  1分   0  1"
      ]
     },
     "execution_count": 22,
     "metadata": {},
     "output_type": "execute_result"
    }
   ],
   "source": [
    "df_score = df.groupby('评分', as_index=False).count()[['评分', '书名']]\n",
    "df_score['评分'] = df_score['评分'].map(len).astype(str) + '分'\n",
    "df_score.loc[-1] = [\"1分\", 0]\n",
    "df_score['评分'] = pd.Categorical(df_score['评分'], categories=reversed(['1分', '2分', '3分', '4分', '5分']))\n",
    "df_score['x'] = 1\n",
    "df_score"
   ]
  },
  {
   "cell_type": "code",
   "execution_count": 23,
   "metadata": {},
   "outputs": [
    {
     "data": {
      "image/png": "[encoded data removed]",
      "text/plain": [
       "<Figure size 650x50 with 1 Axes>"
      ]
     },
     "metadata": {},
     "output_type": "display_data"
    },
    {
     "data": {
      "text/plain": [
       "<ggplot: (86133429727)>"
      ]
     },
     "execution_count": 23,
     "metadata": {},
     "output_type": "execute_result"
    }
   ],
   "source": [
    "colors_r = sns.color_palette(\"Reds_r\").as_hex()\n",
    "\n",
    "(ggplot(df_score)\n",
    "    + geom_col(aes(x='x', y='书名', fill='评分'))\n",
    "    # + geom_text(aes(label='书名'), )\n",
    "    + scale_fill_manual(values=colors_r)\n",
    "    + labs(x='', y='', title='书籍评价分布（共51本）')\n",
    "    + scale_x_continuous(breaks=None)\n",
    "    # + guides(fill = guide_legend(reverse=True))\n",
    "    + theme(text=element_text(family=\"SimHei\"),\n",
    "            figure_size=(6.5, 0.5),\n",
    "            # axis_ticks=element_blank(),\n",
    "            )\n",
    "    + coord_flip()\n",
    ")"
   ]
  },
  {
   "cell_type": "code",
   "execution_count": 24,
   "metadata": {},
   "outputs": [
    {
     "data": {
      "text/plain": [
       "<AxesSubplot:ylabel='书名'>"
      ]
     },
     "execution_count": 24,
     "metadata": {},
     "output_type": "execute_result"
    },
    {
     "data": {
      "image/png": "[encoded data removed]",
      "text/plain": [
       "<Figure size 600x600 with 1 Axes>"
      ]
     },
     "metadata": {},
     "output_type": "display_data"
    }
   ],
   "source": [
    "df_score.set_index('评分').plot.pie(y='书名', figsize=(6, 6), autopct='%1.0f%%', fontsize=12, legend=False)"
   ]
  },
  {
   "cell_type": "code",
   "execution_count": 25,
   "metadata": {},
   "outputs": [
    {
     "data": {
      "image/png": "[encoded data removed]",
      "text/plain": [
       "<Figure size 640x480 with 1 Axes>"
      ]
     },
     "metadata": {},
     "output_type": "display_data"
    },
    {
     "data": {
      "text/plain": [
       "<ggplot: (86133661437)>"
      ]
     },
     "execution_count": 25,
     "metadata": {},
     "output_type": "execute_result"
    }
   ],
   "source": [
    "df_score['评分2'] = pd.Categorical(df_score['评分'], categories=['1分', '2分', '3分', '4分', '5分'])\n",
    "\n",
    "(ggplot(df_score, aes(x='评分2', y='书名'))\n",
    "    + geom_col(fill='lightblue')\n",
    "    + geom_text(aes(label='书名'), size=12, va='bottom')\n",
    "    + ggtitle('书籍评价分布')\n",
    "    + ylab('数量')\n",
    "    + theme(text=element_text(family=\"SimHei\"))\n",
    ")"
   ]
  },
  {
   "cell_type": "code",
   "execution_count": 26,
   "metadata": {},
   "outputs": [
    {
     "data": {
      "text/plain": [
       "Series([], Name: 书名, dtype: object)"
      ]
     },
     "execution_count": 26,
     "metadata": {},
     "output_type": "execute_result"
    }
   ],
   "source": [
    "df.query('评分==5')['书名']"
   ]
  },
  {
   "cell_type": "code",
   "execution_count": 27,
   "metadata": {},
   "outputs": [
    {
     "data": {
      "text/html": [
       "\n",
       "<script>\n",
       "    require.config({\n",
       "        paths: {\n",
       "            'echarts':'https://assets.pyecharts.org/assets/v5/echarts.min', 'echarts-wordcloud':'https://assets.pyecharts.org/assets/v5/echarts-wordcloud.min'\n",
       "        }\n",
       "    });\n",
       "</script>\n",
       "\n",
       "        <div id=\"6bd2cedfa3c8439f9f3e7ca0125f0522\" style=\"width:900px; height:500px;\"></div>\n",
       "\n",
       "<script>\n",
       "        require(['echarts', 'echarts-wordcloud'], function(echarts) {\n",
       "                var chart_6bd2cedfa3c8439f9f3e7ca0125f0522 = echarts.init(\n",
       "                    document.getElementById('6bd2cedfa3c8439f9f3e7ca0125f0522'), 'white', {renderer: 'canvas'});\n",
       "                var option_6bd2cedfa3c8439f9f3e7ca0125f0522 = {\n",
       "    \"animation\": true,\n",
       "    \"animationThreshold\": 2000,\n",
       "    \"animationDuration\": 1000,\n",
       "    \"animationEasing\": \"cubicOut\",\n",
       "    \"animationDelay\": 0,\n",
       "    \"animationDurationUpdate\": 300,\n",
       "    \"animationEasingUpdate\": \"cubicOut\",\n",
       "    \"animationDelayUpdate\": 0,\n",
       "    \"aria\": {\n",
       "        \"enabled\": false\n",
       "    },\n",
       "    \"color\": [\n",
       "        \"#5470c6\",\n",
       "        \"#91cc75\",\n",
       "        \"#fac858\",\n",
       "        \"#ee6666\",\n",
       "        \"#73c0de\",\n",
       "        \"#3ba272\",\n",
       "        \"#fc8452\",\n",
       "        \"#9a60b4\",\n",
       "        \"#ea7ccc\"\n",
       "    ],\n",
       "    \"series\": [\n",
       "        {\n",
       "            \"type\": \"wordCloud\",\n",
       "            \"shape\": \"circle\",\n",
       "            \"rotationRange\": [\n",
       "                -90,\n",
       "                90\n",
       "            ],\n",
       "            \"rotationStep\": 45,\n",
       "            \"girdSize\": 20,\n",
       "            \"sizeRange\": [\n",
       "                12,\n",
       "                60\n",
       "            ],\n",
       "            \"data\": [\n",
       "                {\n",
       "                    \"name\": \"\\u5c0f\\u8bf4\",\n",
       "                    \"value\": 9,\n",
       "                    \"textStyle\": {\n",
       "                        \"color\": \"rgb(100,64,19)\"\n",
       "                    }\n",
       "                },\n",
       "                {\n",
       "                    \"name\": \"\\u6f2b\\u753b\",\n",
       "                    \"value\": 7,\n",
       "                    \"textStyle\": {\n",
       "                        \"color\": \"rgb(60,122,132)\"\n",
       "                    }\n",
       "                },\n",
       "                {\n",
       "                    \"name\": \"\\u7384\\u5e7b\",\n",
       "                    \"value\": 5,\n",
       "                    \"textStyle\": {\n",
       "                        \"color\": \"rgb(11,104,50)\"\n",
       "                    }\n",
       "                },\n",
       "                {\n",
       "                    \"name\": \"\\u8ba1\\u7b97\\u673a\",\n",
       "                    \"value\": 5,\n",
       "                    \"textStyle\": {\n",
       "                        \"color\": \"rgb(138,81,2)\"\n",
       "                    }\n",
       "                },\n",
       "                {\n",
       "                    \"name\": \"\\u7f51\\u6587\",\n",
       "                    \"value\": 4,\n",
       "                    \"textStyle\": {\n",
       "                        \"color\": \"rgb(116,19,27)\"\n",
       "                    }\n",
       "                },\n",
       "                {\n",
       "                    \"name\": \"\\u6570\\u636e\\u5206\\u6790\",\n",
       "                    \"value\": 4,\n",
       "                    \"textStyle\": {\n",
       "                        \"color\": \"rgb(92,77,16)\"\n",
       "                    }\n",
       "                },\n",
       "                {\n",
       "                    \"name\": \"\\u601d\\u7ef4\",\n",
       "                    \"value\": 4,\n",
       "                    \"textStyle\": {\n",
       "                        \"color\": \"rgb(114,7,101)\"\n",
       "                    }\n",
       "                },\n",
       "                {\n",
       "                    \"name\": \"\\u6587\\u5b66\",\n",
       "                    \"value\": 4,\n",
       "                    \"textStyle\": {\n",
       "                        \"color\": \"rgb(141,100,121)\"\n",
       "                    }\n",
       "                },\n",
       "                {\n",
       "                    \"name\": \"\\u79d1\\u666e\",\n",
       "                    \"value\": 4,\n",
       "                    \"textStyle\": {\n",
       "                        \"color\": \"rgb(67,87,138)\"\n",
       "                    }\n",
       "                },\n",
       "                {\n",
       "                    \"name\": \"\\u4eba\\u5de5\\u667a\\u80fd\",\n",
       "                    \"value\": 4,\n",
       "                    \"textStyle\": {\n",
       "                        \"color\": \"rgb(94,117,79)\"\n",
       "                    }\n",
       "                },\n",
       "                {\n",
       "                    \"name\": \"\\u827a\\u672f\",\n",
       "                    \"value\": 4,\n",
       "                    \"textStyle\": {\n",
       "                        \"color\": \"rgb(140,132,82)\"\n",
       "                    }\n",
       "                },\n",
       "                {\n",
       "                    \"name\": \"\\u7ed8\\u753b\",\n",
       "                    \"value\": 4,\n",
       "                    \"textStyle\": {\n",
       "                        \"color\": \"rgb(98,67,97)\"\n",
       "                    }\n",
       "                },\n",
       "                {\n",
       "                    \"name\": \"\\u65b9\\u6cd5\\u8bba\",\n",
       "                    \"value\": 3,\n",
       "                    \"textStyle\": {\n",
       "                        \"color\": \"rgb(126,63,64)\"\n",
       "                    }\n",
       "                },\n",
       "                {\n",
       "                    \"name\": \"\\u53ef\\u89c6\\u5316\",\n",
       "                    \"value\": 3,\n",
       "                    \"textStyle\": {\n",
       "                        \"color\": \"rgb(65,42,86)\"\n",
       "                    }\n",
       "                },\n",
       "                {\n",
       "                    \"name\": \"\\u79d1\\u5b66\",\n",
       "                    \"value\": 3,\n",
       "                    \"textStyle\": {\n",
       "                        \"color\": \"rgb(95,76,12)\"\n",
       "                    }\n",
       "                },\n",
       "                {\n",
       "                    \"name\": \"\\u6cd5\\u56fd\",\n",
       "                    \"value\": 3,\n",
       "                    \"textStyle\": {\n",
       "                        \"color\": \"rgb(135,98,160)\"\n",
       "                    }\n",
       "                },\n",
       "                {\n",
       "                    \"name\": \"\\u8bd7\\u8bcd\",\n",
       "                    \"value\": 3,\n",
       "                    \"textStyle\": {\n",
       "                        \"color\": \"rgb(38,159,34)\"\n",
       "                    }\n",
       "                },\n",
       "                {\n",
       "                    \"name\": \"\\u7ed8\\u672c\",\n",
       "                    \"value\": 3,\n",
       "                    \"textStyle\": {\n",
       "                        \"color\": \"rgb(134,60,157)\"\n",
       "                    }\n",
       "                },\n",
       "                {\n",
       "                    \"name\": \"Python\",\n",
       "                    \"value\": 2,\n",
       "                    \"textStyle\": {\n",
       "                        \"color\": \"rgb(129,16,73)\"\n",
       "                    }\n",
       "                },\n",
       "                {\n",
       "                    \"name\": \"\\u5916\\u56fd\\u6587\\u5b66\",\n",
       "                    \"value\": 2,\n",
       "                    \"textStyle\": {\n",
       "                        \"color\": \"rgb(66,74,143)\"\n",
       "                    }\n",
       "                },\n",
       "                {\n",
       "                    \"name\": \"\\u6570\\u636e\\u53ef\\u89c6\\u5316\",\n",
       "                    \"value\": 2,\n",
       "                    \"textStyle\": {\n",
       "                        \"color\": \"rgb(113,108,55)\"\n",
       "                    }\n",
       "                },\n",
       "                {\n",
       "                    \"name\": \"\\u56fe\\u8868\",\n",
       "                    \"value\": 2,\n",
       "                    \"textStyle\": {\n",
       "                        \"color\": \"rgb(29,62,143)\"\n",
       "                    }\n",
       "                },\n",
       "                {\n",
       "                    \"name\": \"\\u6210\\u957f\",\n",
       "                    \"value\": 2,\n",
       "                    \"textStyle\": {\n",
       "                        \"color\": \"rgb(85,111,37)\"\n",
       "                    }\n",
       "                },\n",
       "                {\n",
       "                    \"name\": \"\\u7f51\\u7edc\\u5c0f\\u8bf4\",\n",
       "                    \"value\": 2,\n",
       "                    \"textStyle\": {\n",
       "                        \"color\": \"rgb(105,141,2)\"\n",
       "                    }\n",
       "                },\n",
       "                {\n",
       "                    \"name\": \"\\u4ed9\\u4fa0\",\n",
       "                    \"value\": 2,\n",
       "                    \"textStyle\": {\n",
       "                        \"color\": \"rgb(60,128,67)\"\n",
       "                    }\n",
       "                },\n",
       "                {\n",
       "                    \"name\": \"\\u4e2d\\u56fd\",\n",
       "                    \"value\": 2,\n",
       "                    \"textStyle\": {\n",
       "                        \"color\": \"rgb(53,39,137)\"\n",
       "                    }\n",
       "                },\n",
       "                {\n",
       "                    \"name\": \"\\u4e2d\\u56fd\\u6587\\u5b66\",\n",
       "                    \"value\": 2,\n",
       "                    \"textStyle\": {\n",
       "                        \"color\": \"rgb(35,58,96)\"\n",
       "                    }\n",
       "                },\n",
       "                {\n",
       "                    \"name\": \"\\u5b8b\\u8bcd\",\n",
       "                    \"value\": 2,\n",
       "                    \"textStyle\": {\n",
       "                        \"color\": \"rgb(6,5,46)\"\n",
       "                    }\n",
       "                },\n",
       "                {\n",
       "                    \"name\": \"\\u7f8e\\u672f\",\n",
       "                    \"value\": 2,\n",
       "                    \"textStyle\": {\n",
       "                        \"color\": \"rgb(45,159,103)\"\n",
       "                    }\n",
       "                },\n",
       "                {\n",
       "                    \"name\": \"\\u6587\\u5b66\\u7406\\u8bba\",\n",
       "                    \"value\": 2,\n",
       "                    \"textStyle\": {\n",
       "                        \"color\": \"rgb(148,20,109)\"\n",
       "                    }\n",
       "                },\n",
       "                {\n",
       "                    \"name\": \"\\u6563\\u6587\",\n",
       "                    \"value\": 2,\n",
       "                    \"textStyle\": {\n",
       "                        \"color\": \"rgb(87,44,138)\"\n",
       "                    }\n",
       "                },\n",
       "                {\n",
       "                    \"name\": \"\\u5fc3\\u7075\",\n",
       "                    \"value\": 2,\n",
       "                    \"textStyle\": {\n",
       "                        \"color\": \"rgb(98,72,16)\"\n",
       "                    }\n",
       "                },\n",
       "                {\n",
       "                    \"name\": \"\\u6b27\\u7f8e\\u6f2b\\u753b\",\n",
       "                    \"value\": 2,\n",
       "                    \"textStyle\": {\n",
       "                        \"color\": \"rgb(111,149,155)\"\n",
       "                    }\n",
       "                },\n",
       "                {\n",
       "                    \"name\": \"\\u5199\\u4f5c\",\n",
       "                    \"value\": 2,\n",
       "                    \"textStyle\": {\n",
       "                        \"color\": \"rgb(40,3,62)\"\n",
       "                    }\n",
       "                },\n",
       "                {\n",
       "                    \"name\": \"\\u54f2\\u5b66\",\n",
       "                    \"value\": 2,\n",
       "                    \"textStyle\": {\n",
       "                        \"color\": \"rgb(42,36,0)\"\n",
       "                    }\n",
       "                },\n",
       "                {\n",
       "                    \"name\": \"\\u7f8e\\u6f2b\",\n",
       "                    \"value\": 1,\n",
       "                    \"textStyle\": {\n",
       "                        \"color\": \"rgb(38,45,31)\"\n",
       "                    }\n",
       "                },\n",
       "                {\n",
       "                    \"name\": \"\\u79d1\\u5e7b\\u5c0f\\u8bf4\",\n",
       "                    \"value\": 1,\n",
       "                    \"textStyle\": {\n",
       "                        \"color\": \"rgb(142,155,59)\"\n",
       "                    }\n",
       "                },\n",
       "                {\n",
       "                    \"name\": \"\\u7f16\\u7a0b\",\n",
       "                    \"value\": 1,\n",
       "                    \"textStyle\": {\n",
       "                        \"color\": \"rgb(104,34,133)\"\n",
       "                    }\n",
       "                },\n",
       "                {\n",
       "                    \"name\": \"\\u75c5\\u6bd2\",\n",
       "                    \"value\": 1,\n",
       "                    \"textStyle\": {\n",
       "                        \"color\": \"rgb(156,43,95)\"\n",
       "                    }\n",
       "                },\n",
       "                {\n",
       "                    \"name\": \"\\u8759\\u8760\\u4fa0\",\n",
       "                    \"value\": 1,\n",
       "                    \"textStyle\": {\n",
       "                        \"color\": \"rgb(131,22,67)\"\n",
       "                    }\n",
       "                },\n",
       "                {\n",
       "                    \"name\": \"DC\",\n",
       "                    \"value\": 1,\n",
       "                    \"textStyle\": {\n",
       "                        \"color\": \"rgb(136,159,99)\"\n",
       "                    }\n",
       "                },\n",
       "                {\n",
       "                    \"name\": \"\\u6742\\u6587\",\n",
       "                    \"value\": 1,\n",
       "                    \"textStyle\": {\n",
       "                        \"color\": \"rgb(125,97,12)\"\n",
       "                    }\n",
       "                },\n",
       "                {\n",
       "                    \"name\": \"\\u559c\\u5267\",\n",
       "                    \"value\": 1,\n",
       "                    \"textStyle\": {\n",
       "                        \"color\": \"rgb(86,96,110)\"\n",
       "                    }\n",
       "                },\n",
       "                {\n",
       "                    \"name\": \"\\u641e\\u7b11\",\n",
       "                    \"value\": 1,\n",
       "                    \"textStyle\": {\n",
       "                        \"color\": \"rgb(149,65,84)\"\n",
       "                    }\n",
       "                },\n",
       "                {\n",
       "                    \"name\": \"\\u8131\\u53e3\\u79c0\",\n",
       "                    \"value\": 1,\n",
       "                    \"textStyle\": {\n",
       "                        \"color\": \"rgb(137,94,37)\"\n",
       "                    }\n",
       "                },\n",
       "                {\n",
       "                    \"name\": \"\\u6cd5\\u5f8b\",\n",
       "                    \"value\": 1,\n",
       "                    \"textStyle\": {\n",
       "                        \"color\": \"rgb(122,14,8)\"\n",
       "                    }\n",
       "                },\n",
       "                {\n",
       "                    \"name\": \"\\u5de5\\u5177\\u4e66\",\n",
       "                    \"value\": 1,\n",
       "                    \"textStyle\": {\n",
       "                        \"color\": \"rgb(10,93,160)\"\n",
       "                    }\n",
       "                },\n",
       "                {\n",
       "                    \"name\": \"\\u65c5\\u884c\",\n",
       "                    \"value\": 1,\n",
       "                    \"textStyle\": {\n",
       "                        \"color\": \"rgb(100,123,140)\"\n",
       "                    }\n",
       "                },\n",
       "                {\n",
       "                    \"name\": \"\\u8ba1\\u7b97\\u79d1\\u5b66\",\n",
       "                    \"value\": 1,\n",
       "                    \"textStyle\": {\n",
       "                        \"color\": \"rgb(30,92,86)\"\n",
       "                    }\n",
       "                },\n",
       "                {\n",
       "                    \"name\": \"\\u7ecf\\u5178\",\n",
       "                    \"value\": 1,\n",
       "                    \"textStyle\": {\n",
       "                        \"color\": \"rgb(141,93,38)\"\n",
       "                    }\n",
       "                },\n",
       "                {\n",
       "                    \"name\": \"\\u7231\\u60c5\",\n",
       "                    \"value\": 1,\n",
       "                    \"textStyle\": {\n",
       "                        \"color\": \"rgb(69,100,70)\"\n",
       "                    }\n",
       "                },\n",
       "                {\n",
       "                    \"name\": \"\\u53f0\\u6e7e\",\n",
       "                    \"value\": 1,\n",
       "                    \"textStyle\": {\n",
       "                        \"color\": \"rgb(80,160,78)\"\n",
       "                    }\n",
       "                },\n",
       "                {\n",
       "                    \"name\": \"\\u62c9\\u7f8e\\u6587\\u5b66\",\n",
       "                    \"value\": 1,\n",
       "                    \"textStyle\": {\n",
       "                        \"color\": \"rgb(102,70,94)\"\n",
       "                    }\n",
       "                },\n",
       "                {\n",
       "                    \"name\": \"\\u7075\\u4fee\",\n",
       "                    \"value\": 1,\n",
       "                    \"textStyle\": {\n",
       "                        \"color\": \"rgb(134,157,152)\"\n",
       "                    }\n",
       "                },\n",
       "                {\n",
       "                    \"name\": \"\\u751f\\u6d3b\",\n",
       "                    \"value\": 1,\n",
       "                    \"textStyle\": {\n",
       "                        \"color\": \"rgb(21,101,75)\"\n",
       "                    }\n",
       "                },\n",
       "                {\n",
       "                    \"name\": \"\\u80b2\\u513f\",\n",
       "                    \"value\": 1,\n",
       "                    \"textStyle\": {\n",
       "                        \"color\": \"rgb(37,100,42)\"\n",
       "                    }\n",
       "                },\n",
       "                {\n",
       "                    \"name\": \"\\u79d1\\u5b66\\u54f2\\u5b66\",\n",
       "                    \"value\": 1,\n",
       "                    \"textStyle\": {\n",
       "                        \"color\": \"rgb(51,20,85)\"\n",
       "                    }\n",
       "                },\n",
       "                {\n",
       "                    \"name\": \"\\u4eba\\u751f\",\n",
       "                    \"value\": 1,\n",
       "                    \"textStyle\": {\n",
       "                        \"color\": \"rgb(129,146,109)\"\n",
       "                    }\n",
       "                },\n",
       "                {\n",
       "                    \"name\": \"\\u79d1\\u5e7b\",\n",
       "                    \"value\": 1,\n",
       "                    \"textStyle\": {\n",
       "                        \"color\": \"rgb(146,71,123)\"\n",
       "                    }\n",
       "                },\n",
       "                {\n",
       "                    \"name\": \"\\u672a\\u6765\\u5b66\",\n",
       "                    \"value\": 1,\n",
       "                    \"textStyle\": {\n",
       "                        \"color\": \"rgb(66,133,28)\"\n",
       "                    }\n",
       "                },\n",
       "                {\n",
       "                    \"name\": \"\\u6e38\\u620f\",\n",
       "                    \"value\": 1,\n",
       "                    \"textStyle\": {\n",
       "                        \"color\": \"rgb(154,106,160)\"\n",
       "                    }\n",
       "                },\n",
       "                {\n",
       "                    \"name\": \"\\u5fae\\u751f\\u7269\",\n",
       "                    \"value\": 1,\n",
       "                    \"textStyle\": {\n",
       "                        \"color\": \"rgb(132,57,119)\"\n",
       "                    }\n",
       "                },\n",
       "                {\n",
       "                    \"name\": \"\\u6bb5\\u5b50\",\n",
       "                    \"value\": 1,\n",
       "                    \"textStyle\": {\n",
       "                        \"color\": \"rgb(88,2,93)\"\n",
       "                    }\n",
       "                },\n",
       "                {\n",
       "                    \"name\": \"\\u653f\\u6cbb\",\n",
       "                    \"value\": 1,\n",
       "                    \"textStyle\": {\n",
       "                        \"color\": \"rgb(72,119,71)\"\n",
       "                    }\n",
       "                },\n",
       "                {\n",
       "                    \"name\": \"\\u6c11\\u4e3b\",\n",
       "                    \"value\": 1,\n",
       "                    \"textStyle\": {\n",
       "                        \"color\": \"rgb(84,1,47)\"\n",
       "                    }\n",
       "                },\n",
       "                {\n",
       "                    \"name\": \"\\u793e\\u4f1a\",\n",
       "                    \"value\": 1,\n",
       "                    \"textStyle\": {\n",
       "                        \"color\": \"rgb(81,132,26)\"\n",
       "                    }\n",
       "                },\n",
       "                {\n",
       "                    \"name\": \"\\u82f1\\u56fd\\u6587\\u5b66\",\n",
       "                    \"value\": 1,\n",
       "                    \"textStyle\": {\n",
       "                        \"color\": \"rgb(139,40,94)\"\n",
       "                    }\n",
       "                },\n",
       "                {\n",
       "                    \"name\": \"\\u63a8\\u7406\",\n",
       "                    \"value\": 1,\n",
       "                    \"textStyle\": {\n",
       "                        \"color\": \"rgb(22,98,45)\"\n",
       "                    }\n",
       "                },\n",
       "                {\n",
       "                    \"name\": \"\\u601d\\u7ef4\\u65b9\\u5f0f\",\n",
       "                    \"value\": 1,\n",
       "                    \"textStyle\": {\n",
       "                        \"color\": \"rgb(5,77,79)\"\n",
       "                    }\n",
       "                },\n",
       "                {\n",
       "                    \"name\": \"\\u51a5\\u60f3\",\n",
       "                    \"value\": 1,\n",
       "                    \"textStyle\": {\n",
       "                        \"color\": \"rgb(143,12,19)\"\n",
       "                    }\n",
       "                },\n",
       "                {\n",
       "                    \"name\": \"\\u4fe1\\u606f\\u56fe\",\n",
       "                    \"value\": 1,\n",
       "                    \"textStyle\": {\n",
       "                        \"color\": \"rgb(30,113,6)\"\n",
       "                    }\n",
       "                },\n",
       "                {\n",
       "                    \"name\": \"\\u6587\\u5316\",\n",
       "                    \"value\": 1,\n",
       "                    \"textStyle\": {\n",
       "                        \"color\": \"rgb(131,129,80)\"\n",
       "                    }\n",
       "                },\n",
       "                {\n",
       "                    \"name\": \"R\\u8bed\\u8a00\",\n",
       "                    \"value\": 1,\n",
       "                    \"textStyle\": {\n",
       "                        \"color\": \"rgb(48,47,36)\"\n",
       "                    }\n",
       "                },\n",
       "                {\n",
       "                    \"name\": \"\\u4f20\\u8bb0\",\n",
       "                    \"value\": 1,\n",
       "                    \"textStyle\": {\n",
       "                        \"color\": \"rgb(138,97,42)\"\n",
       "                    }\n",
       "                },\n",
       "                {\n",
       "                    \"name\": \"\\u6b27\\u6d32\\u6f2b\\u753b\",\n",
       "                    \"value\": 1,\n",
       "                    \"textStyle\": {\n",
       "                        \"color\": \"rgb(103,103,155)\"\n",
       "                    }\n",
       "                },\n",
       "                {\n",
       "                    \"name\": \"\\u7231\\u60c5\\u6545\\u4e8b\",\n",
       "                    \"value\": 1,\n",
       "                    \"textStyle\": {\n",
       "                        \"color\": \"rgb(3,114,99)\"\n",
       "                    }\n",
       "                },\n",
       "                {\n",
       "                    \"name\": \"\\u9752\\u6625\",\n",
       "                    \"value\": 1,\n",
       "                    \"textStyle\": {\n",
       "                        \"color\": \"rgb(149,43,109)\"\n",
       "                    }\n",
       "                },\n",
       "                {\n",
       "                    \"name\": \"\\u56fd\\u6f2b\",\n",
       "                    \"value\": 1,\n",
       "                    \"textStyle\": {\n",
       "                        \"color\": \"rgb(67,110,37)\"\n",
       "                    }\n",
       "                },\n",
       "                {\n",
       "                    \"name\": \"\\u5e0c\\u814a\\u795e\\u8bdd\",\n",
       "                    \"value\": 1,\n",
       "                    \"textStyle\": {\n",
       "                        \"color\": \"rgb(125,31,105)\"\n",
       "                    }\n",
       "                },\n",
       "                {\n",
       "                    \"name\": \"\\u795e\\u8bdd\",\n",
       "                    \"value\": 1,\n",
       "                    \"textStyle\": {\n",
       "                        \"color\": \"rgb(11,11,66)\"\n",
       "                    }\n",
       "                },\n",
       "                {\n",
       "                    \"name\": \"\\u8bb2\\u6545\\u4e8b\",\n",
       "                    \"value\": 1,\n",
       "                    \"textStyle\": {\n",
       "                        \"color\": \"rgb(56,96,110)\"\n",
       "                    }\n",
       "                },\n",
       "                {\n",
       "                    \"name\": \"\\u6570\\u636e\\u79d1\\u5b66\",\n",
       "                    \"value\": 1,\n",
       "                    \"textStyle\": {\n",
       "                        \"color\": \"rgb(36,139,63)\"\n",
       "                    }\n",
       "                },\n",
       "                {\n",
       "                    \"name\": \"\\u56fe\\u50cf\\u5c0f\\u8bf4\",\n",
       "                    \"value\": 1,\n",
       "                    \"textStyle\": {\n",
       "                        \"color\": \"rgb(76,109,94)\"\n",
       "                    }\n",
       "                },\n",
       "                {\n",
       "                    \"name\": \"\\u673a\\u5668\\u5b66\\u4e60\",\n",
       "                    \"value\": 1,\n",
       "                    \"textStyle\": {\n",
       "                        \"color\": \"rgb(27,4,152)\"\n",
       "                    }\n",
       "                },\n",
       "                {\n",
       "                    \"name\": \"\\u5165\\u95e8\",\n",
       "                    \"value\": 1,\n",
       "                    \"textStyle\": {\n",
       "                        \"color\": \"rgb(12,154,49)\"\n",
       "                    }\n",
       "                },\n",
       "                {\n",
       "                    \"name\": \"\\u5bfc\\u8bfb\",\n",
       "                    \"value\": 1,\n",
       "                    \"textStyle\": {\n",
       "                        \"color\": \"rgb(111,81,155)\"\n",
       "                    }\n",
       "                },\n",
       "                {\n",
       "                    \"name\": \"\\u7edf\\u8ba1\\u5b66\",\n",
       "                    \"value\": 1,\n",
       "                    \"textStyle\": {\n",
       "                        \"color\": \"rgb(112,74,151)\"\n",
       "                    }\n",
       "                },\n",
       "                {\n",
       "                    \"name\": \"\\u6587\\u827a\\u590d\\u5174\",\n",
       "                    \"value\": 1,\n",
       "                    \"textStyle\": {\n",
       "                        \"color\": \"rgb(36,133,5)\"\n",
       "                    }\n",
       "                },\n",
       "                {\n",
       "                    \"name\": \"python\",\n",
       "                    \"value\": 1,\n",
       "                    \"textStyle\": {\n",
       "                        \"color\": \"rgb(89,56,143)\"\n",
       "                    }\n",
       "                },\n",
       "                {\n",
       "                    \"name\": \"\\u53e4\\u5178\\u6587\\u5b66\",\n",
       "                    \"value\": 1,\n",
       "                    \"textStyle\": {\n",
       "                        \"color\": \"rgb(59,70,135)\"\n",
       "                    }\n",
       "                },\n",
       "                {\n",
       "                    \"name\": \"\\u8bbe\\u8ba1\",\n",
       "                    \"value\": 1,\n",
       "                    \"textStyle\": {\n",
       "                        \"color\": \"rgb(2,71,125)\"\n",
       "                    }\n",
       "                },\n",
       "                {\n",
       "                    \"name\": \"\\u6548\\u7387\",\n",
       "                    \"value\": 1,\n",
       "                    \"textStyle\": {\n",
       "                        \"color\": \"rgb(126,154,11)\"\n",
       "                    }\n",
       "                },\n",
       "                {\n",
       "                    \"name\": \"\\u81ea\\u6211\\u7ba1\\u7406\",\n",
       "                    \"value\": 1,\n",
       "                    \"textStyle\": {\n",
       "                        \"color\": \"rgb(88,132,26)\"\n",
       "                    }\n",
       "                },\n",
       "                {\n",
       "                    \"name\": \"\\u65f6\\u95f4\\u7ba1\\u7406\",\n",
       "                    \"value\": 1,\n",
       "                    \"textStyle\": {\n",
       "                        \"color\": \"rgb(145,9,112)\"\n",
       "                    }\n",
       "                },\n",
       "                {\n",
       "                    \"name\": \"\\u79d1\\u6280\",\n",
       "                    \"value\": 1,\n",
       "                    \"textStyle\": {\n",
       "                        \"color\": \"rgb(42,115,89)\"\n",
       "                    }\n",
       "                },\n",
       "                {\n",
       "                    \"name\": \"\\u8d8b\\u52bf\",\n",
       "                    \"value\": 1,\n",
       "                    \"textStyle\": {\n",
       "                        \"color\": \"rgb(20,82,4)\"\n",
       "                    }\n",
       "                },\n",
       "                {\n",
       "                    \"name\": \"\\u7cfb\\u7edf\\u8bba\",\n",
       "                    \"value\": 1,\n",
       "                    \"textStyle\": {\n",
       "                        \"color\": \"rgb(157,76,126)\"\n",
       "                    }\n",
       "                },\n",
       "                {\n",
       "                    \"name\": \"\\u968f\\u7b14\",\n",
       "                    \"value\": 1,\n",
       "                    \"textStyle\": {\n",
       "                        \"color\": \"rgb(108,110,66)\"\n",
       "                    }\n",
       "                },\n",
       "                {\n",
       "                    \"name\": \"\\u7cfb\\u7edf\\u601d\\u8003\",\n",
       "                    \"value\": 1,\n",
       "                    \"textStyle\": {\n",
       "                        \"color\": \"rgb(152,112,149)\"\n",
       "                    }\n",
       "                },\n",
       "                {\n",
       "                    \"name\": \"\\u753b\\u518c\",\n",
       "                    \"value\": 1,\n",
       "                    \"textStyle\": {\n",
       "                        \"color\": \"rgb(40,60,88)\"\n",
       "                    }\n",
       "                },\n",
       "                {\n",
       "                    \"name\": \"\\u53e4\\u5178\",\n",
       "                    \"value\": 1,\n",
       "                    \"textStyle\": {\n",
       "                        \"color\": \"rgb(68,57,132)\"\n",
       "                    }\n",
       "                },\n",
       "                {\n",
       "                    \"name\": \"\\u827a\\u672f\\u53f2\",\n",
       "                    \"value\": 1,\n",
       "                    \"textStyle\": {\n",
       "                        \"color\": \"rgb(52,150,159)\"\n",
       "                    }\n",
       "                },\n",
       "                {\n",
       "                    \"name\": \"AI\",\n",
       "                    \"value\": 1,\n",
       "                    \"textStyle\": {\n",
       "                        \"color\": \"rgb(44,144,85)\"\n",
       "                    }\n",
       "                },\n",
       "                {\n",
       "                    \"name\": \"\\u4e2d\\u56fd\\u73b0\\u5f53\\u4ee3\\u6587\\u5b66\",\n",
       "                    \"value\": 1,\n",
       "                    \"textStyle\": {\n",
       "                        \"color\": \"rgb(70,0,85)\"\n",
       "                    }\n",
       "                },\n",
       "                {\n",
       "                    \"name\": \"\\u5386\\u53f2\",\n",
       "                    \"value\": 1,\n",
       "                    \"textStyle\": {\n",
       "                        \"color\": \"rgb(38,123,9)\"\n",
       "                    }\n",
       "                }\n",
       "            ],\n",
       "            \"drawOutOfBound\": false,\n",
       "            \"textStyle\": {\n",
       "                \"emphasis\": {}\n",
       "            }\n",
       "        }\n",
       "    ],\n",
       "    \"legend\": [\n",
       "        {\n",
       "            \"data\": [],\n",
       "            \"selected\": {}\n",
       "        }\n",
       "    ],\n",
       "    \"tooltip\": {\n",
       "        \"show\": true,\n",
       "        \"trigger\": \"item\",\n",
       "        \"triggerOn\": \"mousemove|click\",\n",
       "        \"axisPointer\": {\n",
       "            \"type\": \"line\"\n",
       "        },\n",
       "        \"showContent\": true,\n",
       "        \"alwaysShowContent\": false,\n",
       "        \"showDelay\": 0,\n",
       "        \"hideDelay\": 100,\n",
       "        \"enterable\": false,\n",
       "        \"confine\": false,\n",
       "        \"appendToBody\": false,\n",
       "        \"transitionDuration\": 0.4,\n",
       "        \"textStyle\": {\n",
       "            \"fontSize\": 14\n",
       "        },\n",
       "        \"borderWidth\": 0,\n",
       "        \"padding\": 5,\n",
       "        \"order\": \"seriesAsc\"\n",
       "    }\n",
       "};\n",
       "                chart_6bd2cedfa3c8439f9f3e7ca0125f0522.setOption(option_6bd2cedfa3c8439f9f3e7ca0125f0522);\n",
       "        });\n",
       "    </script>\n"
      ],
      "text/plain": [
       "<pyecharts.render.display.HTML at 0x140df1ab6d0>"
      ]
     },
     "execution_count": 27,
     "metadata": {},
     "output_type": "execute_result"
    }
   ],
   "source": [
    "import pyecharts.options as opts\n",
    "from pyecharts.charts import WordCloud\n",
    "\n",
    "\n",
    "s_label = df['标签'].explode().value_counts()\n",
    "words = [(label, num) for label, num in s_label.items()]\n",
    "\n",
    "wc = (\n",
    "    WordCloud()\n",
    "    .add(\"\", words)\n",
    ")\n",
    "\n",
    "wc.render_notebook()"
   ]
  },
  {
   "cell_type": "code",
   "execution_count": 28,
   "metadata": {},
   "outputs": [
    {
     "data": {
      "text/plain": [
       "0.29411764705882354"
      ]
     },
     "execution_count": 28,
     "metadata": {},
     "output_type": "execute_result"
    }
   ],
   "source": [
    "15/51"
   ]
  }
 ],
 "metadata": {
  "kernelspec": {
   "display_name": "Python 3.9.13 ('base')",
   "language": "python",
   "name": "python3"
  },
  "language_info": {
   "codemirror_mode": {
    "name": "ipython",
    "version": 3
   },
   "file_extension": ".py",
   "mimetype": "text/x-python",
   "name": "python",
   "nbconvert_exporter": "python",
   "pygments_lexer": "ipython3",
   "version": "3.9.13"
  },
  "orig_nbformat": 4,
  "vscode": {
   "interpreter": {
    "hash": "57bc2b6ce032b5f0e93daa91901b7ea38a856826ef43aa9e95b6d3999f5310df"
   }
  }
 },
 "nbformat": 4,
 "nbformat_minor": 2
}
